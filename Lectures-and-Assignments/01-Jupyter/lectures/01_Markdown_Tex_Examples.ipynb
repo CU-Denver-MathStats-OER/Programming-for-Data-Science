{
 "cells": [
  {
   "cell_type": "markdown",
   "metadata": {},
   "source": [
    "# Math  1376: Programming for Data Science\n",
    "---"
   ]
  },
  {
   "cell_type": "markdown",
   "metadata": {},
   "source": [
    "## Module 01: Supplemental TeX examples\n",
    "---\n",
    "\n",
    "So you want to write mathematics in Markdown? There are lots of resources online to get you started. Using Google to search for \"latex markdown cheatsheet\" reveals over 570,000 results as of August 2020. Here is a simple distillation of useful commands. Simply open up any markdown cell into \"edit\" mode to see how it is done."
   ]
  },
  {
   "cell_type": "markdown",
   "metadata": {},
   "source": [
    "### Basic mathematical symbols (with some size options)\n",
    "\n",
    "* Fractions: $\\frac{numerator}{denominator}$, $\\large \\frac{1}{2}$, $\\Large \\frac{2}{5}$, $\\huge \\frac{5}{7}$, $\\Huge \\frac{8}{9}$\n",
    "\n",
    "* Parentheses and brackets: \n",
    "\n",
    "    * With no auto-sizing (will look weird in some cases): $(5)$, $(\\frac{1}{2})$, $\\{5\\}$, $[5]$\n",
    "    \n",
    "    * Auto-sized (will mostly be what you want by just using left and right commands): $\\left(5\\right)$, $\\left(\\frac{1}{2}\\right)$, $\\large \\left[\\frac{4}{5}\\right]$, $\\displaystyle \\left\\{\\frac{1}{2}\\right\\}$\n",
    "    \n",
    "* Super/subscripts:\n",
    "\n",
    "    * On the right: $x_5$, $x^5$, $x_4^8$\n",
    "    \n",
    "    * On the left (not usual, but why not): ${_5}x$, ${^4}x$\n",
    "    \n",
    "    * Subscripts of superscripts: $x^{y_4}$\n",
    "    \n",
    "    * Superscripts of subscripts: $y_{x^7}$"
   ]
  },
  {
   "cell_type": "markdown",
   "metadata": {},
   "source": [
    "### Some calculus symbols\n",
    "\n",
    "* Derivatives:\n",
    "\n",
    "    * The \"d\" notation: $\\frac{d}{dx}$\n",
    "    \n",
    "    * The prime notation: $f'$ or $f^\\prime$\n",
    "    \n",
    "    * The \"dot\" notation: $\\dot{u}$, $\\ddot{u}$\n",
    "    \n",
    "    * Partial derivatives: $\\partial_x f$\n",
    "    \n",
    "    * Gradients: $\\nabla f$\n",
    "    \n",
    "* Integrals/summation:\n",
    "\n",
    "    * Indefinite: $\\int f(x)\\, dx$\n",
    "    \n",
    "    * Definite: $\\int_a^b f(x)\\, dx$ or $\\int_{[a,b]} f(x)\\, dx$\n",
    "    \n",
    "    * Summation: $\\sum_{i=1}^{10} i^2$"
   ]
  },
  {
   "cell_type": "markdown",
   "metadata": {},
   "source": [
    "### Some arrows and dots\n",
    "\n",
    "* Arrows:\n",
    "\n",
    "    * Right arrows: $\\rightarrow$, $\\Rightarrow$, $\\longrightarrow$, $\\Longrightarrow$, $\\rightrightarrows$\n",
    "    \n",
    "    * Left arrows: $\\leftarrow$, $\\Leftarrow$, $\\longleftarrow$, $\\Longleftarrow$, $\\leftleftarrows$\n",
    "    \n",
    "    * Bi-directional arrows: $\\leftrightarrow$, $\\Leftrightarrow$, $\\longleftrightarrow$, $\\Longleftrightarrow$\n",
    "    \n",
    "    * Diagonal arrows (use NWSE compass directions): $\\nearrow$, $\\searrow$, $\\nwarrow$, $\\swarrow$\n",
    "    \n",
    "    * Up/down arrows: $\\uparrow$, $\\downarrow$\n",
    "    \n",
    "* Dots:\n",
    "\n",
    "    * Horizontal dots: $\\cdot$, $\\cdots$\n",
    "    \n",
    "    * Vertical dots: $\\vdots$\n",
    "    \n",
    "    * Diagonal dots: $\\ddots$"
   ]
  },
  {
   "cell_type": "markdown",
   "metadata": {},
   "source": [
    "### Some (lowercase) Greek letters\n",
    "\n",
    "$\\alpha$, $\\beta$, $\\gamma$, $\\delta$, $\\upsilon$, $\\nu$, $\\sigma$, $\\theta$, $\\omega$, $\\tau$, $\\kappa$, $\\iota$"
   ]
  }
 ],
 "metadata": {
  "kernelspec": {
   "display_name": "Python 3",
   "language": "python",
   "name": "python3"
  },
  "language_info": {
   "codemirror_mode": {
    "name": "ipython",
    "version": 3
   },
   "file_extension": ".py",
   "mimetype": "text/x-python",
   "name": "python",
   "nbconvert_exporter": "python",
   "pygments_lexer": "ipython3",
   "version": "3.8.6"
  }
 },
 "nbformat": 4,
 "nbformat_minor": 4
}
