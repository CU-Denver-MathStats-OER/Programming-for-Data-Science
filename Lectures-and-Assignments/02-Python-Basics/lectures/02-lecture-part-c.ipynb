{
 "cells": [
  {
   "cell_type": "markdown",
   "metadata": {},
   "source": [
    "# Math  1376: Programming for Data Science\n",
    "---"
   ]
  },
  {
   "cell_type": "markdown",
   "metadata": {},
   "source": [
    "## Module 02: Python basics"
   ]
  },
  {
   "cell_type": "markdown",
   "metadata": {},
   "source": [
    "## Learning Objectives for Part (c)\n",
    "\n",
    "- Understand the indexing of arrays of data.\n",
    "\n",
    "\n",
    "- Be able to properly \"slice\" through arrays of data.\n",
    "\n",
    "\n",
    "- Perform several useful operations on arrays of data."
   ]
  },
  {
   "cell_type": "markdown",
   "metadata": {},
   "source": [
    "## Notebook contents <a id='Contents'>\n",
    "\n",
    "* <a href='#Indexing'>Part (c): The indexing of an array.</a>\n",
    "\n",
    "  * <a href='#activity-array-arithmetic'>Activity: Experiment with array arithmetic and order of operations</a>\n",
    "  \n",
    "  * <a href='#activity-summary'>Activity: Summary</a>\n"
   ]
  },
  {
   "cell_type": "markdown",
   "metadata": {},
   "source": [
    "## Part (c): The indexing of an array. <a id='Indexing'>\n",
    "---\n",
    "    \n",
    "**Expected time to completion: 3 hours**\n",
    "    \n",
    "<span style='background:rgba(255,255,0, 0.25); color:black'> Run the code cell below and click the \"play\" button to see the recorded lecture associated with this notebook.</span> "
   ]
  },
  {
   "cell_type": "code",
   "execution_count": null,
   "metadata": {},
   "outputs": [],
   "source": [
    "# 1. Running this cell with embed the short recorded lecture associated with this part of the notebook\n",
    "# 2. Press on the \"play\" button to start the video.\n",
    "\n",
    "from IPython.display import YouTubeVideo\n",
    "\n",
    "YouTubeVideo('DJSJrxIu1lY', width=800, height=450)"
   ]
  },
  {
   "cell_type": "markdown",
   "metadata": {},
   "source": [
    "### Python indexing is 0 based! \n",
    "---\n",
    "\n",
    "<span style='background:rgba(255,0,255, 0.25); color:black'> ***Key Points:*** <span>\n",
    "\n",
    "- The first entry in a row/column is indexed by 0. So, when we mention what would mathematically be referred to as the \"$(1,1)$ component\" (meaning the entry in the first row and first column) of a 2-dimensional array, we must use [0,0] (note the use of square brackets is *necessary*) to access that specific component.\n",
    "\n",
    "  ***REMEMBER THIS!!!***\n",
    "  \n",
    "  More generally, this means that for the \"$(i,j)$ component\" of a 2-dimensional array (meaning the entry in the $i$th row and $j$th column), we must use $[i-1,j-1]$ to access that specific component.\n",
    "\n",
    "\n",
    "- There is also another way to access components of an array using *negative integers*. It may seem a little weird at first, but it is very useful in a variety of practices. It basically works like this: if you want to access the *last* entry of an array of length $n$, you can use a $-1$ instead of $n-1$ (because of the indexing starting at zero) to access it. Use $-2$ instead of $n-2$ to get the second-to-last entry; use $-3$ instead of $n-3$ to get the third-to-last entry, and so on. "
   ]
  },
  {
   "cell_type": "markdown",
   "metadata": {},
   "source": [
    "### A visual aid\n",
    "---\n",
    "\n",
    "The following diagram may prove useful for typical 2-D arrays.\n",
    "\n",
    "\n",
    "![Visual of indexing array goes here](sample_array_basics.png \"Visual of indexing array\")"
   ]
  },
  {
   "cell_type": "code",
   "execution_count": null,
   "metadata": {},
   "outputs": [],
   "source": [
    "import numpy as np"
   ]
  },
  {
   "cell_type": "code",
   "execution_count": null,
   "metadata": {},
   "outputs": [],
   "source": [
    "arr_2d = np.array( [ [1,2], [3,4], [5,6] ] )\n",
    "\n",
    "print()\n",
    "print(' arr_2d =\\n', arr_2d )\n",
    "\n",
    "print()\n",
    "print( '(1,1) component of arr_2d is given by arr_2d[0,0] =',  arr_2d[0,0] )\n",
    "\n",
    "print()\n",
    "print( '(1,2) component of arr_2d is given by arr_2d[0,1] =', arr_2d[0,1] )\n",
    "\n",
    "print()\n",
    "print( '(2,1) component of arr_2d is given by arr_2d[1,0] =', arr_2d[1,0] )\n",
    "\n",
    "print()\n",
    "print( '(3,2) component of arr_2d is given by arr_2d[2,1] =', arr_2d[2,1] )\n",
    "\n",
    "print()\n",
    "print( '(3,2) component of arr_2d is also given by arr_2d[-1,1] =', arr_2d[-1,1] )"
   ]
  },
  {
   "cell_type": "code",
   "execution_count": null,
   "metadata": {},
   "outputs": [],
   "source": [
    "#Try uncommenting the next line to see an error. Can you explain it?\n",
    "# print( arr_2d[2,2] ) "
   ]
  },
  {
   "cell_type": "code",
   "execution_count": null,
   "metadata": {},
   "outputs": [],
   "source": [
    "arr_3d = np.array( [ [ [1,2,3], [4,5,6] ],[ [7,8,9],[10,11,12] ] ] )\n",
    "\n",
    "print()\n",
    "print(' arr_3d =\\n\\n', arr_3d )\n",
    "\n",
    "print()\n",
    "print( '(1,1,1) component of arr_3d is given by \\n\\n arr_3d[0,0,0] =\\n\\n',  arr_3d[0,0,0] )\n",
    "\n",
    "print()\n",
    "print( '(1,1,2) component of arr_3d is given by \\n\\n arr_3d[0,0,1] =\\n\\n', arr_3d[0,0,1] )"
   ]
  },
  {
   "cell_type": "code",
   "execution_count": null,
   "metadata": {},
   "outputs": [],
   "source": [
    "arr_2d = np.array( [ [1,2], [3,4], [5,6] ] )\n",
    "\n",
    "print()\n",
    "print(' arr_2d =\\n\\n', arr_2d )\n",
    "\n",
    "# Using a colon : by itself when calling entries of an array will access all entries in the row/column\n",
    "# where the colon appears.\n",
    "print()\n",
    "print( 'first row of arr_2d is given by arr_2d[0,:] =\\n\\n', arr_2d[0,:] ) #preferred \n",
    "\n",
    "print()\n",
    "print( 'first row of arr_2d is also given by arr_2d[0] =\\n\\n', arr_2d[0] ) #not preferred\n",
    "\n",
    "print()\n",
    "print( 'first column of arr_2d is given by arr_2d[:,0] =\\n\\n', arr_2d[:,0] )"
   ]
  },
  {
   "cell_type": "markdown",
   "metadata": {},
   "source": [
    "### Array Slicing\n",
    "---\n",
    "\n",
    "<span style='background:rgba(255,0,255, 0.25); color:black'> ***Key Points:*** <span>\n",
    "\n",
    "- The colon `:` operator is used to specify a range of values in an array.\n",
    "\n",
    "\n",
    "- The entry to the left of the `:` is included but the entry to the right of the `:` is not.\n",
    "\n",
    "\n",
    "- Think of `i:j` being interpreted as \"all entries starting at i up to, but ***not*** including, j\"\n",
    "\n",
    "    - Also, think of `i:j` being interpreted as \"all entries starting at `i` up to, but ***not*** including, `j`\"\n",
    "\n",
    "    - And, think of `i:j` being interpreted as \"all entries starting at `i` up to, but ***not*** including, `j`\"\n",
    "\n",
    "    - Before we forget, you should also think of `i:j` being interpreted as \"all entries starting at `i` up to, but ***not*** including, `j`\"\n",
    "\n",
    "\n",
    "### Short quiz \n",
    "\n",
    "- How should you think of `i:j`?"
   ]
  },
  {
   "cell_type": "code",
   "execution_count": null,
   "metadata": {},
   "outputs": [],
   "source": [
    "A = np.reshape(range(1,13),(3,4)) # create a 3x4 array (i.e., a matrix) with the 1st 12 integers in it.\n",
    "\n",
    "print()\n",
    "print( 'The full matrix A is given by \\n\\n', A )\n",
    "\n",
    "print()\n",
    "print( 'To display just the 2nd and 3rd columns of A,\\n' +\n",
    "       'recall that we begin indexing from 0, so we use A[:,1:3] \\n\\n',\n",
    "        A[:,1:3])   #All rows, 2nd and 3rd (but not 4th) column"
   ]
  },
  {
   "cell_type": "code",
   "execution_count": null,
   "metadata": {},
   "outputs": [],
   "source": [
    "B = A[[0, -1], :]\n",
    "\n",
    "C = B[:, [1, 2]]\n",
    "\n",
    "print (C)"
   ]
  },
  {
   "cell_type": "markdown",
   "metadata": {},
   "source": [
    "## Omitting a (later) index: just because you can does not mean you should\n",
    "---\n",
    "\n",
    "<span style='background:rgba(255,0,255, 0.25); color:black'> ***Key Points:*** <span>\n",
    "    \n",
    "- If you have a multi-dimensional array, say `A` is a 2-dimensional array of shape $(3,4)$, then you can just use `A[0:2]` or `A[0:2,]` to perform slicing *assuming* that you wanted to have the entire first and second row of `A`. Basically, the ignored dimensions that *follow* the dimensions you have sliced are treated as if you had specified them with colons.\n",
    "\n",
    "    If multiple rows and columns are being sliced, then this will ***generally*** give you the result that you expect. \n",
    "    \n",
    "    But, if a single row/column is being sliced, then things can go a bit awry and unexpected results may ruin your code.\n",
    "    \n",
    "    \n",
    "- A key takeaway from running the cells below is this: it is best to be explicit about what you want in your code and use \"shortcuts\" in code very carefully because it is easy to get strange results when you are being a bit too clever/slick in writing code. "
   ]
  },
  {
   "cell_type": "code",
   "execution_count": null,
   "metadata": {},
   "outputs": [],
   "source": [
    "# Everything here \"works as expected\"\n",
    "print()\n",
    "print( 'A[0:2] =\\n\\n', A[0:2] )\n",
    "\n",
    "print()\n",
    "print( 'A[0:2,] =\\n\\n', A[0:2,] )\n",
    "\n",
    "print()\n",
    "print( 'A[0:2,:] =\\n\\n', A[0:2,:] )\n",
    "\n",
    "print()\n",
    "print( 'A[0:2]-A[0:2,:] =\\n\\n', A[0:2] - A[0:2,:])"
   ]
  },
  {
   "cell_type": "code",
   "execution_count": null,
   "metadata": {},
   "outputs": [],
   "source": [
    "# Everything here may look okay on first glance, but try printing the shapes\n",
    "# to see that not is all as it may seem. The subtleties here are unlikely to \n",
    "# produce problems though. Check the next cell for issues with slicing single columns.\n",
    "print()\n",
    "print( 'A[0] =\\n\\n', A[0] ) # The first row\n",
    "\n",
    "print()\n",
    "print( 'A[0,] =\\n\\n', A[0,] ) # Also the first row? Compare shape of array to above\n",
    "\n",
    "print()\n",
    "print( 'A[0:1,:] =\\n\\n', A[0:1,:] )\n",
    "\n",
    "print()\n",
    "print( 'A[0]-A[0:1,:] =\\n\\n', A[0] - A[0:1,:])"
   ]
  },
  {
   "cell_type": "code",
   "execution_count": null,
   "metadata": {},
   "outputs": [],
   "source": [
    "# Slicing individual columns is more likely to produce strange results if you\n",
    "# are not careful\n",
    "print()\n",
    "print( 'A[:,1] =\\n\\n', A[:,1] )\n",
    "\n",
    "print()\n",
    "print( 'A[:,1].shape =', A[:,1].shape )\n",
    "\n",
    "print()\n",
    "print( 'A[:,1:2] =\\n\\n', A[:,1:2] )\n",
    "\n",
    "print()\n",
    "print( 'A[:,1:2].shape =', A[:,1:2].shape )\n",
    "\n",
    "print()\n",
    "print( 'A[:,1]-A[:,1:2] =\\n\\n', A[:,1] - A[:,1:2] )"
   ]
  },
  {
   "cell_type": "markdown",
   "metadata": {},
   "source": [
    "### Re-examining single column slicing\n",
    "---\n",
    "\n",
    "Looking at the execution of the previous code cell above, we arrive at the following conclusion:\n",
    "\n",
    "> If we want to use slicing of a 2-D array of shape $(n,m)$ to extract the $j$th column and keep the shape as if it is a column vector of shape $(n,1)$, then we should slice the original array using `[j-1:j]`. "
   ]
  },
  {
   "cell_type": "markdown",
   "metadata": {},
   "source": [
    "### Slicing from the end of an array\n",
    "---\n",
    "\n",
    "<span style='background:rgba(255,0,255, 0.25); color:black'> ***Key Points:*** <span>\n",
    "\n",
    "- The -n slice allows you to access entries from the last valid index.\n",
    "\n",
    "    - Using a -1 in a slice will select the very last entry in the array.\n",
    "\n",
    "    - This implies that if you want to index from the 3rd entry in an array up to, *but not including*, the last entry in the array, then you would use `2:-1` in the slice. If you want to index from the 3rd entry in array all the way *through* the last entry (i.e., including the last entry), then use `2:`. "
   ]
  },
  {
   "cell_type": "code",
   "execution_count": null,
   "metadata": {},
   "outputs": [],
   "source": [
    "print()\n",
    "print( A )\n",
    "\n",
    "print()\n",
    "print( A[-1,:] ) #the last row\n",
    "\n",
    "print()\n",
    "print( A[:,-2:] ) #the last two columns\n",
    "\n",
    "print()\n",
    "print( A[:,1:] ) #the second column through the last\n",
    "\n",
    "print()\n",
    "print( A[:,1:-1] ) #the second column up to, but not including, the last"
   ]
  },
  {
   "cell_type": "markdown",
   "metadata": {},
   "source": [
    "We can give arrays/lists as inputs to select some specific rows, columns, etc. "
   ]
  },
  {
   "cell_type": "code",
   "execution_count": null,
   "metadata": {},
   "outputs": [],
   "source": [
    "print()\n",
    "print( A )\n",
    "\n",
    "print()\n",
    "print( A[:,[1,3]] )"
   ]
  },
  {
   "cell_type": "markdown",
   "metadata": {},
   "source": [
    "### Elementwise vs standard operations in `numpy`\n",
    "---\n",
    "\n",
    "While matrix-algebra is not a significant portion of this course, it is worth familiarizing yourself with it as it is the foundation of much of scientific computing. You do *not* need to know linear algebra in order to understand how to do basic arithmetic operations with matrices. It just requires a bit of practice. For example, review this: https://en.wikipedia.org/wiki/Matrix_(mathematics)#Basic_operations\n",
    "\n",
    "<span style='background:rgba(255,0,255, 0.25); color:black'> ***Key Points:*** <span>\n",
    " \n",
    "\n",
    "- `numpy` has functions for both elementwise multiplication of arrays (of the same size) and standard matrix-matrix/vector multiplication (where inner dimensions agree). Arrays are basically just matrices and vectors are just special types of matrices.\n",
    "\n",
    "\n",
    "- Two arrays can be added together if they are the same shape. The result is an array of the same shape with each component equal to the sum of the corresponding components from the individual arrays. \n",
    "\n",
    "\n",
    "- Use the `np.multiply` function for ***elementwise*** multiplication (you can also just use `*`). The arrays need to be the same shape. Similar to the sum operation, the elements of the result are equal to the product of the corresponding elements of the individual arrays.\n",
    "\n",
    "\n",
    "- Use the `np.dot` function for standard matrix-matrix, or matrix-vector multiplication. This requires compatibility of certain parts of the shapes and the *order* matters. We'll see an example below, but we will not dwell on this here."
   ]
  },
  {
   "cell_type": "markdown",
   "metadata": {},
   "source": [
    "Array multiplication is **not** matrix multiplication.  It is an *elementwise* operation."
   ]
  },
  {
   "cell_type": "code",
   "execution_count": null,
   "metadata": {},
   "outputs": [],
   "source": [
    "A = np.reshape(range(1,13),(3,4)) # create a 3x4 array (i.e., a matrix) with the 1st 12 integers in it.\n",
    "B = np.reshape(range(1,13),(4,3)) # create a 4x3 array (i.e., a matrix) with the 1st 12 integers in it.\n",
    "C = np.reshape(range(1,17),(4,4)) # ??\n",
    "\n",
    "print()\n",
    "print( A )\n",
    "\n",
    "print()\n",
    "print( B )\n",
    "\n",
    "print()\n",
    "print( C )"
   ]
  },
  {
   "cell_type": "code",
   "execution_count": null,
   "metadata": {},
   "outputs": [],
   "source": [
    "print()\n",
    "print( np.multiply(A,A) ) # elementwise multiplication\n",
    "\n",
    "print()\n",
    "print( A*A ) # also elementwise multiplication\n",
    "\n",
    "print()\n",
    "print( C+C ) # elementwise addition"
   ]
  },
  {
   "cell_type": "code",
   "execution_count": null,
   "metadata": {},
   "outputs": [],
   "source": [
    "print()\n",
    "print( np.dot( A, B ) ) # standard matrix-matrix multiplication. This works because (3x4)x(4x3) \"makes sense\"\n",
    "\n",
    "print()\n",
    "print( np.dot( B, A ) ) # standard matrix-matrix multiplication. This works because (4x3)x(3x4) \"makes sense\""
   ]
  },
  {
   "cell_type": "markdown",
   "metadata": {},
   "source": [
    "<hr style=\"border:5px solid cyan\"> </hr>\n",
    "\n",
    "## <span style='background:rgba(0,255,255, 0.5); color:black'>Activity: Experiment with array arithmetic and order of operations</span> <a id='activity-array-arithmetic'>\n",
    "\n",
    "1. Follow the instructions in the code cells below to try taking \"dot\" products and elementwise products of arrays A, B, and C in various orders.\n",
    "\n",
    "2. Use the Markdown cell below these code cells to summarize your findings."
   ]
  },
  {
   "cell_type": "code",
   "execution_count": null,
   "metadata": {},
   "outputs": [],
   "source": [
    "# Try taking \"dot\" products of A or B with C in various orders. \n",
    "np.dot(A, B)"
   ]
  },
  {
   "cell_type": "code",
   "execution_count": null,
   "metadata": {},
   "outputs": [],
   "source": [
    "np.dot(B, A)"
   ]
  },
  {
   "cell_type": "code",
   "execution_count": null,
   "metadata": {},
   "outputs": [],
   "source": [
    "np.dot(B, C)"
   ]
  },
  {
   "cell_type": "code",
   "execution_count": null,
   "metadata": {},
   "outputs": [],
   "source": [
    "np.dot(C, B)"
   ]
  },
  {
   "cell_type": "code",
   "execution_count": null,
   "metadata": {},
   "outputs": [],
   "source": [
    "np.dot(A, C)"
   ]
  },
  {
   "cell_type": "code",
   "execution_count": null,
   "metadata": {},
   "outputs": [],
   "source": [
    "np.dot(C, A)"
   ]
  },
  {
   "cell_type": "code",
   "execution_count": null,
   "metadata": {},
   "outputs": [],
   "source": [
    "np.dot(A, A)"
   ]
  },
  {
   "cell_type": "code",
   "execution_count": null,
   "metadata": {},
   "outputs": [],
   "source": [
    "np.dot(B, B)"
   ]
  },
  {
   "cell_type": "code",
   "execution_count": null,
   "metadata": {},
   "outputs": [],
   "source": [
    "np.dot(C, C)"
   ]
  },
  {
   "cell_type": "code",
   "execution_count": null,
   "metadata": {
    "scrolled": true
   },
   "outputs": [],
   "source": [
    "# Try elementwise products - KEEP GOING TO CHECK ALL COMBINATIONS IN ALL ORDERS\n",
    "np.multiply(A, B)"
   ]
  },
  {
   "cell_type": "code",
   "execution_count": null,
   "metadata": {},
   "outputs": [],
   "source": [
    "np.multiply(B, A)"
   ]
  },
  {
   "cell_type": "code",
   "execution_count": null,
   "metadata": {},
   "outputs": [],
   "source": [
    "# START FILLING IN THE MISSING COMBINATIONS HERE TO SEE WHAT WORKS AND WHAT DOES NOT"
   ]
  },
  {
   "cell_type": "code",
   "execution_count": null,
   "metadata": {},
   "outputs": [],
   "source": []
  },
  {
   "cell_type": "code",
   "execution_count": null,
   "metadata": {},
   "outputs": [],
   "source": []
  },
  {
   "cell_type": "code",
   "execution_count": null,
   "metadata": {},
   "outputs": [],
   "source": []
  },
  {
   "cell_type": "code",
   "execution_count": null,
   "metadata": {},
   "outputs": [],
   "source": []
  },
  {
   "cell_type": "code",
   "execution_count": null,
   "metadata": {},
   "outputs": [],
   "source": []
  },
  {
   "cell_type": "code",
   "execution_count": null,
   "metadata": {},
   "outputs": [],
   "source": []
  },
  {
   "cell_type": "markdown",
   "metadata": {},
   "source": []
  },
  {
   "cell_type": "markdown",
   "metadata": {},
   "source": [
    "<hr style=\"border:5px solid cyan\"> </hr>\n"
   ]
  },
  {
   "cell_type": "markdown",
   "metadata": {},
   "source": [
    "### More numpy functions and subpackages\n",
    "\n",
    "https://docs.scipy.org/doc/numpy/reference/ is a great reference. In particular, you should check out the available documentation on the `matlib`, `linalg`, and `random` subpackages. \n",
    "These are extremely useful subpackages that can do most of your everyday computations in undergraduate/beginning graduate mathematics.\n",
    "<br>\n",
    "\n",
    "- The page on N-dimensional arrays (https://docs.scipy.org/doc/numpy/reference/arrays.ndarray.html) is also very useful. Arrays inherent many methods (i.e., functions) from the `numpy` namespace that allow for quicker access to certain functionality (and shorter, more readable code).\n",
    "    <br>\n",
    "    \n",
    "    - Many methods can be applied in one line of code where the order of operation is specified by the order in which the methods appear from left to right. ***We show some examples below.***"
   ]
  },
  {
   "cell_type": "code",
   "execution_count": null,
   "metadata": {},
   "outputs": [],
   "source": [
    "print()\n",
    "print( A )\n",
    "\n",
    "print()\n",
    "print( np.mean(A) )\n",
    "\n",
    "print()\n",
    "print( A.mean() )\n",
    "\n",
    "print()\n",
    "print( np.transpose(A) )\n",
    "\n",
    "print()\n",
    "print( A.transpose() )\n",
    "\n",
    "print()\n",
    "print( A.max() )"
   ]
  },
  {
   "cell_type": "markdown",
   "metadata": {},
   "source": [
    "### Thinking in terms of \"axes\"\n",
    "---\n",
    "\n",
    "<span style='background:rgba(255,0,255, 0.25); color:black'> ***Key Points:*** <span>\n",
    " \n",
    "- We say that the rows are aligned with ***axis 0*** and the columns are aligned with ***axis 1***. If you have a 3-D array, then the third dimension is aligned with axis 2.\n",
    "\n",
    "- ***We sometimes only want to apply a function across rows or columns.***\n",
    "\n",
    "    - It is common to arrange a set of samples as an array where each row defines a single sample, and the columns define the various quantitative entries associated with that sample. \n",
    "For example, if you have had multivariate calculus, think of how a Jacobian matrix is ordered.\n",
    "Or, if you think of how data is entered into spreadsheets, each row is typically a single individual \"entity\" with each column defining the various attributes associated with that individual. \n",
    "We will certainly see examples of this later when we enter into the more \"data science-y\" part of the course.\n",
    "    \n",
    "    - Assuming the \"standard\" way of arranging data in an array described above, then when we want to determine some \"statistic\" for a characteristic across a population, we often want to compute *across the columns*. A summary statistic for each of the individuals is then often computed *across the rows*.\n",
    "\n",
    "- It is again useful to remember that we index from 0 and the rows are the first index (axis=0) and the columns are the second index (axis=1) in the array when you specify which axis you want to perform computations *across*.\n",
    "\n",
    "![Visual of axis numbers for an array go here](sample_array.png \"The axis numbers for an array\")"
   ]
  },
  {
   "cell_type": "code",
   "execution_count": null,
   "metadata": {},
   "outputs": [],
   "source": [
    "print()\n",
    "print( A )\n",
    "\n",
    "print()\n",
    "print( np.mean(A, axis=1) )\n",
    "\n",
    "print()\n",
    "print( A.mean(axis=1) )\n",
    "\n",
    "print()\n",
    "print( A.mean(axis=0) )\n",
    "\n",
    "# We can use multiple built-in functions all in one statement as long as we \n",
    "# remember that the functions work from left to right.\n",
    "print()\n",
    "print( A.transpose().mean(axis=1) ) # transpose first and then compute mean across axis=1\n",
    "\n",
    "print()\n",
    "print( A.transpose().mean(axis=0) ) # transpose first and then compute the mean across axis=0"
   ]
  },
  {
   "cell_type": "markdown",
   "metadata": {},
   "source": [
    "<hr style=\"border:5px solid cyan\"> </hr>\n",
    "\n",
    "## <span style='background:rgba(0,255,255, 0.5); color:black'>Activity: Summary</span> <a id='activity-summary'/>\n",
    "\n",
    "Summarize some of the key takeaways/points from this notebook in a list below and prepare a few code examples related to these takeaways/points in the code cells below. You need to have at least one example for each of your summary points and you need at least three summary points.\n",
    "\n",
    "In this notebook, we have seen the following:\n",
    "\n",
    "- [Your summary point 1 goes here]\n",
    "\n",
    "\n"
   ]
  },
  {
   "cell_type": "code",
   "execution_count": null,
   "metadata": {},
   "outputs": [],
   "source": []
  },
  {
   "cell_type": "markdown",
   "metadata": {},
   "source": [
    "- [Your summary point 2 goes here]\n",
    "\n"
   ]
  },
  {
   "cell_type": "code",
   "execution_count": null,
   "metadata": {},
   "outputs": [],
   "source": []
  },
  {
   "cell_type": "markdown",
   "metadata": {},
   "source": [
    "\n",
    "- [Your summary point 3 goes here]"
   ]
  },
  {
   "cell_type": "code",
   "execution_count": null,
   "metadata": {},
   "outputs": [],
   "source": []
  },
  {
   "cell_type": "markdown",
   "metadata": {},
   "source": [
    "<hr style=\"border:5px solid cyan\"> </hr>\n"
   ]
  },
  {
   "cell_type": "markdown",
   "metadata": {},
   "source": [
    "### <a href='#Contents'>Click here to return to Notebook Contents</a>"
   ]
  }
 ],
 "metadata": {
  "anaconda-cloud": {},
  "kernelspec": {
   "display_name": "Python 3",
   "language": "python",
   "name": "python3"
  },
  "language_info": {
   "codemirror_mode": {
    "name": "ipython",
    "version": 3
   },
   "file_extension": ".py",
   "mimetype": "text/x-python",
   "name": "python",
   "nbconvert_exporter": "python",
   "pygments_lexer": "ipython3",
   "version": "3.8.6"
  }
 },
 "nbformat": 4,
 "nbformat_minor": 4
}
