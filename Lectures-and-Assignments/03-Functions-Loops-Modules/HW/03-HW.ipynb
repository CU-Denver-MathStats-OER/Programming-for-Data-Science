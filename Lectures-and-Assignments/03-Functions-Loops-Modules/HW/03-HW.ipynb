{
 "cells": [
  {
   "cell_type": "markdown",
   "metadata": {},
   "source": [
    "# Math  1376: Programming for Data Science\n",
    "---\n",
    "\n",
    "## Assignment 03: Functions, logic, a little bit of loops, and how to test your functions and modules\n",
    "---\n",
    "\n",
    "**Expected time to completion: 6-9 hours**"
   ]
  },
  {
   "cell_type": "code",
   "execution_count": null,
   "metadata": {},
   "outputs": [],
   "source": [
    "import numpy as np"
   ]
  },
  {
   "cell_type": "markdown",
   "metadata": {},
   "source": [
    "<span style='background:rgba(255,255,0, 0.25); color:black'> Run the code cell below and click the \"play\" button to see the recorded lecture associated with this notebook.</span> "
   ]
  },
  {
   "cell_type": "code",
   "execution_count": null,
   "metadata": {},
   "outputs": [],
   "source": [
    "# 1. Running this cell with embed the short recorded lecture associated with this part of the notebook\n",
    "# 2. Press on the \"play\" button to start the video.\n",
    "\n",
    "from IPython.display import YouTubeVideo\n",
    "\n",
    "YouTubeVideo('ICppremFi1k', width=800, height=450)"
   ]
  },
  {
   "cell_type": "markdown",
   "metadata": {},
   "source": [
    "## Problem 1: Population growth\n",
    "---\n",
    "\n",
    "### Problem 1(a) \n",
    "---\n",
    "\n",
    "*You may want to review the final activity in your 01-Jupyter-lecture notebook to help you with this problem.*\n",
    "\n",
    "Review the population growth model and its solution here: https://en.wikipedia.org/wiki/Logistic_function#In_ecology:_modeling_population_growth\n",
    "\n",
    "Use the Markdown cell below to summarize both\n",
    "\n",
    "- the population growth model (given as a differential equation), and\n",
    "<br>\n",
    "- the solution to the model.\n",
    "\n",
    "Do not forget to include bullet lists explaining what the inputs and outputs are of these equations."
   ]
  },
  {
   "cell_type": "markdown",
   "metadata": {},
   "source": [
    "### Problem 1(a): Answers\n",
    "---\n",
    "\n",
    "YOUR ANSWERS GO HERE."
   ]
  },
  {
   "cell_type": "markdown",
   "metadata": {},
   "source": [
    "### Problem 1(b)\n",
    "---\n",
    "\n",
    "- Finishing coding the function in the code cell below. \n",
    "\n",
    "    - The function should have parameters `r`, `P_0`, `K`, and `t` (which you should have described in your answer to problem 1(a) as $r$, $P_0$, $K$, and $t$). \n",
    "\n",
    "    - The function output is simply the population values associated with the (arrays) of parameter values given to it.\n",
    "\n",
    "    - The `exp` function within `numpy` is useful here.\n",
    "\n",
    "    - The most common student errors involve forgetting order of operations and incorrect placement of parentheses. "
   ]
  },
  {
   "cell_type": "code",
   "execution_count": null,
   "metadata": {},
   "outputs": [],
   "source": [
    "# Code solution function here to answer Problem 1(b) \n",
    "def P(): # PUT PARAMETERS INSIDE THE PARENTHESES\n",
    "    p_vals = # PUT POPULATION FUNCTION HERE\n",
    "    return p_vals"
   ]
  },
  {
   "cell_type": "markdown",
   "metadata": {},
   "source": [
    "### Problem 1(c)\n",
    "---\n",
    "\n",
    "- Evaluate the function you coded in part (b) above with $r=0.01$, $P_0=.1$, $K=2$, at $t = 1, 10, 100$, and $1000$ and print results. \n",
    "\n",
    "- Repeat those computations except now use $r=0.5$. \n",
    "\n",
    "- Discuss/interpret the results in terms of the sensitivity of the population to increasing $r$ values. "
   ]
  },
  {
   "cell_type": "code",
   "execution_count": null,
   "metadata": {},
   "outputs": [],
   "source": [
    "# Code for Problem 1(c) goes here"
   ]
  },
  {
   "cell_type": "markdown",
   "metadata": {},
   "source": [
    "YOUR DISCUSSION/INTERPRETATION FOR PROBLEM 1(C) GO HERE."
   ]
  },
  {
   "cell_type": "markdown",
   "metadata": {},
   "source": [
    "### Problem 1(d)\n",
    "---\n",
    "\n",
    "- Run the code cells below that will use your function to compute and plot $P(t)$ for various values of $r, P_0$, and $K$. \n",
    "\n",
    "- Add some comments to the code. \n",
    "\n",
    "- Discuss/interpret the results in the Markdown cell that follows. \n",
    "\n",
    "    - A reference plot of what you *should* get if you coded the function correctly in part (b) is given in the Markdown cell. If your plot differs from this, then you need to critically examine what you coded in part (b). This should also help inform you whether or not your results and interpretations in part (c) are correct or need re-examining."
   ]
  },
  {
   "cell_type": "code",
   "execution_count": null,
   "metadata": {},
   "outputs": [],
   "source": [
    "# We need to import pyplot from matplotlib\n",
    "%matplotlib inline\n",
    "import matplotlib.pyplot as plt "
   ]
  },
  {
   "cell_type": "code",
   "execution_count": null,
   "metadata": {},
   "outputs": [],
   "source": [
    "plt.figure(figsize=(8,5))\n",
    "t_f = 10\n",
    "rs = [.3, .3, .5, .5]\n",
    "P_0 = .1\n",
    "Ks = [2, 4, 2, 4]\n",
    "for (r,K) in zip(rs,Ks):\n",
    "    t = np.linspace(0, t_f, 100)\n",
    "    label_str = '$(r,K)$ = (' + str(r) + ',' + str(K) + ')'\n",
    "    plt.plot(t, P(r=r, P_0=P_0, K=K, t=t), label=label_str)\n",
    "plt.legend(fontsize=18)"
   ]
  },
  {
   "cell_type": "markdown",
   "metadata": {},
   "source": [
    "### Reference plot and discussion/interpretation for Problem 1(d) goes below\n",
    "---\n",
    "\n",
    "![Reference plot to check work](Reference_Pop_Plot.png)\n",
    "\n",
    "<span style='background:rgba(255,255,0, 0.25); color:black'>YOUR DISCUSSION/INTERPRETATION GOES HERE.</span>\n",
    "\n"
   ]
  },
  {
   "cell_type": "markdown",
   "metadata": {},
   "source": [
    "## Some background on RBFs (a preamble to Problem 2)\n",
    "\n",
    "[Radial Basis Functions (RBFs)](https://en.wikipedia.org/wiki/Radial_basis_function) are used in many applications and disciplines such as non-parametric density estimation in statistics, approximations of function responses on unstructured data sets, and defining some types of artificial neural networks.\n",
    "In other words, they are [kind of a big deal](https://www.youtube.com/watch?v=H8OxKx6zKkQ).\n",
    "\n",
    "### What is the idea/purpose/features of an RBF?\n",
    "\n",
    "We summarize the <font size=5>big picture</font>  idea behind why RBFs are used as follows:\n",
    "\n",
    "> We have some information about \"what happens\" at a point in space, denoted by $\\mathbf{c}$, and we want to use this information to \"infer what may happen\" at a point $\\mathbf{x}$. \n",
    "\n",
    "In the context of the big picture idea, we expect RBFs to exhibit the following features:\n",
    "\n",
    "- If $\\mathbf{x}$ is \"close\" to $\\mathbf{c}$, then the knowledge we have about what happens at $\\mathbf{c}$ should play a big role in informing what we think may happen at $\\mathbf{x}$. \n",
    "\n",
    "- If $\\mathbf{x}$ is \"far away\" from $\\mathbf{c}$, then perhaps we should reduce how much we rely on the knowledge we have at $\\mathbf{c}$ to inform us about what may happen at $\\mathbf{x}$. \n",
    "\n",
    "### How do we go from concept to practice? \n",
    "\n",
    "A few things have to be made more concrete: what functions exhibit such desirable features, what do we mean by \"close\" and \"far away\", and how do we measure distance anyway?\n",
    "\n",
    "To make this a bit more mathematically precise, we formalize our notation. \n",
    "- Let $\\phi$ denote an RBF that maps a \"distance\" $r\\in[0,\\infty)$ into $\\mathbf{R}$ such that $\\phi(0)$ is the maximum and $\\phi(r_1)>\\phi(r_2)$ whenever $0\\leq r_1<r_2$.\n",
    "\n",
    "- Let $\\mathbf{c}$ denote some point in a vector space at which we \"know something.\" What is a vector space? Some simple examples are $\\mathbb{R}^2$ and $\\mathbb{R}^3$. \n",
    "\n",
    "- Let $\\mathbf{x}$ denote some other point in the vector space where we would like to \"infer something.\"\n",
    "\n",
    "- Let $r=\\vert\\vert\\mathbf{x}-\\mathbf{c}\\vert\\vert$ denote the distance from $\\mathbf{x}$ to $\\mathbf{c}$ where $\\vert\\vert\\cdot\\vert\\vert$ denotes a norm on the vector space. If you have never seen a norm before, do not worry, we will get some practice below. Primarily, in the context of this class, you can think of a norm as determining the length of a vector, which is simply stating how far the point defined by its coordinates are from the origin.\n",
    "\n",
    "The image below of a Gaussian RBF illustrates these concepts where we see that if $r=0$, this would mean the point $\\mathbf{x}=\\mathbf{c}$ and the RBF is \"maximized\" and the RBF decreases as $r$ increases (when $\\mathbf{x}$ moves away from $\\mathbf{c}$ either to the left or right).\n",
    "\n",
    "![Illustration of RBF](Gaussian-RBF-cartoon.png \"The items that make up a figure\")"
   ]
  },
  {
   "cell_type": "markdown",
   "metadata": {},
   "source": [
    "### A note on important technical content: norms\n",
    "\n",
    "Wait, how do we compute $r$? What does $\\vert\\vert \\cdot \\vert\\vert$ being a norm mean? \n",
    "\n",
    "In 1-dimension (such as in the image of an RBF shown above), $r=\\vert\\vert \\mathbf{x}-\\mathbf{c}\\vert\\vert$ is just given by the absolute value of the difference between the points $\\mathbf{x}$ and $\\mathbf{c}$. In other words, $r = \\vert \\mathbf{x}-\\mathbf{c}\\vert$. \n",
    "\n",
    "We just have to be more thoughtful as we move into higher-dimensional spaces because we have more options available for how we would measure the size of vectors and thus the distance between two points.\n",
    "\n",
    "In many cases, it is fine to simply think of this as the \"straight line distance\" between two points that you are probably familiar with in 2- and 3-dimensional spaces. \n",
    "But, it is important to note that there are other useful ways of measuring distances.\n",
    "The interested reader is encouraged to examine the following resources for more information (click the links to see graphical representations of these distances as well):\n",
    "\n",
    "- The [Euclidean distance](https://en.wikipedia.org/wiki/Euclidean_distance) generalizes the concept of a straight line distance in $\\mathbf{R}^k$ for $k$ beyond 3-dimensions. This is sometimes called the 2-norm distance. \n",
    "\n",
    "- The [taxicab distance](https://en.wikipedia.org/wiki/Taxicab_geometry) is useful when the distance measured in moving from one point to another is best described by moving along a \"grid of roads\". This is closely related to how we actually think of the \"real distance\" of two points on a map when the \"straight line path\" is impossible to traverse. This is sometimes called the 1-norm distance.\n",
    "\n",
    "- The [Chebyshev distance](https://en.wikipedia.org/wiki/Chebyshev_distance) is useful when the distance measured in moving from one point to another is best described by the longest distance we have to travel in any one direction. This is sometimes called the $\\infty$-norm distance. "
   ]
  },
  {
   "cell_type": "markdown",
   "metadata": {},
   "source": [
    "### Are there simple ways to compute norms in Python?\n",
    "\n",
    "While norms are actually pretty simple functions to code up yourself, the subpackage `numpy.linalg` has a function [`norm`](https://docs.scipy.org/doc/numpy/reference/generated/numpy.linalg.norm.html) that allows you to pass an `ord` parameter to define which type of norm you want to use. \n",
    "Basically, this `ord` parameter allows you to choose which particular Minkowski distance function you want to use.\n",
    "\n",
    "- `ord=2` means you are using the 2-norm. \n",
    "\n",
    "- `ord=1` means you are using the 1-norm.\n",
    "\n",
    "- `ord=np.inf` means you are using the $\\infty$-norm (you pass the \"infinity\" variable stored in `numpy` as the `ord`)\n",
    "\n",
    "We show some examples of this below."
   ]
  },
  {
   "cell_type": "code",
   "execution_count": null,
   "metadata": {},
   "outputs": [],
   "source": [
    "from numpy.linalg import norm "
   ]
  },
  {
   "cell_type": "code",
   "execution_count": null,
   "metadata": {},
   "outputs": [],
   "source": [
    "# Some vectors (as 1-D numpy arrays of various shapes)\n",
    "\n",
    "a = np.array([5, 5]) # Shape is (2,) so interpret as a point/vector in 2-D space\n",
    "\n",
    "b = np.array([3, 7, 2]) # Shape is (3,) so interpret as a point/vector in 3-D space"
   ]
  },
  {
   "cell_type": "code",
   "execution_count": null,
   "metadata": {},
   "outputs": [],
   "source": [
    "# First some 2-dimensional distances between a point x and a\n",
    "\n",
    "x = np.array([2, 3]) \n",
    "\n",
    "print(norm(x-a)) # The 2-norm is the default, this gives the Euclidean distance\n",
    "print()\n",
    "\n",
    "print(norm(x-a, ord=2)) # Also gives the Euclidean distance\n",
    "print()\n",
    "\n",
    "print(norm(x-a, ord=1)) # This gives the 1-norm distance \n",
    "print()\n",
    "\n",
    "print(norm(x-a, ord=np.inf)) # This gives the infinity-norm distance "
   ]
  },
  {
   "cell_type": "code",
   "execution_count": null,
   "metadata": {},
   "outputs": [],
   "source": [
    "# Now some 3-dimensional distances between a point x and b\n",
    "\n",
    "x = np.array([2, 3, 5])\n",
    "\n",
    "print(norm(x-b, ord=2)) # Gives the Euclidean distance (recall, we do not need to specify ord here, but it is a good idea to do so)\n",
    "print()\n",
    "\n",
    "print(norm(x-b, ord=1)) # This gives the 1-norm distance \n",
    "print()\n",
    "\n",
    "print(norm(x-b, ord=np.inf)) # This gives the infinity-norm distance "
   ]
  },
  {
   "cell_type": "markdown",
   "metadata": {},
   "source": [
    "## Problem 2: Radial Basis Functions (RBFs)\n",
    "---\n",
    "\n",
    "### Problem 2(a)\n",
    "---\n",
    "\n",
    "Read the Wiki page on [Radial Basis Functions (RBFs)](https://en.wikipedia.org/wiki/Radial_basis_function) and summarize the following RBFs in the Markdown cell below: \n",
    "\n",
    "- Gaussian and Bump function. \n",
    "\n",
    "- Briefly explain the role of the shape parameter $\\epsilon$ in determining what is considered close and far away (hint: think of \"squeezing\" or \"stretching\" out the Gaussian RBF pictured above). "
   ]
  },
  {
   "cell_type": "markdown",
   "metadata": {},
   "source": [
    "### Problem 2(a) Answers:\n",
    "---\n",
    "\n",
    "YOUR ANSWERS GO HERE"
   ]
  },
  {
   "cell_type": "markdown",
   "metadata": {},
   "source": [
    "### Problem 2(b)\n",
    "\n",
    "In the code cells below, you should\n",
    "- Create three functions: `my_Gaussian`, `my_Bump`, and a \"wrapper\" function called `my_RBFs` function that will choose which of these two RBFs to evaluate based on a string argument `which_RBF` that defaults to the Gaussian RBF. \n",
    "<br><br>\n",
    "   - All three of these functions should also take in as arguments the following: `x` and `c` (both `numpy` arrays of the same size), the shape parameter `eps`,  and `ord` (which determines the norm used to compute $r=\\vert \\vert \\mathbf{x}-\\mathbf{c} \\vert\\vert$ where you use the [`norm`](https://docs.scipy.org/doc/numpy/reference/generated/numpy.linalg.norm.html) function in `numpy.linalg` to compute this norm). \n",
    " <br><br>\n",
    "   - The functions should return the value of the RBF at the computed $r$ value.\n",
    "\n",
    "*I get you started on the `my_Gaussian` and `my_RBFs` functions, but they need to be completed. You need to write the `my_Bump` function in its entirety.*"
   ]
  },
  {
   "cell_type": "code",
   "execution_count": null,
   "metadata": {},
   "outputs": [],
   "source": [
    "# Code for my_Gaussian goes here\n",
    "\n",
    "def my_Gaussian(x, c, eps=1, ord=None):\n",
    "    r = norm(x-c, ord=ord) # Compute the distance from x to c\n",
    "    # Compute the Gaussian RBF with shape parameter eps below\n",
    "    phi = # YOU NEED TO FILL IN THIS PART!!!!\n",
    "    return phi"
   ]
  },
  {
   "cell_type": "code",
   "execution_count": null,
   "metadata": {},
   "outputs": [],
   "source": [
    "# Code for my_Bump goes here"
   ]
  },
  {
   "cell_type": "code",
   "execution_count": null,
   "metadata": {},
   "outputs": [],
   "source": [
    "# Code for my_RBFs goes here\n",
    "\n",
    "def my_RBFs(x, c, eps=1, ord=None, which_RBF='Gaussian'):\n",
    "    if which_RBF == 'Gaussian':\n",
    "        # Fill this in\n",
    "    elif which_RBF == 'Bump':\n",
    "        # Fill this in\n",
    "    else:\n",
    "        print('Uh, what RBF do you want? Choose Gaussian or Bump please.')\n",
    "        return\n",
    "    return phi"
   ]
  },
  {
   "cell_type": "markdown",
   "metadata": {},
   "source": [
    "### Problem 2(c)\n",
    "---\n",
    "\n",
    "Execute the code cells below to verify that both RBFs can be evaluated for the given points/vectors in $\\mathbf{R}$, $\\mathbf{R}^2$, and $\\mathbf{R}^{10}$ with different choices of `ord` and `eps`."
   ]
  },
  {
   "cell_type": "code",
   "execution_count": null,
   "metadata": {},
   "outputs": [],
   "source": [
    "# Create 1-D numpy arrays of shape (1,), (2,), and (10,) to test the code\n",
    "\n",
    "a_R = np.array([1])\n",
    "b_R = np.array([2])\n",
    "\n",
    "a_R2 = np.array([1, 2])\n",
    "b_R2 = np.array([3, 4])\n",
    "\n",
    "a_R10 = np.array([1, 2, 3, 4, 5, 6, 7, 8, 9, 10])\n",
    "b_R10 = np.array([2, 3, 4, 5, 6, 7, 8, 9, 10, 11])"
   ]
  },
  {
   "cell_type": "code",
   "execution_count": null,
   "metadata": {},
   "outputs": [],
   "source": [
    "# Showing 1-D results for Gaussian RBF\n",
    "\n",
    "phi = my_RBFs(a_R, b_R, eps=1, ord=2)\n",
    "print(phi)\n",
    "print()\n",
    "\n",
    "phi = my_RBFs(a_R, b_R, eps=0.5, ord=1)\n",
    "print(phi)\n",
    "print()\n",
    "\n",
    "phi = my_RBFs(a_R, b_R, eps=2, ord=np.inf)\n",
    "print(phi)"
   ]
  },
  {
   "cell_type": "code",
   "execution_count": null,
   "metadata": {},
   "outputs": [],
   "source": [
    "# Showing 1-D results for  Bump RBF\n",
    "\n",
    "phi = my_RBFs(a_R, b_R, eps=1, ord=2, which_RBF='Bump')\n",
    "print(phi)\n",
    "print()\n",
    "\n",
    "phi = my_RBFs(a_R, b_R, eps=0.5, ord=1, which_RBF='Bump')\n",
    "print(phi)\n",
    "print()\n",
    "\n",
    "phi = my_RBFs(a_R, b_R, eps=2, ord=np.inf, which_RBF='Bump')\n",
    "print(phi)"
   ]
  },
  {
   "cell_type": "code",
   "execution_count": null,
   "metadata": {},
   "outputs": [],
   "source": [
    "# Showing 2-D results for Gaussian RBF\n",
    "\n",
    "phi = my_RBFs(a_R2, b_R2, eps=1, ord=2)\n",
    "print(phi)\n",
    "print()\n",
    "\n",
    "phi = my_RBFs(a_R2, b_R2, eps=0.5, ord=1)\n",
    "print(phi)\n",
    "print()\n",
    "\n",
    "phi = my_RBFs(a_R2, b_R2, eps=2, ord=np.inf)\n",
    "print(phi)"
   ]
  },
  {
   "cell_type": "code",
   "execution_count": null,
   "metadata": {},
   "outputs": [],
   "source": [
    "# Showing 2-D results for Bump RBF\n",
    "\n",
    "phi = my_RBFs(a_R2, b_R2, eps=1, ord=2, which_RBF='Bump')\n",
    "print(phi)\n",
    "print()\n",
    "\n",
    "phi = my_RBFs(a_R2, b_R2, eps=0.5, ord=1, which_RBF='Bump')\n",
    "print(phi)\n",
    "print()\n",
    "\n",
    "phi = my_RBFs(a_R2, b_R2, eps=2, ord=np.inf, which_RBF='Bump')\n",
    "print(phi)"
   ]
  },
  {
   "cell_type": "code",
   "execution_count": null,
   "metadata": {},
   "outputs": [],
   "source": [
    "# Showing 10-D results for Gaussian RBF\n",
    "\n",
    "phi = my_RBFs(a_R10, b_R10, eps=1, ord=2)\n",
    "print(phi)\n",
    "print()\n",
    "\n",
    "phi = my_RBFs(a_R10, b_R10, eps=0.5, ord=1)\n",
    "print(phi)\n",
    "print()\n",
    "\n",
    "phi = my_RBFs(a_R10, b_R10, eps=2, ord=np.inf)\n",
    "print(phi)"
   ]
  },
  {
   "cell_type": "code",
   "execution_count": null,
   "metadata": {},
   "outputs": [],
   "source": [
    "# Showing 10-D results for Bump RBF\n",
    "\n",
    "phi = my_RBFs(a_R10, b_R10, eps=1, ord=2, which_RBF='Bump')\n",
    "print(phi)\n",
    "print()\n",
    "\n",
    "phi = my_RBFs(a_R10, b_R10, eps=0.5, ord=1, which_RBF='Bump')\n",
    "print(phi)\n",
    "print()\n",
    "\n",
    "phi = my_RBFs(a_R10, b_R10, eps=2, ord=np.inf, which_RBF='Bump')\n",
    "print(phi)"
   ]
  },
  {
   "cell_type": "markdown",
   "metadata": {},
   "source": [
    "## Introducing [doctest](https://docs.python.org/3.8/library/doctest.html) (a preamble to problem 3)\n",
    "---\n",
    "\n",
    "The documentation for a [`doctest`](https://docs.python.org/3.8/library/doctest.html) is probably most useful to review after seeing a simple example. There are other Python modules available for testing your code such as [`unittest`](https://docs.python.org/3/library/unittest.html?highlight=unittest#module-unittest), but we will primarily focus on `doctest` for its simplicity in this course."
   ]
  },
  {
   "cell_type": "markdown",
   "metadata": {},
   "source": [
    "### The value of testing\n",
    "---\n",
    "\n",
    "Here, we briefly discuss the value of constructing tests for your code. This also reinforces the importance of documenting code as discussed in a lecture notebook.\n",
    "\n",
    "The value of testing becomes apparent once we realize that coding is often an iterative process in practice that typically \"stitches\" together lots of different \"pieces\" to make a more useful \"whole.\" \n",
    "Over time, individual pieces will be updated to improve functionality or fix issues that arise in operation. \n",
    "Common goals for improved functionality are to increase the speed of computations, allow for more flexible processing of data types, improved handling of \"edge cases\" (i.e., inputs that may \"break\" the original code in some way or given unexpected outputs), or providing new and useful features as the user-base or use-cases for the code mature. \n",
    "It is therefore critically important to make sure that these individual pieces are actually functioning correctly both prior to and following any updates. \n",
    "This is where testing comes into play."
   ]
  },
  {
   "cell_type": "markdown",
   "metadata": {},
   "source": [
    "### The purpose of `doctest` vs `unittest`\n",
    "---\n",
    "\n",
    "- The basic purpose of `doctest` is to perform tests written into your documentation of a function that demonstrate *typical use cases.* \n",
    "\n",
    "    - The tests should be simple and useful to someone trying to  understand what the function does.\n",
    "\n",
    "\n",
    "- The basic purpose of `unittest` is to perform tests that are more \"diagnostic\" in nature to ensure that nothing \"broke\" in the code when either it or other parts of the code it may depend upon were updated. \n",
    "\n",
    "\n",
    "Consequently, I would say that unit tests are meant to be *thorough* whereas doc tests are meant to be *illuminating*. These are just my opinions though. You should formulate your own."
   ]
  },
  {
   "cell_type": "markdown",
   "metadata": {},
   "source": [
    "### A suggestion\n",
    "---\n",
    "\n",
    "You should probably spend 15-20 minutes reading more about testing and why it is useful. There are lots of blogs and articles written about unit testing. Find some on Google (or your favorite search engine). There is actually a nice discussion about the built-in Python modules `doctest` and `unittest` on [stackoverflow](https://stackoverflow.com/questions/361675/python-doctest-vs-unittest). "
   ]
  },
  {
   "cell_type": "markdown",
   "metadata": {},
   "source": [
    "### Without further ado...\n",
    "---\n",
    "\n",
    "We now dive into it. \n",
    "\n",
    "- Run the code cells below and interpret what is happening in the Markdown cell that follows. \n",
    "\n",
    "To truly understand what is happening, you may need to try editing the tests so that they *fail*, add new tests for yourself, etc. Play around with it."
   ]
  },
  {
   "cell_type": "code",
   "execution_count": null,
   "metadata": {},
   "outputs": [],
   "source": [
    "import doctest"
   ]
  },
  {
   "cell_type": "code",
   "execution_count": null,
   "metadata": {},
   "outputs": [],
   "source": [
    "def add(a, b):\n",
    "    '''\n",
    "    This function adds a to b. Why do we need a function to do that?\n",
    "    We don't. No reason. But, it is useful for illustrating how to use\n",
    "    the doctest feature. \n",
    "    \n",
    "    This is a test:\n",
    "    >>> add(2, 2)\n",
    "    4\n",
    "    \n",
    "    The above was a test. If we wanted to have more tests, then we could\n",
    "    add some more. Notice the formatting requirements.\n",
    "    \n",
    "    We should also test that:\n",
    "    >>> add(3,5)\n",
    "    8\n",
    "    \n",
    "    >>> add(105.5, 0.5)\n",
    "    106.0\n",
    "    '''\n",
    "    return a + b"
   ]
  },
  {
   "cell_type": "code",
   "execution_count": null,
   "metadata": {},
   "outputs": [],
   "source": [
    "doctest.testmod(verbose=True)"
   ]
  },
  {
   "cell_type": "code",
   "execution_count": null,
   "metadata": {},
   "outputs": [],
   "source": [
    "doctest.testmod()"
   ]
  },
  {
   "cell_type": "code",
   "execution_count": null,
   "metadata": {},
   "outputs": [],
   "source": [
    "def add_strings(a, b):\n",
    "    '''\n",
    "    What if I want to add a and b as if they were strings?\n",
    "    \n",
    "    >>> add_strings(2, 2)\n",
    "    '22'\n",
    "    \n",
    "    >>> add_strings(3,5)\n",
    "    '35'\n",
    "    \n",
    "    >>> add_strings(105.5, 0.5)\n",
    "    '105.50.5'\n",
    "    '''\n",
    "    return add(str(a), str(b))"
   ]
  },
  {
   "cell_type": "code",
   "execution_count": null,
   "metadata": {},
   "outputs": [],
   "source": [
    "doctest.testmod(verbose=True) #This may be too much if we only want to test the add_strings function"
   ]
  },
  {
   "cell_type": "code",
   "execution_count": null,
   "metadata": {},
   "outputs": [],
   "source": [
    "doctest.run_docstring_examples(add_strings, globs=None, verbose=True)"
   ]
  },
  {
   "cell_type": "markdown",
   "metadata": {},
   "source": [
    "<span style='background:rgba(255,255,0, 0.25); color:black'> THIS IS NOT A GRADED PART OF THE ASSIGNMENT BUT YOU SHOULD REALLY TRY TO EXPLAIN/INTERPRET THE ABOVE CODE CELLS HERE FOR YOUR OWN BENEFIT.</span>"
   ]
  },
  {
   "cell_type": "markdown",
   "metadata": {},
   "source": [
    "<span style='background:rgba(255,0,255, 0.25); color:black'> AND JUST IN CASE YOU DID NOT EXPERIMENT WITH A FAILED TEST.</span>\n",
    "\n",
    "If you did not experiment much with the above code cells, then consider the code cells below that show a failed test.\n",
    "\n",
    "What is the proper takeaway when a test fails?\n",
    "\n",
    "If a test fails, this does not necessarily mean that the test is bad. While it may be the case that a failed test is due to a poorly written test, a good test *should* fail when the code has something *wrong* with it. \n",
    "\n",
    "In general, assuming the test was \"good\" then a failed test basically means that the test is doing what it should. It is detecting possible errors in the code that should be fixed before the code is deployed to other users.\n",
    "\n",
    "**In fact, the best thing a test can do for you is *fail* even if the code does not produce any errors.** It is good to let that sink in for a minute.\n",
    "\n",
    "It is possible for code to execute but give unexpected/undesirable outputs.\n",
    "Catching these with tests can save you (and the users of your code) a lot of frustration.\n",
    "\n",
    "So, run the code cells below, explain what is going on in the Markdown cell, and explain what needs to be fixed in the code. "
   ]
  },
  {
   "cell_type": "code",
   "execution_count": null,
   "metadata": {},
   "outputs": [],
   "source": [
    "def weird_combo(a, b):\n",
    "    '''\n",
    "    We treat a and b as strings.\n",
    "    First, we add a to the first character in b.\n",
    "    Second, we add b to the last character in a.\n",
    "    Finally, we return the sum of these two results.\n",
    "    \n",
    "    >>> weird_combo(31, 24)\n",
    "    '312241'\n",
    "    '''\n",
    "    \n",
    "    first = add(str(a), str(b)[0])\n",
    "    second = add(str(a)[-1], str(b))\n",
    "                 \n",
    "    return add(first, second)"
   ]
  },
  {
   "cell_type": "code",
   "execution_count": null,
   "metadata": {},
   "outputs": [],
   "source": [
    "doctest.run_docstring_examples(weird_combo, globs=None, verbose=True)"
   ]
  },
  {
   "cell_type": "markdown",
   "metadata": {},
   "source": [
    "<span style='background:rgba(255,255,0, 0.25); color:black'> YOU SHOULD TRY TO EXPLAIN THE RESULTS OF THE ABOVE CODE CELLS HERE. THERE ARE TWO POSSIBLE INTERPRETATIONS TO CONSIDER: (1) THE TEST IS CORRECT SO THE FUNCTION HAS AN ERROR, OR (2) THE TEST IS INCORRECT AND THE FUNCTION IS FINE. WHICH DO YOU THINK IT IS? READ THE DOCSTRING CAREFULLY TO DETERMINE WHICH OF THESE IS THE MORE PLAUSIBLE SCENARIO.</span>"
   ]
  },
  {
   "cell_type": "markdown",
   "metadata": {},
   "source": [
    "## Problem 3: Population model and doctest\n",
    "---\n",
    "\n",
    "We revisit the population model from problem 1.\n",
    "\n",
    "- Copy/paste the solution function from problem 1(b) below, but now add a docstring to describe the function, its parameters, and outputs, and add at least two tests in the docstring based on easily computed inputs.\n",
    "\n",
    "- Use `doctest` to test your function."
   ]
  },
  {
   "cell_type": "code",
   "execution_count": null,
   "metadata": {},
   "outputs": [],
   "source": [
    "# Code solution function here with docstring and tests"
   ]
  },
  {
   "cell_type": "code",
   "execution_count": null,
   "metadata": {},
   "outputs": [],
   "source": [
    "# Use doctest here to show your tests pass"
   ]
  },
  {
   "cell_type": "markdown",
   "metadata": {},
   "source": [
    "## Problem 4: Testing the `differences` module from the lecture\n",
    "---\n",
    "\n",
    "- Run the code below. \n",
    "- Add docstrings with useful tests to *every* function in the module. \n",
    "- Show that all your tests pass. "
   ]
  },
  {
   "cell_type": "code",
   "execution_count": null,
   "metadata": {},
   "outputs": [],
   "source": [
    "import differences as diff"
   ]
  },
  {
   "cell_type": "code",
   "execution_count": null,
   "metadata": {},
   "outputs": [],
   "source": [
    "doctest.testmod(diff)"
   ]
  },
  {
   "cell_type": "code",
   "execution_count": null,
   "metadata": {},
   "outputs": [],
   "source": []
  },
  {
   "cell_type": "code",
   "execution_count": null,
   "metadata": {},
   "outputs": [],
   "source": []
  },
  {
   "cell_type": "code",
   "execution_count": null,
   "metadata": {},
   "outputs": [],
   "source": []
  },
  {
   "cell_type": "markdown",
   "metadata": {},
   "source": [
    "## Problem 5: Testing your module from the lecture\n",
    "---\n",
    "\n",
    "- Create some docstrings with tests for each function in the module you created as an activity at the end of the part-c lecture notebook. \n",
    "- Show that your tests pass."
   ]
  },
  {
   "cell_type": "code",
   "execution_count": null,
   "metadata": {},
   "outputs": [],
   "source": []
  },
  {
   "cell_type": "code",
   "execution_count": null,
   "metadata": {},
   "outputs": [],
   "source": []
  },
  {
   "cell_type": "code",
   "execution_count": null,
   "metadata": {},
   "outputs": [],
   "source": []
  },
  {
   "cell_type": "code",
   "execution_count": null,
   "metadata": {},
   "outputs": [],
   "source": []
  }
 ],
 "metadata": {
  "kernelspec": {
   "display_name": "Python 3",
   "language": "python",
   "name": "python3"
  },
  "language_info": {
   "codemirror_mode": {
    "name": "ipython",
    "version": 3
   },
   "file_extension": ".py",
   "mimetype": "text/x-python",
   "name": "python",
   "nbconvert_exporter": "python",
   "pygments_lexer": "ipython3",
   "version": "3.8.6"
  }
 },
 "nbformat": 4,
 "nbformat_minor": 4
}
