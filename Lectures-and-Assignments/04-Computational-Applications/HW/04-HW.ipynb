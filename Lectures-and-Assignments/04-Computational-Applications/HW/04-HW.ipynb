{
 "cells": [
  {
   "cell_type": "markdown",
   "metadata": {},
   "source": [
    "# Math  1376: Programming for Data Science\n",
    "---\n",
    "\n",
    "## Assignment 04: Root finding and integration applications\n",
    "---\n",
    "\n",
    "**Expected time to completion: 4-6 hours**"
   ]
  },
  {
   "cell_type": "code",
   "execution_count": null,
   "metadata": {},
   "outputs": [],
   "source": [
    "import numpy as np\n",
    "import matplotlib.pyplot as plt\n",
    "%matplotlib inline"
   ]
  },
  {
   "cell_type": "markdown",
   "metadata": {},
   "source": [
    "## Setting the stage with a brief discussion on roots and optimization\n",
    "---"
   ]
  },
  {
   "cell_type": "markdown",
   "metadata": {},
   "source": [
    "<span style='background:rgba(255,255,0, 0.25); color:black'> Run the code cell below and click the \"play\" button to see the first recorded lecture associated with this notebook.</span>"
   ]
  },
  {
   "cell_type": "code",
   "execution_count": null,
   "metadata": {},
   "outputs": [],
   "source": [
    "# 1. Running this cell with embed the short recorded lecture associated with this part of the notebook\n",
    "# 2. Press on the \"play\" button to start the video.\n",
    "\n",
    "from IPython.display import YouTubeVideo\n",
    "\n",
    "YouTubeVideo('CGacFFq1WNM', width=800, height=450)"
   ]
  },
  {
   "cell_type": "markdown",
   "metadata": {},
   "source": [
    "Root-problems naturally arise in optimization of *smooth* phenomena.\n",
    "\n",
    "Before we discuss how this happens, we address some terminology. What does *smooth* mean? For the purposes of this discussion, it means the function has as many *derivatives* as we require. What is a *derivative*? It is a concept from calculus, but here you can just think of it in very physical terms: the derivative of position as a function of time is velocity, the derivative of velocity as a function of time is acceleration, etc. (is there a physically meaningful derivative of acceleration? Yes! It is called the *jerk*, and I do not mean in the context \"This lying jerk said we didn't need to know calculus!\").\n",
    "\n",
    "<span style='background:rgba(255,0,255, 0.25); color:black'> ***Some motivating examples:*** <span>\n",
    "\n",
    "- Suppose a function $h(t)$ describes the *height* of a launched projectile (e.g., a ball, missile, satellite, etc.) and we wish to know the times $t$ over some range of times $[t_0,t_f]$ when the projectile reaches its maximum and minimum heights. Let $f(t)$ denote the first derivative of $h(t)$. Then, the solutions to $f(t)=0$ (i.e., the roots of $f(t)$) give the potential times of maximum/minimum heights. We can then evaluate $h$ at all the roots of $f$ to determine what the heights are at these *critical* values. \n",
    "\n",
    "- Suppose a function $I(t)$ describes the number of people infected with a virus at any given time $t$. Knowing when the infected number \"spikes\" (produces a value that is maximum relative to other nearby values in time) is useful for guiding public health policy and direction of resources. Like the example above, this requires knowing when the derivative of $I(t)$ is zero. \n",
    "\n",
    "<span style='background:rgba(255,0,255, 0.25); color:black'> ***Do we need derivatives?*** <span>\n",
    "    \n",
    "No! We can use estimates of derivatives instead. You may recall that we developed a Python module `differences.py` in our third content module. \n",
    "We will use that instead!"
   ]
  },
  {
   "cell_type": "markdown",
   "metadata": {},
   "source": [
    "## Problem 1: Minimize your cost to maximize your profits\n",
    "---\n",
    "\n",
    "**<span style='background:rgba(255,0,255, 0.25); color:black'>\n",
    "All the code in this problem is done for you. You are prompted to provide some code comments, doctests, and interpretations in Markdown cells throughout.\n",
    "</span>**\n",
    "\n",
    "You just discovered that you are the world's best pasta sauce maker.\n",
    "You should profit on this discovery. \n",
    "People love your sauce so much that they want to buy it a liter at a time.\n",
    "A liter is 1000 cm$^3$. \n",
    "That is a lot of sauce!\n",
    "You can almost taste the profits.\n",
    "\n",
    "There is only one problem, you need to find liter sized glass containers for your sauce.\n",
    "You talk with your [copacker](https://en.wikipedia.org/wiki/Contract_packager#:~:text=A%20contract%20packager%2C%20or%20copacker,household%20products%2C%20and%20industrial%20products.), and they cannot find a distributor of glass containers that makes the quality and quantity of liter sized containers you need.\n",
    "But, your copacker has a suggestion: we can design and make our own containers!\n",
    "This is a great idea!\n",
    "\n",
    "Your objective is to design a liter sized glass container that minimizes the cost of production and thus maximizes your profits!\n",
    "\n",
    "However, there are some constraints. \n",
    "\n",
    "This is a glass container! It can NOT have edges or corners!\n",
    "\n",
    "The shape required is a [right-circular cylinder](https://en.wikipedia.org/wiki/Cylinder) (we will ignore the slight curvature that you always see near the bottom/top of the container for simplicity) with a solid glass bottom (otherwise the sauce will not stay in the container) and an open top (where the sauce is poured into the container during production before a lid is screwed on to secure the contents). \n",
    "\n",
    "This means that you have to determine the radius $r$ of the circular base and the height $h$ of the container. \n",
    "\n",
    "Assume that the thickness of the glass is the same for all shapes of containers so that the cost of the commercial-grade raw materials used to make any glass container can be expressed in terms of the surface area of the cylinder. \n",
    "Your objective is then clear: design a 1000 cm$^3$ container with minimal surface area.\n",
    "\n",
    "The surface area of a container you specify with base radius $r$ and height $h$ is given by\n",
    "$$\n",
    " \\large   S = \\pi r^2 + 2\\pi r h,\n",
    "$$\n",
    "while the volume is given by\n",
    "$$\n",
    "   \\large V = \\pi r^2 h.\n",
    "$$\n",
    "\n",
    "Since the volume needs to be 1000 cm$^3$, the (constrained) optimization problem is summarized as\n",
    "$$\n",
    "\\large    \\begin{array}{c} \n",
    "        \\text{minimize  } S=\\pi r^2 + 2\\pi rh \\\\\n",
    "        \\text{subject to  } 1000 = \\pi r^2h.\n",
    "    \\end{array}\n",
    "$$\n",
    "\n",
    "Using the constraint, we have that $\\large h=\\frac{1000}{\\pi r^2}$, so we can substitute this into the surface area equation to simplify this problem to the following\n",
    "$$\n",
    "\\large \\text{minimize } S=\\pi r^2 + \\frac{2000}{r}.\n",
    "$$\n",
    "\n",
    "The only \"obvious\" constraint now is that $r>0$ (the circular base has to have a positive radius). Otherwise, all positive values of $r$ are now \"fair game\" in the optimal design of the container. \n",
    "\n",
    "Once $r$ is determined, we can use $\\large h=\\frac{1000}{\\pi r^2}$ to determine $h$.\n",
    "\n",
    "**<span style='background:rgba(255,0,255, 0.25); color:black'>To two decimal places (assuming that our machines can only be set to tolerances of $.01$ cm), the value of $r$ that minimizes the surface area is $6.83$ cm.</span>**\n",
    "We use what we have learned in the 04-Lecture-part-a notebook as well as previous notebooks to approximate this answer.\n",
    "\n",
    "---"
   ]
  },
  {
   "cell_type": "markdown",
   "metadata": {},
   "source": [
    "### Problem 1(a): Developing intuition about this problem\n",
    "---\n",
    "\n",
    "It is always good to build some intuition about a problem. We do that here.\n",
    "\n",
    "<span style='background:rgba(255,255,0, 0.25); color:black'> Add a docstring, doctest, and comments to the function `surfArea` shown in the code cell below to explain this function. Make sure to demonstrate that your doctest passes!</span>"
   ]
  },
  {
   "cell_type": "code",
   "execution_count": null,
   "metadata": {},
   "outputs": [],
   "source": [
    "# Add comments to this\n",
    "def surfArea(r):\n",
    "    \n",
    "    if np.any(r <= 0):\n",
    "        raise ValueError('The circular base requires r>0')\n",
    "    \n",
    "    S = np.pi*r**2 + 2000/r \n",
    "    \n",
    "    return S"
   ]
  },
  {
   "cell_type": "markdown",
   "metadata": {},
   "source": [
    "<span style='background:rgba(255,255,0, 0.25); color:black'> Add code comments to **all** of the code cells below to explain what is going on and use Markdown cells to contextualize the results.</span>"
   ]
  },
  {
   "cell_type": "code",
   "execution_count": null,
   "metadata": {},
   "outputs": [],
   "source": [
    "r = np.linspace(0, 40, 100)\n",
    "\n",
    "plt.figure(figsize=(7,7))\n",
    "plt.plot(r[1:],surfArea(r[1:]))\n",
    "plt.title('Surf. Area of 1 L container vs. base radius', fontsize=16)\n",
    "plt.ylabel('Surf. Area [cm$^2$]', fontsize=14)\n",
    "plt.xlabel('Radius [cm] of base', fontsize=14)"
   ]
  },
  {
   "cell_type": "code",
   "execution_count": null,
   "metadata": {},
   "outputs": [],
   "source": [
    "import differences as diff"
   ]
  },
  {
   "cell_type": "code",
   "execution_count": null,
   "metadata": {},
   "outputs": [],
   "source": [
    "fig, ax1 = plt.subplots(figsize=(8,8))\n",
    "\n",
    "ax1.set_xlabel('Radius [cm] of base', fontsize=14)\n",
    "ax1.set_ylabel('Surf. Area [cm$^2$]', color='b', fontsize=14)\n",
    "\n",
    "ax1.plot(r[1:],surfArea(r[1:]), color='b')\n",
    "ax1.tick_params(axis='y', labelcolor='b')\n",
    "\n",
    "# instantiate a second axes that shares the same x-axis\n",
    "ax2 = ax1.twinx()  \n",
    "\n",
    "# we already handled the x-label with ax1 so we should just label the new y-axis\n",
    "ax2.set_ylabel('Finite diff. approx. of $dS/dr$', color='r', fontsize=14) \n",
    "\n",
    "ax2.plot(r[1:],diff.cent_diff(surfArea,r[1:], h=0.01), color='r')\n",
    "ax2.tick_params(axis='y', labelcolor='r')\n",
    "\n",
    "ax2.axhline(0, linewidth=1, linestyle=':', c='k') #plot typical x-axis\n",
    "ax2.axvline(6.83, linewidth=1, linestyle=':', c='k') "
   ]
  },
  {
   "cell_type": "markdown",
   "metadata": {},
   "source": [
    "<span style='background:rgba(255,255,0, 0.25); color:black'>  Your interpretation of what is shown in the above plot goes here. </span>"
   ]
  },
  {
   "cell_type": "markdown",
   "metadata": {},
   "source": [
    "### Problem 1(b): Approximating the optimal radius through brute force\n",
    "---\n",
    "\n",
    "Since $r>0$, we may be tempted to search for an optimal $r$ in the interval $(0,40]$ (units in cm). \n",
    "\n",
    "<span style='background:rgba(255,0,255, 0.25); color:black'>**Note that a value of $r=0$ is meaningless, which is why we consider values of $r$ in the half-open interval $(0,40]$. Pay attention in the code cells below to see how we avoid using $r=0$.**</span>\n",
    "\n",
    "We could do this in a brute-force fashion as shown below that avoids any approximation of the derivative.\n",
    "\n",
    "<span style='background:rgba(255,255,0, 0.25); color:black'> Add comments to each of the code cells below and interpret the results in the Markdown cell provided below.</span>"
   ]
  },
  {
   "cell_type": "code",
   "execution_count": null,
   "metadata": {},
   "outputs": [],
   "source": [
    "r_search = np.linspace(0,40,100)\n",
    "\n",
    "S_search = surfArea(r_search[1:])"
   ]
  },
  {
   "cell_type": "code",
   "execution_count": null,
   "metadata": {},
   "outputs": [],
   "source": [
    "idx_min = np.argmin(S_search)\n",
    "\n",
    "print(np.around(r_search[idx_min+1],2))"
   ]
  },
  {
   "cell_type": "code",
   "execution_count": null,
   "metadata": {},
   "outputs": [],
   "source": [
    "r_refined_search = np.linspace(0,40,1000)\n",
    "\n",
    "S_refined_search = surfArea(r_refined_search[1:])"
   ]
  },
  {
   "cell_type": "code",
   "execution_count": null,
   "metadata": {},
   "outputs": [],
   "source": [
    "idx_refined_min = np.argmin(S_refined_search)\n",
    "\n",
    "print(np.around(r_refined_search[idx_refined_min+1],2))"
   ]
  },
  {
   "cell_type": "code",
   "execution_count": null,
   "metadata": {},
   "outputs": [],
   "source": [
    "r_super_refined_search = np.linspace(0,40,10000)\n",
    "\n",
    "S_super_refined_search = surfArea(r_super_refined_search[1:])"
   ]
  },
  {
   "cell_type": "code",
   "execution_count": null,
   "metadata": {},
   "outputs": [],
   "source": [
    "idx_super_refined_min = np.argmin(S_super_refined_search)\n",
    "\n",
    "print(np.around(r_super_refined_search[idx_super_refined_min+1],2))"
   ]
  },
  {
   "cell_type": "markdown",
   "metadata": {},
   "source": [
    "<span style='background:rgba(255,255,0, 0.25); color:black'>Your interpretations of the above code and results goes here.</span>"
   ]
  },
  {
   "cell_type": "markdown",
   "metadata": {},
   "source": [
    "### Problem 1(c): A bracketing approach\n",
    "---\n",
    "\n",
    "The brute-force approach is not elegant, but it does \"get the job done.\"\n",
    "\n",
    "Can it always get the job done?\n",
    "\n",
    "While this function $S$ is not \"expensive\" to compute (i.e., it does not take a lot of time for the computer to evaluate $S$), there are many functions in practice that are *very* expensive to compute in terms of the amount of time/resources required to evaluate them.\n",
    "\n",
    "For example, in reservoir engineering, simulating optimal net present value (NPV) of a new project is critical in management decisions about whether a project is worth pursuing or not. Simulations of subsurface flow often involve complex partial differential equations discretized over large physical domains that may require a supercomputer to solve.\n",
    "Subsequently, it may not be feasible to compute more than a few simulations. \n",
    "In other words, the brute-force option shown above is not only inelegant, it is also *impractical* in many settings. \n",
    "\n",
    "<span style='background:rgba(255,0,255, 0.25); color:black'>Below, we implement a version of the algorithm for the bisection method from the 04-Lecture-part-a notebook to approximate the $r$ that makes the centered-difference approximation of $dS/dr=0$ (use $h=0.001$ when calling this finite-difference function). \n",
    "We use an interval of $(1,40]$ and a tolerance (for the interval length) of $0.005$ in the algorithm to ensure that the estimated optimal radius is within the 0.01 cm achievable tolerance. The version of the bisection algorithm used here also outputs the actual number of iterations used to achieve the desired tolerance</span>\n",
    "\n",
    "<span style='background:rgba(255,255,0, 0.25); color:black'>Use the Markdown cell provided below to comment on the number of times $S$ must be evaluated to achieve the desired tolerance in the algorithm and how this compares to the brute-force approach.</span>"
   ]
  },
  {
   "cell_type": "code",
   "execution_count": null,
   "metadata": {},
   "outputs": [],
   "source": [
    "# First, we approximate the derivative dS/dr using the differences module\n",
    "dS_dr_cd_approx = lambda r: diff.cent_diff(surfArea, r, h=0.001)"
   ]
  },
  {
   "cell_type": "code",
   "execution_count": null,
   "metadata": {},
   "outputs": [],
   "source": [
    "# This is just copied over from the lecture notebook\n",
    "def compute_bisection(f, a, b, n=10, tol_interval=1e-5, tol_f=1e-8):\n",
    "    '''\n",
    "    This simple function applies up to n iterations of the \n",
    "    bisection algorithm\n",
    "    '''\n",
    "    \n",
    "    # Let us first check the conditions to apply the bisection\n",
    "    # algorithm are satisfied\n",
    "    if a >= b:\n",
    "        raise ValueError('The bisec. alg. requires a<b')\n",
    "    if f(a)*f(b) > 0:\n",
    "        raise ValueError('The bisec. alg. requires f(a) and f(b)' +\\\n",
    "                         'are different signs')\n",
    "        \n",
    "    # Now, perform the bisection algorithm\n",
    "    current_iter = 0\n",
    "    while current_iter < n:\n",
    "        current_iter += 1\n",
    "        \n",
    "        # bisect the interval [a,b], i.e., compute mid-point\n",
    "        c = (b+a)/2 \n",
    "        \n",
    "        # Check if c is an (approx.) root\n",
    "        if np.abs(f(c)) < tol_f:\n",
    "            break\n",
    "        \n",
    "        # Determine if a or b should be replaced with c\n",
    "        if f(a)*f(c) < 0:\n",
    "            b = c\n",
    "        else:\n",
    "            a = c\n",
    "            \n",
    "        # Check if dividing [a,b] in half made the interval \n",
    "        # too small to continue\n",
    "        if (b-a) < tol_interval:\n",
    "            break\n",
    "        \n",
    "    return (a, b, c, current_iter) # Returns a tuple"
   ]
  },
  {
   "cell_type": "code",
   "execution_count": null,
   "metadata": {},
   "outputs": [],
   "source": [
    "a , b, approx_optimal_radius, num_iters = compute_bisection(f=dS_dr_cd_approx, a=1, b=40, n=200, tol_interval=0.005)"
   ]
  },
  {
   "cell_type": "code",
   "execution_count": null,
   "metadata": {},
   "outputs": [],
   "source": [
    "print(approx_optimal_radius)"
   ]
  },
  {
   "cell_type": "code",
   "execution_count": null,
   "metadata": {},
   "outputs": [],
   "source": [
    "print(a, b)"
   ]
  },
  {
   "cell_type": "code",
   "execution_count": null,
   "metadata": {},
   "outputs": [],
   "source": [
    "print(num_iters)"
   ]
  },
  {
   "cell_type": "markdown",
   "metadata": {},
   "source": [
    "<span style='background:rgba(255,255,0, 0.25); color:black'> Your comments/comparisons for Problem 2(c) go here.</span>"
   ]
  },
  {
   "cell_type": "markdown",
   "metadata": {},
   "source": [
    "### Problem 1(d): Secant method\n",
    "---\n",
    "\n",
    "<span style='background:rgba(255,0,255, 0.25); color:black'>Below, we implement a version of `secant_method_4_demo` from the 04-Lecture-part-a notebook that ***also checks if the magnitude of the difference between successive estimates is below a tolerance*** to approximate the $r$ that makes the centered-difference approximation of $dS/dr=0$ (defined in the code for problem 2(c) above using $h=0.001$ when calling this finite-difference function). </span>\n",
    "\n",
    "To initialize this algorithm, we use initial guesses of\n",
    "- 1 and 1.1\n",
    "- 5 and 5.1\n",
    "- 10 and 10.1\n",
    "- 20 and 20.1\n",
    "- 30 and 30.1\n",
    "    \n",
    "We set a maximum number of iterations of $100$ and set the tolerance for successive estimates to be $0.005$ (i.e., the algorithm stops once successive estimates are within 0.005 of each other which ensures that the approximated optimal radius is not being updated more than the achievable machine tolerance). \n",
    "\n",
    "<span style='background:rgba(255,255,0, 0.25); color:black'>Use the Markdown cell provided below to comment on the number of times $S$ must be evaluated to achieve the desired tolerance for each different set of initial guesses and compare this to the brute-force and bisection approaches above.</span>"
   ]
  },
  {
   "cell_type": "code",
   "execution_count": null,
   "metadata": {},
   "outputs": [],
   "source": [
    "#Copied and edited from the wiki article for demo purposes\n",
    "def secant_method_4_demo(f, x0, x1, n, tol):\n",
    "    \"\"\"Return the root calculated using the secant method.\"\"\"\n",
    "    xs = [x0, x1]\n",
    "    fs = [f(x0), f(x1)]\n",
    "    for i in range(n):\n",
    "        if np.abs(x1-x0) < tol:\n",
    "            break\n",
    "        x2 = x1 - f(x1) * (x1 - x0) / float(f(x1) - f(x0))\n",
    "        x0, x1 = x1, x2\n",
    "        xs.append(x2)\n",
    "        fs.append(f(x2))\n",
    "    return xs, fs, i"
   ]
  },
  {
   "cell_type": "code",
   "execution_count": null,
   "metadata": {},
   "outputs": [],
   "source": [
    "xs, _, i = secant_method_4_demo(dS_dr_cd_approx, 1, 1.1, 100, tol=0.005)\n",
    "print(xs[-1]) # This is the approximate optimal radius\n",
    "print(i) # This is the number of iterations required to get that estimate"
   ]
  },
  {
   "cell_type": "code",
   "execution_count": null,
   "metadata": {},
   "outputs": [],
   "source": [
    "xs, _, i = secant_method_4_demo(dS_dr_cd_approx, 5, 5.1, 100, tol=0.005)\n",
    "print(xs[-1]) # This is the approximate optimal radius\n",
    "print(i) # This is the number of iterations required to get that estimate"
   ]
  },
  {
   "cell_type": "code",
   "execution_count": null,
   "metadata": {},
   "outputs": [],
   "source": [
    "xs, _, i = secant_method_4_demo(dS_dr_cd_approx, 10, 11.1, 100, tol=0.005)\n",
    "print(xs[-1]) # This is the approximate optimal radius\n",
    "print(i) # This is the number of iterations required to get that estimate"
   ]
  },
  {
   "cell_type": "code",
   "execution_count": null,
   "metadata": {},
   "outputs": [],
   "source": [
    "xs, _, i = secant_method_4_demo(dS_dr_cd_approx, 20, 20.1, 100, tol=0.005)\n",
    "print(xs[-1]) # This is the approximate optimal radius\n",
    "print(i) # This is the number of iterations required to get that estimate"
   ]
  },
  {
   "cell_type": "code",
   "execution_count": null,
   "metadata": {},
   "outputs": [],
   "source": [
    "xs, _, i = secant_method_4_demo(dS_dr_cd_approx, 30, 30.1, 100, tol=0.005)\n",
    "print(xs[-1]) # This is the approximate optimal radius\n",
    "print(i) # This is the number of iterations required to get that estimate"
   ]
  },
  {
   "cell_type": "markdown",
   "metadata": {},
   "source": [
    "<span style='background:rgba(255,255,0, 0.25); color:black'> Your comments/comparisons for Problem 2(d) go here.</span>"
   ]
  },
  {
   "cell_type": "markdown",
   "metadata": {},
   "source": [
    "## Problem 2: We forgot the lid! How did we forget the lid?!\n",
    "---\n",
    "\n",
    "So, yeah, we kind of forget to account for the cost of the lid in the container. Oops!\n",
    "\n",
    "Suppose that the cost of the materials for making the glass part of the container is given as $\\$.001$/cm$^2$. In other words, it costs one-tenth of one penny per square centimeter of glass needed. \n",
    "\n",
    "Suppose the cost of the materials for making an aluminum lid is given in terms of $\\$.002$/cm$^2$, in other words, it costs two-tenths of one penny per square centimeter of aluminum needed.\n",
    "\n",
    "The *total cost* (in USD) to produce a single 1 L container (with lid) is given by\n",
    "$$\n",
    "   \\large C = 0.001\\left(\\pi r^2 + \\frac{2000}{r}\\right) + 0.002 \\pi r^2.\n",
    "$$\n",
    "\n",
    "This is produced in the function `totalCost` below. \n",
    "\n",
    "<span style='background:rgba(255,255,0, 0.25); color:black'>You need to redo the analysis, but it is a lot of copy/paste!</span>\n",
    "- Use code and Markdown cells below to repeat parts (a)-(d) of problem 2 with `totalCost` replacing the `surfArea` function.\n",
    "<br>\n",
    "- Compare the optimal dimensions (both $r$ and $h$) for this problem and problem 2. \n",
    "\n",
    "  A quick online search will reveal that a typical 24 oz pasta jar (equivalent to about 0.7 L) has a height of about 6.61 inches with a base diameter of about 3.37 inches. \n",
    "  Recall that a diameter is just two times the radius.\n",
    "  \n",
    "  Which of these problems is producing results that look more like a typical pasta jar in terms of the ratio of height to diameter?"
   ]
  },
  {
   "cell_type": "code",
   "execution_count": null,
   "metadata": {},
   "outputs": [],
   "source": [
    "# Add comments to this, a docstring, and a doctest\n",
    "def totalCost(r):\n",
    "    \n",
    "    if np.any(r <= 0):\n",
    "        raise ValueError('The circular base requires r>0')\n",
    "    \n",
    "    cost_of_glass = 0.001*surfArea(r)\n",
    "    cost_of_lid = 0.002*np.pi*r**2\n",
    "    \n",
    "    return cost_of_glass + cost_of_lid"
   ]
  },
  {
   "cell_type": "code",
   "execution_count": null,
   "metadata": {},
   "outputs": [],
   "source": []
  },
  {
   "cell_type": "code",
   "execution_count": null,
   "metadata": {},
   "outputs": [],
   "source": []
  },
  {
   "cell_type": "markdown",
   "metadata": {},
   "source": [
    "## Problem 3: Exploring built-in optimization routines in `scipy`\n",
    "---\n",
    "\n",
    "The `scipy` library has an `optimization` sublibrary that you can import and play with.\n",
    "\n",
    "A thorough tutorial is here: https://docs.scipy.org/doc/scipy/reference/tutorial/optimize.html\n",
    "\n",
    "But the best initial reference may just be the documentation: https://docs.scipy.org/doc/scipy/reference/optimize.html\n",
    "\n",
    "Below, I get you started on a useful function in this sublibrary. \n",
    "\n",
    "Read up on the documentation for this. Play around. See if you can figure out how to choose which algorithm to use and how you can force this or other built-in optimization functions to use certain algorithms. \n",
    "\n",
    "<span style='background:rgba(255,255,0, 0.25); color:black'>This is open ended. Comment, experiment, and explore. How deep you get into it is up to you. But, **you need to explore at least**:</span>\n",
    "    \n",
    "- three different functions/routines within this sublibrary, \n",
    "<br><br>\n",
    "- apply these routines to either `surfArea`, `totalCost`, or their derivative approximations (as appropriate), and\n",
    "<br><br>\n",
    "- discuss your results in a Markdown cell."
   ]
  },
  {
   "cell_type": "code",
   "execution_count": null,
   "metadata": {},
   "outputs": [],
   "source": [
    "import scipy.optimize as opt"
   ]
  },
  {
   "cell_type": "code",
   "execution_count": null,
   "metadata": {},
   "outputs": [],
   "source": [
    "# Add comments to this and explain the outputs\n",
    "opt.minimize(surfArea, x0=1)"
   ]
  },
  {
   "cell_type": "code",
   "execution_count": null,
   "metadata": {},
   "outputs": [],
   "source": [
    "# Add comments to this and explain the outputs\n",
    "opt.minimize(totalCost, x0=1)"
   ]
  },
  {
   "cell_type": "code",
   "execution_count": null,
   "metadata": {},
   "outputs": [],
   "source": []
  },
  {
   "cell_type": "code",
   "execution_count": null,
   "metadata": {},
   "outputs": [],
   "source": []
  },
  {
   "cell_type": "code",
   "execution_count": null,
   "metadata": {},
   "outputs": [],
   "source": []
  },
  {
   "cell_type": "markdown",
   "metadata": {},
   "source": []
  },
  {
   "cell_type": "markdown",
   "metadata": {},
   "source": [
    "## A quick, but useful, introduction to differentiating functions defined in terms of integrals\n",
    "---"
   ]
  },
  {
   "cell_type": "markdown",
   "metadata": {},
   "source": [
    "<span style='background:rgba(255,255,0, 0.25); color:black'> Run the code cell below and click the \"play\" button to see the first recorded lecture associated with this notebook.</span>"
   ]
  },
  {
   "cell_type": "code",
   "execution_count": null,
   "metadata": {},
   "outputs": [],
   "source": [
    "# 1. Running this cell with embed the short recorded lecture associated with this part of the notebook\n",
    "# 2. Press on the \"play\" button to start the video.\n",
    "\n",
    "from IPython.display import YouTubeVideo\n",
    "\n",
    "YouTubeVideo('N9q5dhmMsXM', width=800, height=450)"
   ]
  },
  {
   "cell_type": "markdown",
   "metadata": {},
   "source": [
    "Before we get to our last problem of this assignment, we show how to (1) integrate a parameterized function using the `quad` function (also shown in the lecture notebook), and (2) differentiate the result with respect to its parameters. This will greatly simplify the last problem of this assignment, and is also an important thing to understand in general. \n",
    "\n",
    "This content is borrowed and edited from the official documentation found here: https://docs.scipy.org/doc/scipy/reference/tutorial/integrate.html"
   ]
  },
  {
   "cell_type": "code",
   "execution_count": null,
   "metadata": {},
   "outputs": [],
   "source": [
    "from scipy.integrate import quad"
   ]
  },
  {
   "cell_type": "code",
   "execution_count": null,
   "metadata": {},
   "outputs": [],
   "source": [
    "# Consider a family of parameterized exponentials\n",
    "def f(x, ell):\n",
    "    return np.exp(x*ell)*(x-2)**3\n",
    "\n",
    "# Suppose we want to know what the various integrals are of this function \n",
    "# on the interval [-1,1] as a function of various ell values, then\n",
    "# we use the quad function as follows\n",
    "I = lambda ell: quad(f, -1, 1, args=(ell))[0]"
   ]
  },
  {
   "cell_type": "code",
   "execution_count": null,
   "metadata": {},
   "outputs": [],
   "source": [
    "# Let's plot the function I as a function of ell\n",
    "plt.figure()\n",
    "num_ells = 100\n",
    "ells = np.linspace(0.1, 2, num_ells)\n",
    "Is = np.zeros(num_ells)\n",
    "for i in range(num_ells):\n",
    "    Is[i] = I(ells[i])\n",
    "plt.plot(ells, Is)"
   ]
  },
  {
   "cell_type": "code",
   "execution_count": null,
   "metadata": {},
   "outputs": [],
   "source": [
    "# Estimate the derivative\n",
    "dI_dell = lambda ell: diff.cent_diff(I, ell, h=0.001)"
   ]
  },
  {
   "cell_type": "code",
   "execution_count": null,
   "metadata": {},
   "outputs": [],
   "source": [
    "# Let's plot the function with its derivative\n",
    "fig, ax1 = plt.subplots(figsize=(8,8))\n",
    "\n",
    "ax1.plot(ells, Is, color='b')\n",
    "ax1.set_ylabel('$I(\\ell)$', color='b', fontsize=14)\n",
    "ax1.tick_params(axis='y', labelcolor='b')\n",
    "\n",
    "# instantiate a second axes that shares the same x-axis\n",
    "ax2 = ax1.twinx()  \n",
    "\n",
    "# we already handled the x-label with ax1 so we should just label the new y-axis\n",
    "ax2.set_ylabel(r'Finite diff. approx. of $\\frac{dI}{d\\ell}$', color='r', fontsize=14) \n",
    "\n",
    "dI_dells = np.zeros(num_ells)\n",
    "for i in range(num_ells):\n",
    "    dI_dells[i] = dI_dell(ells[i])\n",
    "\n",
    "ax2.plot(ells, dI_dells, color='r')\n",
    "ax2.tick_params(axis='y', labelcolor='r')\n",
    "ax2.axhline(0, linewidth=1, linestyle=':', c='k')  # plot typical x-axis"
   ]
  },
  {
   "cell_type": "markdown",
   "metadata": {},
   "source": [
    "**From the above plot, we see that we can optimize $I(\\ell)$ as a function of $\\ell$ just like we have optimized other functions by simply searching for where its derivative is approximately equal to zero.**\n",
    "\n",
    "<span style='background:rgba(255,0,255, 0.25); color:black'> ***A suggested sanity check for you before attempting problem 5:*** <span>\n",
    "- Apply the various root-finding algorithms (e.g., brute-force, bisection, etc.) you have seen to estimate the $\\ell$ value that makes $\\frac{dI}{d\\ell}$ equal to zero and plot the results to see that this is where $I(\\ell)$ achieves its maximum."
   ]
  },
  {
   "cell_type": "markdown",
   "metadata": {},
   "source": [
    "## Problem 4: Optimize your profit!\n",
    "---\n",
    "\n",
    "<span style='background:rgba(255,0,255, 0.25); color:black'> ***Some motivation:*** <span>\n",
    "\n",
    "Recall that you are the world's best pasta sauce maker and that you have optimized dimensions for your 1 L sized jars of sauce to minimize your cost per jar. \n",
    "You still need to create these jars, hire and train the workers that package these jars, and invest in the equipment, warehouse space, and delivery fleet for your business.\n",
    "Oh, and you need to hire salespersons, pay for marketing, etc.\n",
    "\n",
    "It is not only a lot of work building and running a business; it is also expensive!\n",
    "Unless you inherited millions of dollars, you probably need to get a loan to help finance your dream of dominating the competitive world of pasta sauce making.\n",
    "\n",
    "***What size loan should you get?***\n",
    "\n",
    "It may seem like you should just get the largest loan you possibly can.\n",
    "After all, a larger loan will allow you to rent a larger warehouse, purchase more equipment and materials to manufacture the jars and sauce, and hire and train more workers. \n",
    "While this sounds great, building a business takes time.\n",
    "The longer it takes to setup your business will mean you are spending a lot of money before you are making significant money. \n",
    "Subsequently, you may not start to turn a profit for a longer period of time.\n",
    "Moreover, larger loans will often come with bigger interest rates and significantly larger quarterly payments on the loan.\n",
    "In the end, you may run out of money if you try to make everything too big initially!\n",
    "What happens then?\n",
    "Well, your lenders may take over your business and sell it to someone else who becomes the owner of your intellectual property (i.e., your special pasta sauce recipe), and maybe even come after your personal assets if you put them up as collateral!\n",
    "\n",
    "In the end, getting the right loan amount and following a strategic plan based on a certain amount of the loan is perhaps not as straightforward a problem as it may seem.\n",
    "\n",
    "<span style='background:rgba(255,0,255, 0.25); color:black'> ***Defining the problem:*** <span>\n",
    "\n",
    "- You are qualified for loan amounts between $[\\$500,000, \\$1,000,000]$ (i.e., between half a million to a million USD).\n",
    "\n",
    "    - Let $\\ell$ denote the loan amount in units of a million USD, so $\\ell\\in[0.5,1]$.\n",
    "\n",
    "    \n",
    "- Let $M(t;\\ell)$  (in units of a million USD) denote a model for your projected net cash flow at time $t$ (in units of days) if you follow a business development plan based on a loan of size $\\ell$. Assume the model is only valid for 90 days (the first fiscal quarter of your business). \n",
    "\n",
    "    - If $M(t;\\ell)>0$, then you are making money at time $t$.\n",
    "\n",
    "    - If $M(t;\\ell)<0$, then you are losing money at time $t$.\n",
    "\n",
    "\n",
    "- The total amount of money you have made or lost over the first 90 days is\n",
    "$$\n",
    " \\large    T(\\ell) = \\int_{[0,90]} M(t;\\ell),\n",
    "$$\n",
    "which is a function of the loan size. \n",
    "\n",
    "***The problem is to optimize $T(\\ell)$ over $[0.5,1]$.***\n",
    "\n",
    "<span style='background:rgba(255,255,0, 0.25); color:black'> Your job is to do the following:</span>\n",
    "- Use the function `money` that computes $M(t;\\ell)$ in the code cell below to determine what the optimal loan size should be.\n",
    "\n",
    "  *Note:* You are given $M(t;\\ell)$. You still need to compute $T(\\ell)$ and optimize it over $[0.5,1]$.\n",
    " \n",
    "- Make sure to put comments in your code, provide useful annotated graphs/illustrations of results, and interpret results in Markdown cells.</span>"
   ]
  },
  {
   "cell_type": "code",
   "execution_count": null,
   "metadata": {},
   "outputs": [],
   "source": [
    "# This is the function $M(t;\\ell)$\n",
    "def money(t, ell):\n",
    "    \n",
    "    M = (np.exp(ell*t**2/(30*(t+1))) - 0.25*ell**3*t) * np.sin(t*np.pi/(ell*t+1))*ell\n",
    "    \n",
    "    return M"
   ]
  },
  {
   "cell_type": "code",
   "execution_count": null,
   "metadata": {},
   "outputs": [],
   "source": []
  },
  {
   "cell_type": "code",
   "execution_count": null,
   "metadata": {},
   "outputs": [],
   "source": []
  },
  {
   "cell_type": "code",
   "execution_count": null,
   "metadata": {},
   "outputs": [],
   "source": []
  }
 ],
 "metadata": {
  "kernelspec": {
   "display_name": "Python 3",
   "language": "python",
   "name": "python3"
  },
  "language_info": {
   "codemirror_mode": {
    "name": "ipython",
    "version": 3
   },
   "file_extension": ".py",
   "mimetype": "text/x-python",
   "name": "python",
   "nbconvert_exporter": "python",
   "pygments_lexer": "ipython3",
   "version": "3.9.2"
  }
 },
 "nbformat": 4,
 "nbformat_minor": 4
}
