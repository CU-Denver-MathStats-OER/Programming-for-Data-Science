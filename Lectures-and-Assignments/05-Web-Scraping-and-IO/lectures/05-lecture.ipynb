{
 "cells": [
  {
   "cell_type": "markdown",
   "metadata": {},
   "source": [
    "# Math  1376: Programming for Data Science\n",
    "---"
   ]
  },
  {
   "cell_type": "code",
   "execution_count": null,
   "metadata": {},
   "outputs": [],
   "source": [
    "import numpy as np #We will use numpy in this lecture\n",
    "import matplotlib.pyplot as plt\n",
    "%matplotlib inline"
   ]
  },
  {
   "cell_type": "markdown",
   "metadata": {},
   "source": [
    "## Module 05: Datasets, web scraping, and reading/writing files\n",
    "---\n",
    "\n",
    "Before we fully transition into the more \"data science-y\" part of the course, we describe some basic concepts for obtaining data to analyze in the Python environment."
   ]
  },
  {
   "cell_type": "markdown",
   "metadata": {},
   "source": [
    "<span style='background:rgba(255,255,0, 0.25); color:black'> Run the code cell below and click the \"play\" button to see the first recorded lecture associated with this notebook.</span>"
   ]
  },
  {
   "cell_type": "code",
   "execution_count": null,
   "metadata": {},
   "outputs": [],
   "source": [
    "# 1. Running this cell with embed the short recorded lecture associated with this part of the notebook\n",
    "# 2. Press on the \"play\" button to start the video.\n",
    "\n",
    "from IPython.display import YouTubeVideo\n",
    "\n",
    "YouTubeVideo('fZR9gTbaVSA', width=800, height=450)"
   ]
  },
  {
   "cell_type": "markdown",
   "metadata": {},
   "source": [
    "## The big picture\n",
    "---\n",
    "\n",
    "### A high-level overview of web scraping\n",
    "---\n",
    "\n",
    "To discuss [web scraping](https://en.wikipedia.org/wiki/Web_scraping), we first provide an analogy and then some useful terminology.\n",
    "\n",
    "<span style='background:rgba(255,0,255, 0.25); color:black'> ***An analogy:*** <span>\n",
    "\n",
    "- You have probably acted as a *human web scraper* at some point by using copy/paste. \n",
    "\n",
    "  For instance, suppose you wanted to complain about the Broncos roster construction to a friend. You may go to their [roster web page](http://www.denverbroncos.com/team/roster.html) and copy the roster data from it before pasting it in an email. \n",
    "\n",
    "  The basic idea of a web scraper is to automate this otherwise mundane human process.\n",
    "  \n",
    "  For instance, while a single copy/paste of roster data into a single email may not seem that annoying. Imagine that you wanted to put the contents of various rosters into multiple emails because you are managing an email list for a sports website. You are going to get really annoyed very quickly with having to constantly check for updates on the rosters across all NFL teams.\n",
    "  \n",
    "  However, there are some issues with this. \n",
    "  \n",
    "  As a human, you can use your judgment as to what data are relevant on a given web page no matter the format. In other words, even if we are unsure of how the data will appear that we are looking for, we *know it when we see it*. This is a uniquely human trait that an automated web scraper does not possess. \n",
    "\n",
    "<span style='background:rgba(255,0,255, 0.25); color:black'> ***Terminology:*** <span>\n",
    "\n",
    "- *Fetching* refers to the downloading of a web page. In the analogy, this is like copying the entire web page. This is what your browser (e.g., Chrome, Firefox, Safari, etc.) does when you view the page, which is why you can still view the contents of a web page even if your lose your connection to the internet. \n",
    "\n",
    "- *Scraping* refers to the extraction of data from the downloaded contents of a web page. In the analogy, this is determining what part of the copied web page data to paste. \n",
    "\n",
    "\n",
    "<span style='background:rgba(255,0,255, 0.25); color:black'> ***The computers are only as smart as we are:*** <span>\n",
    "\n",
    "- When we look at a web page, we only see what I would call *relevant* information on a web page. \n",
    "\n",
    "  A web scraper will load in all the data of a web page as raw html code through a fetch command, which will include *metadata* describing how things are supposed to look on the web page as well as any other \"behind the scenes\" information. \n",
    "  \n",
    "  This generally means that in order to construct a useful web scraper, we (meaning us as human beings) have to understand something about the html structure of websites and how the data we wish to analyze from these websites is presented. \n",
    "  \n",
    "  This allows us to *scrape* only the data we want from this mess of html data. \n",
    "  \n",
    "  Consequently, web scrapers are usually built to explore web pages belonging to a single website. \n",
    "\n",
    "- For instance, we may create a web scraper to optimally collect statistics on various NBA players available from the website https://www.espn.com/nba/ where each individual athlete has a separate \"profile\" web page within this website (e.g., see [Jimmy Butler](https://www.espn.com/nba/player/_/id/6430/jimmy-butler)). The way in which the data is structured and potentially scaffolded across multiple sub-pages can vary significantly from how other websites may present the data (e.g., see [Jimmy Butler](https://www.nba.com/players/jimmy/butler/202710) on https://www.nba.com/). \n",
    "\n",
    "<span style='background:rgba(255,0,255, 0.25); color:black'> ***Ethics:*** <span>\n",
    "\n",
    "Web scraping also comes with some important legal and ethical concerns. If you think of a web scraper as a *bot*, then once this *bot* is tuned to a website and turned loose, it can clearly gather data much faster than even an army of human users possibly could. Subsequently, if you use the *bot* too aggressively (i.e., you *spam* the website with lots of requests for data), you may break the website. Moreover, the legality of web scraping is also murky. You should check the *Terms and Conditions* of a website before you scrape it. Find and read the statements about the legal use of data, which usually allow you to scrape data as long as it is not for commercial purposes. Some websites have a robots.txt file that may explicitly say whether or not they allow web scrapers.\n",
    "\n",
    "### A high-level overview of reading/writing data files\n",
    "---\n",
    "\n",
    "Suppose your institution already possesses the data you need to analyze in a file with a *typical format* that is understood by common data analysis programs (such as Excel or SQL). In this case, you do not need to go searching through web sites, but you do need to know how to *read* the data from the file in order to analyze it. Your analysis may need to be added to this existing file or put in a new file to be used by others. In these cases,  you need to know how to *write* data to a file in the correct format. You may even find yourself reading in data from a file, adding in new data from web scraping, and then saving that data along with any analysis of that data to an altogether new file. \n",
    "\n",
    "The basic process of reading/writing to files falls under the methods referred to as the [I/O (input/output)](https://docs.python.org/3/tutorial/inputoutput.html). "
   ]
  },
  {
   "cell_type": "markdown",
   "metadata": {},
   "source": [
    "## Learning Objectives\n",
    "---\n",
    "\n",
    "- Create code to scrape data directly from websites using pandas.\n",
    "\n",
    "- Understand what a DataFrame is and how to manipulate it.\n",
    "\n",
    "- Be able to create/read/write data files in different formats."
   ]
  },
  {
   "cell_type": "markdown",
   "metadata": {},
   "source": [
    "## Notebook contents <a id='Contents'>\n",
    "\n",
    "* <a href='#read_html'>Part (a): `read_html` and some `pandas` practice</a>\n",
    "\n",
    "    * <a href='#activity-nuggets'>Activity: Go Nuggets Go!</a>\n",
    "        \n",
    "    * <a href='#activity-Jokic'>Activity: Nothing is as consistent as Jokic! Not even his statistics...</a>\n",
    "\n",
    "* <a href='#I/O'>Part (b): Reading/writing data to files</a>\n",
    "    \n",
    "* <a href='#activity-summary'>Activity: Summary</a>"
   ]
  },
  {
   "cell_type": "markdown",
   "metadata": {},
   "source": [
    "## Part (a): `read_html` and some `pandas` practice <a id='read_html'>\n",
    "---\n",
    "    \n",
    "**Expected time to completion: 6-9 hours**    "
   ]
  },
  {
   "cell_type": "markdown",
   "metadata": {},
   "source": [
    "<span style='background:rgba(255,255,0, 0.25); color:black'> Run the code cell below and click the \"play\" button to see the first recorded lecture associated with this notebook.</span>"
   ]
  },
  {
   "cell_type": "code",
   "execution_count": null,
   "metadata": {},
   "outputs": [],
   "source": [
    "# 1. Running this cell with embed the short recorded lecture associated with this part of the notebook\n",
    "# 2. Press on the \"play\" button to start the video.\n",
    "\n",
    "from IPython.display import YouTubeVideo\n",
    "\n",
    "YouTubeVideo('Z4WEbV4nk6c', width=800, height=450)"
   ]
  },
  {
   "cell_type": "markdown",
   "metadata": {},
   "source": [
    "### Some available web scraping tools and our focus\n",
    "---\n",
    "\n",
    "While there are many ways to perform web scraping and reading/writing data to files, we will focus on just a few to get you started while commenting on some of the other options that we do not have time to explore in detail. \n",
    "\n",
    "We first discuss web scraping tools and later discuss options for reading/writing data to files. \n",
    "\n",
    "- [Beautiful Soup](https://www.crummy.com/software/BeautifulSoup/) is a module that you may want to learn if you are going to do a lot of web scraping. \n",
    "\n",
    "    - It is well [documented](https://www.crummy.com/software/BeautifulSoup/bs4/doc/). But, if you plan on becoming a serious web scraper developer, then you should also learn more about html as well. \n",
    "\n",
    "    - There are some useful resources on getting started with Beautiful Soup, e.g., see [towards data science's introduction on web scraping](https://towardsdatascience.com/an-introduction-to-web-scraping-with-python-a2601e8619e5), [data camp's web scraping tutorial](https://www.datacamp.com/community/tutorials/web-scraping-using-python), or [medium's discussion on scraping data from a website](https://medium.com/backticks-tildes/how-to-scrape-data-from-a-website-ceda61204f67). \n",
    "\n",
    "\n",
    "To fully appreciate and utilize all that Beautiful Soup has to offer while simultaneously familiarizing ourselves with HTML tags requires more time than is available to us in this course, so we simply mention it as an option you should investigate further if you plan on doing a lot of web scraping.\n",
    "<br>\n",
    "\n",
    "- [Pandas](https://pandas.pydata.org/pandas-docs/stable/getting_started/overview.html) is a very impressive module that you may become intimately familiar with if you ever do any serious data analysis. The name is derived from the econometrics term [*panel data*](https://en.wikipedia.org/wiki/Panel_data#:~:text=In%20statistics%20and%20econometrics%2C%20panel,the%20same%20firms%20or%20individuals.) (sometimes referred to as longitudinal data by statisticians) that describes multi-dimensional data involving measurements over time. From the overview of pandas:\n",
    ">  ...[provides] fast, flexible, and expressive data structures designed to make working with “relational” or “labeled” data both easy and intuitive. [Pandas] aims to be the fundamental high-level building block for doing practical, real world data analysis in Python. Additionally, it has the broader goal of becoming the most powerful and flexible open source data analysis / manipulation tool available in any language. It is already well on its way toward this goal.\n",
    "\n",
    "   I highly recommend taking 3-5 minutes and just reading the full [overview of pandas](https://pandas.pydata.org/pandas-docs/stable/getting_started/overview.html).\n",
    "   \n",
    "   Pandas is often used in conjunction with Beautiful Soup to turn scraped data into a [DataFrame](https://pandas.pydata.org/pandas-docs/stable/getting_started/dsintro.html), which is one of two types of data structures available in pandas (the other is called a Series). \n",
    "   \n",
    "   However, pandas also has its own method for scraping specific types of data from HTML. \n",
    "   Specifically, the method [`read_html`](https://pandas.pydata.org/pandas-docs/stable/reference/api/pandas.read_html.html) will read HTML tables into a *list* of DataFrame objects. \n",
    "   \n",
    "   ***We will focus on using `read_html` to create lists of DataFrame objects in this notebook.***\n",
    "   \n",
    "   We will also use a fairly limited number of other basic methods in pandas in the context of analyzing these HTML tables of data scraped from the web using `read_html`. \n",
    "\n",
    "- There is a rather thorough [10 minute introductory tutorial](https://pandas.pydata.org/pandas-docs/stable/user_guide/10min.html) to pandas that I recommend going through. \n",
    "\n",
    "  *In fact, you can easily take that 10 minute tutorial and turn it into your own Jupyter notebook, which is a good activity that I highly recommend.*"
   ]
  },
  {
   "cell_type": "markdown",
   "metadata": {},
   "source": [
    "**Let's see how easy it is to use `read_html` in practice by reading in [roster data](http://www.denverbroncos.com/team/roster.html) from the Denver Broncos official website.**"
   ]
  },
  {
   "cell_type": "code",
   "execution_count": null,
   "metadata": {},
   "outputs": [],
   "source": [
    "import pandas as pd #import the pandas module"
   ]
  },
  {
   "cell_type": "code",
   "execution_count": null,
   "metadata": {},
   "outputs": [],
   "source": [
    "# Define a string variable, which we call url, containing the web address with data in an HTML table format\n",
    "url = 'https://www.denverbroncos.com/team/players-roster/'"
   ]
  },
  {
   "cell_type": "code",
   "execution_count": null,
   "metadata": {},
   "outputs": [],
   "source": [
    "list_of_dfs = pd.read_html(url) # Create a list of DataFrames stored as df (for DataFrame)"
   ]
  },
  {
   "cell_type": "code",
   "execution_count": null,
   "metadata": {},
   "outputs": [],
   "source": [
    "print(type(list_of_dfs)) # See, it is a list!\n",
    "print(type(list_of_dfs[0])) # Each item in the list is a DataFrame"
   ]
  },
  {
   "cell_type": "code",
   "execution_count": null,
   "metadata": {},
   "outputs": [],
   "source": [
    "print(len(list_of_dfs)) # How many DataFrames are in this list?"
   ]
  },
  {
   "cell_type": "code",
   "execution_count": null,
   "metadata": {},
   "outputs": [],
   "source": [
    "print(list_of_dfs[0]) # See the structure of the DataFrame"
   ]
  },
  {
   "cell_type": "code",
   "execution_count": null,
   "metadata": {},
   "outputs": [],
   "source": [
    "# View the DataFrame in a visually more appealing way by not using print\n",
    "list_of_dfs[0]"
   ]
  },
  {
   "cell_type": "code",
   "execution_count": null,
   "metadata": {},
   "outputs": [],
   "source": [
    "# Okay, I am tired of typing df[0] since there is only one DataFrame in this list\n",
    "\n",
    "df_broncos = pd.read_html(url)[0] #This just returns the first (and only in this case) DataFrame in the list as df"
   ]
  },
  {
   "cell_type": "code",
   "execution_count": null,
   "metadata": {},
   "outputs": [],
   "source": [
    "df_broncos # view the DataFrame"
   ]
  },
  {
   "cell_type": "code",
   "execution_count": null,
   "metadata": {},
   "outputs": [],
   "source": [
    "df_broncos.head() #View the first 5 rows"
   ]
  },
  {
   "cell_type": "code",
   "execution_count": null,
   "metadata": {},
   "outputs": [],
   "source": [
    "df_broncos.head(10) #view the first 10 rows"
   ]
  },
  {
   "cell_type": "code",
   "execution_count": null,
   "metadata": {},
   "outputs": [],
   "source": [
    "df_broncos.shape #View how many rows and columns there are in the DataFrame"
   ]
  },
  {
   "cell_type": "code",
   "execution_count": null,
   "metadata": {},
   "outputs": [],
   "source": [
    "df_broncos.iloc[0,:] #View all data related to first row"
   ]
  },
  {
   "cell_type": "code",
   "execution_count": null,
   "metadata": {},
   "outputs": [],
   "source": [
    "df_broncos.iloc[[0],:] #View all data related to first row in nicer format"
   ]
  },
  {
   "cell_type": "code",
   "execution_count": null,
   "metadata": {},
   "outputs": [],
   "source": [
    "df_broncos.iloc[-5:,:] #view last 5 rows of data"
   ]
  },
  {
   "cell_type": "code",
   "execution_count": null,
   "metadata": {},
   "outputs": [],
   "source": [
    "# The iloc is expecting integer inputs for its indexing\n",
    "df_broncos.iloc[-5:,[0, 3, 4]] #view names, HT, and WT"
   ]
  },
  {
   "cell_type": "code",
   "execution_count": null,
   "metadata": {},
   "outputs": [],
   "source": [
    "# The loc allows for a mixture of integers and features, but \n",
    "# it is LABEL based. What does this mean?\n",
    "# Negative values are not present in the index labels, so \n",
    "# keep this in mind. Running the code below will be interpreted as\n",
    "# asking for all rows starting at -5 and onward, which is fundamentally\n",
    "# different than starting at the 5th from the end.\n",
    "df_broncos.loc[-5:,['Player', 'HT', 'WT']]"
   ]
  },
  {
   "cell_type": "code",
   "execution_count": null,
   "metadata": {},
   "outputs": [],
   "source": [
    "df_broncos.loc[74:,['Player', 'HT', 'WT']] #using loc to print last 5"
   ]
  },
  {
   "cell_type": "markdown",
   "metadata": {},
   "source": [
    "### <span style='background:rgba(0,255,255, 0.5); color:black'>Try it out for yourself.</span>\n",
    "\n",
    "This is a suggested activity. Create some code cells below to explore differences between using `loc` and `iloc` to print out some specific rows (and columns) of data from the `df_broncos` DataFrame."
   ]
  },
  {
   "cell_type": "code",
   "execution_count": null,
   "metadata": {},
   "outputs": [],
   "source": []
  },
  {
   "cell_type": "markdown",
   "metadata": {},
   "source": [
    "### Some style options for aid in visual inspection of data"
   ]
  },
  {
   "cell_type": "code",
   "execution_count": null,
   "metadata": {},
   "outputs": [],
   "source": [
    "# Maybe some useful visuals for numerical data\n",
    "df_broncos.style.bar(subset=['Age', 'WT'])"
   ]
  },
  {
   "cell_type": "code",
   "execution_count": null,
   "metadata": {},
   "outputs": [],
   "source": [
    "# A different type of visual for some data\n",
    "df_broncos.style.background_gradient(subset=['WT']) "
   ]
  },
  {
   "cell_type": "code",
   "execution_count": null,
   "metadata": {},
   "outputs": [],
   "source": [
    "def highlight_greaterthan_300(s): # Highlight the 300lb players on the roster\n",
    "    if s.WT >= 300.0:\n",
    "        return ['background-color: yellow']*len(df_broncos.columns)\n",
    "    else:\n",
    "        return ['background-color: black']*len(df_broncos.columns)\n",
    "\n",
    "\n",
    "df_broncos.style.apply(highlight_greaterthan_300, axis=1)"
   ]
  },
  {
   "cell_type": "code",
   "execution_count": null,
   "metadata": {},
   "outputs": [],
   "source": [
    "def highlight_WRs(s): # Highlight the wide receivers\n",
    "    if s.Pos == 'WR':\n",
    "        return ['background-color: yellow']*len(df_broncos.columns)\n",
    "    else:\n",
    "        return ['background-color: black']*len(df_broncos.columns)\n",
    "\n",
    "\n",
    "df_broncos.style.apply(highlight_WRs, axis=1)"
   ]
  },
  {
   "cell_type": "markdown",
   "metadata": {},
   "source": [
    "### <span style='background:rgba(0,255,255, 0.5); color:black'>Try it out for yourself.</span>\n",
    "\n",
    "This is a suggested activity. Use the code cell below to highlight all the linebackers on the roster. There are three types on the roster. An LB is just a general linebacker. An OLB is an outside linebacker and an ILB is an inside linebacker. If you are clever about using slicing, you can avoid using logical `or` in the function."
   ]
  },
  {
   "cell_type": "code",
   "execution_count": null,
   "metadata": {},
   "outputs": [],
   "source": []
  },
  {
   "cell_type": "markdown",
   "metadata": {},
   "source": [
    "### Now for some useful built-in methods in pandas to manipulate/interrogate DataFrame objects"
   ]
  },
  {
   "cell_type": "code",
   "execution_count": null,
   "metadata": {},
   "outputs": [],
   "source": [
    "col_names = df_broncos.columns\n",
    "print(col_names)\n",
    "print(type(col_names))"
   ]
  },
  {
   "cell_type": "code",
   "execution_count": null,
   "metadata": {},
   "outputs": [],
   "source": [
    "print(df_broncos.dtypes) # See what types of data types are stored in each column (we will discuss objects and classes in the next module)"
   ]
  },
  {
   "cell_type": "code",
   "execution_count": null,
   "metadata": {},
   "outputs": [],
   "source": [
    "# Data in a column is easily accessible using the dot convention\n",
    "names = df_broncos.Player\n",
    "print(names)"
   ]
  },
  {
   "cell_type": "code",
   "execution_count": null,
   "metadata": {},
   "outputs": [],
   "source": [
    "print(type(names)) # Each column of data defines a data type known as a Series"
   ]
  },
  {
   "cell_type": "code",
   "execution_count": null,
   "metadata": {},
   "outputs": [],
   "source": [
    "# What is the average of numerical data found in this DataFrame?\n",
    "df_broncos.mean()"
   ]
  },
  {
   "cell_type": "code",
   "execution_count": null,
   "metadata": {},
   "outputs": [],
   "source": [
    "# You can also just specify a specific column to compute a statistic\n",
    "df_broncos.WT.mean()"
   ]
  },
  {
   "cell_type": "code",
   "execution_count": null,
   "metadata": {},
   "outputs": [],
   "source": [
    "# Try to take the mean of the height data (this will not work)\n",
    "df_broncos.HT.mean()"
   ]
  },
  {
   "cell_type": "code",
   "execution_count": null,
   "metadata": {},
   "outputs": [],
   "source": [
    "# What is the deal with HT data? It is given as a string to represent units of feet followed by inches\n",
    "print(df_broncos.HT[0])\n",
    "print(type(df_broncos.HT[0]))"
   ]
  },
  {
   "cell_type": "code",
   "execution_count": null,
   "metadata": {},
   "outputs": [],
   "source": [
    "# Can we replace this data with numerical data in units of just inches so that we can better analyze it?\n",
    "\n",
    "# Here is a new function for parsing strings\n",
    "ht_data = df_broncos.HT[0].split('-') \n",
    "print(ht_data)"
   ]
  },
  {
   "cell_type": "code",
   "execution_count": null,
   "metadata": {},
   "outputs": [],
   "source": [
    "# Hmmmm, what if...a list comprehension! \n",
    "# (I am usually not this slick, but I just couldn't resist.)\n",
    "\n",
    "# First, consider how to transform a single entry of the Series \n",
    "# into a list of the feet and inches as separate entries\n",
    "ht_data = [int(data) for data in df_broncos.HT[0].split('-')]\n",
    "print(ht_data)"
   ]
  },
  {
   "cell_type": "code",
   "execution_count": null,
   "metadata": {
    "scrolled": true
   },
   "outputs": [],
   "source": [
    "# Now imagine that we want a list of lists for the feet and inches units of each player\n",
    "# It would look something like this\n",
    "\n",
    "ht_data = [[int(data) for data in df_broncos.HT[i].split('-')] for i in range(len(df_broncos.HT))]\n",
    "print(ht_data)"
   ]
  },
  {
   "cell_type": "code",
   "execution_count": null,
   "metadata": {},
   "outputs": [],
   "source": [
    "# Now transform into inches\n",
    "ht_data_inches = [12*data[0]+data[1] for data in ht_data]\n",
    "print(ht_data_inches)"
   ]
  },
  {
   "cell_type": "markdown",
   "metadata": {},
   "source": [
    "***There are lots of other ways we could have transformed the height data into inches.***\n",
    "\n",
    "The use of two list comprehensions above was *completely* arbitrary. We could have created a user-defined function to do the same thing. We show this below. **You should add comments to this function to make sure you understand all the lines of code.**\n",
    "\n",
    "- While list comprehensions are pretty slick, they do not necessarily make for the most \"readable\" code except to seasoned Python programmers. \n",
    "\n",
    "- In my opinion, it is best to opt for clarity over cleverness. I usually opt for writing code that is as straightforward and as easy to read/understand on a line-by-line basis as I can manage. "
   ]
  },
  {
   "cell_type": "code",
   "execution_count": null,
   "metadata": {},
   "outputs": [],
   "source": [
    "def xform_broncos_ht_to_inches(ht_data):\n",
    "    ht_data_inches = []\n",
    "    for i in range(len(ht_data)):\n",
    "        data = ht_data[i].split('-')\n",
    "        ht_data_inches.append(int(data[0])*12 + int(data[1]))\n",
    "    return ht_data_inches"
   ]
  },
  {
   "cell_type": "code",
   "execution_count": null,
   "metadata": {},
   "outputs": [],
   "source": [
    "ht_data_inches_redux = xform_broncos_ht_to_inches(df_broncos.HT)\n",
    "print(ht_data_inches_redux)"
   ]
  },
  {
   "cell_type": "code",
   "execution_count": null,
   "metadata": {},
   "outputs": [],
   "source": [
    "# Since we actually know the structure of the data as x-y or x-yz where\n",
    "# x is an integer of ft and y or yz are two integers for the number of inches\n",
    "# we could also just use array slicing techniques to do all the work for us\n",
    "def xform_broncos_ht_to_inches_slicing(ht_data):\n",
    "    ht_data_inches = []\n",
    "    for data in ht_data:\n",
    "        ht_data_inches.append(int(data[0])*12 + int(data[2:]))\n",
    "    return ht_data_inches"
   ]
  },
  {
   "cell_type": "code",
   "execution_count": null,
   "metadata": {},
   "outputs": [],
   "source": [
    "ht_data_inches_yet_again = xform_broncos_ht_to_inches_slicing(df_broncos.HT)\n",
    "print(ht_data_inches_yet_again)"
   ]
  },
  {
   "cell_type": "markdown",
   "metadata": {},
   "source": [
    "**What is the point of all these last few code cells?** \n",
    "\n",
    "- There are *lots* of ways we can go about manipulating the data to get it into a format we want. \n",
    "\n",
    "- Okay, so which is best? There is no best. You just use the method that makes sense to you. \n",
    "\n",
    "If you can see a quick/easy way to do list comprehensions, then great, do that. If you don't see how to do that, then fine, try a user-defined function that formats things how you want. Does the data have a regular/predictable/repeating structure to it that allows you to use array slicing techniques or other methods? Or, does it have some type of string character (or characters) that you need to get rid of? Maybe the answer to all of these is yes. Then, you have a lot of options. Maybe the answer to only some of these is yes. Then, you have less options. No matter what, *examining and thinking* about what the format of the data is in vs. what the format you *want* it to be in will be key to you choosing how to manipulate it."
   ]
  },
  {
   "cell_type": "code",
   "execution_count": null,
   "metadata": {},
   "outputs": [],
   "source": [
    "# Now transform data in df\n",
    "df_broncos.HT = ht_data_inches\n",
    "df_broncos"
   ]
  },
  {
   "cell_type": "code",
   "execution_count": null,
   "metadata": {},
   "outputs": [],
   "source": [
    "# Rename the HT column to be more informative and \n",
    "df_broncos.rename(columns = {'HT' : 'HT_in_inches'}, inplace=True) # inplace=True means we change the actual df variable\n",
    "df_broncos"
   ]
  },
  {
   "cell_type": "code",
   "execution_count": null,
   "metadata": {},
   "outputs": [],
   "source": [
    "df_broncos.HT_in_inches"
   ]
  },
  {
   "cell_type": "code",
   "execution_count": null,
   "metadata": {},
   "outputs": [],
   "source": [
    "df_broncos.mean() # Now we can compute the means and get the mean HT"
   ]
  },
  {
   "cell_type": "markdown",
   "metadata": {},
   "source": [
    "### What about cleaning up other types of data to be more amenable to statistical analysis?\n",
    "\n",
    "Sometimes data is missing (Age data is sometimes not available) or is incongruent with the form of other types of data. \n",
    "\n",
    "For example, in the above data set, experience (listed as Exp), is given in years except for rookies that are denoted with an R instead of a 0 for their years of experience. \n",
    "\n",
    "If you wanted to compute statistics relating to the experience of players on a roster (e.g., to try and quantify the \"collective NFL wisdom\" of the roster), then this is immediately problematic."
   ]
  },
  {
   "cell_type": "code",
   "execution_count": null,
   "metadata": {},
   "outputs": [],
   "source": [
    "idx = np.where(df_broncos.Exp[:] == 'R')[0]\n",
    "print(idx)"
   ]
  },
  {
   "cell_type": "code",
   "execution_count": null,
   "metadata": {},
   "outputs": [],
   "source": [
    "df_broncos.loc[idx,'Exp'] = 0 # Writing zero entries for rookies experience"
   ]
  },
  {
   "cell_type": "code",
   "execution_count": null,
   "metadata": {},
   "outputs": [],
   "source": [
    "df_broncos.mean() # So what is the average experience?"
   ]
  },
  {
   "cell_type": "code",
   "execution_count": null,
   "metadata": {},
   "outputs": [],
   "source": [
    "df_broncos.Exp[0] # The data type is maybe not what you think for other entries"
   ]
  },
  {
   "cell_type": "code",
   "execution_count": null,
   "metadata": {},
   "outputs": [],
   "source": [
    "df_broncos.Exp[1] # Hmmm, we seem to be mixing ints with strings"
   ]
  },
  {
   "cell_type": "code",
   "execution_count": null,
   "metadata": {},
   "outputs": [],
   "source": [
    "df_broncos.Exp = df_broncos.Exp.astype(int) # We should make sure each Series of data in a single column of a DataFrame is the same data type\n",
    "df_broncos.Exp[1]"
   ]
  },
  {
   "cell_type": "code",
   "execution_count": null,
   "metadata": {},
   "outputs": [],
   "source": [
    "df_broncos.mean() # Now we can get means for experience as well"
   ]
  },
  {
   "cell_type": "markdown",
   "metadata": {},
   "source": [
    "<hr style=\"border:5px solid cyan\"> </hr>\n",
    "\n",
    "## <span style='background:rgba(0,255,255, 0.5); color:black'>Activity: Go Nuggets Go!</span><a id='activity-nuggets'>\n",
    "\n",
    "- Read in the [Nuggets team roster data](https://www.espn.com/nba/team/roster/_/name/den) from ESPN. \n",
    "\n",
    "- Transform salary into floats and label into `Salary_in_USD` and change any missing salary data into np.nan (why do you think such important data may be missing?).\n",
    "\n",
    "- Change missing college data into a string 'N/A' (why do you think such (unimportant?) information may be missing?).\n",
    "\n",
    "- Change WT and HT similarly into floats and relabel these columns as `WT_lbs` and `HT_inches`.\n",
    "\n",
    "- Compute some statistics on certain columns and comment on results."
   ]
  },
  {
   "cell_type": "code",
   "execution_count": null,
   "metadata": {},
   "outputs": [],
   "source": []
  },
  {
   "cell_type": "code",
   "execution_count": null,
   "metadata": {
    "scrolled": true
   },
   "outputs": [],
   "source": []
  },
  {
   "cell_type": "code",
   "execution_count": null,
   "metadata": {},
   "outputs": [],
   "source": []
  },
  {
   "cell_type": "code",
   "execution_count": null,
   "metadata": {},
   "outputs": [],
   "source": []
  },
  {
   "cell_type": "code",
   "execution_count": null,
   "metadata": {},
   "outputs": [],
   "source": []
  },
  {
   "cell_type": "code",
   "execution_count": null,
   "metadata": {},
   "outputs": [],
   "source": []
  },
  {
   "cell_type": "code",
   "execution_count": null,
   "metadata": {},
   "outputs": [],
   "source": []
  },
  {
   "cell_type": "markdown",
   "metadata": {},
   "source": []
  },
  {
   "cell_type": "markdown",
   "metadata": {},
   "source": [
    "<hr style=\"border:5px solid cyan\"> </hr>"
   ]
  },
  {
   "cell_type": "markdown",
   "metadata": {},
   "source": [
    "<hr style=\"border:5px solid cyan\"> </hr>\n",
    "\n",
    "## <span style='background:rgba(0,255,255, 0.5); color:black'>Activity: Nothing is as consistent as Jokic! Not even his statistics...</span><a id='activity-Jokic'>\n",
    "---\n",
    "\n",
    "- Read in [Nikola Jokic's](https://www.espn.com/nba/player/stats/_/id/3112335/nikola-jokic) statistics from ESPN. Check out the web page and see how many different tables are read into the list. Show and discuss what some of these different tables contain. \n",
    "\n",
    "- Repeat the above to read in his postseason data (you will have to search on the web page for how to access his postseason data). \n",
    "\n",
    "- What if you tried to get this data from basketball-reference.com or nba.com? Try it. Comment on any difficulties you encounter and try to explain them. In fact, it may not even be possible to read in this data from a web page even though it looks like the data are available on the page. See if you can figure out why."
   ]
  },
  {
   "cell_type": "code",
   "execution_count": null,
   "metadata": {},
   "outputs": [],
   "source": []
  },
  {
   "cell_type": "code",
   "execution_count": null,
   "metadata": {},
   "outputs": [],
   "source": []
  },
  {
   "cell_type": "code",
   "execution_count": null,
   "metadata": {},
   "outputs": [],
   "source": []
  },
  {
   "cell_type": "code",
   "execution_count": null,
   "metadata": {},
   "outputs": [],
   "source": []
  },
  {
   "cell_type": "markdown",
   "metadata": {},
   "source": []
  },
  {
   "cell_type": "markdown",
   "metadata": {},
   "source": [
    "<hr style=\"border:5px solid cyan\"> </hr>"
   ]
  },
  {
   "cell_type": "markdown",
   "metadata": {},
   "source": [
    "## Part (b): Reading/writing data to files <a id='I/O'>\n",
    "---\n",
    "\n",
    "<span style='background:rgba(255,255,0, 0.25); color:black'> Run the code cell below and click the \"play\" button to see the second recorded lecture associated with this notebook.</span>"
   ]
  },
  {
   "cell_type": "code",
   "execution_count": null,
   "metadata": {},
   "outputs": [],
   "source": [
    "# 1. Running this cell with embed the short recorded lecture associated with this part of the notebook\n",
    "# 2. Press on the \"play\" button to start the video.\n",
    "\n",
    "from IPython.display import YouTubeVideo\n",
    "\n",
    "YouTubeVideo('XkBgE395dgM', width=800, height=450)"
   ]
  },
  {
   "cell_type": "markdown",
   "metadata": {},
   "source": [
    "There are several tools available for read/writing data to files including, but not limited to, these popular options:\n",
    "\n",
    "- [some basic I/O in Python](https://docs.python.org/3/tutorial/inputoutput.html#reading-and-writing-files)\n",
    "\n",
    "- [`pickle`](https://docs.python.org/3/library/pickle.html#module-pickle)\n",
    "\n",
    "- [Pandas I/O options](https://pandas.pydata.org/pandas-docs/stable/user_guide/io.html)\n",
    "\n",
    "- [`scipy` I/O (in particular `savemat` and `loadmat`)](https://docs.scipy.org/doc/scipy/reference/io.html)\n",
    "\n",
    "Below, we show some typical use cases of a few of these with some code comments. "
   ]
  },
  {
   "cell_type": "markdown",
   "metadata": {},
   "source": [
    "<span style='background:rgba(0,255,255, 0.5); color:black'> ***You should experiment and think here. Make your own activities. You need to make at least one of your own activities that you also solve in this part of the notebook. Make sure to demarcate your activity with cyan borders so that I can easily locate and grade it.*** <span>\n",
    "\n",
    "An implicit/suggested/recommended activity for you is to expand/add onto the comments you see below (in code or in Markdown cells), read through the documentation and try out different options that you also comment on (in code or Markdown cells), and perhaps even create some Markdown cells that try to explain the pros/cons of the various methods, scenarios where you may prefer one to another, or anything else you think is useful to comment on. \n",
    "\n",
    "This is really about *you*. Maybe you already have experience working with various file formats containing data. Maybe you do not. Either way, think about the file types you may need, will encounter, or have encountered. This may require you to ask some professors, students, professionals you know, etc. so that you can get a good feel for what you may work on someday. Or, try searching  online for what file types people typically deal with in practice (you can use some of the documentation and things discussed/linked to in this notebook as a starting point for your searches). "
   ]
  },
  {
   "cell_type": "markdown",
   "metadata": {},
   "source": [
    "### Starting with the basics\n",
    "---\n",
    "\n",
    "We will show the basic way of opening, writing, and reading a file's contents assuming the file contains the basic data type of strings.\n",
    "\n",
    "Check out the [basic I/O in Python](https://docs.python.org/3/tutorial/inputoutput.html#reading-and-writing-files) for some more details.\n",
    "\n",
    "We will quickly see though that there are some annoying limitations to this approach."
   ]
  },
  {
   "cell_type": "code",
   "execution_count": null,
   "metadata": {},
   "outputs": [],
   "source": [
    "# The built-in open function does not require any import call\n",
    "f = open('broncos_players', 'w') #'w' means we create/open a file in \"write\" mode\n",
    "\n",
    "# This will DELETE any data that may exist in the file if that file was already \n",
    "# previously created, so be careful!!!!"
   ]
  },
  {
   "cell_type": "markdown",
   "metadata": {},
   "source": [
    "After running the above code, go to the \"main\" Jupyter tab where you launched this notebook. \n",
    "\n",
    "Do you see the file broncos_players there? If not, try refreshing that tab."
   ]
  },
  {
   "cell_type": "code",
   "execution_count": null,
   "metadata": {},
   "outputs": [],
   "source": [
    "# We can write strings to f, but not other variable types\n",
    "# even if those variable types are objects that contain strings\n",
    "\n",
    "# This will produce an error\n",
    "f.write(df_broncos['Player'])"
   ]
  },
  {
   "cell_type": "code",
   "execution_count": null,
   "metadata": {},
   "outputs": [],
   "source": [
    "# If we want to create a file that stores all the names and colleges of players\n",
    "# on individual lines, then we can do this\n",
    "for (name,college) in zip(df_broncos['Player'],df_broncos['College']):\n",
    "    var_str = 'Name: ' + name + '; College: ' + college + '\\n'\n",
    "    f.write(var_str)"
   ]
  },
  {
   "cell_type": "markdown",
   "metadata": {},
   "source": [
    "Now go back to the main Jupyter tab where you launched this notebook and open this file to view its contents.\n",
    "\n",
    "Does it appear empty?"
   ]
  },
  {
   "cell_type": "code",
   "execution_count": null,
   "metadata": {},
   "outputs": [],
   "source": [
    "f.close() #This prevents more data from being written to this file by accident.\n",
    "# You should ALWAYS close your file object when you are done with it."
   ]
  },
  {
   "cell_type": "code",
   "execution_count": null,
   "metadata": {
    "scrolled": true
   },
   "outputs": [],
   "source": [
    "f.closed #Check if the file is closed"
   ]
  },
  {
   "cell_type": "markdown",
   "metadata": {},
   "source": [
    "Now go back to the main Jupyter tab where you launched this notebook and open this file to view its contents (or refresh it if you left it open). \n",
    "\n",
    "Is the data there now? It should be.\n",
    "\n",
    "Let's try reading it into this environment."
   ]
  },
  {
   "cell_type": "code",
   "execution_count": null,
   "metadata": {},
   "outputs": [],
   "source": [
    "f.read() #This will produce an error! We closed the file!"
   ]
  },
  {
   "cell_type": "code",
   "execution_count": null,
   "metadata": {},
   "outputs": [],
   "source": [
    "# Let's try this correctly now.\n",
    "\n",
    "# Open the file in a read-only mode so that we do not accidently edit something\n",
    "# as we examine its contents.\n",
    "\n",
    "f = open('broncos_players', 'r')"
   ]
  },
  {
   "cell_type": "code",
   "execution_count": null,
   "metadata": {},
   "outputs": [],
   "source": [
    "f.read() #Yuck!"
   ]
  },
  {
   "cell_type": "code",
   "execution_count": null,
   "metadata": {},
   "outputs": [],
   "source": [
    "# Want to try again?\n",
    "f.read() #Uh, huh?"
   ]
  },
  {
   "cell_type": "markdown",
   "metadata": {},
   "source": [
    "When you read from a file, it is keeping track of where it stopped reading (like an internal bookmarking of the data). "
   ]
  },
  {
   "cell_type": "code",
   "execution_count": null,
   "metadata": {},
   "outputs": [],
   "source": [
    "f.tell() # This is the \"bookmark\" position"
   ]
  },
  {
   "cell_type": "markdown",
   "metadata": {},
   "source": [
    "To change the file object’s (i.e., \"bookmark\") position, use `f.seek(offset, whence)` where `offset` is how far off from a reference point (defined by the `whence`) you want to set this position.\n",
    "\n",
    "A `whence` value of 0 sets the reference point as the beginning of the file, 1 uses the current file position, and 2 uses the end of the file as the reference point. \n",
    "\n",
    "`whence` can be omitted and defaults to 0, using the beginning of the file as the reference point. You always need to provide an `offset` value (it has no default value).\n",
    "\n",
    "We are not doing anything that fancy here. We simply want to go back to the starting point of the file."
   ]
  },
  {
   "cell_type": "code",
   "execution_count": null,
   "metadata": {},
   "outputs": [],
   "source": [
    "f.seek(0) #omitting whence to use default 0\n",
    "f.tell()"
   ]
  },
  {
   "cell_type": "code",
   "execution_count": null,
   "metadata": {},
   "outputs": [],
   "source": [
    "# Now look at how this produces results in a nice list of strings\n",
    "f.readlines()"
   ]
  },
  {
   "cell_type": "code",
   "execution_count": null,
   "metadata": {},
   "outputs": [],
   "source": [
    "f.close()"
   ]
  },
  {
   "cell_type": "markdown",
   "metadata": {},
   "source": [
    "This data looks incomplete. Hmmm... Oh yeah! We should have included the player positions in it as well. This would be a nice data file that has player names, their colleges, and what position they play. \n",
    "\n",
    "How can we can add the player position data to the end of each line?\n",
    "\n",
    "From [stackoverflow](https://stackoverflow.com/questions/125703/how-to-modify-a-text-file)\n",
    "\n",
    "> Unfortunately there is no way to insert into the middle of a file without re-writing it. As previous posters have indicated, you can append to a file or overwrite part of it using seek but if you want to add stuff at the beginning or the middle, you'll have to rewrite it.\n",
    "<br>\n",
    "<br>\n",
    "   This is an operating system thing, not a Python thing. It is the same in all languages. \n",
    "\n",
    "The problem with `open` is that you can open a file in write mode (which will \"wipe\" the data clean in the file to be re-written), read mode (which will allow you to view but not edit the contents), read/write mode (which allows you to read contents as you write, but you can only \"overwrite\" existing data and not insert it in place), or you can append data at the end of the file. No good options with just `open` exist for editing lines of data *in place* that do not simply overwrite the existing data.\n",
    "\n",
    "There are some workarounds (see the [stackoverflow](https://stackoverflow.com/questions/125703/how-to-modify-a-text-file) for some options), but we will not dwell on this further. \n",
    "\n",
    "We will simply leave this as a suggested activity for inserting the position data for each player in this data file. \n",
    "\n",
    "Before we move onto the use of Pandas I/O options, we suggest you read a bit more about saving data types more complicated than strings and potentially with more complex structure using [JSON](https://docs.python.org/3/tutorial/inputoutput.html#saving-structured-data-with-json) and [pickle](https://docs.python.org/3/library/pickle.html#module-pickle). "
   ]
  },
  {
   "cell_type": "markdown",
   "metadata": {},
   "source": [
    "### [Pandas I/O](https://pandas.pydata.org/pandas-docs/stable/user_guide/io.html)\n",
    "---\n",
    "\n",
    "<span style='background:rgba(255,0,255, 0.25); color:black'> ***Key points:*** <span>\n",
    "\n",
    "- If data is already in a pandas DataFrame object, then that object has several attributes to write the data into files with various formats including csv (comma separated values) and Microsoft Excel formats. \n",
    "\n",
    "- Data can be read in directly to a DataFrame object using various methods available within pandas.\n",
    "\n",
    "- If working with data in a panel format makes the most sense to you, then the pandas options are probably the best and easiest for you to use."
   ]
  },
  {
   "cell_type": "code",
   "execution_count": null,
   "metadata": {},
   "outputs": [],
   "source": [
    "# Write Broncos roster data, in its entirey, to two different file types\n",
    "\n",
    "df_broncos.to_csv('broncos_roster_data')\n",
    "\n",
    "df_broncos.to_excel('broncos_roster_data_excel.xls') #Needs to end in .xls or .xlsx"
   ]
  },
  {
   "cell_type": "code",
   "execution_count": null,
   "metadata": {},
   "outputs": [],
   "source": [
    "# A csv file is all in text format, so we can read it in as a file with open\n",
    "#\n",
    "# But, why would we do this?\n",
    "\n",
    "f = open('broncos_roster_data', 'r')"
   ]
  },
  {
   "cell_type": "code",
   "execution_count": null,
   "metadata": {},
   "outputs": [],
   "source": [
    "f.readlines()"
   ]
  },
  {
   "cell_type": "code",
   "execution_count": null,
   "metadata": {},
   "outputs": [],
   "source": [
    "f.close() # Eh, let's not do this anymore"
   ]
  },
  {
   "cell_type": "code",
   "execution_count": null,
   "metadata": {},
   "outputs": [],
   "source": [
    "# Read in data files with pandas attributes because it formats\n",
    "# this data into a dataframe\n",
    "\n",
    "df_from_csv = pd.read_csv('broncos_roster_data')"
   ]
  },
  {
   "cell_type": "code",
   "execution_count": null,
   "metadata": {},
   "outputs": [],
   "source": [
    "df_from_csv #Look at the left two columns, can you explain what happened?"
   ]
  },
  {
   "cell_type": "code",
   "execution_count": null,
   "metadata": {},
   "outputs": [],
   "source": [
    "df_from_xls = pd.read_excel('broncos_roster_data_excel.xls')"
   ]
  },
  {
   "cell_type": "code",
   "execution_count": null,
   "metadata": {},
   "outputs": [],
   "source": [
    "df_from_xls #This looks just like the original df"
   ]
  },
  {
   "cell_type": "markdown",
   "metadata": {},
   "source": [
    "### Some [`scipy` I/O (in particular `savemat` and `loadmat`)](https://docs.scipy.org/doc/scipy/reference/io.html) options\n",
    "---\n",
    "\n",
    "In a DataFrame, there is an \"entry\" for each row and column (sure, data may be missing, but this is just like an entry of `None` in a sense, so there is always something there even if it is a type of null data). \n",
    "\n",
    "In computational science, we often generate lots of different types of data in the form of arrays that can have different formats/data types and different shapes/sizes. We also often generate lots of \"meta-data\" describing details of how the problem was solved. Taken all together, this means a DataFrame is not necessarily suitable to describe all the data we generate for a typical problem solved in computational science. \n",
    "\n",
    "The `scipy.io` library offers some nice solutions to these types of problems where data may be saved in a `.mat` format (which may seem familiar to you if you ever used Matlab). In such a format, we use a dictionary (`dict` data type) to associate each array of data with a particular name. We mentioned dictionaries briefly in Module 02. They are basically keyword functions.\n",
    "\n",
    "Below, we first show what a `dict` is and then how to save/load files in a `.mat` format."
   ]
  },
  {
   "cell_type": "code",
   "execution_count": null,
   "metadata": {},
   "outputs": [],
   "source": [
    "# Create some very different types of data (this is arbitrary and silly)\n",
    "\n",
    "a = np.array([0, 1, 2])\n",
    "\n",
    "b = [[2,6,'ta da!'], np.array([5,6,7])]\n",
    "\n",
    "c = 2.0"
   ]
  },
  {
   "cell_type": "code",
   "execution_count": null,
   "metadata": {},
   "outputs": [],
   "source": [
    "# Create a dict that maps to our different types of strange data\n",
    "# Pay attention to the formats here\n",
    "\n",
    "# We could use keywords for the data that are the variable names themselves\n",
    "dict_1 = {'a': a, 'b': b, 'c': c} \n",
    "\n",
    "# Or, we can express the deepest appreciation for the work I put into these notebooks\n",
    "dict_2 = {\"I like you\": a, \"because your examples\": b, \"are very unusual\":c}"
   ]
  },
  {
   "cell_type": "code",
   "execution_count": null,
   "metadata": {},
   "outputs": [],
   "source": [
    "# How to access the data in a dict\n",
    "\n",
    "print(dict_1['a']) \n",
    "print()\n",
    "\n",
    "print(dict_1['b'])\n",
    "print()\n",
    "\n",
    "print(dict_1['c'])\n",
    "print()\n",
    "\n",
    "print(dict_1['b'][0][2])"
   ]
  },
  {
   "cell_type": "code",
   "execution_count": null,
   "metadata": {},
   "outputs": [],
   "source": [
    "print(dict_2['I like you'])\n",
    "print(dict_2['because your examples'])\n",
    "print(dict_2['are very unusual'])"
   ]
  },
  {
   "cell_type": "code",
   "execution_count": null,
   "metadata": {},
   "outputs": [],
   "source": [
    "import scipy.io as sio # Now let's import the scipy to get ready to read/write data to file"
   ]
  },
  {
   "cell_type": "code",
   "execution_count": null,
   "metadata": {},
   "outputs": [],
   "source": [
    "# Write some data to file using savemat\n",
    "\n",
    "sio.savemat('my_nonsense_data_1.mat', dict_1)\n",
    "\n",
    "sio.savemat('my_nonsense_data_2.mat', dict_2)"
   ]
  },
  {
   "cell_type": "code",
   "execution_count": null,
   "metadata": {},
   "outputs": [],
   "source": [
    "# Now read the data back in using loadmat\n",
    "\n",
    "my_BS_1 = sio.loadmat('my_nonsense_data_1.mat') # Obviously the BS stands for Bachelor's of Science\n",
    "\n",
    "my_BS_2 = sio.loadmat('my_nonsense_data_2.mat')"
   ]
  },
  {
   "cell_type": "code",
   "execution_count": null,
   "metadata": {},
   "outputs": [],
   "source": [
    "# This looks \"scary\" but is not that bad.\n",
    "# Basically, when we load in a .mat file we get the original dict plus some more\n",
    "# meta-data about the formatting that data was saved in including the time the file\n",
    "# was created (see the '__header__' keyword in the dictionary)\n",
    "\n",
    "print(my_BS_1) "
   ]
  },
  {
   "cell_type": "code",
   "execution_count": null,
   "metadata": {},
   "outputs": [],
   "source": [
    "# To get back at the arrays, just use the right keyword\n",
    "my_BS_1['a']"
   ]
  },
  {
   "cell_type": "code",
   "execution_count": null,
   "metadata": {},
   "outputs": [],
   "source": [
    "# Ah, but what if we have a lot of keywords and we do not want to print out the\n",
    "# whole dang dict to figure it out? Luckily, dicts have some nice attributes\n",
    "\n",
    "print(my_BS_2.keys())"
   ]
  },
  {
   "cell_type": "code",
   "execution_count": null,
   "metadata": {},
   "outputs": [],
   "source": [
    "# We can turn anything in the dict into a new variable very easily\n",
    "\n",
    "my_new_a = my_BS_2['I like you']\n",
    "\n",
    "print(my_new_a)"
   ]
  },
  {
   "cell_type": "code",
   "execution_count": null,
   "metadata": {},
   "outputs": [],
   "source": [
    "# a dict is an iterable object tthat you can loop through like this\n",
    "\n",
    "for key in my_BS_2:\n",
    "    print(key, my_BS_2[key], '\\n')"
   ]
  },
  {
   "cell_type": "markdown",
   "metadata": {},
   "source": [
    "We end things here, but I hope you did some of the suggested/implicit activities in this section. This is a good part of the course to focus on asking your own questions and deciding for yourself what you need to focus more of your efforts on understanding. There are many directions we can go now as we get into more advanced topics. Too many in fact. While I will select some very important things for you to do, I cannot possibly create an exhaustive list of what is important for you personally. Explore. Experiment. Learn. And, have fun! "
   ]
  },
  {
   "cell_type": "markdown",
   "metadata": {},
   "source": [
    "<hr style=\"border:5px solid cyan\"> </hr>\n",
    "\n",
    "## <span style='background:rgba(0,255,255, 0.5); color:black'>Activity: Summary</span> <a id='activity-summary'/>\n",
    "\n",
    "Summarize some of the key takeaways/points from this notebook in a list below and prepare a few code examples related to these takeaways/points in the code cells below. You need to have at least one example for each of your summary points and you need at least three summary points.\n",
    "\n",
    "In this notebook, we have seen the following:\n",
    "\n",
    "- [Your summary point 1 goes here]\n",
    "\n"
   ]
  },
  {
   "cell_type": "code",
   "execution_count": null,
   "metadata": {},
   "outputs": [],
   "source": []
  },
  {
   "cell_type": "markdown",
   "metadata": {},
   "source": [
    "\n",
    "- [Your summary point 2 goes here]\n",
    "\n"
   ]
  },
  {
   "cell_type": "code",
   "execution_count": null,
   "metadata": {},
   "outputs": [],
   "source": []
  },
  {
   "cell_type": "markdown",
   "metadata": {},
   "source": [
    "\n",
    "- [Your summary point 3 goes here]"
   ]
  },
  {
   "cell_type": "code",
   "execution_count": null,
   "metadata": {},
   "outputs": [],
   "source": []
  },
  {
   "cell_type": "markdown",
   "metadata": {},
   "source": [
    "<hr style=\"border:5px solid cyan\"> </hr>"
   ]
  },
  {
   "cell_type": "markdown",
   "metadata": {},
   "source": [
    "### <a href='#Contents'>Click here to return to Notebook Contents</a>"
   ]
  }
 ],
 "metadata": {
  "kernelspec": {
   "display_name": "Python 3 (ipykernel)",
   "language": "python",
   "name": "python3"
  },
  "language_info": {
   "codemirror_mode": {
    "name": "ipython",
    "version": 3
   },
   "file_extension": ".py",
   "mimetype": "text/x-python",
   "name": "python",
   "nbconvert_exporter": "python",
   "pygments_lexer": "ipython3",
   "version": "3.9.7"
  }
 },
 "nbformat": 4,
 "nbformat_minor": 4
}
