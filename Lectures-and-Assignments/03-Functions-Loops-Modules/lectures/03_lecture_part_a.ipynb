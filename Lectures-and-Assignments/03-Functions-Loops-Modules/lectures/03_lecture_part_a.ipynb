{
  "cells": [
    {
      "cell_type": "markdown",
      "metadata": {
        "id": "Lz7R9POhVV4G"
      },
      "source": [
        "# Math  1376: Programming for Data Science\n",
        "---"
      ]
    },
    {
      "cell_type": "code",
      "execution_count": null,
      "metadata": {
        "id": "tdGp_wa7VV4K"
      },
      "outputs": [],
      "source": [
        "import numpy as np  # We will use numpy in this lecture"
      ]
    },
    {
      "cell_type": "markdown",
      "metadata": {
        "id": "L1MPdANRVV4L"
      },
      "source": [
        "## Module 03: Logic, functions, loops, and modules\n",
        "---"
      ]
    },
    {
      "cell_type": "markdown",
      "metadata": {
        "id": "oEI2Jto_VV4L"
      },
      "source": [
        "## Learning Objectives for Part (a)\n",
        "\n",
        "- Apply conditional and comparison operators to control workflow in code.\n",
        "\n",
        "\n",
        "- Create and apply user-defined functions to perform basic operations that also incorporate conditionals and comparisons."
      ]
    },
    {
      "cell_type": "markdown",
      "metadata": {
        "id": "rJieKaWcVV4M"
      },
      "source": [
        "## Notebook Contents <a name='Contents'>\n",
        "\n",
        "- [Part (a):  Conditionals, Comparisons, and (user-defined) Functions in Python](#Logic)\n",
        "\n",
        "    - [Activity 1: Exploring and manipulating a logical workflow](#activity-basic-logic)\n",
        "    \n",
        "    - [Activity 2: Coding a \"tent\" function](#activity-tent-function)\n",
        "    \n",
        "    - [Activity 3: A temperature converter function](#activity-temperature)\n",
        "    \n",
        "    - [Activity 4: Investment functions](#activity-invest)\n",
        "    \n",
        "    - [Activity: Summary](#activity-summary)"
      ]
    },
    {
      "cell_type": "markdown",
      "metadata": {
        "id": "seXXSpHXVV4M"
      },
      "source": [
        "## Part (a): Conditionals, Comparisons, and (user-defined) Functions in Python <a name='Logic'> </a>\n",
        "---\n",
        "\n",
        "**Expected time to completion: 6 hours**\n",
        "\n",
        "<mark> Run the code cell below and click the \"play\" button to see the recorded lecture associated with this notebook.</mark>"
      ]
    },
    {
      "cell_type": "code",
      "execution_count": null,
      "metadata": {
        "id": "qSHY3q7CVV4N"
      },
      "outputs": [],
      "source": [
        "from IPython.display import YouTubeVideo\n",
        "\n",
        "YouTubeVideo('aMP2St_nCdQ', width=800, height=450)"
      ]
    },
    {
      "cell_type": "markdown",
      "metadata": {
        "id": "imeq1yNdVV4O"
      },
      "source": [
        "In this notebook, we first explore how to control workflow in a code using conditionals (logic). \n",
        "\n",
        "For more information, check out the online documentation available at https://docs.python.org/3/tutorial/controlflow.html. \n",
        "\n",
        "We will also see how to make code more modular by creating user-defined functions that is motivated by the need for either repeated logic or operations in a code"
      ]
    },
    {
      "cell_type": "markdown",
      "metadata": {
        "id": "nNNn1C1BVV4O"
      },
      "source": [
        "### Conditionals in Python    \n",
        "---\n",
        "<mark>***Key Points:*** </mark>\n",
        "\n",
        "\n",
        "- Most logical flows can be accomplished using the if/elif/else syntax:\n",
        "\n",
        "```\n",
        "if condition:\n",
        "    # do stuff\n",
        "elif condition:  # elif is interpreted as \"else if\"\n",
        "    # do stuff\n",
        "else:\n",
        "    # do stuff\n",
        "```       \n",
        "\n",
        "- ***All parts of the conditional are indented.***\n",
        "    \n",
        "    - Unlike other languages that use terms like \"end\" or \"end if\" (or perhaps make use of brackets like \"{ }\") to signify the block of code corresponding to an if-elseif-else, ***Python interprets everything in terms of indenting.*** \n",
        "\n",
        "    This is also true in loops as we will see in a future lecture.\n",
        "\n",
        "We can dwell on this point further or simply see it in action. \n",
        "***You will get used to this and it makes Python code fairly easy to read.***\n",
        "    "
      ]
    },
    {
      "cell_type": "markdown",
      "metadata": {
        "id": "c-rhWMDYVV4P"
      },
      "source": [
        "### Comparison operators  (*LET a=2, b=3*)\n",
        "---\n",
        "\n",
        "To start setting up conditions, we first need to understand ***comparison operators*** available in Python.\n",
        "\n",
        "<mark>***Key Points:*** </mark>\n",
        "\n",
        "- Evaluation of comparison operators returns a *Boolean* variable that has a value of either `True` or `False` which dictates the workflow.\n",
        "\n",
        "- The comparison operators are best understood by example as shown below and in the code that follows.\n",
        "\n",
        "    Below, we assume `a=2` and `b=3`.\n",
        "\n",
        "    - `==`:\tIf the values of two operands are equal, then the condition becomes true.\t`a == b` will return a `False.` Note that you need TWO equal signs. If you write `a=b` instead of `a==b`, then you will actually assign the value of `b` to the variable `a` instead of comparing the values of the two variables. ***Remember this.***\n",
        "\n",
        "    - `!=`:\tIf values of two operands are not equal, then condition becomes true.  `a != b` is `True`. (Alternatively, one could use `<>` in place of `!=`, but this is not very common.)\n",
        "\n",
        "    - `>`:\tIf the value of left operand is greater than the value of right operand, then condition becomes true.\t`a > b` is `False`.\n",
        "\n",
        "    - `<`: If the value of left operand is less than the value of right operand, then condition becomes true.\t`a < b` is `True`.\n",
        "\n",
        "    - `>=`:\tIf the value of left operand is greater than or equal to the value of right operand, then condition becomes true.\t`a >= b` is `False`.\n",
        "\n",
        "    - `<=`:\tIf the value of left operand is less than or equal to the value of right operand, then condition becomes true.\t`a <= b` is `True`.\n",
        "\n",
        "- We can use `and` and `or` to combine sets of comparison operators and ``not`` to negate a statement. \n",
        "\n",
        "Let's see some of this in action below. ***Try making your own comparisons not shown below.***"
      ]
    },
    {
      "cell_type": "code",
      "execution_count": null,
      "metadata": {
        "id": "JCWEeiUdVV4Q"
      },
      "outputs": [],
      "source": [
        "a = 2\n",
        "b = 3"
      ]
    },
    {
      "cell_type": "code",
      "execution_count": null,
      "metadata": {
        "id": "wK3hfeJaVV4Q"
      },
      "outputs": [],
      "source": [
        "print(a == b)  # is a equal to b? NOTE THE TWO EQUAL SIGNS!!!!"
      ]
    },
    {
      "cell_type": "code",
      "execution_count": null,
      "metadata": {
        "id": "52zVyp7zVV4R"
      },
      "outputs": [],
      "source": [
        "print(a != b)  # is a not equal to b?"
      ]
    },
    {
      "cell_type": "code",
      "execution_count": null,
      "metadata": {
        "id": "7V0YQmAGVV4R"
      },
      "outputs": [],
      "source": [
        "# How to use a comparison operator to create a condition in an if statement\n",
        "if a == b:\n",
        "    print('Hey, them two variables be equal!')"
      ]
    },
    {
      "cell_type": "code",
      "execution_count": null,
      "metadata": {
        "id": "CXStdParVV4R"
      },
      "outputs": [],
      "source": [
        "# How to use a comparison operator to create a condition in an if statement\n",
        "if a != b:\n",
        "    print('Hey, they ain\\'t equal at all!')"
      ]
    },
    {
      "cell_type": "code",
      "execution_count": null,
      "metadata": {
        "id": "KmoAx71UVV4S"
      },
      "outputs": [],
      "source": [
        "# How to use comparison operators to create conditions in an if-else statement\n",
        "if a == b:\n",
        "    print('Hey, them two variables be equal')\n",
        "else:\n",
        "    print('They ain\\'t equal at all!')"
      ]
    },
    {
      "cell_type": "code",
      "execution_count": null,
      "metadata": {
        "id": "aLKi1ALIVV4S"
      },
      "outputs": [],
      "source": [
        "print(a > b)  # is a greater than b?"
      ]
    },
    {
      "cell_type": "code",
      "execution_count": null,
      "metadata": {
        "id": "DM6RKZ1XVV4S"
      },
      "outputs": [],
      "source": [
        "print((a > b) or (a != b))  # is a greater than b or is a not equal to b?"
      ]
    },
    {
      "cell_type": "code",
      "execution_count": null,
      "metadata": {
        "id": "gOOr-QKxVV4T"
      },
      "outputs": [],
      "source": [
        "print((a > b) and (a != b))  # is a greater than b and is a not equal to b?"
      ]
    },
    {
      "cell_type": "code",
      "execution_count": null,
      "metadata": {
        "scrolled": true,
        "id": "EQpbyD2eVV4T"
      },
      "outputs": [],
      "source": [
        "print(not(a > b) and (a != b))  # is it false that a is greater than b and is it true that a is not equal to b?"
      ]
    },
    {
      "cell_type": "code",
      "source": [
        "# An example of an \"if\" only statement\n",
        "if a > b:\n",
        "    print('a > b')"
      ],
      "metadata": {
        "id": "qq6Oy2HcBQRG"
      },
      "execution_count": null,
      "outputs": []
    },
    {
      "cell_type": "code",
      "source": [
        "# An example of an if-else statement\n",
        "if a > b:\n",
        "    print('a > b')\n",
        "else:\n",
        "    print('a $\\leq$ b')"
      ],
      "metadata": {
        "id": "6bQpsr4hCAaK"
      },
      "execution_count": null,
      "outputs": []
    },
    {
      "cell_type": "code",
      "execution_count": null,
      "metadata": {
        "id": "89vcQLmoVV4T"
      },
      "outputs": [],
      "source": [
        "# An example of an if-elif-else statement\n",
        "if a > b:\n",
        "    print('a > b')\n",
        "elif a < b:\n",
        "    print('a < b')\n",
        "else:\n",
        "    print('They be equal!')"
      ]
    },
    {
      "cell_type": "code",
      "source": [
        "# An example of an if-elif-elif statement\n",
        "if a > b:\n",
        "    print('a > b')\n",
        "elif (a < b):\n",
        "    print('a < b')\n",
        "elif a > 0:\n",
        "    print('a > 0')\n",
        "elif b > 0:\n",
        "    print('b > 0')"
      ],
      "metadata": {
        "id": "zp2EWsgbBbPu"
      },
      "execution_count": null,
      "outputs": []
    },
    {
      "cell_type": "code",
      "execution_count": null,
      "metadata": {
        "id": "_ik4Yg4xVV4T"
      },
      "outputs": [],
      "source": [
        "# An example of a nested set of if-else statements - Pay attention to the indenting\n",
        "if a >= b:\n",
        "    if a > b:\n",
        "        print('a > b')\n",
        "    else:\n",
        "        print('They be equal!')\n",
        "else:\n",
        "    print('a < b')"
      ]
    },
    {
      "cell_type": "markdown",
      "metadata": {
        "id": "Tw0pWXzdVV4U"
      },
      "source": [
        "---\n",
        "\n",
        "## <mark>Activity 1: Exploring and manipulating a logical workflow</mark><a name='activity-basic-logic'/>\n",
        "\n",
        "The code below attempts to evaluate the function\n",
        "<br>\n",
        "\n",
        "$$\n",
        "    \\large f(x) = \\frac{\\sqrt{x}}{(x-2)(x-3)},\n",
        "$$\n",
        "<br>\n",
        "which is only valid for values of $x\\geq 0$ that are also not equal to $2.0$ or $3.0$.\n",
        "\n",
        "1. Try changing different values of `x` in the code snippets below and see what happens.\n",
        "\n",
        "2. The code is missing a control for the case where `x` is a value of `2.0` or `3.0`. Add this case to the code so that f is always assigned some value (even if the value is not a number, i.e., `np.nan`) and some useful feedback is printed to screen whenever a \"bad\" value of `x` is given."
      ]
    },
    {
      "cell_type": "code",
      "execution_count": null,
      "metadata": {
        "id": "TgUvLnxoVV4U"
      },
      "outputs": [],
      "source": [
        "x = -1 # Try different values\n",
        "\n",
        "if x >= 0 and not(x == 2 or x == 3):\n",
        "    f = np.power(x,.5)/((x-2)*(x-3))  # f is the square root of x divided by (x-2)*(x-3)\n",
        "    print( f )\n",
        "elif x < 0:\n",
        "    print( 'Square root of negative number' )\n",
        "    f = np.nan"
      ]
    },
    {
      "cell_type": "markdown",
      "metadata": {
        "id": "svghRTX_VV4U"
      },
      "source": [
        "End of Activity 1.\n",
        "\n",
        "---"
      ]
    },
    {
      "cell_type": "markdown",
      "metadata": {
        "id": "0hBdYhMXVV4V"
      },
      "source": [
        "---\n",
        "\n",
        "## <mark>Activity 2: Coding a \"tent\" function</mark><a name='activity-tent-function'/>\n",
        "\n",
        "Complete the code below to evaluate\n",
        "$$\n",
        "    f(x) = \\begin{cases}\n",
        "                1 + x, & x\\in[-1,0], \\\\\n",
        "                1 - x, & x\\in(0, 1], \\\\\n",
        "                0, & \\text{else}.\n",
        "            \\end{cases}\n",
        "$$\n",
        "\n",
        "Test with different values of `x` as well to check that all cases work."
      ]
    },
    {
      "cell_type": "code",
      "execution_count": null,
      "metadata": {
        "id": "MBpy49JDVV4V"
      },
      "outputs": [],
      "source": [
        "x = -0.5  # Try different values\n",
        "\n",
        "if -1 <= x and x <= 0:\n",
        "    f = 1+x\n",
        "elif :  # else if what exaclty? you need to figure this out\n",
        "    f = 1-x\n",
        "else:\n",
        "    f = 0\n",
        "    \n",
        "print(f)"
      ]
    },
    {
      "cell_type": "markdown",
      "metadata": {
        "id": "7pFqMJMxVV4V"
      },
      "source": [
        "End of Activity 2.\n",
        "\n",
        "---"
      ]
    },
    {
      "cell_type": "markdown",
      "metadata": {
        "id": "ozGGIrNRVV4W"
      },
      "source": [
        "## Functions in Python (Motivation) \n",
        "---\n",
        "<mark> Run the code cell below and click the \"play\" button to see the recorded lecture associated with this notebook.</mark>"
      ]
    },
    {
      "cell_type": "code",
      "execution_count": null,
      "metadata": {
        "id": "Novc5UtPVV4W"
      },
      "outputs": [],
      "source": [
        "from IPython.display import YouTubeVideo\n",
        "\n",
        "YouTubeVideo('UYtbS6S9ATs', width=800, height=450)"
      ]
    },
    {
      "cell_type": "markdown",
      "metadata": {
        "id": "bVy57dA_VV4W"
      },
      "source": [
        "In the code snippets above, a value of `x` serves as the input into a conditional statement that determines what output value `f` should be assigned based on the value of `x`. If we wish to use this functionality many times in the code, we would probably like to avoid writing the if/elif/else structure at each point where it is to be used for a variety of reasons including, but not limited to, the following:\n",
        "\n",
        "- If we ever decide to change how `f` is computed, then we would have to find/replace every instance of it within the code (likely leading to errors, or worse yet, code that does not crash but gives wrong outputs).\n",
        "\n",
        "- Even the most terse scientific code can easily become hundreds (if not thousands) of lines long, and we want to avoid making the code more difficult to read, use, and debug than is absolutely necessary. \n",
        "\n",
        "This motivates the development of user-defined functions in Python. The basic syntax is shown below.\n",
        "\n",
        "```\n",
        "def functionname( parameters ):\n",
        "    '''function_docstring'''\n",
        "    function_suite\n",
        "    return [expression]\n",
        "```"
      ]
    },
    {
      "cell_type": "markdown",
      "metadata": {
        "id": "AXxKC9OPVV4W"
      },
      "source": [
        "### A brief discussion on docstrings and commenting in code\n",
        "---\n",
        "\n",
        "Between the (triple) tick marks ''' (you can also use quotation marks \"\"\" but it looks a little messier in my opinion) is where you put in a \"documentation string\" (a.k.a. ***docstring***) for your function.\n",
        "\n",
        "While it is technically optional, it is always a good idea to document your code even when it is entirely in the developmental/testing phase. There are some best practices that you can read about at https://docs.python.org/devguide/documenting.html or http://docs.python-guide.org/en/latest/writing/documentation/. \n",
        "\n",
        "***You will need to work with docstrings in your assignment.***\n",
        "\n",
        "Good tools such as Sphinx http://www.sphinx-doc.org/en/1.4.9/ can turn properly documented code into easy to read/navigate html files to help expand the community of users for any code you develop. \n",
        "For example, see http://ut-chg.github.io/BET/ where Sphinx was used to generate the documentation. \n",
        "These tools are outside the scope of this module, but we highly recommend that you learn a bit about them before attempting to make very sophisticated software packages. \n",
        "\n",
        "Knowledge of, and proficiency in, using these tools can help give you the edge in a competitive job market! "
      ]
    },
    {
      "cell_type": "markdown",
      "metadata": {
        "id": "wXcQihqFVV4X"
      },
      "source": [
        "### parameters and keyword arguments in a function\n",
        "Notice that in the definition of the function, there is a `parameters` variable, which is often a list of parameters (as shown below). These are normally ordered **UNLESS** you supplement them with *keyword args* in the function call (i.e., when you actually use the function you may specify which argument corresponds to which parameter).  \n",
        "\n",
        "The next few code snippet illustrates this."
      ]
    },
    {
      "cell_type": "code",
      "execution_count": null,
      "metadata": {
        "id": "_KNgJYSLVV4X"
      },
      "outputs": [],
      "source": [
        "def myfun1(x, y):\n",
        "    '''\n",
        "    This function returns x+2y if x<y otherwise it returns x-2y.\n",
        "    '''\n",
        "    if x < y:\n",
        "        z = x + 2*y\n",
        "    else:\n",
        "        z = x - 2*y\n",
        "    return z"
      ]
    },
    {
      "cell_type": "code",
      "execution_count": null,
      "metadata": {
        "id": "wbdDOh78VV4X"
      },
      "outputs": [],
      "source": [
        "# Here is a good reason to have docstrings - you can now use help to recall what a function does!\n",
        "help(myfun1)"
      ]
    },
    {
      "cell_type": "code",
      "execution_count": null,
      "metadata": {
        "id": "dozknb0GVV4Y"
      },
      "outputs": [],
      "source": [
        "print( myfun1(2,3) )"
      ]
    },
    {
      "cell_type": "code",
      "execution_count": null,
      "metadata": {
        "id": "cHMHlCQ_VV4Y"
      },
      "outputs": [],
      "source": [
        "print( myfun1(2.0,3.0) )"
      ]
    },
    {
      "cell_type": "code",
      "execution_count": null,
      "metadata": {
        "id": "FLZjiBs2VV4Y"
      },
      "outputs": [],
      "source": [
        "print( myfun1(3.0,2.0) )  # switching order of inputs"
      ]
    },
    {
      "cell_type": "code",
      "execution_count": null,
      "metadata": {
        "id": "VkwJb7WaVV4Y"
      },
      "outputs": [],
      "source": [
        "print( myfun1(x=2,y=3.0) )  # keyword argument"
      ]
    },
    {
      "cell_type": "code",
      "execution_count": null,
      "metadata": {
        "id": "s1UjcaxRVV4Z"
      },
      "outputs": [],
      "source": [
        "print( myfun1(y=3.0,x=2.0) )  # switching the order of inputs of keyword arguments does nothing"
      ]
    },
    {
      "cell_type": "code",
      "execution_count": null,
      "metadata": {
        "id": "JFuekcR0VV4Z"
      },
      "outputs": [],
      "source": [
        "# Try printing myfun1(x=2,3.0). \n",
        "\n",
        "print(myfun1(x=2,3.0))\n",
        "\n",
        "# The take home message? \n",
        "# Once you commit to using keywords in a function call, \n",
        "# then you better be all in."
      ]
    },
    {
      "cell_type": "code",
      "execution_count": null,
      "metadata": {
        "id": "GSaU2WePVV4Z"
      },
      "outputs": [],
      "source": [
        "print( myfun1('silly ','test') )"
      ]
    },
    {
      "cell_type": "code",
      "execution_count": null,
      "metadata": {
        "id": "sbwHykxkVV4Z"
      },
      "outputs": [],
      "source": [
        "print(z)"
      ]
    },
    {
      "cell_type": "code",
      "execution_count": null,
      "metadata": {
        "id": "hlxSQJiIVV4a"
      },
      "outputs": [],
      "source": [
        "z = myfun1(2,3)\n",
        "print(z)"
      ]
    },
    {
      "cell_type": "code",
      "execution_count": null,
      "metadata": {
        "id": "i2E2xhhGVV4a"
      },
      "outputs": [],
      "source": [
        "myfun1(4,7)"
      ]
    },
    {
      "cell_type": "code",
      "execution_count": null,
      "metadata": {
        "id": "r1PpbDJEVV4a"
      },
      "outputs": [],
      "source": [
        "print(z)"
      ]
    },
    {
      "cell_type": "markdown",
      "metadata": {
        "id": "4YYHOJW2VV4a"
      },
      "source": [
        "### Functions and type checking\n",
        "---\n",
        "\n",
        "<mark> ***Key Points:*** </mark>\n",
        "\n",
        "- As the above code cells demonstrate, Python does *not* type check the inputs and will *attempt* to perform operations on whatever is passed to a function. This can be useful in terms of its flexibility, but it can cause some issues. \n",
        "\n",
        "- You can incorporate logic along with the built-in function `type` at the beginning of a user-defined function to check if the expected variable types were passed to a function before any computations are performed.\n",
        "\n",
        "    - Generally, a better approach is to use the [`isinstance`](https://docs.python.org/3/library/functions.html#isinstance) function instead of a combination of logic and `type` to check variable types. \n",
        "    \n",
        "We are not going to dwell on this anymore in this notebook. \n",
        "We simply want you to be aware that nothing is stopping a user from trying to pass the \"wrong\" types of arguments to a function (in fact, sometimes people try this just to see if they can). \n",
        "If this is something you are worried about, then there are ways to prevent this from causing a \"crash\" in the code by either\n",
        "\n",
        "1. checking variable types before computations are done, or\n",
        "2. Putting `try` commands in the function like seen in 02_HW_part_b notebook. "
      ]
    },
    {
      "cell_type": "markdown",
      "metadata": {
        "id": "tJI2AU9TVV4b"
      },
      "source": [
        "### Default parameter values\n",
        "---\n",
        "\n",
        "<mark> ***Key Points:*** </mark>\n",
        "\n",
        "- Python allows you to set defaults within the parameter list of a function call.\n",
        "\n",
        "- Defaults need to **come after** functions parameters with non-default values. So, if you have some function parameters that you do not want to set default values for, then you should put those *before* any parameters with default values.\n",
        "\n",
        "    - A parameter without a default value is called a **positional argument** because we can evaluate the function by just passing the values of variables in the right *position* without using the parameter name as it appears in the function.\n",
        "\n",
        "\n",
        "Let's tweak `myfun1` a little to see this in action."
      ]
    },
    {
      "cell_type": "code",
      "execution_count": null,
      "metadata": {
        "id": "ilVNvU7TVV4b"
      },
      "outputs": [],
      "source": [
        "def myfun2(x, y=2):  # The default y=2 must occur after the non-default x variable\n",
        "    '''\n",
        "    This function is the same as myfun1 except with default values for parameters\n",
        "    '''\n",
        "    if x<y:\n",
        "        z = x + 2*y\n",
        "    else:\n",
        "        z = x - 2*y\n",
        "    return z"
      ]
    },
    {
      "cell_type": "code",
      "execution_count": null,
      "metadata": {
        "id": "z6K5eIshVV4b"
      },
      "outputs": [],
      "source": [
        "# THIS WILL PRODUCE AN ERROR BECAUSE NOT ALL PARAMETERS HAVE DEFAULT VALUES \n",
        "print(myfun2())"
      ]
    },
    {
      "cell_type": "code",
      "execution_count": null,
      "metadata": {
        "scrolled": true,
        "id": "ptlMkr3DVV4b"
      },
      "outputs": [],
      "source": [
        "# We can pass the value of x positionally as the first input\n",
        "print(myfun2(1.0))  # This will use the default value for y"
      ]
    },
    {
      "cell_type": "code",
      "execution_count": null,
      "metadata": {
        "id": "pM18h7dpVV4c"
      },
      "outputs": [],
      "source": [
        "print(myfun2(1.0, 3.0))  # You can input everything in order without keywords"
      ]
    },
    {
      "cell_type": "code",
      "execution_count": null,
      "metadata": {
        "id": "_r7gjw8GVV4c"
      },
      "outputs": [],
      "source": [
        "print(myfun2(y=3.0, x=1.0))  # You can switch orders as long as you specify the keywords"
      ]
    },
    {
      "cell_type": "markdown",
      "metadata": {
        "id": "ZrZyNxFnVV4c"
      },
      "source": [
        "**We can even use function outputs directly as inputs to another function!**"
      ]
    },
    {
      "cell_type": "code",
      "execution_count": null,
      "metadata": {
        "id": "C2UaqN5CVV4c"
      },
      "outputs": [],
      "source": [
        "print( myfun1(myfun2(1.0), myfun2(1.0, y=3) ) )"
      ]
    },
    {
      "cell_type": "markdown",
      "metadata": {
        "id": "FBVDHwNRVV4c"
      },
      "source": [
        "---\n",
        "\n",
        "## <mark> Activity 3: A temperature converter function </mark><a name='activity-temperature'>\n",
        "\n",
        "1. Complete the code below that either converts a temperature given in Celsius to Fahrenheit, a temperature given in Fahrenheit to Celsius, or if two temperatures are given (one in Celsius and one in Fahrenheit) will check if they are the same.\n",
        "\n",
        "2. Add a useful docstring to the function.\n",
        "\n",
        "3. Execute the code cells that follow."
      ]
    },
    {
      "cell_type": "code",
      "execution_count": null,
      "metadata": {
        "id": "KgZM9Hi2VV4d"
      },
      "outputs": [],
      "source": [
        "def tempFunc(F=None, C=None):\n",
        "    '''\n",
        "    Your docstring should go here.\n",
        "    '''\n",
        "    if F == None and C == None:\n",
        "        print('Why do you bother me if you want nothing?')\n",
        "    elif F == None:  # So C is given and I shall give you F\n",
        "        print( str(C) + ' Celsius = ' \n",
        "              + str(C * 9/5 + 32) + ' Fahrenheit' )\n",
        "    elif C == None:  # So F is given and I shall give you C\n",
        "        print( )  # Complete this part so that F is converted to C\n",
        "    else:  # So F and C are both given and I shall determine if they are the same\n",
        "        if np.abs(F - (C*9/5+32)) < np.finfo(np.float32).eps:\n",
        "            print('Those temperatures are the same!')\n",
        "        else:\n",
        "            print('Those temperatures are different!')"
      ]
    },
    {
      "cell_type": "code",
      "execution_count": null,
      "metadata": {
        "id": "c3Qr7UhIVV4d"
      },
      "outputs": [],
      "source": [
        "tempFunc(F=212, C = 100)"
      ]
    },
    {
      "cell_type": "code",
      "execution_count": null,
      "metadata": {
        "id": "KxdxZ6wyVV4d"
      },
      "outputs": [],
      "source": [
        "tempFunc(F=212)"
      ]
    },
    {
      "cell_type": "code",
      "execution_count": null,
      "metadata": {
        "id": "ivsgazzmVV4d"
      },
      "outputs": [],
      "source": [
        "tempFunc(C=100)"
      ]
    },
    {
      "cell_type": "code",
      "execution_count": null,
      "metadata": {
        "id": "1Ozay4lLVV4e"
      },
      "outputs": [],
      "source": [
        "tempFunc()"
      ]
    },
    {
      "cell_type": "code",
      "execution_count": null,
      "metadata": {
        "id": "s3YIETEGVV4e"
      },
      "outputs": [],
      "source": [
        "tempFunc?"
      ]
    },
    {
      "cell_type": "code",
      "execution_count": null,
      "metadata": {
        "scrolled": true,
        "id": "mHIiLNFCVV4e"
      },
      "outputs": [],
      "source": [
        "help(tempFunc)"
      ]
    },
    {
      "cell_type": "markdown",
      "metadata": {
        "id": "l9c1qRyqVV4e"
      },
      "source": [
        "End of Activity 3.\n",
        "\n",
        "---"
      ]
    },
    {
      "cell_type": "markdown",
      "metadata": {
        "id": "462Yb7jFVV4f"
      },
      "source": [
        "## Now something subtle. Pass by reference, pass by value, and in-place operators. \n",
        "---\n",
        "\n",
        "<mark> Run the code cell below and click the \"play\" button to see the recorded lecture associated with this notebook.</mark>"
      ]
    },
    {
      "cell_type": "code",
      "execution_count": null,
      "metadata": {
        "id": "83u8MRMrVV4f"
      },
      "outputs": [],
      "source": [
        "from IPython.display import YouTubeVideo\n",
        "\n",
        "YouTubeVideo('ovdJPPOWZWU', width=800, height=450)"
      ]
    },
    {
      "cell_type": "markdown",
      "metadata": {
        "id": "Dl9ozX1OVV4f"
      },
      "source": [
        "First, we want to say that it is okay if this does not make perfect sense the first (ten) time(s) you work through this. \n",
        "\n",
        "For more information on this, we encourage you to do some searching online (the answers provided here: https://stackoverflow.com/questions/373419/whats-the-difference-between-passing-by-reference-vs-passing-by-value are a good place to start) and playing around with the simple code below to build intuition.\n",
        "\n",
        "***There is very little substitute for some time and patience in learning this correctly. Here, we seek to just build some basic intuition about what is going on so that you can be aware of some potential pitfalls.***"
      ]
    },
    {
      "cell_type": "markdown",
      "metadata": {
        "id": "f-1uyu4ZVV4f"
      },
      "source": [
        "### Metaphorically speaking\n",
        "---\n",
        "\n",
        "Suppose you are the function and I pass you information that is written on paper:\n",
        "\n",
        "- ***Pass by value*** is where I copy something from one piece of paper onto another *new* piece of paper and hand the copy to you. Maybe the information includes that `x=5`. This information is now on the *copy* paper which I have given to you, so now it is effectively *your* piece of paper. You are now free to write on that piece of paper to use that information however you please. Maybe you decide to act upon this information by multiplying the variable `x` by 2, so that you erase what I wrote and write that now `x=10` on your piece of paper. You then return that piece of paper to me. Does this change what was written on my *original* piece of paper? No! However, I may choose to use your information to then update the information on my original paper, but I am the one that needs to explicitly make that choice. It is not made for me just because you gave me a piece of paper back.\n",
        "   \n",
        "- ***Pass by reference*** is when I give you my original paper which has something written down on it like `x=5`. Now, if you decide that the value of `x` should be double so that you *erase and replace* `x=5` with `x=10` and then give me the paper back, my paper now contains this updated information about `x` regardless if I wanted it to or not. The choice has been made for me that `x=10`. Gee, thanks.\n",
        "\n",
        "\n",
        "What is the moral here? If I do not want your function to change my information about `x` without my consent, then I should have passed it to you by value."
      ]
    },
    {
      "cell_type": "markdown",
      "metadata": {
        "id": "-R1SNJhRVV4g"
      },
      "source": [
        "### Technically speaking\n",
        "---\n",
        "\n",
        "- ***Pass by value*** means Python creates a new copy of the variable within the function. Or, in other words, a \"new paper\" is used to track the variable information so that the original variable information is not necessarily changed. \n",
        "\n",
        "Variables that are strings, floats, and ints are passed by value (*they are immutable data types* meaning that the value is left unchanged by the function).\n",
        "\n",
        "\n",
        "- ***Pass by reference*** means Python passes the memory address (i.e., location) where the variable is stored in the computer. Or, in other words, my \"original paper\" is passed. \n",
        "\n",
        "This can cause some different behavior when certain **in-place** operators are used (we'll see an example below).\n",
        "\n",
        "Classes, lists, numpy arrays, etc. are passed by reference by default. \n",
        "\n",
        "Objects that are passed by reference are called *mutable* (meaning they can mutate, i.e., change after creation). \n"
      ]
    },
    {
      "cell_type": "markdown",
      "source": [
        "\n",
        "\n",
        "#### What is this thing called *scope*?\n",
        "Python variables created within a function have what is called a local *scope*.\n",
        "- *scope* usually refers to the visibility of variables. In other words, which parts of your program can see or use it.  ***Local scope*** usually means only the called function knows about these variables created within it and they are \"visibily hidden\" from the rest of the code. "
      ],
      "metadata": {
        "id": "58Hq_1iTnHAP"
      }
    },
    {
      "cell_type": "code",
      "source": [
        "import numpy as np"
      ],
      "metadata": {
        "id": "ggYt0-O-pffo"
      },
      "execution_count": null,
      "outputs": []
    },
    {
      "cell_type": "code",
      "execution_count": null,
      "metadata": {
        "id": "yXQvp6sUVV4g"
      },
      "outputs": [],
      "source": [
        "def scope_test(var):\n",
        "    print()\n",
        "    print('The variable passed to scope_test is ' +\n",
        "        '\\n var = ', var)\n",
        "    var *= 2  # if var is mutable, replaces in-place (pass-by-reference)\n",
        "    print()\n",
        "    print('Within scope_test, the passed variable is ' +\n",
        "          'changed to \\n var = ', var)\n",
        "    a = 3\n",
        "    print()\n",
        "    print('Within scope_test, we set the variable \\n a =', a)\n",
        "    return"
      ]
    },
    {
      "cell_type": "code",
      "execution_count": null,
      "metadata": {
        "id": "HBODQe7HVV4g"
      },
      "outputs": [],
      "source": [
        "a = 2  # An integer is an immutable data type\n",
        "\n",
        "print('Before scope_test,\\n a =', a)\n",
        "scope_test(a)\n",
        "print()\n",
        "print('After scope_test,\\n a =', a)"
      ]
    },
    {
      "cell_type": "code",
      "execution_count": null,
      "metadata": {
        "id": "MU9uRxHsVV4g"
      },
      "outputs": [],
      "source": [
        "a = np.ones([2,2])  # numpy arrays are mutable\n",
        "\n",
        "print('Before scope_test, \\n a =', a)\n",
        "scope_test(a)\n",
        "print()\n",
        "print('After scope_test, \\n a =', a)"
      ]
    },
    {
      "cell_type": "code",
      "execution_count": null,
      "metadata": {
        "id": "ku4dAR9CVV4h"
      },
      "outputs": [],
      "source": [
        "a = np.ones([2,2])  # numpy arrays are mutable\n",
        "b = 2 * a\n",
        "print('Before scope_test, \\n a =', a)\n",
        "scope_test(b)\n",
        "print()\n",
        "print('After scope_test(b), \\n a =', a)\n",
        "print(b)"
      ]
    },
    {
      "cell_type": "markdown",
      "metadata": {
        "id": "XNaF7DJrVV4h"
      },
      "source": [
        "### Wait a minute...\n",
        "---\n",
        "\n",
        "What if we want to do local work to a *mutable* data type (i.e. a numpy array) but not have the change reflected back after function exit?  \n",
        "\n",
        "The answer is to ***not*** use *in-place* operators like `+=`, `\\=`, `*=`, etc. \n",
        "\n",
        "Instead, using something like `var = var*2` creates a local copy of var and multiplies 2 to every entry."
      ]
    },
    {
      "cell_type": "code",
      "execution_count": null,
      "metadata": {
        "id": "Dph-XwiOVV4h"
      },
      "outputs": [],
      "source": [
        "def scope_test2(var):\n",
        "    var = var * 2  # if mutable, creates local copy of var.\n",
        "    return "
      ]
    },
    {
      "cell_type": "code",
      "execution_count": null,
      "metadata": {
        "id": "CcI-kkGJVV4h"
      },
      "outputs": [],
      "source": [
        "a = np.eye(3)  # creates 3x3 array with a_ii = 1, 0 otherwise.\n",
        "print('Before scope_test2,\\n a =', a)\n",
        "scope_test2(a)\n",
        "print()\n",
        "print('After scope_test2,\\n a =', a)"
      ]
    },
    {
      "cell_type": "code",
      "execution_count": null,
      "metadata": {
        "id": "ji2bj07LVV4i"
      },
      "outputs": [],
      "source": [
        "a = ['hi', 3, myfun1]  # this is a strange list indeed!\n",
        "\n",
        "print( 'Before scope_test, \\n a =', a )\n",
        "scope_test(a)\n",
        "print()\n",
        "print( 'After scope_test(, \\n a =', a )"
      ]
    },
    {
      "cell_type": "code",
      "execution_count": null,
      "metadata": {
        "id": "lnRFVj7wVV4i"
      },
      "outputs": [],
      "source": [
        "a = ['hi', 3, myfun1]  # this is a strange list indeed!\n",
        "\n",
        "print( 'Before scope_test2, \\n a =', a )\n",
        "scope_test2(a)\n",
        "print()\n",
        "print( 'After scope_test2(, \\n a =', a )"
      ]
    },
    {
      "cell_type": "markdown",
      "metadata": {
        "id": "funhRsiLVV4i"
      },
      "source": [
        "---\n",
        "\n",
        "## <mark>Instructor-Led Activity: To use or not to use in-place operators in functions</mark> \n",
        "\n",
        "The simplest formula for the height of a falling object, under the influence of gravity and dropped from an initial height, is given by:\n",
        "$$\n",
        "    h(t) = h(0) - \\frac{1}{2}gt^2\n",
        "$$\n",
        "where\n",
        "- $h(t)$ = the final height of the object at time $t$\n",
        "- $h(0)$ = initial height of the object when it is dropped at time $0$\n",
        "- $g$ = gravitational constant (on Earth this is approximately 32 ft/s$^2$ or 9.8 m/s$^2$)\n",
        "- $t$ = the total amount of time the object has been falling (in units of seconds)\n",
        "\n",
        "This is a rather crude model as it assumes the object falls in a vacuum (so that air resistance is neglected) and $h(t)$ can be negative if we choose $t$ large enough, which is kind of silly. \n",
        "\n",
        "Despite these crude aspects of the model, we will use this formula to estimate the final heights for some objects falling over various amounts of time while subject to different gravitational constants and dropped from different heights. \n",
        "\n",
        "However, we have two separate objectives. One is to predict the estimated distance traveled for objects that are not yet falling, while the other objective is to update the distance traveled for objects that are already falling.\n",
        "\n",
        "Below, create two functions, `predict_distance` and `update_distance` that perform elementwise operations on numpy arrays of $h$, $g$, and $t$ values. Use an in-place operator to update the array of $h$ values directly in the `update_distance` function."
      ]
    },
    {
      "cell_type": "code",
      "execution_count": null,
      "metadata": {
        "id": "vQsrHHVXVV4j"
      },
      "outputs": [],
      "source": []
    },
    {
      "cell_type": "code",
      "execution_count": null,
      "metadata": {
        "id": "D0s8Jqw2VV4j"
      },
      "outputs": [],
      "source": []
    },
    {
      "cell_type": "code",
      "execution_count": null,
      "metadata": {
        "id": "32Tl4nHKVV4j"
      },
      "outputs": [],
      "source": []
    },
    {
      "cell_type": "code",
      "execution_count": null,
      "metadata": {
        "id": "qn4VLqWgVV4j"
      },
      "outputs": [],
      "source": []
    },
    {
      "cell_type": "code",
      "execution_count": null,
      "metadata": {
        "id": "HyhEyIQfVV4j"
      },
      "outputs": [],
      "source": []
    },
    {
      "cell_type": "code",
      "execution_count": null,
      "metadata": {
        "id": "8fm0rGTSVV4j"
      },
      "outputs": [],
      "source": []
    },
    {
      "cell_type": "code",
      "execution_count": null,
      "metadata": {
        "id": "aTrYj8l-VV4n"
      },
      "outputs": [],
      "source": []
    },
    {
      "cell_type": "markdown",
      "metadata": {
        "id": "h6ppa3a-VV4n"
      },
      "source": [
        "--- \n",
        "\n",
        "## <mark>Activity 4: Investment functions</mark><a name='activity-invest'>\n",
        "\n",
        "You have probably heard of the *power of compound interest*. \n",
        "The basic formula boils down to this:\n",
        "$$\n",
        "  \\large A = P\\left(1+\\frac{r}{n}\\right)^{nt}\n",
        "$$\n",
        "where\n",
        "- $A$ = final amount\n",
        "- $P$ = initial principal balance (e.g., 1000 USD)\n",
        "- $r$ = interest rate (e.g., 0.072 represents a rate of 7.2% which is the necessary APR required to double your principal investment every ten years)\n",
        "- $n$ = number of times interest rate is applied per time period (e.g., if one time period is a year and interest is compounded quarterly, then $n=4$)\n",
        "- $t$ = number of time periods elapsed\n",
        "\n",
        "\n",
        "Make two functions `projected_balance` and `update_balance`  in individual code cells below that have the following properties:\n",
        "\n",
        "- Each function should use the formula above to perform elementwise operations on a numpy array of $P$, $r$, $n$, and $t$ values. \n",
        "\n",
        "- For `update_balance` use an in-place operator to update the array of $P$ values **directly** instead of creating a new $A$ array. Comment your code with some explanation as to why this is okay in `update_balance` but not in `projected_balance` (where a new array of $A$ values should be returned).\n",
        "\n",
        "- Execute your functions with some different choices of *arrays* for the variables and print/interpret results (create new code cells to do this and a Markdown cell to more clearly explain results). In particular, you should verify the \"rule of 72\" (look this up if you have never heard of it before as it is a powerful rule of thumb to guide future investment decisions especially as they are related to your retirement).\n",
        "    \n",
        "*Note:* You should encounter an error in the `update_balance` function if you start with an array of principal values that are all of type `int`. I suggest you try this, and see if you get an error like this: \n",
        "\n",
        "`UFuncTypeError: Cannot cast ufunc 'multiply' output from dtype('float64') to dtype('int64') with casting rule 'same_kind'`\n",
        "\n",
        "A reasonable person would ask \"well, wtf does that mean and why am I seeing this?\" It has to do with the fact that the in-place operator has an issue when the data types are different in the arrays. How can you get around this? Well, try casting all arrays as floats (we have seen how to do this in module 02). "
      ]
    },
    {
      "cell_type": "code",
      "execution_count": null,
      "metadata": {
        "id": "7xoqt4wrVV4o"
      },
      "outputs": [],
      "source": []
    },
    {
      "cell_type": "code",
      "execution_count": null,
      "metadata": {
        "id": "wsvgTjBaVV4o"
      },
      "outputs": [],
      "source": []
    },
    {
      "cell_type": "code",
      "execution_count": null,
      "metadata": {
        "id": "djLgaF3LVV4o"
      },
      "outputs": [],
      "source": []
    },
    {
      "cell_type": "markdown",
      "metadata": {
        "id": "jK_v1Va9VV4o"
      },
      "source": []
    },
    {
      "cell_type": "markdown",
      "metadata": {
        "id": "S-tNFFdVVV4o"
      },
      "source": [
        "End of Activity 4.\n",
        "\n",
        "---"
      ]
    },
    {
      "cell_type": "markdown",
      "metadata": {
        "id": "J1tf3TdVVV4p"
      },
      "source": [
        "---\n",
        "\n",
        "## <mark>Activity: Summary</mark> <a name='activity-summary'/>\n",
        "\n",
        "Summarize some of the key takeaways/points from this notebook in a list below and prepare a few code examples related to these takeaways/points in the code cells below. You need to have at least one example for each of your summary points and you need at least three summary points.\n",
        "\n"
      ]
    },
    {
      "cell_type": "markdown",
      "source": [
        "\n",
        "- [Your summary point 1 goes here]\n",
        "\n"
      ],
      "metadata": {
        "id": "gYVlSZoLZMOa"
      }
    },
    {
      "cell_type": "code",
      "execution_count": null,
      "metadata": {
        "id": "rRzguLFPVV4p"
      },
      "outputs": [],
      "source": []
    },
    {
      "cell_type": "markdown",
      "metadata": {
        "id": "Pu2fHAZGVV4p"
      },
      "source": [
        "\n",
        "- [Your summary point 2 goes here]\n",
        "\n"
      ]
    },
    {
      "cell_type": "code",
      "execution_count": null,
      "metadata": {
        "id": "dhRBOGspVV4p"
      },
      "outputs": [],
      "source": []
    },
    {
      "cell_type": "markdown",
      "metadata": {
        "id": "JlRQ-crcVV4p"
      },
      "source": [
        "\n",
        "- [Your summary point 3 goes here]"
      ]
    },
    {
      "cell_type": "code",
      "execution_count": null,
      "metadata": {
        "id": "sUr9S3MRVV4q"
      },
      "outputs": [],
      "source": []
    },
    {
      "cell_type": "markdown",
      "metadata": {
        "id": "d5IA0qG6VV4q"
      },
      "source": [
        "End of Summary Activity.\n",
        "\n",
        "---"
      ]
    },
    {
      "cell_type": "markdown",
      "metadata": {
        "id": "lftfqrJ6VV4q"
      },
      "source": [
        "### [Click here to return to Notebook Contents](#Contents)"
      ]
    }
  ],
  "metadata": {
    "anaconda-cloud": {},
    "kernelspec": {
      "display_name": "Python 3",
      "language": "python",
      "name": "python3"
    },
    "language_info": {
      "codemirror_mode": {
        "name": "ipython",
        "version": 3
      },
      "file_extension": ".py",
      "mimetype": "text/x-python",
      "name": "python",
      "nbconvert_exporter": "python",
      "pygments_lexer": "ipython3",
      "version": "3.8.8"
    },
    "colab": {
      "provenance": [],
      "collapsed_sections": [
        "AXxKC9OPVV4W",
        "4YYHOJW2VV4a",
        "f-1uyu4ZVV4f",
        "lftfqrJ6VV4q"
      ]
    }
  },
  "nbformat": 4,
  "nbformat_minor": 0
}