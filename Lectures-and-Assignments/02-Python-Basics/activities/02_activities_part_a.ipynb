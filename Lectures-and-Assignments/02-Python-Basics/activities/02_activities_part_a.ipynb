{
  "cells": [
    {
      "cell_type": "markdown",
      "metadata": {
        "id": "FUVyB2uhmZ7O"
      },
      "source": [
        "# Math  1376: Programming for Data Science\n",
        "---\n",
        "\n",
        "## External activities for 02-Python-basics-lecture-part-a\n",
        "---\n",
        "\n",
        "**Expected time to completion: 30-45 minutes**"
      ]
    },
    {
      "cell_type": "markdown",
      "metadata": {
        "id": "KSxItJAJmZ7Q"
      },
      "source": [
        "---\n",
        "\n",
        "## Activity 1: Fixing errors, casting, and printing\n",
        "\n",
        "- Fill in the missing pieces of the code cell below to remove all errors and define variable `y` as a string version of `float(x)` and print both `y` and `x`. *Watch out for syntax errors due to missing commas.*\n",
        "\n",
        "- Create a markdown cell below the code cell to explain what you think the code used to define `y` is doing."
      ]
    },
    {
      "cell_type": "code",
      "execution_count": null,
      "metadata": {
        "id": "-DPq-4BbmZ7Q"
      },
      "outputs": [],
      "source": [
        "x = 15\n",
        "\n",
        "y =   # y should cast float(x) as a str\n",
        "\n",
        "print()\n",
        "print( 'y =', y, 'is of type' type(), \n",
        "       'and x =',  , 'is of type', type() )"
      ]
    },
    {
      "cell_type": "markdown",
      "metadata": {
        "id": "VfCvPt-2mZ7S"
      },
      "source": [
        "End of Activity 1.\n",
        "\n",
        "---"
      ]
    },
    {
      "cell_type": "markdown",
      "metadata": {
        "id": "TwpfRzpOmZ7S"
      },
      "source": [
        "---\n",
        "## Activity 2: Fixing errors, casting, and printing\n",
        "\n",
        "Use the comments in the code cell below to help fill in the missing pieces of the code that creates and prints the string variable `str_var`."
      ]
    },
    {
      "cell_type": "code",
      "execution_count": null,
      "metadata": {
        "id": "v97sOV28mZ7T"
      },
      "outputs": [],
      "source": [
        "e = 2.71828  # Approximation to Euler's number\n",
        "\n",
        "e_int_str =   # first cast e as an int and then cast as a string\n",
        "\n",
        "str_var = str(e) + ' is a reasonable approximation to e, but\\n'\n",
        "\n",
        "str_var += e_int_str + ' is a terrible approximation of e.'\n",
        "\n",
        "print()\n",
        "print(str_var)"
      ]
    },
    {
      "cell_type": "markdown",
      "metadata": {
        "id": "Kz8kQ67UmZ7T"
      },
      "source": [
        "End of Activity 2.\n",
        "\n",
        "---"
      ]
    }
  ],
  "metadata": {
    "kernelspec": {
      "display_name": "Python 3",
      "language": "python",
      "name": "python3"
    },
    "language_info": {
      "codemirror_mode": {
        "name": "ipython",
        "version": 3
      },
      "file_extension": ".py",
      "mimetype": "text/x-python",
      "name": "python",
      "nbconvert_exporter": "python",
      "pygments_lexer": "ipython3",
      "version": "3.8.8"
    },
    "colab": {
      "name": "02_activities_part_a.ipynb",
      "provenance": [],
      "collapsed_sections": []
    }
  },
  "nbformat": 4,
  "nbformat_minor": 0
}