{
 "cells": [
  {
   "cell_type": "markdown",
   "metadata": {},
   "source": [
    "# Math  1376: Programming for Data Science\n",
    "---\n",
    "\n",
    "## A prologue to Computational Applications: Classes\n",
    "---\n",
    "\n",
    "## Module 04: Some useful applications of Modules 01-03\n",
    "---\n",
    "\n",
    "In this module, we will now pull together material across our first three modules to solve some practical problems. \n",
    "\n",
    "You may find it useful to review the notebooks in those modules beforehand or just simply open some of the notebooks to have their contents available to review as necessary. \n",
    "\n",
    "While there are a seemingly endless number of practical problems we can attempt to solve with what we have learned so far, we will focus on three ubiquitous problems in the computational sciences.\n",
    "\n",
    "- Root-finding. (The content of Part (a) of this module.)\n",
    "\n",
    "- Numerical integration. (The content of Part (b) of this module.)\n",
    "\n",
    "- Optimization. (This content is pursued in the homework of this module.)"
   ]
  },
  {
   "cell_type": "markdown",
   "metadata": {},
   "source": [
    "## Learning Objectives for Prologue on Classes\n",
    "\n",
    "- Create a (super-)class and sub-class.\n",
    "\n",
    "- Understand the difference between data and method attributes in a class.\n",
    "\n",
    "- Create proper docstrings and new attributes to modify/improve a class."
   ]
  },
  {
   "cell_type": "markdown",
   "metadata": {},
   "source": [
    "## Notebook contents <a id='Contents'></a>\n",
    "\n",
    "- <a href='#Class'>What is a class and why study it here?</a>\n",
    "\n",
    "    - <a href='#Creating-classes'>Creating classes and objects</a>\n",
    "    \n",
    "    - <a href='#Mutable-data'>Mutable data attributes</a>\n",
    "\n",
    "    - <a href='#activity-polynomials'>Activity: Classes of polynomials</a>\n",
    "\n",
    "- <a href='#sub-classes'> Sub-classes and super-classes</a>\n",
    "\n",
    "    - <a href='#activity-your-classes'>Activity: Implementing the secant algorithm</a>\n",
    "\n",
    "\n",
    "- <a href='#Importing-class-module'>Importing and using a module of classes </a>\n",
    "\n",
    "- <a href='#activity-summary'>Activity: Summary</a>"
   ]
  },
  {
   "cell_type": "markdown",
   "metadata": {},
   "source": [
    "## So what is a class and why study it here? <a id='Class'></a>\n",
    "---\n",
    "\n",
    "We get deeper into this below, but at a high-level, when we find that we are solving many different instances of a particular \"class\" of problems (e.g., root-finding, numeircal integration, or optimization) that involves various data and method attributes (e.g., a mathematical function $f(x)$, some details about the problem, and an algorithm to follow to manipulate these attributes to obtain some particular quantity of interest), it becomes useful to instantiate an object for each particular problem from a given class that \"holds\" (in a sense) all of this information inside of it.\n",
    "\n",
    "I know that was a lot of words to digest, but we parse it out carefully below. After you get through the notebook, come back and re-read the above paragraph. You may also find it useful to reference the above paragraph a few more times throughout this module as we begin to define objects that help us solve root-finding, numerical integration, and optimization problems."
   ]
  },
  {
   "cell_type": "code",
   "execution_count": null,
   "metadata": {},
   "outputs": [],
   "source": [
    "# Packages and functions we utilize in this lecture notebook\n",
    "\n",
    "import numpy as np\n",
    "import matplotlib.pyplot as plt\n",
    "%matplotlib widget\n",
    "\n",
    "from matplotlib.patches import Polygon \n",
    "from matplotlib.patches import Rectangle\n",
    "from matplotlib.collections import PatchCollection\n",
    "\n",
    "from ipywidgets import interact, interactive, fixed, interact_manual\n",
    "import ipywidgets as widgets"
   ]
  },
  {
   "cell_type": "markdown",
   "metadata": {},
   "source": [
    "## A short tutorial on [`classes`](https://docs.python.org/3/tutorial/classes.html) and objects\n",
    "---\n",
    "    \n",
    "<span style='background:rgba(255,255,0, 0.25); color:black'> Run the code cell below and click the \"play\" button to see a recorded lecture associated with this part of the notebook.</span>"
   ]
  },
  {
   "cell_type": "code",
   "execution_count": null,
   "metadata": {
    "tags": []
   },
   "outputs": [],
   "source": [
    "# 1. Running this cell will embed the short recorded lecture associated with this part of the notebook\n",
    "# 2. Press on the \"play\" button to start the video.\n",
    "\n",
    "from IPython.display import YouTubeVideo\n",
    "\n",
    "YouTubeVideo('Sz8pxrH02fM', width=800, height=450)"
   ]
  },
  {
   "cell_type": "markdown",
   "metadata": {},
   "source": [
    "### You are already familiar with objects and classes!\n",
    "---\n",
    "\n",
    "Yes, you really are! Lists and NumPy [arrays](https://numpy.org/doc/stable/reference/generated/numpy.array.html) are *objects*. \n",
    "For example, you can read more information on the array objects here: https://scipy-lectures.org/intro/numpy/array_object.html.\n",
    "\n",
    "This means we are in a good position to now discuss some of the fundamentals of [object oriented programming (OOP)](https://en.wikipedia.org/wiki/Object-oriented_programming).\n",
    "Now is a particularly good time to do so since improving your familiarity with OOP can improve your general problem solving ability and also understanding of how many machine learning libraries are designed, which is where we ultimately conclude this course."
   ]
  },
  {
   "cell_type": "markdown",
   "metadata": {},
   "source": [
    "<span style='background:rgba(255,0,255, 0.25); color:black'> ***Key points:*** </span>\n",
    "\n",
    "- What are objects and their relationship to classes? From the Wiki: \n",
    "\n",
    "> If two objects apple and orange are instantiated from the class Fruit, they are inherently fruits and it is guaranteed that you may handle them in the same way; e.g. a programmer can expect the existence of the same attributes such as color or sugar_content or is_ripe.\n",
    "\n",
    "- Abstracting that a bit more, we have that\n",
    "\n",
    "> Objects combine variables and functions into a single entity derived from a class. Classes are essentially a *template* to create your objects.\n",
    "\n",
    "<span style='background:rgba(255,0,255, 0.25); color:black'> ***A useful perspective:*** </span>\n",
    "\n",
    "\n",
    "If you approach programming as if you are an [architect](https://www.youtube.com/watch?v=cHZl2naX1Xk), then you can develop a deeper appreciation for OOP and the need for classes.\n",
    "Suppose you want to design a [neural network (NN)](https://en.wikipedia.org/wiki/Neural_network) to perform some complex task like image classification.\n",
    "This NN may involve *many* different \"neuron\" models that are all interconnected to perform the task.\n",
    "You may then decide it is worth constructing a \"neuron\" class from which all the neurons in your NN are just distinct objects (unique instantiations) from this class. \n",
    "Each object holds certain important variables that are unique to that object (e.g., perhaps a string variable stating what type of neuron is modeled along with the weights and bias for the net input function, which are all things we will study in the part-a lecture notebook in module 06) along with certain functional capabilities (e.g., a \"fit\" function that learns the weights and bias from some training data).\n",
    "\n",
    "Below, we explore the basic concepts you will need for the lectures and assignment in module 04 including some activities to test your understanding as you work through the material."
   ]
  },
  {
   "cell_type": "markdown",
   "metadata": {},
   "source": [
    "### Okay, how do I create my own classes and objects? <a id='Creating-classes'></a>\n",
    "---\n",
    "\n",
    "Good question! \n",
    "\n",
    "We will see through the use of a commented example. For more information, check this out: https://docs.python.org/3/tutorial/classes.html or Google some questions!\n",
    "\n",
    "In general, we will make our classes with an instantiation operation (i.e., an initialization function) that is run each type an object of that class type is created.\n",
    "\n",
    "> Many classes like to create objects with instances customized to a specific initial state. Therefore a class may define a special method named `__init__()`, like shown below. When a class defines an `__init__()` method, class instantiation automatically invokes `__init__()` for the newly-created class instance. While not necessary, the `__init()__` method may have arguments for greater flexibility. In that case, arguments given to the class instantiation operator are passed on to `__init__()`. ***We do this below.***\n",
    "\n",
    "<span style='background:rgba(255,0,255, 0.25); color:black'> ***Some useful notes about conventions:*** </span>\n",
    "\n",
    "\n",
    "- You will see that the \"variable\" `self` is used almost everywhere within classes. This in fact is often the first argument of any method defined within the class. \n",
    "\n",
    "  This is nothing more than a convention: the name `self` has absolutely ***no special meaning*** to Python. But, it allows for more clear readability of code and understanding what in an object is essentially a \"self-referencing\" part of the class.\n",
    "\n",
    "- We will initially see that `object` is a variable/parameter for a class declaration. \n",
    "\n",
    "  This is not necessary in recent versions of Python (versions 3.+), but is a convention used to distinguish a \"base\" class (also called a \"super\" class) from a \"sub-class\". We will get into sub-classes in a bit because it is relevant for this module."
   ]
  },
  {
   "cell_type": "markdown",
   "metadata": {},
   "source": [
    "### A *silly* example\n",
    "---\n",
    "\n",
    "- Below, we create a class called `I_am_what_I_am` that is instantiated with a single input variable that we call `x`. The idea of this class is to turn a variable `x` into a more \"self-aware\" object that can report its type along with other information related to itself. \n",
    "\n",
    "- The variable `x` becomes a <span style='background:rgba(255,0,255, 0.25); color:black'>data attribute</span> of an instantiated object and is accessible using the dot convention (we will see examples of this below).\n",
    "\n",
    "- The functions defined within the class are called methods and also are *attributes* of an instantiated object that are accessible using the dot convention (again, we will see examples of this below). These are called <span style='background:rgba(255,0,255, 0.25); color:black'>method attributes</span>.\n",
    "\n",
    "- If the last two points seem a bit strange, you may recall a numpy array also has some data attributes like `.shape` and method attributes such as `.min()` and `.max()`. \n",
    "\n",
    "Notice that a method attribute is a function (when you see the word method, your mind should think of a function, and vice versa), so we use parentheses when calling a method attribute but not when we call a data attribute.\n",
    "\n",
    "It is common to refer simply to attributes when discussing data attributes and methods when discussing method attributes, but make no mistake, they are both different types of attributes. "
   ]
  },
  {
   "cell_type": "code",
   "execution_count": null,
   "metadata": {},
   "outputs": [],
   "source": [
    "# Creating a self-aware object\n",
    "\n",
    "class I_am_what_I_am(object):  # a class that turns anything into an object that tells you what type it is\n",
    "    def __init__(self, x):  # this initializes the object to know what x is!\n",
    "        self.x = x  # the object will keep as an attribute the variable x used to instantiate it\n",
    "    \n",
    "    def what_am_I(self):  # print what type of variable x is\n",
    "        print(type(self.x))\n",
    "        \n",
    "    def what_created_me(self):  # print the variable x\n",
    "        print(self.x)\n",
    "        \n",
    "    def my_purpose(self):  # oh no, what have we created?!\n",
    "        print('That is...class-ified')  # What a perverse sense of humor!"
   ]
  },
  {
   "cell_type": "code",
   "execution_count": null,
   "metadata": {},
   "outputs": [],
   "source": [
    "a = np.array([1, 2, 3])\n",
    "\n",
    "b = I_am_what_I_am(a)"
   ]
  },
  {
   "cell_type": "code",
   "execution_count": null,
   "metadata": {},
   "outputs": [],
   "source": [
    "b.what_am_I()  # This attribute is a method (i.e., a function), so it requires the () "
   ]
  },
  {
   "cell_type": "code",
   "execution_count": null,
   "metadata": {},
   "outputs": [],
   "source": [
    "b.what_created_me()"
   ]
  },
  {
   "cell_type": "code",
   "execution_count": null,
   "metadata": {},
   "outputs": [],
   "source": [
    "b.my_purpose() "
   ]
  },
  {
   "cell_type": "code",
   "execution_count": null,
   "metadata": {},
   "outputs": [],
   "source": [
    "# The variable a is now the data attribute x. A data attribute is not a method/function, so \n",
    "# we do not use the () when calling it\n",
    "b.x"
   ]
  },
  {
   "cell_type": "code",
   "execution_count": null,
   "metadata": {},
   "outputs": [],
   "source": [
    "# What happens if we change the array a?\n",
    "a[2] = 7\n",
    "print(a)"
   ]
  },
  {
   "cell_type": "code",
   "execution_count": null,
   "metadata": {},
   "outputs": [],
   "source": [
    "b.x  # can you explain this?! hint: mutable vs unmutable data types"
   ]
  },
  {
   "cell_type": "code",
   "execution_count": null,
   "metadata": {},
   "outputs": [],
   "source": [
    "del a  # delete a from memory"
   ]
  },
  {
   "cell_type": "code",
   "execution_count": null,
   "metadata": {},
   "outputs": [],
   "source": [
    "a  # This will return an error"
   ]
  },
  {
   "cell_type": "code",
   "execution_count": null,
   "metadata": {},
   "outputs": [],
   "source": [
    "b.x  # can you explain this?! hint: the system has a memory..."
   ]
  },
  {
   "cell_type": "markdown",
   "metadata": {},
   "source": [
    "### What if I want my object to be more \"stable\"? Dealing with mutable data attributes. <a id='Mutable-data'></a>\n",
    "---\n",
    "\n",
    "Imagine you instantiate an object using mutable data types (lists, numpy arrays, etc.), and you want the object to remain unchanged in the event that these data types change later in your code. (Why might these data types change? You may be creating a sequence of objects within a loop that is iteratively updating an array used in the instantiation of the object.)\n",
    "\n",
    "The [`copy`](https://docs.python.org/3/library/copy.html) function may just be what you want. \n",
    "\n",
    "> Assignment statements in Python do not copy objects, they create bindings between a target and an object. For collections that are mutable or contain mutable items, a copy is sometimes needed so one can change one copy without changing the other. \n",
    "\n",
    "There are \"shallow\" copies and \"deep\" copies that can be created. Read up on this for more information. We will use a deep copy below. (Honestly, I find it hard to think of a scenario where I would prefer a shallow to a deep copy.)"
   ]
  },
  {
   "cell_type": "code",
   "execution_count": null,
   "metadata": {},
   "outputs": [],
   "source": [
    "import copy  # you could also import copy as cp and then change every instance of \"copy\" to \"cp\" below"
   ]
  },
  {
   "cell_type": "code",
   "execution_count": null,
   "metadata": {},
   "outputs": [],
   "source": [
    "# Creating a different class\n",
    "\n",
    "class I_am_what_I_am_no_matter_what_you_say(object):  # a class that turns anything into an object that tells you what type it is\n",
    "    def __init__(self, x):  # this initializes the object to know what x is!\n",
    "        self.x = copy.deepcopy(x)  # the object will keep as an attribute the variable x \n",
    "                                   # used to instantiate it\n",
    "    \n",
    "    def what_am_I(self):  # print what type of variable x is\n",
    "        print(type(self.x))\n",
    "        \n",
    "    def what_created_me(self):  # print x\n",
    "        print(self.x)\n",
    "        \n",
    "    def my_purpose(self):  # oh no, what have we created?!\n",
    "        print('That is...classified')"
   ]
  },
  {
   "cell_type": "code",
   "execution_count": null,
   "metadata": {},
   "outputs": [],
   "source": [
    "a = np.array([1, 2, 3])\n",
    "\n",
    "b = I_am_what_I_am_no_matter_what_you_say(a)"
   ]
  },
  {
   "cell_type": "code",
   "execution_count": null,
   "metadata": {},
   "outputs": [],
   "source": [
    "a[2] = 7\n",
    "print(a)"
   ]
  },
  {
   "cell_type": "code",
   "execution_count": null,
   "metadata": {},
   "outputs": [],
   "source": [
    "b.x"
   ]
  },
  {
   "cell_type": "markdown",
   "metadata": {},
   "source": [
    "Alright, now for something that may be a bit mind-bending."
   ]
  },
  {
   "cell_type": "code",
   "execution_count": null,
   "metadata": {},
   "outputs": [],
   "source": [
    "f = lambda x: x**2+2\n",
    "\n",
    "c = I_am_what_I_am_no_matter_what_you_say(f)"
   ]
  },
  {
   "cell_type": "code",
   "execution_count": null,
   "metadata": {},
   "outputs": [],
   "source": [
    "c.what_am_I()"
   ]
  },
  {
   "cell_type": "code",
   "execution_count": null,
   "metadata": {},
   "outputs": [],
   "source": [
    "c.what_created_me()"
   ]
  },
  {
   "cell_type": "code",
   "execution_count": null,
   "metadata": {},
   "outputs": [],
   "source": [
    "c.x"
   ]
  },
  {
   "cell_type": "code",
   "execution_count": null,
   "metadata": {},
   "outputs": [],
   "source": [
    "c.x(2)  # IMPORTANT QUESTION: Is x a data attribute or a method attribute?"
   ]
  },
  {
   "cell_type": "markdown",
   "metadata": {},
   "source": [
    "Have you ever wondered what the difference between similar types of objects are? This class can help you determine that! Let's create a non-anonymous function that does the same thing as the `lambda` function above and make it more self-aware with our class."
   ]
  },
  {
   "cell_type": "code",
   "execution_count": null,
   "metadata": {},
   "outputs": [],
   "source": [
    "def test(x):\n",
    "    return x**2+2\n",
    "\n",
    "d = I_am_what_I_am_no_matter_what_you_say(test)"
   ]
  },
  {
   "cell_type": "code",
   "execution_count": null,
   "metadata": {},
   "outputs": [],
   "source": [
    "d.what_am_I()"
   ]
  },
  {
   "cell_type": "code",
   "execution_count": null,
   "metadata": {},
   "outputs": [],
   "source": [
    "d.what_created_me()"
   ]
  },
  {
   "cell_type": "code",
   "execution_count": null,
   "metadata": {},
   "outputs": [],
   "source": [
    "d.x(2)"
   ]
  },
  {
   "cell_type": "markdown",
   "metadata": {},
   "source": [
    "<hr style=\"border:5px solid cyan\"> </hr>\n",
    "\n",
    "## <span style='background:rgba(0,255,255, 0.5); color:black'>Activity: Classes of polynomials</span><a id='activity-polynomials'></a>\n",
    "    \n",
    "This activity is motivated by a few fundamental points.\n",
    "\n",
    "- Whenever you are solving problems in computational and data science that require you to repeatedly investigate, explore, or perform computations upon the same *object*, then you should probably start thinking in terms of classes. This is especially true when you start referring to a \"thing\" as an \"object\" since that is a giveaway that you are dealing with a particular instance of a class. There are of course exceptions. You need to use judgment to determine the best balanace of complexity required in a code to accomplish the desired tasks with the overall readability, portability, and usability of the code.\n",
    "\n",
    "- Polynomials are ubiquitous ***objects*** in any computational/data-oriented field. From the [polynomial wiki page](https://en.wikipedia.org/wiki/Polynomial)\n",
    "> [...] polynomial functions [...] appear in settings ranging from basic chemistry and physics to economics and social science; they are used in calculus and numerical analysis to approximate other functions.\n",
    "\n",
    "You may object (verb) to thinking of a polynomial as an object (noun). (Sorry, I couldn't resist the punny dad joke.) \n",
    "\n",
    "- Perhaps your *object*ion is based upon the observation that since a polynomial is a type of function we could just as easily code up any polynomial we wanted as a user-defined function. You would of course be correct that we *could* do this for *any* polynomial. Unfortunately, there are an uncountably infinite number of polynomials we may consider, and we may find ourselves having to code up many user-defined polynomials in a single code, which not only becomes repetitive, but is also more likely to introduce errors. \n",
    "\n",
    "- Also, we are often interested in many properties/features of a polynomial related to its manipulation through derivatives or integrals which are themselves polynomials (calculus concepts), the sign of the polynomial at a particular point (direct evaluation), and qualitative features related to its graph (plotting). These all represent various data/method attributes we may wish to *attach* to a particular polynomial object.\n",
    "\n",
    "We therefore consider how to make our own user-defined polynomial class. It is worth noting that `numpy` has a subpackage on [polynomials](https://numpy.org/doc/stable/reference/routines.polynomials.package.html#module-numpy.polynomial) that has its own [`Polynomial` class](https://numpy.org/doc/stable/reference/generated/numpy.polynomial.polynomial.Polynomial.html#numpy.polynomial.polynomial.Polynomial), but by creating our own, we are able to (1) decide for ourselves what types of useful (data and method) attributes are associated with it, and (2) get some useful practice on constructing our own classes for something of clear utility in the computational and data sciences. \n",
    "\n",
    "*After reading through the rest of this notebook that involves sub- and super-class concepts, students are encouraged to create their own activity involving the sub-classing of their own `MyPolynomial` from the `Polynomial` class in `numpy` that contains some useful plotting features.*"
   ]
  },
  {
   "cell_type": "markdown",
   "metadata": {},
   "source": [
    "<span style='background:rgba(255,0,255, 0.25); color:black'> In the code provided below that starts this user-defined `Polynomial` class, we include some fairly extensive documentation within this class. As is typical when producing \"good code\", most of the lines in the code are actually made up of code comments/docstrings. </span> \n",
    "\n",
    "**Student to-do's:**\n",
    "  \n",
    "- Add missing code documentation for the `plot` method in both the class docstring and also within the plot method itself.\n",
    "\n",
    "\n",
    "- Add a new method called `derivative` to the `Polynomial` class that has no parameters, but creates a new data attribute, `self.deriv` that is itself a `Polynomial` object instantiated with a `new_coeffs` numpy array constructed. \n",
    "<span style='background:rgba(255,0,255, 0.25); color:black'> We give background and details on how to create the `new_coeffs` array within this method below. This is easier than it may first appear.</span>\n",
    "\n",
    "  - The derivative of a polynomial follows from the simple [power rule](https://en.wikipedia.org/wiki/Power_rule) and the [linearity of differentiation](https://en.wikipedia.org/wiki/Linearity_of_differentiation). \n",
    "  \n",
    "  - In short, if\n",
    "<br><br>\n",
    "$$\n",
    "   p(x) = a_0 + a_1x + a_2x^2 + \\cdots + a_n x^n\n",
    "$$\n",
    "<br>\n",
    "is an $n$th order polynomial (here, $a_0, a_1, a_2, \\ldots, a_n$ are $n+1$ real numbers), then the derivative of $p(x)$, denoted by $p^\\prime(x)$ is given by the polynomial\n",
    "<br><br>\n",
    "$$\n",
    "   p^\\prime(x) = a_1 + 2a_2 x + \\cdots + na_n x^{n-1}, \n",
    "$$\n",
    "<br>\n",
    "which is an $(n-1)$th order polynomial.\n",
    "<br><br>\n",
    "  - The key observation is that for $0\\leq k\\leq n-1$ the coefficient of the $k$th order term in $p^\\prime$ is simply given by $(k+1)a_{k+1}$. We can therefore construct the `new_coeffs` array in the `derivative` method as follows\n",
    "```\n",
    "    new_coeffs = np.zeros(len(self.coeffs)-1)  # because if p is order n, then p' is of order n-1\n",
    "    \n",
    "    for k in range(len(new_coeffs)):\n",
    "        new_coeffs[k] = (k+1)*self.coeffs[k+1]  # because (k+1)*a_{k+1} is the coefficient of the kth term in p'\n",
    "```\n",
    "<br>\n",
    "- Students should, of course, add documentation related to this new `derivative` in the class docstring and also within the method itself.\n",
    "\n",
    "- The instructor provided code cells that follow the class should then run free of error. These are marked with a comment `# Instructor created code cell` at the top of each such code cell.\n",
    "\n",
    "- Students should create their own fourth order polynomial, compute the first three derivatives of this polynomial, and create a single plot that contains all four functions (the fourth order polynomial and its first, second, and third derivatives). "
   ]
  },
  {
   "cell_type": "code",
   "execution_count": null,
   "metadata": {},
   "outputs": [],
   "source": [
    "class Polynomial(object):\n",
    "    '''\n",
    "    Create a polynomial from coefficients assumed to be given in increasing order.\n",
    "    \n",
    "    Attributes\n",
    "    ----------\n",
    "    coeffs : list or numpy.array\n",
    "        coeffs[0] is constant term and coeffs[-1] is the coefficient of x**(len(coeffs)) term\n",
    "    \n",
    "    Methods\n",
    "    -------\n",
    "    evaluate(x)\n",
    "        Returns the value of the polynomial evaluated at points x\n",
    "    '''\n",
    "    def __init__(self, coeffs):\n",
    "        '''\n",
    "        Parmaeters\n",
    "        ----------\n",
    "        coeffs : list or numpy.array\n",
    "            coeffs[0] is constant term and coeffs[-1] is the coefficient of x**(len(coeffs)-1) term\n",
    "        '''\n",
    "        self.coeffs = coeffs\n",
    "        \n",
    "        return\n",
    "        \n",
    "    def evaluate(self, x):\n",
    "        '''\n",
    "        Returns the evaluation of the polynomial at points x\n",
    "        \n",
    "        Parameters\n",
    "        ----------\n",
    "        x : int, float, or numpy.array\n",
    "            The points in the domain for which the polynomial is evaluated\n",
    "            \n",
    "        Returns\n",
    "        -------\n",
    "        v : float or numpy.array\n",
    "            The values of the polynomial at the points x\n",
    "        '''\n",
    "        v = 0  # v is for value\n",
    "        \n",
    "        for order, c in enumerate(self.coeffs):\n",
    "            v += c * x**order\n",
    "        \n",
    "        return v\n",
    "    \n",
    "    def plot(self, x_min, x_max, fignum=0, N=100, c='b', ls=':'):\n",
    "        \n",
    "        x_plot = np.linspace(x_min, x_max, N)\n",
    "        \n",
    "        plt.figure(fignum)\n",
    "        plt.plot(x_plot, self.evaluate(x_plot), c=c, ls=ls)\n",
    "        \n",
    "        return"
   ]
  },
  {
   "cell_type": "code",
   "execution_count": null,
   "metadata": {},
   "outputs": [],
   "source": [
    "# Instructor created code cell\n",
    "\n",
    "help(Polynomial)"
   ]
  },
  {
   "cell_type": "code",
   "execution_count": null,
   "metadata": {},
   "outputs": [],
   "source": [
    "# Instructor created code cell\n",
    "\n",
    "p = Polynomial([0, 1, 2])  # Creates a 2nd order poly: 0+x+2x^2"
   ]
  },
  {
   "cell_type": "code",
   "execution_count": null,
   "metadata": {},
   "outputs": [],
   "source": [
    "# Instructor created code cell\n",
    "\n",
    "%matplotlib widget\n",
    "p.plot(-2, 4)"
   ]
  },
  {
   "cell_type": "code",
   "execution_count": null,
   "metadata": {},
   "outputs": [],
   "source": [
    "# Instructor created code cell\n",
    "\n",
    "p.derivative()  # Constructs the derivative of p, which is 1+4x"
   ]
  },
  {
   "cell_type": "code",
   "execution_count": null,
   "metadata": {},
   "outputs": [],
   "source": [
    "# Instructor created code cell\n",
    "\n",
    "%matplotlib widget\n",
    "p.plot(-2, 4)  # plots the 2nd order poly p\n",
    "p.deriv.plot(-2, 4, c='r', ls='-.')  # plots the derivative of the poly p"
   ]
  },
  {
   "cell_type": "code",
   "execution_count": null,
   "metadata": {},
   "outputs": [],
   "source": [
    "# Instructor created code cell\n",
    "\n",
    "p.deriv.derivative()  # Computes the second order derivative of p, which is 4"
   ]
  },
  {
   "cell_type": "code",
   "execution_count": null,
   "metadata": {},
   "outputs": [],
   "source": [
    "# Instructor created code cell\n",
    "\n",
    "%matplotlib widget\n",
    "p.plot(-2, 4)  # plots the poly p\n",
    "p.deriv.plot(-2, 4, c='r', ls='-.')  # plots the first order derivative of p\n",
    "p.deriv.deriv.plot(-2, 4, c='k', ls='-')  # plots the second order derivative of p"
   ]
  },
  {
   "cell_type": "code",
   "execution_count": null,
   "metadata": {},
   "outputs": [],
   "source": [
    "# Students should work in this code cell to create their own 4th order poly and follow above instructions\n",
    "# regarding the derivatives and plotting to finish the activity."
   ]
  },
  {
   "cell_type": "code",
   "execution_count": null,
   "metadata": {},
   "outputs": [],
   "source": []
  },
  {
   "cell_type": "markdown",
   "metadata": {},
   "source": [
    "<hr style=\"border:5px solid cyan\"> </hr>"
   ]
  },
  {
   "cell_type": "markdown",
   "metadata": {},
   "source": [
    "## Sub-classes and super-classes <a id='sub-classes'></a>\n",
    "---\n",
    "\n",
    "I like the following tutorial for an overview of sub-classes and super-classes because is not overly technical in its presentation: https://realpython.com/python-super/. \n",
    "\n",
    "We will work through and expand upon just part of the example from that tutorial below.\n",
    "\n",
    "For a simple use-case example that is kind of silly and easy to read, you may also want to check out this blog: https://pybit.es/python-subclasses.html\n",
    "\n",
    "---\n",
    "\n",
    "<span style='background:rgba(255,255,0, 0.25); color:black'> Run the code cell below and click the \"play\" button to see a recorded lecture associated with this part of the notebook.</span>"
   ]
  },
  {
   "cell_type": "code",
   "execution_count": null,
   "metadata": {
    "tags": []
   },
   "outputs": [],
   "source": [
    "# 1. Running this cell will embed the short recorded lecture associated with this part of the notebook\n",
    "# 2. Press on the \"play\" button to start the video.\n",
    "\n",
    "from IPython.display import YouTubeVideo\n",
    "\n",
    "YouTubeVideo('AfFGCJZQacM', width=800, height=450)"
   ]
  },
  {
   "cell_type": "markdown",
   "metadata": {},
   "source": [
    "Imagine you have a class `Polygon` used as a template for all [polygonal](https://en.wikipedia.org/wiki/Polygon) objects. \n",
    "\n",
    "It might look something like what we have below."
   ]
  },
  {
   "cell_type": "code",
   "execution_count": null,
   "metadata": {},
   "outputs": [],
   "source": [
    "class Polygon(object):\n",
    "    def __init__(self, num_sides):\n",
    "        self.num_sides = num_sides \n",
    "        \n",
    "    def what_am_I(self):\n",
    "        s = 'I am a polygon with ' + str(self.num_sides) + ' sides.'\n",
    "        print(s)"
   ]
  },
  {
   "cell_type": "markdown",
   "metadata": {},
   "source": [
    "Now imagine you want to create classes `rectangle` and `square`. \n",
    "\n",
    "Well, these are just special types of 4-sided polygons. Moreover, a square is just a special type of rectangle! \n",
    "\n",
    "In that case, you can create `rectangle` as a sub-class of `polygon`, and you can create `square` as a sub-class of `rectangle`. See below and *pay attention to the arguments in these class declarations*."
   ]
  },
  {
   "cell_type": "code",
   "execution_count": null,
   "metadata": {},
   "outputs": [],
   "source": [
    "class Rectangle(Polygon):  # rectangle is a sub-class of polygon \n",
    "    def __init__(self, length, width):\n",
    "        super().__init__(num_sides=4)  # Now rectangle inherits from polygon\n",
    "        self.length = length\n",
    "        self.width = width\n",
    "        \n",
    "    def compute_area(self):\n",
    "        self.area = self.length * self.width\n",
    "    \n",
    "    def my_area(self):\n",
    "        try:\n",
    "            print(self.area)\n",
    "        except AttributeError:\n",
    "            self.compute_area()\n",
    "            print(self.area)\n",
    "            \n",
    "    def compute_perimeter(self):\n",
    "        self.perimeter = 2*self.length + 2*self.width\n",
    "        \n",
    "    def my_perimeter(self):\n",
    "        try:\n",
    "            print(self.perimeter)\n",
    "        except AttributeError:\n",
    "            self.compute_perimeter()\n",
    "            print(self.perimeter)\n",
    "            \n",
    "    def my_dimensions(self):\n",
    "        s = 'Length = ' + str(self.length) + '\\n' + 'Width = ' + str(self.width)\n",
    "        print(s)"
   ]
  },
  {
   "cell_type": "code",
   "execution_count": null,
   "metadata": {},
   "outputs": [],
   "source": [
    "A = Rectangle(length=2, width=4)"
   ]
  },
  {
   "cell_type": "code",
   "execution_count": null,
   "metadata": {},
   "outputs": [],
   "source": [
    "A.what_am_I()"
   ]
  },
  {
   "cell_type": "code",
   "execution_count": null,
   "metadata": {},
   "outputs": [],
   "source": [
    "A.my_area()"
   ]
  },
  {
   "cell_type": "code",
   "execution_count": null,
   "metadata": {},
   "outputs": [],
   "source": [
    "A.my_perimeter()"
   ]
  },
  {
   "cell_type": "code",
   "execution_count": null,
   "metadata": {},
   "outputs": [],
   "source": [
    "A.my_dimensions()"
   ]
  },
  {
   "cell_type": "code",
   "execution_count": null,
   "metadata": {},
   "outputs": [],
   "source": [
    "class Square(Rectangle):  # A square inherits from rectangle\n",
    "    def __init__(self, length):\n",
    "        super().__init__(length=length, width=length)\n",
    "    \n",
    "    def my_dimensions(self):  # This over-rides the inherited method from rectangle\n",
    "        s = 'Length = Width = ' + str(self.length)\n",
    "        print(s)"
   ]
  },
  {
   "cell_type": "code",
   "execution_count": null,
   "metadata": {},
   "outputs": [],
   "source": [
    "B = Square(length=2)"
   ]
  },
  {
   "cell_type": "code",
   "execution_count": null,
   "metadata": {},
   "outputs": [],
   "source": [
    "B.my_area()"
   ]
  },
  {
   "cell_type": "code",
   "execution_count": null,
   "metadata": {},
   "outputs": [],
   "source": [
    "B.my_dimensions()"
   ]
  },
  {
   "cell_type": "code",
   "execution_count": null,
   "metadata": {},
   "outputs": [],
   "source": [
    "B.what_am_I()"
   ]
  },
  {
   "cell_type": "markdown",
   "metadata": {},
   "source": [
    "### Venturing into the third-dimension!\n",
    "\n",
    "Below, we define a new class of objects: cubes. \n",
    "\n",
    "Since the face of a cube is a square, we may choose to initialize the face attribute as an object!"
   ]
  },
  {
   "cell_type": "code",
   "execution_count": null,
   "metadata": {},
   "outputs": [],
   "source": [
    "class Cube(object):\n",
    "    def __init__(self, edge_length):\n",
    "        self.length = edge_length\n",
    "        self.faces = Square(length=edge_length)  # faces are squares!\n",
    "        self.faces.compute_area()\n",
    "        self.compute_surface_area()\n",
    "        self.compute_volume()\n",
    "    \n",
    "    def compute_surface_area(self):\n",
    "        self.surf_area = self.faces.area * 6\n",
    "\n",
    "    def compute_volume(self):\n",
    "        self.volume = self.faces.area * self.length\n",
    "    \n",
    "    def what_am_I(self):\n",
    "        s = 'I am a cube with edge length = ' + str(self.length)\n",
    "        print(s)"
   ]
  },
  {
   "cell_type": "code",
   "execution_count": null,
   "metadata": {},
   "outputs": [],
   "source": [
    "C = Cube(edge_length=2)"
   ]
  },
  {
   "cell_type": "code",
   "execution_count": null,
   "metadata": {},
   "outputs": [],
   "source": [
    "C.surf_area"
   ]
  },
  {
   "cell_type": "code",
   "execution_count": null,
   "metadata": {},
   "outputs": [],
   "source": [
    "C.what_am_I()"
   ]
  },
  {
   "cell_type": "code",
   "execution_count": null,
   "metadata": {},
   "outputs": [],
   "source": [
    "C.faces.what_am_I()  # Not the same thing as C!"
   ]
  },
  {
   "cell_type": "code",
   "execution_count": null,
   "metadata": {},
   "outputs": [],
   "source": [
    "C.volume"
   ]
  },
  {
   "cell_type": "markdown",
   "metadata": {},
   "source": [
    "<hr style=\"border:5px solid cyan\"> </hr>\n",
    "\n",
    "## <span style='background:rgba(0,255,255, 0.5); color:black'>Activity: Making your own classes and sub-classes</span><a id='activity-your-classes'></a>\n",
    "    \n",
    "Make your own classes and sub-classes. You can build upon what we have here (maybe try creating a super-class of 3D objects called boxes), find examples to try or build upon by a simple Google search, or even just get super creative with your own (maybe a class of \"person\" with sub-classes of \"adult\", \"child\", and \"baby\"). Get creative! Share your class with the rest of the class that is working on classes (that made sense, right?).\n",
    "    \n",
    "This is a \"create your own adventure\" style activity. Here are the basic things you *must* do though:\n",
    "    \n",
    "- Create at least one base/super-class and at least one sub-class.\n",
    "\n",
    "  - Each (super- and sub-)class should have at least one data attribute and at least one method attribute unique to it.\n",
    "<br><br>\n",
    "\n",
    "- Instatiate at least two different versions of every class (super- or sub-) that you define.\n",
    "    \n",
    "  - Demonstrate how to interact with your instantiated objects.\n",
    "<br><br>\n",
    "\n",
    "- Have some useful code comments/Markdown cells explaining what your classes involve and how your instantiations of them are demonstrating various aspects of the classes."
   ]
  },
  {
   "cell_type": "code",
   "execution_count": null,
   "metadata": {},
   "outputs": [],
   "source": []
  },
  {
   "cell_type": "code",
   "execution_count": null,
   "metadata": {},
   "outputs": [],
   "source": []
  },
  {
   "cell_type": "markdown",
   "metadata": {},
   "source": [
    "<hr style=\"border:5px solid cyan\"> </hr>"
   ]
  },
  {
   "cell_type": "markdown",
   "metadata": {},
   "source": [
    "## Importing and using a module of classes <a id='Importing-class-module'></a>\n",
    "---\n",
    "\n",
    "<span style='background:rgba(255,255,0, 0.25); color:black'> Run the code cell below and click the \"play\" button to see a recorded lecture associated with this part of the notebook.</span>"
   ]
  },
  {
   "cell_type": "code",
   "execution_count": null,
   "metadata": {
    "tags": []
   },
   "outputs": [],
   "source": [
    "# 1. Running this cell will embed the short recorded lecture associated with this part of the notebook\n",
    "# 2. Press on the \"play\" button to start the video.\n",
    "\n",
    "from IPython.display import YouTubeVideo\n",
    "\n",
    "YouTubeVideo('cWPny_8lqBQ', width=800, height=450)"
   ]
  },
  {
   "cell_type": "markdown",
   "metadata": {},
   "source": [
    "You should make sure that the user-defined module `CommonFunctions.py` is located in the same folder as this notebook. \n",
    "Open it up and examine its contents. \n",
    "We will play with this module and the classes it contains below.\n",
    "\n",
    "<span style='background:rgba(0,255,255, 0.5); color:black'>Suggested activity:</span>\n",
    "- Create and plot several instantiations of each of the classes of functions within this module."
   ]
  },
  {
   "cell_type": "code",
   "execution_count": null,
   "metadata": {},
   "outputs": [],
   "source": [
    "import CommonFunctions as CF"
   ]
  },
  {
   "cell_type": "code",
   "execution_count": null,
   "metadata": {},
   "outputs": [],
   "source": [
    "# Creating an instance of the Polynomial class within the CommonFunctions Module\n",
    "\n",
    "MyPoly = CF.Polynomial([0, 0, 1])  # Polynomial is x**2"
   ]
  },
  {
   "cell_type": "code",
   "execution_count": null,
   "metadata": {},
   "outputs": [],
   "source": [
    "%matplotlib widget\n",
    "\n",
    "MyPoly.plot(-2, 2)  #  This method is inherited from the FunctionTemplate class"
   ]
  },
  {
   "cell_type": "code",
   "execution_count": null,
   "metadata": {},
   "outputs": [],
   "source": [
    "CF.Sine?"
   ]
  },
  {
   "cell_type": "code",
   "execution_count": null,
   "metadata": {},
   "outputs": [],
   "source": [
    "help(CF.Sine)  # This also shows the inherited method"
   ]
  },
  {
   "cell_type": "code",
   "execution_count": null,
   "metadata": {},
   "outputs": [],
   "source": [
    "MySine = CF.Sine(omega=2*np.pi, a=5)"
   ]
  },
  {
   "cell_type": "code",
   "execution_count": null,
   "metadata": {},
   "outputs": [],
   "source": [
    "%matplotlib widget\n",
    "\n",
    "MySine.plot(0, 1, ls='-', c='k')"
   ]
  },
  {
   "cell_type": "markdown",
   "metadata": {},
   "source": [
    "<hr style=\"border:5px solid cyan\"> </hr>\n",
    "\n",
    "## <span style='background:rgba(0,255,255, 0.5); color:black'>Activity: Summary</span> <a id='activity-summary'/>\n",
    "\n",
    "Summarize some of the key takeaways/points from this notebook in a list below and prepare a few code examples related to these takeaways/points in the code cells below. You need to have at least one example for each of your summary points and you need at least three summary points.\n",
    "\n",
    "In this notebook, we have seen the following:\n",
    "\n",
    "- [Your summary point 1 goes here]\n",
    "\n"
   ]
  },
  {
   "cell_type": "code",
   "execution_count": null,
   "metadata": {},
   "outputs": [],
   "source": []
  },
  {
   "cell_type": "markdown",
   "metadata": {},
   "source": [
    "\n",
    "- [Your summary point 2 goes here]\n",
    "\n"
   ]
  },
  {
   "cell_type": "code",
   "execution_count": null,
   "metadata": {},
   "outputs": [],
   "source": []
  },
  {
   "cell_type": "markdown",
   "metadata": {},
   "source": [
    "\n",
    "- [Your summary point 3 goes here]"
   ]
  },
  {
   "cell_type": "code",
   "execution_count": null,
   "metadata": {},
   "outputs": [],
   "source": []
  },
  {
   "cell_type": "markdown",
   "metadata": {},
   "source": [
    "<hr style=\"border:5px solid cyan\"> </hr>"
   ]
  },
  {
   "cell_type": "markdown",
   "metadata": {},
   "source": [
    "### <a href='#Contents'>Click here to return to Notebook Contents</a>"
   ]
  }
 ],
 "metadata": {
  "kernelspec": {
   "display_name": "Python 3 (ipykernel)",
   "language": "python",
   "name": "python3"
  },
  "language_info": {
   "codemirror_mode": {
    "name": "ipython",
    "version": 3
   },
   "file_extension": ".py",
   "mimetype": "text/x-python",
   "name": "python",
   "nbconvert_exporter": "python",
   "pygments_lexer": "ipython3",
   "version": "3.9.7"
  }
 },
 "nbformat": 4,
 "nbformat_minor": 4
}
