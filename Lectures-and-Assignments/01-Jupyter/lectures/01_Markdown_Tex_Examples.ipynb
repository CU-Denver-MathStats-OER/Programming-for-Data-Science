{
  "cells": [
    {
      "cell_type": "markdown",
      "metadata": {
        "id": "AboNSW2FAnBy"
      },
      "source": [
        "# Math  1376: Programming for Data Science\n",
        "---"
      ]
    },
    {
      "cell_type": "markdown",
      "metadata": {
        "id": "rn57FQPPAnB0"
      },
      "source": [
        "## Module 01: Supplemental TeX examples\n",
        "---\n",
        "\n",
        "So you want to write mathematics in Markdown? There are lots of resources online to get you started. Using Google to search for \"latex markdown cheatsheet\" reveals over 570,000 results as of August 2020. Here is a simple distillation of useful commands. Simply open up any markdown cell into \"edit\" mode to see how it is done.\n",
        "\n",
        "Below, I have collected and discuss some fairly common TeX commands. If you spend about 45 minutes going through and experimenting with this notebook, then you should be in a good position to do a lot of sophisticated TeXing of your own."
      ]
    },
    {
      "cell_type": "markdown",
      "metadata": {
        "id": "hOWexgkcAnB0"
      },
      "source": [
        "### Basic mathematical symbols (with some size options)\n",
        "\n",
        "- Fractions: `$\\frac{numerator}{denominator}$` in a markdown cell renders as $\\frac{numerator}{denominator}$. This is an \"inline\" command because we use a set of single dollar signs. If we instead write `$$\\frac{numerator}{denominator}$$`, then this results in a \"displaystyle\" for the math appearing between the double dollar signs resulting in\n",
        "\n",
        "$$\n",
        "  \\frac{numerator}{denominator}\n",
        "$$\n",
        "\n",
        "which appears centered on its own line.\n",
        "\n",
        "  - Note the ***size*** difference in display style vs inline. We can make an inline math statement be sized as if it was in displaystyle `$\\displaystyle \\frac{numerator}{denominator}$` renders as $\\displaystyle \\frac{numerator}{denominator}$. \n",
        "\n",
        "  - It is so common to make fractions appear in displaystyle when written inline that there is a special command for this. Note that `$\\frac{17}{25}$` produces $\\frac{17}{25}$, while `$\\dfrac{17}{25}$` produces $\\dfrac{17}{25}$ (whichever you prefer is up to you.\n",
        "\n",
        "  - Open up this code cell to see how we make use of specific size commands like `\\large`, `\\Large`, and others to create various sizes for the display of math: $\\large \\frac{1}{2}$, $\\Large \\frac{2}{5}$, $\\huge \\frac{5}{7}$, $\\Huge \\frac{8}{9}$.\n",
        "\n",
        "- Parentheses and brackets: \n",
        "\n",
        "  - With no auto-sizing (will look weird in some cases): $(5)$, $(\\frac{1}{2})$, $\\{5\\}$, $[5]$\n",
        "    \n",
        "  - Auto-sized (will mostly be what you want by just using left and right commands): $\\left(5\\right)$, $\\left(\\frac{1}{2}\\right)$, $\\large \\left[\\frac{4}{5}\\right]$, $\\left\\{\\dfrac{1}{2}\\right\\}$\n",
        "    \n",
        "- Super/subscripts (note that if super/subscripts are *longer* than one character, then you need to use curly brackets to *group* the characters together):\n",
        "\n",
        "  - On the right: $x_5$, $x^5$, $x_4^8$, $x_{1456} \\neq x_1456$, $y^{1234}\\neq y^1234$\n",
        "    \n",
        "  - On the left (not usual, but why not): ${_5}x$, ${^4}x$\n",
        "    \n",
        "  - Subscripts of superscripts: $x^{y_4}$\n",
        "    \n",
        "  - Superscripts of subscripts: $y_{x^7}$"
      ]
    },
    {
      "cell_type": "markdown",
      "metadata": {
        "id": "I3d_M-JVAnB1"
      },
      "source": [
        "### Some calculus symbols\n",
        "\n",
        "- Derivatives:\n",
        "\n",
        "  - The \"d\" notation: $\\frac{d}{dx}$\n",
        "    \n",
        "  - The prime notation: $f'$ or $f^\\prime$\n",
        "    \n",
        "  - The \"dot\" notation: $\\dot{u}$ is a first derivative, $\\ddot{u}$ is a second derivative, $\\dddot{u}$ is a third derivative, $\\ddddot{u}$ is a fourth derivative\n",
        "    \n",
        "  - Partial derivatives: $\\partial_x f$ and $\\partial_y f$ are examples\n",
        "    \n",
        "  - Gradients: $\\nabla f$\n",
        "    \n",
        "- Integrals/summation:\n",
        "\n",
        "  - Indefinite: $\\int f(x)\\, dx$\n",
        "    \n",
        "  - Definite: $\\int_a^b f(x)\\, dx$ or $\\int_{[a,b]} f(x)\\, dx$\n",
        "    \n",
        "  - Summation: $\\sum_{i=1}^{10} i^2$\n",
        "\n",
        "\n",
        "An example combining notations and \"boxing\" an answer: \n",
        "\n",
        "$$\n",
        "  \\boxed{\\frac{d}{dx}\\int_a^x f(y)\\, dy = f(x)}\n",
        "$$"
      ]
    },
    {
      "cell_type": "markdown",
      "metadata": {
        "id": "90HYWZ96AnB1"
      },
      "source": [
        "### Some directional arrows and directional dots\n",
        "\n",
        "- Arrows:\n",
        "\n",
        "  - Right arrows: $\\rightarrow$, $\\Rightarrow$, $\\longrightarrow$, $\\Longrightarrow$, $\\rightrightarrows$\n",
        "    \n",
        "  - Left arrows: $\\leftarrow$, $\\Leftarrow$, $\\longleftarrow$, $\\Longleftarrow$, $\\leftleftarrows$\n",
        "    \n",
        "  - Bi-directional arrows: $\\leftrightarrow$, $\\Leftrightarrow$, $\\longleftrightarrow$, $\\Longleftrightarrow$\n",
        "    \n",
        "  - Diagonal arrows (use NWSE compass directions): $\\nearrow$, $\\searrow$, $\\nwarrow$, $\\swarrow$\n",
        "    \n",
        "  - Up/down arrows: $\\uparrow$, $\\downarrow$\n",
        "    \n",
        "- Dots:\n",
        "\n",
        "  - Horizontal dots: $\\cdot$, $\\cdots$\n",
        "    \n",
        "  - Vertical dots: $\\vdots$\n",
        "    \n",
        "  - Diagonal dots: $\\ddots$"
      ]
    },
    {
      "cell_type": "markdown",
      "metadata": {
        "id": "sxVMo37lAnB2"
      },
      "source": [
        "### Some (lowercase) Greek letters\n",
        "\n",
        "$\\alpha$, $\\beta$, $\\gamma$, $\\delta$, $\\upsilon$, $\\nu$, $\\sigma$, $\\theta$, $\\omega$, $\\tau$, $\\kappa$, $\\iota$, $\\xi$, $\\zeta$\n",
        "\n",
        "Some have uppercase counterparts like $\\Gamma$, $\\Delta$, $\\Omega$, $\\Sigma$, $\\Theta$, $\\Xi$"
      ]
    },
    {
      "cell_type": "markdown",
      "source": [
        "### Aligning an array of equations\n",
        "\n",
        "Use an \"align\" environment (open the cell to see) and \"&\" symbols to determine alignment between the different lines. A single set of backslashes `\\\\` produces a *new line* and two sets will produce a space between the lines in the array. I prefer using two sets of `\\\\` symbols for improved readability.\n",
        "\n",
        "$$\n",
        "  \\begin{align}\n",
        "      y &= (x-4)(x+2) \\\\ \\\\\n",
        "        &= x^2 + 2x - 4x - 8 \\\\ \\\\\n",
        "        &= x^2 - 2x - 8\n",
        "  \\end{align}\n",
        "$$\n",
        "\n",
        "You can use the `\\underbrace` and `\\text` commands to add comments.\n",
        "\n",
        "$$\n",
        "  \\begin{align}\n",
        "      y &= (x-4)(x+2) \\\\ \\\\\n",
        "        &= \\underbrace{x^2 + 2x - 4x - 8}_\\text{Remember FOIL?} \\\\ \\\\\n",
        "        &= \\underbrace{x^2 - 2x - 8}_\\text{Combined like terms}\n",
        "  \\end{align}\n",
        "$$"
      ],
      "metadata": {
        "id": "qFe9iTq8HbYh"
      }
    },
    {
      "cell_type": "markdown",
      "source": [
        "### The `cases` environment\n",
        "\n",
        "For piecewise defined functions, it is useful to use `cases`.\n",
        "\n",
        "$$\n",
        "  H(x) = \\begin{cases}\n",
        "      1, & x>0, \\\\ \n",
        "      0, & x\\leq 0.\n",
        "  \\end{cases}\n",
        "$$"
      ],
      "metadata": {
        "id": "oZe8k9eaLQzc"
      }
    },
    {
      "cell_type": "markdown",
      "source": [
        "### Matrices and vectors\n",
        "\n",
        "The `\\pmatrix` and `\\bmatrix` commands are useful for creating matrices that are either presented using parentheses or square brackets.\n",
        "\n",
        "- Example using `\\pmatrix`: \n",
        "\n",
        "$$\n",
        "   Av=b, \\ \\text{ where } \\ A = \\begin{pmatrix}\n",
        "                    2 & -1 & 0 & \\cdots & 0 \\\\\n",
        "                    -1 & 2 & -1 & \\ddots & \\vdots \\\\\n",
        "                    0 & \\ddots & \\ddots & \\ddots & 0 \\\\\n",
        "                    \\vdots & \\ddots & -1 & 2 & -1 \\\\\n",
        "                    0 & \\cdots & 0 & -1 & 2\n",
        "                \\end{pmatrix},\n",
        "            \\\n",
        "            \\\n",
        "             b = h^2\\begin{pmatrix}\n",
        "                        f(x_1) \\\\\n",
        "                        f(x_2) \\\\\n",
        "                        \\vdots \\\\\n",
        "                        f(x_n)\n",
        "                    \\end{pmatrix}.\n",
        "$$\n",
        "\n",
        "- Example using `\\bmatrix`: \n",
        "\n",
        "$$\n",
        "   Av=b, \\ \\text{ where } \\ A = \\begin{bmatrix}\n",
        "                    2 & -1 & 0 & \\cdots & 0 \\\\\n",
        "                    -1 & 2 & -1 & \\ddots & \\vdots \\\\\n",
        "                    0 & \\ddots & \\ddots & \\ddots & 0 \\\\\n",
        "                    \\vdots & \\ddots & -1 & 2 & -1 \\\\\n",
        "                    0 & \\cdots & 0 & -1 & 2\n",
        "                \\end{bmatrix},\n",
        "            \\\n",
        "            \\\n",
        "             b = h^2\\begin{bmatrix}\n",
        "                        f(x_1) \\\\\n",
        "                        f(x_2) \\\\\n",
        "                        \\vdots \\\\\n",
        "                        f(x_n)\n",
        "                    \\end{bmatrix}.\n",
        "$$"
      ],
      "metadata": {
        "id": "NVWoBGCvIpJO"
      }
    },
    {
      "cell_type": "markdown",
      "source": [
        "### Custom arrays\n",
        "\n",
        "The `array` format combined with a description of alignment (`l` for left, `c` for center, and `r` for right) can be used to create a customizable array/table of data:\n",
        "\n",
        "$$\n",
        "  \\begin{array}{lcr}\n",
        "    100 & 200 & 300 \\\\\n",
        "    10 & 20 & 30 \\\\\n",
        "    1 & 2 & 3\n",
        "  \\end{array}\n",
        "$$\n",
        "\n",
        "We can add a vertical line `|` to the left or right of any alignment character:\n",
        "\n",
        "$$\n",
        "  \\begin{array}{|lc|r|}\n",
        "    100 & 200 & 300 \\\\\n",
        "    10 & 20 & 30 \\\\\n",
        "    1 & 2 & 3\n",
        "  \\end{array}\n",
        "$$\n",
        "\n",
        "We can use `\\hline` commands to create horizontal lines and combine with `|` to create arrays that are quite \"fancy\" describing a table of data:\n",
        "\n",
        "$$\n",
        "  \\begin{array}{l|lcr}\n",
        "        & x_1 & x_2 & x_3 \\\\\n",
        "    \\hline\n",
        "    y_1 & 100 & 200 & 300 \\\\\n",
        "    y_2 & 10 & 20 & 30 \\\\\n",
        "    y_3 & 1 & 2 & 3\n",
        "  \\end{array}\n",
        "$$"
      ],
      "metadata": {
        "id": "sAtYnKhbJu1S"
      }
    },
    {
      "cell_type": "markdown",
      "source": [
        "### Font choices\n",
        "\n",
        "`\\mathbb` is needed to create the fonts for many standard mathematical spaces like $\\mathbb{R}$, $\\mathbb{C}$, or any of their higher-dimensional counterparts like $\\mathbb{R}^n$.\n",
        "\n",
        "`\\mathcal` is used to create the fonts for many operators like $\\mathcal{L}$ or $\\mathcal{I}$.\n",
        "\n",
        "`\\mathbf` makes Latin letters a bold non-italic font in math displays, like $\\mathbf{b}$ or $\\mathbf{z}$, and is often used to represent vectors (although I prefer to just use context to describe vectors). \n",
        "\n",
        "`\\pmb` or `\\boldsymbol` makes Greek letters and symbols a bold font. Compare $\\phi$, $\\pmb{\\phi}$, and $\\boldsymbol{\\phi}$.  If applied to Latin letters, it makes them appear in an italicized way, compare $b$, $\\mathbf{b}$, $\\pmb{b}$, and $\\boldsymbol{b}$. "
      ],
      "metadata": {
        "id": "J14hQq66L2iY"
      }
    }
  ],
  "metadata": {
    "kernelspec": {
      "display_name": "Python 3",
      "language": "python",
      "name": "python3"
    },
    "language_info": {
      "codemirror_mode": {
        "name": "ipython",
        "version": 3
      },
      "file_extension": ".py",
      "mimetype": "text/x-python",
      "name": "python",
      "nbconvert_exporter": "python",
      "pygments_lexer": "ipython3",
      "version": "3.8.6"
    },
    "colab": {
      "name": "01_Markdown_Tex_Examples.ipynb",
      "provenance": [],
      "collapsed_sections": []
    }
  },
  "nbformat": 4,
  "nbformat_minor": 0
}