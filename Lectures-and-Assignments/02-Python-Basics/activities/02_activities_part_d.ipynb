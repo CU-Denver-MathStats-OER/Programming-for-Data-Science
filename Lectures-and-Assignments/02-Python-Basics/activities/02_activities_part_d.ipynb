{
  "cells": [
    {
      "cell_type": "markdown",
      "metadata": {
        "id": "NG9BefqsypBY"
      },
      "source": [
        "# Math  1376: Programming for Data Science\n",
        "---\n",
        "\n",
        "## External activities for 02-Python-basics-lecture-part-d\n",
        "---\n",
        "\n",
        "**Expected time to completion: 20-30 minutes**"
      ]
    },
    {
      "cell_type": "code",
      "execution_count": null,
      "metadata": {
        "id": "AxF4rjcWypBb"
      },
      "outputs": [],
      "source": [
        "import numpy as np\n",
        "import matplotlib.pyplot as plt "
      ]
    },
    {
      "cell_type": "markdown",
      "metadata": {
        "id": "0781ao7DypBc"
      },
      "source": [
        "---\n",
        "\n",
        "##  <mark>Activity 1: Some basic plotting and annotation practice</mark> "
      ]
    },
    {
      "cell_type": "markdown",
      "metadata": {
        "id": "jHDoDZ9jypBd"
      },
      "source": [
        "Finish the code cell below to plot the function \n",
        "\n",
        "$$f(x) = \\frac{\\ln(x - 2)}{(5-x)^{1/3}}$$\n",
        "\n",
        "for $x$-values in $(2,5)$ with the following specifications.\n",
        "\n",
        "- The plot of this function should be a **black**, ***dashed*** curve with a *linewidth of 3.5*.\n",
        "\n",
        "- The x-axis label should be $x$ with a fontsize of 14 and the title of the plot should be $f(x)=\\frac{\\ln(x - 2)}{(5-x)^{1/3}}$ in blue font with a fontsize of 18. \n",
        "\n",
        "  *Hint: To display more advanced mathematical formulas in the outputs of plotting functions, it is often necessary to have the letter r appear before the string so that it is interpreted/displayed correctly. See [this short introduction](https://matplotlib.org/stable/tutorials/text/mathtext.html?highlight=mathematical%20expressions) for more details and some examples that are helpful here.*\n",
        "\n",
        "Also, add useful comments to each line of code (including those you add) and use the Markdown cell that follows to explain the presence of `[1:-1]` in the first line of code (and answer if it is necessary to avoid errors or just useful to avoid warnings?)."
      ]
    },
    {
      "cell_type": "code",
      "execution_count": null,
      "metadata": {
        "id": "3bR_7r-BypBd"
      },
      "outputs": [],
      "source": [
        "# Add comments to each line of code here \n",
        "x = np.linspace(2, 5, 1000)[1:-1]\n",
        "\n",
        "y = np.log(x-2) / np.power(5-x, 1/3)\n",
        "\n",
        "plt.figure(figsize=(6,5))\n",
        "# You need to figure out the remaining plotting commands below"
      ]
    },
    {
      "cell_type": "markdown",
      "metadata": {
        "id": "Een7kHEmypBe"
      },
      "source": [
        "<mark>Use this Markdown cell to explain the presence of `[1:-1]` in the first line of code (and answer if it is necessary to avoid errors or just useful to avoid warnings?).</mark>"
      ]
    },
    {
      "cell_type": "markdown",
      "metadata": {
        "id": "OxU5QkNLypBe"
      },
      "source": [
        "End of Activity 1.\n",
        "\n",
        "---"
      ]
    }
  ],
  "metadata": {
    "kernelspec": {
      "display_name": "Python 3",
      "language": "python",
      "name": "python3"
    },
    "language_info": {
      "codemirror_mode": {
        "name": "ipython",
        "version": 3
      },
      "file_extension": ".py",
      "mimetype": "text/x-python",
      "name": "python",
      "nbconvert_exporter": "python",
      "pygments_lexer": "ipython3",
      "version": "3.8.6"
    },
    "colab": {
      "provenance": [],
      "collapsed_sections": []
    }
  },
  "nbformat": 4,
  "nbformat_minor": 0
}