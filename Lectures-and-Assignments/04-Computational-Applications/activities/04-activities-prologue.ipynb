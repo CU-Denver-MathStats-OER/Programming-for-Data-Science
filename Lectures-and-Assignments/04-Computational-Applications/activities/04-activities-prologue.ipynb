{
 "cells": [
  {
   "cell_type": "markdown",
   "metadata": {},
   "source": [
    "# Math  1376: Programming for Data Science\n",
    "---\n",
    "\n",
    "## External activities for 04-Computational-Applications-prologue\n",
    "---\n",
    "\n",
    "**Expected time to completion: 45 minutes**"
   ]
  },
  {
   "cell_type": "markdown",
   "metadata": {},
   "source": [
    "<hr style=\"border:5px solid cyan\"> </hr>\n",
    "\n",
    "## <span style='background:rgba(0,255,255, 0.5); color:black'>Activity: A Fourier Approximation Class</span><a id='activity-polynomials'></a>\n",
    "\n",
    "Given a real-valued function $f(x)$ that is defined on the interval $[-1,1]$, it is possible to approximate $f(x)$ as a sum of sine and cosine functions (i.e., as a sum of waves): \n",
    "\n",
    "$$\n",
    "    f(x)\\approx \\dfrac{a_0}{2} + \\sum_{k=1}^{n}\\left( a_k\\cos \\left( \\frac{k\\pi x}{2}\\right)+b_k\\sin \\left( \\frac{k\\pi x}{2}\\right)\\right)\n",
    "$$ \n",
    "\n",
    "where the $\\{a_k\\}_{i=0}^n$ and $\\{b_k\\}_{k=1}^n$ are the real-valued coefficients of the cosine and sine functions, respectively.\n",
    "\n",
    "***Some key notes:***\n",
    "\n",
    "- The $\\{a_k\\}_{k=0}^n$ set is indexed from $0$ to $n$.\n",
    "\n",
    "- $\\dfrac{a_0}{2}$ is the \"average value\" of $f(x)$ over $[-1,1]$ and can also be thought of as the coefficient of $\\cos(0\\pi x)=\\cos(0)=1$.\n",
    "\n",
    "- Technically the $\\{b_k\\}_{k=1}^n$ set is indexed from $1$ to $n$ and there is no $b_0$ because $\\sin(0)=0$. However, in code we find it convenient to define $b_0:=0$ and consider the set as $\\{b_k\\}_{k=0}^n$ so that both sets of coefficients are of the same shape.\n",
    "\n",
    "- $n$ is generally a positive integer and larger $n$ values are generally associated with better approximations of $f(x)$. However, we can also let $n=0$ in which case we have no summation and are approximating $f(x)$ by its average value $\\frac{a_0}{2}$ over the domain $[-1,1]$.\n",
    "\n",
    "- This type of approximation of a function is referred to as a Fourier approximation. See https://en.wikipedia.org/wiki/Fourier_analysis for some history of this idea. \n",
    "\n",
    "***How are the coefficients computed?***\n",
    "\n",
    "With integrals! Don't worry though. We use Python to perform the integration. We also return to the topic of numerical integration in the part-b lecture notebook.\n",
    "\n",
    "Specifically, for each $k$, \n",
    "\n",
    "$$\n",
    "    a_k := \\int_{-1}^1 f(x)\\cos(k\\pi x)\\, dx \\qquad \\text{ and } \\qquad b_k := \\int_{-1}^1 f(x)\\sin(k\\pi x)\\, dx.\n",
    "$$"
   ]
  },
  {
   "cell_type": "markdown",
   "metadata": {},
   "source": [
    "**An example.** \n",
    "\n",
    "Consider the function $f(x)=x$. \n",
    "\n",
    "Using $n=3$, we have that the $a_i$'s are all 0 whereas $b_1\\approx 0.40528473$, $b_2\\approx 0.31830989$, and $b_3\\approx-0.04503164$ so that \n",
    "\n",
    "$$\n",
    "    f(x)\\approx 0.40528473\\sin \\left( \\dfrac{\\pi x}{2}\\right)+0.31830989\\sin \\left( \\dfrac{2\\pi x}{2}\\right)-0.04503164\\sin \\left( \\dfrac{3\\pi x}{2}\\right).\n",
    "$$ \n",
    "\n",
    "We construct and plot $f(x)$ and this approximation in the code cells below.."
   ]
  },
  {
   "cell_type": "code",
   "execution_count": null,
   "metadata": {},
   "outputs": [],
   "source": [
    "import numpy as np\n",
    "import matplotlib.pyplot as plt"
   ]
  },
  {
   "cell_type": "code",
   "execution_count": null,
   "metadata": {},
   "outputs": [],
   "source": [
    "def f(x):  # defining f(x)\n",
    "    return x\n",
    "\n",
    "def f_approx(x):  # defining the approximation of f(x) using cosine's and sine's\n",
    "    return 0.40528473*np.sin(np.pi*x/2)+0.31830989*np.sin(2*np.pi*x/2)-0.04503164*np.sin(3*np.pi*x/2)"
   ]
  },
  {
   "cell_type": "code",
   "execution_count": null,
   "metadata": {},
   "outputs": [],
   "source": [
    "x = np.linspace(-1,1,100) # 100 values between -1 and 1 to use for plotting\n",
    "\n",
    "%matplotlib widget\n",
    "plt.figure()\n",
    "plt.plot(x, f(x), label='f(x)')\n",
    "plt.plot(x, f_approx(x), label='3-term Fourier Approx.')\n",
    "plt.legend()\n",
    "plt.show()"
   ]
  },
  {
   "cell_type": "markdown",
   "metadata": {},
   "source": [
    "**Activity goal.**\n",
    "\n",
    "Complete the missing `plot` method for the class called `FourierApprox`. \n",
    "\n",
    "Data attributes of this class:\n",
    "\n",
    "- A function `func` that we wish to approximate. \n",
    "\n",
    "- An integer `n`.\n",
    "\n",
    "- The sets of coefficients in the Fourier approximation given by `a` and `b` as arrays of shape `n+1` (where `b[0]=0`).\n",
    "\n",
    "Method attributes of this class (besides the `__init__` method):\n",
    "\n",
    "- `fourier_approx_eval` to evaluate the Fourier approximation\n",
    "\n",
    "- `plot` to plot both the original function and the Fourier approximation. \n",
    "\n",
    "The below code cell contains the incomplete class.\n",
    "\n",
    "***Student To-Do's:***\n",
    "\n",
    "- Finish coding the `plot` method in the `FourierApprox` class so that the `plot` method will plot both the original function `func` and the Fourier approximation by using `fourier_approx_eval` on the same plot from -1.0 to 1.0. \n",
    "\n",
    "- Edit the `__init__` class so that `n` has a default value of 10.\n",
    "\n",
    "- Run the `# Instructor created code cell` marked code cells that follow to test what you have done.\n",
    "\n",
    "- Complete the other code cells that follow where prompted to create your own function called `my_func`, construct a Fourier approximation of it using an instantiation of the `FourierApprox` class, and use the `plot` method to graph your function along with its Fourier approximation with `n=20` terms."
   ]
  },
  {
   "cell_type": "code",
   "execution_count": null,
   "metadata": {},
   "outputs": [],
   "source": [
    "import scipy.integrate as integrate\n",
    "\n",
    "class FourierApprox(object):\n",
    "    '''\n",
    "    This class creates a Fourier approximation of a given function and provides methods to evaluate \n",
    "    and plot the Fourier approximation. \n",
    "    \n",
    "    Variables \n",
    "    ---------\n",
    "    func: function to be approximation. Function needs to be defined on the interval [-1,1].\n",
    "    n: number of terms to be kept from the Fourier series. \n",
    "    \n",
    "    Attributes\n",
    "    ----------\n",
    "    a: array with shape n+1 that contains the coefficients a_k from k=0 to k=n. \n",
    "    b: array with shape n+1 that contains the coefficients b_k from k=0 to k=n. \n",
    "    \n",
    "    Methods\n",
    "    -------\n",
    "    fourier_approx_eval(x): evaluates the Fourier approximation of func at x.\n",
    "    plot(): plots the Fourier approximation along with func.\n",
    "    '''\n",
    "    \n",
    "    def __init__(self, func, n):\n",
    "        self.func = func\n",
    "        self.n = n\n",
    "        \n",
    "        def integrand_a_k(x,k):\n",
    "            return(self.func(x)*np.cos(k*np.pi*x/2)/2)\n",
    "        def integrand_b_k(x,k):\n",
    "            return(self.func(x)*np.sin(k*np.pi*x/2)/2)\n",
    "        \n",
    "        # creating coefficients of Fourier approximation as a attributes as and bs\n",
    "        coefficients = np.zeros(shape=(2,self.n+1))\n",
    "        coefficients[0,0] = integrate.quad(func, -1, 1)[0]/2\n",
    "        \n",
    "        for i in range(self.n):\n",
    "            coefficients[0,i+1] = integrate.quad(integrand_a_k, -1, 1, args=i+1)[0]\n",
    "            coefficients[1,i+1] = integrate.quad(integrand_b_k, -1, 1, args=i+1)[0]\n",
    "            \n",
    "        self.a = coefficients[0,:]\n",
    "        self.b = coefficients[1,:]\n",
    "            \n",
    "    def fourier_approx_eval(self, x):\n",
    "        '''\n",
    "        Method for evaluating the Fourier approximation at x. \n",
    "        '''\n",
    "        \n",
    "        fourier_approx_value = self.a[0]/2\n",
    "        for i in range(self.n):\n",
    "            fourier_approx_value += self.a[i+1]*np.cos((i+1)*np.pi*x/2) + self.b[i+1]*np.sin((i+1)*np.pi*x/2)\n",
    "        return(fourier_approx_value)\n",
    "    \n",
    "    def plot(self):\n",
    "        '''\n",
    "        Method for plotting the Fourier approximation and the original function.\n",
    "        '''\n",
    "        "
   ]
  },
  {
   "cell_type": "code",
   "execution_count": null,
   "metadata": {},
   "outputs": [],
   "source": [
    "# Instructor created code cell\n",
    "\n",
    "f_approx_1 = FourierApprox(lambda x: x, n = 3)"
   ]
  },
  {
   "cell_type": "code",
   "execution_count": null,
   "metadata": {},
   "outputs": [],
   "source": [
    "# Instructor created code cell\n",
    "\n",
    "print(f_approx_1.a)  # These are zeros\n",
    "print(f_approx_1.b) "
   ]
  },
  {
   "cell_type": "code",
   "execution_count": null,
   "metadata": {},
   "outputs": [],
   "source": [
    "# Instructor created code cell\n",
    "\n",
    "f_approx_1.plot()  # This will not produce a plot until students complete the plot method in FourierApprox"
   ]
  },
  {
   "cell_type": "code",
   "execution_count": null,
   "metadata": {},
   "outputs": [],
   "source": [
    "# Instructor created code cell\n",
    "\n",
    "f_approx_1 = FourierApprox(lambda x: x)  # This will produce a TypeError if students have not defaulted n=10 as instructed"
   ]
  },
  {
   "cell_type": "code",
   "execution_count": null,
   "metadata": {},
   "outputs": [],
   "source": [
    "# Instructor created code cell\n",
    "\n",
    "f_approx_1.plot()  # This will not produce a plot until students complete the plot method in FourierApprox"
   ]
  },
  {
   "cell_type": "code",
   "execution_count": null,
   "metadata": {},
   "outputs": [],
   "source": [
    "def func(x):\n",
    "    # Students should define their own real-valued function here\n",
    "    # Make sure your function can take both `float` and `ndarray` types as inputs\n",
    "    # Make sure your function is defined on [-1,1]\n",
    "    return()"
   ]
  },
  {
   "cell_type": "code",
   "execution_count": null,
   "metadata": {},
   "outputs": [],
   "source": [
    "# Students should create f_approx_2 as an instantiation of the FourierApprox using func defined above\n",
    "# as well as n=20 and use the plot method to plot this func along with its 20-term Fourier approximation.\n",
    "\n"
   ]
  },
  {
   "cell_type": "markdown",
   "metadata": {},
   "source": [
    "<hr style=\"border:5px solid cyan\"> </hr>"
   ]
  }
 ],
 "metadata": {
  "kernelspec": {
   "display_name": "Python 3 (ipykernel)",
   "language": "python",
   "name": "python3"
  },
  "language_info": {
   "codemirror_mode": {
    "name": "ipython",
    "version": 3
   },
   "file_extension": ".py",
   "mimetype": "text/x-python",
   "name": "python",
   "nbconvert_exporter": "python",
   "pygments_lexer": "ipython3",
   "version": "3.9.7"
  }
 },
 "nbformat": 4,
 "nbformat_minor": 4
}
