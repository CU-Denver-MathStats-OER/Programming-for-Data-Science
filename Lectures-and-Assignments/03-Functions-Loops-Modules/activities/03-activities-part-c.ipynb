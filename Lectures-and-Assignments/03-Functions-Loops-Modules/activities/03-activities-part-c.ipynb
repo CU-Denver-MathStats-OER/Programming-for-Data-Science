{
 "cells": [
  {
   "cell_type": "markdown",
   "metadata": {},
   "source": [
    "# Math  1376: Programming for Data Science\n",
    "---\n",
    "\n",
    "## External activities for 03-Functions-loops-modules-part-c\n",
    "---\n",
    "\n",
    "**Expected time to completion: 30-45 minutes**"
   ]
  },
  {
   "cell_type": "code",
   "execution_count": null,
   "metadata": {},
   "outputs": [],
   "source": [
    "import numpy as np\n",
    "\n",
    "%matplotlib widget\n",
    "\n",
    "import differences as diff \n",
    "import matplotlib.pyplot as plt\n",
    "\n",
    "from ipywidgets import interact, interactive, fixed, interact_manual\n",
    "import ipywidgets as widgets"
   ]
  },
  {
   "cell_type": "markdown",
   "metadata": {},
   "source": [
    "<hr style=\"border:5px solid cyan\"> </hr>\n",
    "\n",
    "## <span style='background:rgba(0,255,255, 0.5); color:black'>Activity: Plotting derivatives with and without some widgets and making your own module</span>\n",
    "\n",
    "- Create a new function `my_plot_derivs` based on the `plot_derivs` function from the lecture that has the same parameters as `plot_derivs` along with THREE additional parameters: `x_min`, `x_max`, and `which_approx`. The `x_min` and `x_max` parameters should be used to set the left and right endpoints, respectively, of the x-values for which the function and its derivative approximation are computed and plotted. The `which_approx` parameter determines which type of derivative approximation is plotted and should either be 'FD' (for forward-difference), 'BD' (for backward-difference) or 'CD' (for centered-difference).\n",
    "\n",
    "    - This function should not use multiple plots but rather use a single plot with two sets of axes so that the derivative approximation is plotted on the same graph as the original function but with its own independent y-axis. *Hint: This is done by using the `subplots` command but only in order to instantiate a second axes that shares the same x-axis as is shown elsewhere in the lecture notebook.*\n",
    "    \n",
    "    - Default `x_min` and `x_max` to 0 and 1, respectively, and `which_approx` to 'CD' (for centered-difference). \n",
    "    \n",
    "    - Make sure to add a docstring to the function."
   ]
  },
  {
   "cell_type": "code",
   "execution_count": null,
   "metadata": {},
   "outputs": [],
   "source": [
    "# Your my_plot_derivs goes here\n"
   ]
  },
  {
   "cell_type": "markdown",
   "metadata": {},
   "source": [
    "- Run the code cells below to check the functionality of your code. They should all run without error and produce results that resemble those for the `my_sine` function shown in the lecture notebook."
   ]
  },
  {
   "cell_type": "code",
   "execution_count": null,
   "metadata": {},
   "outputs": [],
   "source": [
    "def my_sine(x):\n",
    "    return np.sin(2*np.pi*x)"
   ]
  },
  {
   "cell_type": "code",
   "execution_count": null,
   "metadata": {},
   "outputs": [],
   "source": [
    "my_plot_derivs(f = my_sine, \n",
    "               h = 0.01, \n",
    "               n = 200, \n",
    "               x_min = 0,\n",
    "               x_max = 3,\n",
    "               which_approx = 'FD')"
   ]
  },
  {
   "cell_type": "code",
   "execution_count": null,
   "metadata": {},
   "outputs": [],
   "source": [
    "%reset -f out \n",
    "\n",
    "interactive(my_plot_derivs, \n",
    "            f=fixed(my_sine),\n",
    "            h=widgets.FloatLogSlider(value=0.01, min=-6, max=-2, base=10, step=1),\n",
    "            n=widgets.IntSlider(value=100, min=50, max=1000, step=50),\n",
    "            x_min=fixed(0),\n",
    "            x_max=fixed(3),\n",
    "            which_approx = widgets.Dropdown(options=['CD', 'FD', 'BD'], \n",
    "                                            value='CD', \n",
    "                                            description='deriv. approx type:'))"
   ]
  },
  {
   "cell_type": "markdown",
   "metadata": {},
   "source": [
    "- Make a module `myFunctions.py` that contains the functions `f1`, `f2`, and `f3`. Each function should take the single parameter `x`.\n",
    "\n",
    "    - The `f1` function should return `x`, the `f2` function should return `x**2`, and the `f3` function should return `x**3`. \n",
    "    \n",
    "    - Import this module below as `myF` and use `my_plot_derivs` (both with and without widgets) to plot these functions along with their derivative approximations for x-values in the range of [-2,2]."
   ]
  },
  {
   "cell_type": "code",
   "execution_count": null,
   "metadata": {},
   "outputs": [],
   "source": []
  },
  {
   "cell_type": "code",
   "execution_count": null,
   "metadata": {},
   "outputs": [],
   "source": []
  },
  {
   "cell_type": "code",
   "execution_count": null,
   "metadata": {},
   "outputs": [],
   "source": []
  },
  {
   "cell_type": "code",
   "execution_count": null,
   "metadata": {},
   "outputs": [],
   "source": []
  },
  {
   "cell_type": "markdown",
   "metadata": {},
   "source": [
    "<hr style=\"border:5px solid cyan\"> </hr>"
   ]
  }
 ],
 "metadata": {
  "kernelspec": {
   "display_name": "Python 3",
   "language": "python",
   "name": "python3"
  },
  "language_info": {
   "codemirror_mode": {
    "name": "ipython",
    "version": 3
   },
   "file_extension": ".py",
   "mimetype": "text/x-python",
   "name": "python",
   "nbconvert_exporter": "python",
   "pygments_lexer": "ipython3",
   "version": "3.9.2"
  }
 },
 "nbformat": 4,
 "nbformat_minor": 4
}
