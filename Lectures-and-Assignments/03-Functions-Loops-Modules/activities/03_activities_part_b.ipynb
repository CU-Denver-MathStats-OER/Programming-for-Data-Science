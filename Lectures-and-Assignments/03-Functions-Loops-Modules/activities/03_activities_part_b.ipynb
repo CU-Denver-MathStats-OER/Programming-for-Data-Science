{
  "cells": [
    {
      "cell_type": "markdown",
      "metadata": {
        "id": "mOZ3azy_UW8G"
      },
      "source": [
        "# Math  1376: Programming for Data Science\n",
        "---\n",
        "\n",
        "## External activities for 03-Functions-loops-modules-part-b\n",
        "---\n",
        "\n",
        "**Expected time to completion: 60-90 minutes**"
      ]
    },
    {
      "cell_type": "code",
      "execution_count": null,
      "metadata": {
        "id": "XA_z1JUSUW8O"
      },
      "outputs": [],
      "source": [
        "import numpy as np"
      ]
    },
    {
      "cell_type": "markdown",
      "metadata": {
        "id": "gOkdX8-bUW8Q"
      },
      "source": [
        "---\n",
        "\n",
        "## <mark>Activity 1: An advanced currency converter function </mark>\n",
        "\n",
        "The code cell below shows how to create a variable `money` of type `dict` containing keywords `'US_dollars'` and `'CAN_dollars'` that point to arrays `US_dollars` and `CAN_dollars`.\n"
      ]
    },
    {
      "cell_type": "code",
      "execution_count": null,
      "metadata": {
        "id": "6bKjUVzLUW8Q"
      },
      "outputs": [],
      "source": [
        "US_dollars = np.array([100, 200, 300])\n",
        "CAN_dollars = np.array([300, 250, 225, 275])\n",
        "\n",
        "money = {'US_dollars' : US_dollars, 'CAN_dollars' : CAN_dollars}"
      ]
    },
    {
      "cell_type": "markdown",
      "metadata": {
        "id": "ZxHzNiidUW8R"
      },
      "source": [
        "We can iterate over the keywords in a `dict` as shown below and use these iterated keywords to access the variable types the keywords point to in the `dict`."
      ]
    },
    {
      "cell_type": "code",
      "execution_count": null,
      "metadata": {
        "id": "VEs79wwaUW8R"
      },
      "outputs": [],
      "source": [
        "for i in money:\n",
        "    print(type(i), '\\n', i)\n",
        "    print()\n",
        "    print(type(money[i]), '\\n',  money[i])\n",
        "    print('~'*50)"
      ]
    },
    {
      "cell_type": "markdown",
      "metadata": {
        "id": "EQlfZnYMUW8S"
      },
      "source": [
        "- Write a function, `currencyConvert_adv`, that has a single parameter `money`, which is assumed to be of type `dict` containing keywords `'US_dollars'` and `'CAN_dollars'` that point to arrays like shown above. The function should loop through the keywords in `money`. If the keyword is `'US_dollars'`, then every value in the array it points to should be converted to Canadian dollars (assume a conversion rate of $1 US dollar = $1.3 Canadian dollars as in the previous external activity notebook). Else, every value in the other array should be converted to US dollars. These conversions should be printed to screen. \n",
        "\n",
        "    - The function should use the `isinstance` command to check to make sure that the `money` parameter is of type `dict` and that the keywords point to variables of type `np.ndarray`.\n",
        "\n",
        "    - Make sure to add a useful docstring to the function.\n",
        "\n",
        "- Execute the code cells that follow. All of them should run without error! Feel free to add more, but the three included should remain."
      ]
    },
    {
      "cell_type": "code",
      "execution_count": null,
      "metadata": {
        "id": "MtE-CkgkUW8T"
      },
      "outputs": [],
      "source": [
        "# Your function should go here\n"
      ]
    },
    {
      "cell_type": "code",
      "execution_count": null,
      "metadata": {
        "id": "Su_-4M6vUW8T"
      },
      "outputs": [],
      "source": [
        "currencyConvert_adv(money)"
      ]
    },
    {
      "cell_type": "code",
      "execution_count": null,
      "metadata": {
        "id": "czNUQgngUW8U"
      },
      "outputs": [],
      "source": [
        "new_money = {'US_dollars' : np.array([140, 150]), \n",
        "             'CAN_dollars': np.array([175])}"
      ]
    },
    {
      "cell_type": "code",
      "execution_count": null,
      "metadata": {
        "id": "aSLUYVB8UW8V"
      },
      "outputs": [],
      "source": [
        "currencyConvert_adv(new_money)"
      ]
    },
    {
      "cell_type": "markdown",
      "metadata": {
        "id": "SE_-wKd1UW8V"
      },
      "source": [
        "End of Activity 1.\n",
        "\n",
        "---"
      ]
    },
    {
      "cell_type": "markdown",
      "metadata": {
        "id": "4aPc8qhUUW8V"
      },
      "source": [
        "---\n",
        "\n",
        "## <mark>Activity 2: An Advanced Discounted Cash Flow Model</mark>\n",
        "\n",
        "Building upon the previous set of activities for the part-a lecture, we now use the following notation:\n",
        "- $n$ denotes the number of years we are considering into the future.\n",
        "- $CF_n$ denotes the projected cash flow at year $n$.\n",
        "- $r$ denotes the discount, or interest, rate which reflects the cost of tying up capital and may also allow for the risk that the payment may not be received in full (often chosen in $(0,1)$).\n",
        "- $DCF$ denotes the discount applied to all $CF_n$ up to and including $n$. This differs from the previous activity because we now assume that we are generating a cash flow in all years from year 1 up to year $n$.\n",
        "\n",
        "The formula for $DCF$ is then given as\n",
        "$$\n",
        "    \\large DCF = \\sum_{i=1}^n \\frac{CF_i}{(1+r)^i},\n",
        "$$\n",
        "which is just a fancy way of writing\n",
        "$$\n",
        "    \\large DCF = \\frac{CF_1}{(1+r)^1} + \\frac{CF_2}{(1+r)^2} + \\cdots + \\frac{CF_n}{(1+r)^n}.\n",
        "$$"
      ]
    },
    {
      "cell_type": "markdown",
      "metadata": {
        "id": "eaM0kyUrUW8W"
      },
      "source": [
        "### A scenario demonstrating the time-value of money\n",
        "\n",
        "Suppose we project that in three years (so $n=3$), the projected cash flow from an investment in each year is $CF_1=\\$1,000$, $CF_2=\\$1,500$, and $CF_3=\\$1,750$, and we use a 5% discount rate (so $r=0.05$), then $DCF \\approx \\$3,824.64$, which means the \"fair value\" of the investment in today's dollars, from our perspective, is $\\$3,824.64$. Note that such an investment of this amount would generate, if the projections come true, a total amount of $\\$4,250$ over the three years. \n",
        "\n",
        "Suppose instead that $CF_1=\\$0$, but there is an explosion of earnings in the last two years so that $CF_2=\\$1,700$, and $CF_3=\\$2,600$ resulting in a total cash flow in three years of $\\$4,300$. In this case, with the same discount rate as before, $DCF \\approx \\$3,787.93$, which means the \"fair value\" of the investment in today's dollars, from our perspective, is $\\$3,787.93$. \n",
        "\n",
        "Even though the total payout from the second investment option is potentially more than the first, we value the initial money earned from the first investment *more* than the total amount of money we project to earn in the second investment. This demonstrates the \"time value\" of money. "
      ]
    },
    {
      "cell_type": "markdown",
      "metadata": {
        "id": "TTieJvVzUW8W"
      },
      "source": [
        "### Your to-do's\n",
        "\n",
        "- Make a function `DCF_adv` below that has `CF`, `r`, and `n` as parameters that computes the $DCF$ by using a for-loop and the formula above, prints the final value to screen, and also returns the value to the user. Default the `n` value to 5 and the `r` value to 0.05. \n",
        "\n",
        "    - The values of `r` and `n` should be scalars in this activity (`n` should be of type `int` and `r` should be of type `float`). \n",
        "    - The `CF` should be of type `np.ndarray` *and* be of length `n`. \n",
        "    - Use the `isinstance` command to check the types and also check that `CF` is of length `n`. \n",
        "    - Make sure to add a useful docstring to the function. \n",
        "\n",
        "\n",
        "- Execute your functions with some different choices of scalar variables and print/interpret results (create new code cells to do this and a Markdown cell to more clearly explain results). "
      ]
    },
    {
      "cell_type": "code",
      "execution_count": null,
      "metadata": {
        "id": "qASjeygWUW8X"
      },
      "outputs": [],
      "source": []
    },
    {
      "cell_type": "code",
      "execution_count": null,
      "metadata": {
        "id": "iYLQmWn8UW8X"
      },
      "outputs": [],
      "source": []
    },
    {
      "cell_type": "code",
      "execution_count": null,
      "metadata": {
        "id": "hjhpttFMUW8X"
      },
      "outputs": [],
      "source": []
    },
    {
      "cell_type": "code",
      "execution_count": null,
      "metadata": {
        "id": "gjxBMsH7UW8X"
      },
      "outputs": [],
      "source": []
    },
    {
      "cell_type": "markdown",
      "metadata": {
        "id": "9ohB0n1DUW8X"
      },
      "source": []
    },
    {
      "cell_type": "markdown",
      "metadata": {
        "id": "n6aXU59tUW8Y"
      },
      "source": [
        "End of Activity 2.\n",
        "\n",
        "---"
      ]
    }
  ],
  "metadata": {
    "kernelspec": {
      "display_name": "Python 3",
      "language": "python",
      "name": "python3"
    },
    "language_info": {
      "codemirror_mode": {
        "name": "ipython",
        "version": 3
      },
      "file_extension": ".py",
      "mimetype": "text/x-python",
      "name": "python",
      "nbconvert_exporter": "python",
      "pygments_lexer": "ipython3",
      "version": "3.8.6"
    },
    "colab": {
      "provenance": [],
      "collapsed_sections": []
    }
  },
  "nbformat": 4,
  "nbformat_minor": 0
}