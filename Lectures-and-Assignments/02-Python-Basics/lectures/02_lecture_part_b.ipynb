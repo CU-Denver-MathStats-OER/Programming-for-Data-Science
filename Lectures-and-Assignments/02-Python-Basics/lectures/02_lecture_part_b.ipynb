{
  "cells": [
    {
      "cell_type": "markdown",
      "metadata": {
        "id": "apdtltTez1c6"
      },
      "source": [
        "# Math  1376: Programming for Data Science\n",
        "---"
      ]
    },
    {
      "cell_type": "markdown",
      "metadata": {
        "id": "pUQ_j9L_z1c9"
      },
      "source": [
        "## Module 02: Python basics\n",
        "---"
      ]
    },
    {
      "cell_type": "markdown",
      "metadata": {
        "id": "NhFzkj2Hz1c-"
      },
      "source": [
        "## Learning Objectives for Part (b)\n",
        "\n",
        "- Understand what a library is, and what libraries are used for.\n",
        "\n",
        "\n",
        "- Load a Python library and use its functions as you become familiar with the \"dot\" convention.\n",
        "\n",
        "\n",
        "- Understand what the `shape` of a numpy array means and how to create arrays of different shapes.\n",
        "\n",
        "\n",
        "- Know how to cast the data type of a numpy array."
      ]
    },
    {
      "cell_type": "markdown",
      "metadata": {
        "id": "1MDW4-94z1c_"
      },
      "source": [
        "## Notebook contents <a name='Contents'/>\n",
        "\n",
        "- [Part (b) and Video Lecture: Importing Packages (sometimes called Libraries), Subpackages, and Modules](#Importing)\n",
        "\n",
        "  - [Activity 1: Practice with using imported functions](#activity-import)\n",
        "\n",
        "  - [Activity 2: Creating arrays of different shapes](#activity-array-shapes)   \n",
        "\n",
        "  - [Activity: Summary](#activity-summary)"
      ]
    },
    {
      "cell_type": "markdown",
      "metadata": {
        "id": "pWKXuUIbz1c_"
      },
      "source": [
        "## Part (b) and Video Lecture: Importing Packages (sometimes called Libraries), Subpackages, and Modules <a name='Importing'></a>\n",
        "---\n",
        "\n",
        "**Expected time to completion: 3 hours**\n",
        "    \n",
        "<mark> Run the code cell below and click the \"play\" button to see the recorded lecture associated with this notebook.</mark> "
      ]
    },
    {
      "cell_type": "code",
      "execution_count": null,
      "metadata": {
        "id": "xev1eU97z1dA"
      },
      "outputs": [],
      "source": [
        "from IPython.display import YouTubeVideo\n",
        "\n",
        "YouTubeVideo('Fr-RMaiwahU', width=800, height=450)"
      ]
    },
    {
      "cell_type": "markdown",
      "metadata": {
        "id": "34QyTJkmz1dB"
      },
      "source": [
        "<mark> ***Key Points:*** </mark>\n",
        "\n",
        "- A module is a single file of python code that is meant to be imported.\n",
        "\n",
        "\n",
        "- A package is a collection of Python modules under a common namespace (in computing, a namespace is a set of symbols that are used to organize objects of various kinds, so that these objects may be referred to by name). In practice one is created by placing multiple python modules in a directory with a special `__init__.py` module (file). \n",
        "\n",
        "\n",
        "- Unlike many scripting languages, Python follows the conventions of many compiled languages by accessing packages (libraries) via the **import** statement.  Three of the libraries you'll find yourself importing often are \n",
        "\n",
        "    - `numpy` (https://docs.scipy.org/doc/numpy/) \n",
        "    \n",
        "    - `scipy` (https://docs.scipy.org/doc/scipy/reference/)\n",
        "    \n",
        "    - `matplotlib` (http://matplotlib.org/). \n",
        "    \n",
        "There are several other libraries used commonly with Python when doing scientific computing, and the documentation at https://scipy.org/ is a particularly useful starting point.   "
      ]
    },
    {
      "cell_type": "code",
      "execution_count": null,
      "metadata": {
        "id": "2S6oBYsPz1dD"
      },
      "outputs": [],
      "source": [
        "import numpy  #imports numpy as numpy"
      ]
    },
    {
      "cell_type": "markdown",
      "metadata": {
        "id": "SAku41dWz1dD"
      },
      "source": [
        "### To access a function or class in a library, the syntax is `libraryname.functioname(args)`\n",
        "\n",
        "- This is sometimes referred to as the \"dot\" convention.\n",
        "\n",
        "- The dot convention also applies to library constants (e.g., floats that are commonly encountered when using the library such as $\\pi$ or $e$).\n",
        "\n",
        "For example, the code cell belows shows how to access the `sin` function within `numpy` and evaluate it at $\\pi$."
      ]
    },
    {
      "cell_type": "code",
      "execution_count": null,
      "metadata": {
        "id": "T9Uy0nYhz1dE"
      },
      "outputs": [],
      "source": [
        "print(numpy.pi) #numpy.pi is a library constant\n",
        "print(type(numpy.pi))"
      ]
    },
    {
      "cell_type": "code",
      "execution_count": null,
      "metadata": {
        "id": "w3SDgSLzz1dF"
      },
      "outputs": [],
      "source": [
        "print( numpy.sin(numpy.pi) )  #The output of this is \"essentially\" zero (it is within \"machine epsilon\" <--- Google it)"
      ]
    },
    {
      "cell_type": "markdown",
      "metadata": {
        "id": "zH9QQ1szz1dF"
      },
      "source": [
        "### Important note about autocomplete\n",
        "\n",
        "- In an interactive environment like an ipython terminal or Jupyter notebook, autocomplete features exist for imported objects. \n",
        "\n",
        "In the code cell below, try pressing the Tab key after the `numpy.` (note that the `.` is necessary)."
      ]
    },
    {
      "cell_type": "code",
      "execution_count": null,
      "metadata": {
        "id": "Lvpnfxu8z1dG"
      },
      "outputs": [],
      "source": [
        ""
      ]
    },
    {
      "cell_type": "markdown",
      "metadata": {
        "id": "91MURJ2Yz1dG"
      },
      "source": [
        "### What if we just want to import a particular function or subpackage?\n",
        "\n",
        "- If we only need a very specific subset of functions or subpackage within a large package, then we can choose to only import the parts of the package we need in order to make our code more memory efficient. \n",
        "\n",
        "- Below, we use the `log` function from the `math` package and the `random` subpackage from `numpy` to generate a single sample from a normal distribution by taking the logarithm of a lognormal sample (see https://en.wikipedia.org/wiki/Log-normal_distribution for details). \n",
        "\n",
        "  *This is only meant to show how to combine multiple imported functions/subpackages.*"
      ]
    },
    {
      "cell_type": "code",
      "execution_count": null,
      "metadata": {
        "id": "ow7gVsllz1dG"
      },
      "outputs": [],
      "source": [
        "from math import log #imports the (natural) log function from the math package, we could also just use np.log below\n",
        "\n",
        "from numpy import random #imports the random subpackage from numpy\n",
        "\n",
        "sample = log( random.lognormal() ) #generate one normal random sample\n",
        "\n",
        "print()\n",
        "print( sample )"
      ]
    },
    {
      "cell_type": "markdown",
      "metadata": {
        "id": "iiTpX_Xaz1dH"
      },
      "source": [
        "## <mark>Instructor-Led Activity (shown in video): Practice with using imported functions</mark>\n",
        "\n",
        "- Fill in the missing pieces of the code cells below to import the `normal` function from the subpackage `numpy.random` as `rnorm`.\n",
        "\n",
        "- Print a single normally distributed random number with mean 0.0 and standard deviation 1.0.\n",
        "\n",
        "- print a single normally distributed random number with mean 5.0 and standard deviation 0.1.\n",
        "\n",
        "You may find it useful to first look at the documentation on this [normal function.](https://numpy.org/doc/stable/reference/random/generated/numpy.random.normal.html)"
      ]
    },
    {
      "cell_type": "code",
      "execution_count": null,
      "metadata": {
        "id": "4kz2g2xOz1dH"
      },
      "outputs": [],
      "source": [
        "from numpy.random import  as  # we import normal as rnorm"
      ]
    },
    {
      "cell_type": "code",
      "execution_count": null,
      "metadata": {
        "id": "3TTKTMcbz1dI"
      },
      "outputs": [],
      "source": [
        "# Try re-running this code cell multiple times\n",
        "\n",
        "#generate one normally distributed sample with mean 0.0 and st.dev. of 1.0\n",
        "sample = rnorm(loc=, scale=) \n",
        "\n",
        "print()\n",
        "print( sample )\n",
        "\n",
        "#generate one normally distributed sample with mean 5.0 and st.dev. of 0.1\n",
        "sample = rnorm(loc=, scale=)\n",
        "\n",
        "print()\n",
        "print( sample )"
      ]
    },
    {
      "cell_type": "markdown",
      "metadata": {
        "id": "tN2ZaNb8z1dI"
      },
      "source": [
        "---\n",
        "\n",
        "##  <mark>Activity 1: Practice with using imported functions</mark> <a name='activity-import'> </a>\n",
        "\n",
        "- Fill in the missing pieces of the code cells below to import the `uniform` function from the subpackage `numpy.random` as `runif`.\n",
        "\n",
        "- Print a single uniform random number between 0.0 and 1.0\n",
        "\n",
        "- Print a single uniform random number between 9.0 and 10.0.\n",
        "\n",
        "You may find it useful to first look at the documention on this [uniform function.](https://numpy.org/doc/stable/reference/random/generated/numpy.random.uniform.html)"
      ]
    },
    {
      "cell_type": "code",
      "execution_count": null,
      "metadata": {
        "id": "VX0aF4ilz1dI"
      },
      "outputs": [],
      "source": [
        "from numpy.random import  as  # we import uniform as runif here "
      ]
    },
    {
      "cell_type": "code",
      "execution_count": null,
      "metadata": {
        "id": "msWlqCVnz1dJ"
      },
      "outputs": [],
      "source": [
        "# Try re-running this code cell multiple times\n",
        "\n",
        "sample = runif(low=, high=) #generate one uniform random sample between 0.0 and 1.0\n",
        "\n",
        "print()\n",
        "print( sample )\n",
        "\n",
        "sample = runif(low=, high=) #generate one uniform random sample between 9.0 and 10.0\n",
        "\n",
        "print()\n",
        "print( sample )"
      ]
    },
    {
      "cell_type": "markdown",
      "metadata": {
        "id": "5NfMT6q1z1dJ"
      },
      "source": [
        "End of Activity 1.\n",
        "\n",
        "---"
      ]
    },
    {
      "cell_type": "markdown",
      "metadata": {
        "id": "srcODrL1z1dJ"
      },
      "source": [
        "### We can also import a library and assign it a convenient nickname. \n",
        "\n",
        "***This is how we typically do things.***\n",
        "\n",
        "By \"we\" I mean the community of Python programmers. "
      ]
    },
    {
      "cell_type": "code",
      "execution_count": null,
      "metadata": {
        "id": "l11MVrhGz1dJ"
      },
      "outputs": [],
      "source": [
        "import numpy as np # This is the most common way to import numpy\n",
        "\n",
        "print( np.log(np.e) ) #np.e is also a library constant"
      ]
    },
    {
      "cell_type": "markdown",
      "metadata": {
        "id": "Hf1t1Gemz1dK"
      },
      "source": [
        "By the way, imported libraries show up as a Variable with Type module. Run the following code cell to see this."
      ]
    },
    {
      "cell_type": "code",
      "execution_count": null,
      "metadata": {
        "id": "V7fs8QIEz1dK"
      },
      "outputs": [],
      "source": [
        "%whos"
      ]
    },
    {
      "cell_type": "markdown",
      "metadata": {
        "id": "6blO-8gXz1dK"
      },
      "source": [
        "### Cautionary Note On Importing\n",
        "## Read this note!\n",
        "# Seriously!\n",
        "\n",
        "It is possible to avoid typing the library name or nickname altogether by importing everything as `*`, e.g., typing \n",
        "\n",
        "    import numpy as * \n",
        "    \n",
        "loads every subpackage and function within the `numpy` library into the current namespace.\n",
        "\n",
        "Now, while you *can* do this, it is strongly ***discouraged*** because it\n",
        "\n",
        "- provides the opportunity for *namespace collisions* (e.g., if you had a variable name `pi` prior to the import of `numpy`);\n",
        "\n",
        "\n",
        "- may be inefficient (e.g., if the number of objects imported is big);\n",
        "\n",
        "\n",
        "- does not explicitly document the origin of the variable/method/class, which provides a type of auto-documentation in the program that makes it easier for others to know what you are doing (and for you to know what you are doing when you look at your code weeks, months, or even years later).\n",
        "\n",
        "This is so important we are simply going to repeat it again as a set of key points.\n",
        "\n",
        "<mark> ***Key Points:*** </mark>\n",
        "\n",
        "Importing any library with an `as *` is strongly ***discouraged*** because it\n",
        "\n",
        "- provides the opportunity for *namespace collisions* (e.g., if you had a variable name `pi` prior to the import of `numpy`);\n",
        "\n",
        "\n",
        "- may be inefficient (e.g., if the number of objects imported is big);\n",
        "\n",
        "\n",
        "- does not explicitly document the origin of the variable/method/class, which provides a type of auto-documentation in the program that makes it easier for others to know what you are doing (and for you to know what you are doing when you look at your code weeks, months, or even years later)."
      ]
    },
    {
      "cell_type": "markdown",
      "metadata": {
        "id": "gORD5HZFz1dK"
      },
      "source": [
        "### Python help\n",
        "If you are coding without internet activity and want to look something up about a Python library or function, then use the help command. Note that this will also provide information about where to find the proper documentation online in most cases.\n",
        "\n",
        "However, if you are coding *with* internet activity (the more likely scenario), then the online documentation for various libraries and Google (or whatever your favorite internet search engine happens to be) are your best friends."
      ]
    },
    {
      "cell_type": "code",
      "execution_count": null,
      "metadata": {
        "scrolled": true,
        "id": "9Ix0UdbUz1dK"
      },
      "outputs": [],
      "source": [
        "help(help)"
      ]
    },
    {
      "cell_type": "markdown",
      "metadata": {
        "id": "ufEhc0zzz1dL"
      },
      "source": [
        "## Numpy arrays (and why we use these more than lists in scientific computing)\n",
        "\n",
        "<mark> ***Key Points:*** </mark>\n",
        "\n",
        "- Numpy arrays are more efficient than lists of numbers.\n",
        "\n",
        "- Numpy arrays are more convenient to use when we need to perform operations from numerical linear algebra (and much of computational science boils down to numerical linear algebra). \n",
        "\n",
        "   - What do we mean by convenient? You get a lot of vector and matrix operations for \"free\" meaning that we can often avoid unnecessary work that would be required if we were to just use lists (like having to define our own functions to carry out the operations we want). \n",
        "\n",
        "\n",
        "- Do lists have any advantages? Well, lists are more flexible objects than numpy arrays and can handle multiple data types within the list in a way that a numpy array cannot. But, this flexibility comes with a heavy price in terms of memory usage and not being able to apply a lot of built-in functionality on the lists.\n",
        "\n",
        "\n",
        "- Numpy arrays are typically 1-dimensional (1D), 2-dimensional (2D), or 3-dimensional (3D). This is determined by the use of a certain number of square brackets (we will see examples below). A particular entry in an array is commonly referred to as a ***component*** of the array.\n",
        "\n",
        "    - A 1D array has a `shape` of the form (n,) where n denotes the number of components in the array.\n",
        "    \n",
        "    - A 2D array has a `shape` of the form (n,m) where n denotes the number of rows and m denotes the number of columns in the array.\n",
        "    \n",
        "    - A 3D array has a `shape` of the form (k,n,m) and is often best conceptualized as k different 2D arrays of shape (n,m). \n",
        "\n",
        "We make heavy use of `numpy` arrays. Below are some examples of array constructions. \n",
        "***Pay attention to the number and location of square brackets used to define the dimensional inputs of the arrays.***"
      ]
    },
    {
      "cell_type": "code",
      "execution_count": null,
      "metadata": {
        "id": "d3VT0-fUz1dL"
      },
      "outputs": [],
      "source": [
        "arr_1d = np.array( [1,2,3,4] )  #1D array (typically called a vector)\n",
        "\n",
        "arr_2d = np.array( [ [1,2], [3,4], [5,6] ] ) #2D array (sometimes called a matrix)\n",
        "\n",
        "arr_3d = np.array( [ [ [1,2,3], [4,5,6] ],[ [7,8,9], [10,11,12] ] ] ) #3D array\n",
        "\n",
        "print()\n",
        "print( 'arr_1d =\\n', arr_1d ) #Note the use of \\n in a string, which, when printed, creates a new line\n",
        "\n",
        "print()\n",
        "print( 'arr_2d =\\n', arr_2d )\n",
        "\n",
        "print()\n",
        "print( 'arr_3d[1,:,:] =\\n', arr_3d[1,:,:] )"
      ]
    },
    {
      "cell_type": "markdown",
      "metadata": {
        "id": "qV5gmW3Lz1dL"
      },
      "source": [
        "Once a numpy array is defined, we can investigate many of its attributes easily."
      ]
    },
    {
      "cell_type": "code",
      "execution_count": null,
      "metadata": {
        "id": "UKuK16Ooz1dL"
      },
      "outputs": [],
      "source": [
        "#the numpy array attribute \"shape\"\n",
        "print()\n",
        "print( 'The shape of arr_1d is', arr_1d.shape )\n",
        "\n",
        "print()\n",
        "print( 'The shape of arr_2d is', arr_2d.shape )\n",
        "\n",
        "print()\n",
        "print( 'The shape of arr_3d is', arr_3d.shape )\n",
        "\n",
        "#the numpy array attribute \"size\"\n",
        "print()\n",
        "print( 'The total number of components of arr_3d is', arr_3d.size )"
      ]
    },
    {
      "cell_type": "code",
      "execution_count": null,
      "metadata": {
        "id": "x1TAIH-jz1dL"
      },
      "outputs": [],
      "source": [
        "arr_3d_different = np.array( [ [ [1,2], [3,4], [5,6] ], [ [7,8], [9,10], [11,12] ] ])\n",
        "\n",
        "print(arr_3d_different)\n",
        "print()\n",
        "print('The shape of arr_3d_different is', arr_3d_different.shape)"
      ]
    },
    {
      "cell_type": "markdown",
      "metadata": {
        "id": "jhUag0XRz1dM"
      },
      "source": [
        "## <mark>Instructor-Led Activity (shown in video): Creating arrays of different shapes </mark>\n",
        "\n",
        "- Fill in the code cells below to create a 2D array of shape (4, 2) and a 3D array of shape (2, 4, 2)."
      ]
    },
    {
      "cell_type": "code",
      "execution_count": null,
      "metadata": {
        "id": "G1jTwaC-z1dM"
      },
      "outputs": [],
      "source": [
        "my_array_2d = np.array()\n",
        "\n",
        "print()\n",
        "print( 'my_array_2d =\\n', my_array_2d )\n",
        "\n",
        "print()\n",
        "print( 'The shape of my_array_2d is', my_array_2d.shape )"
      ]
    },
    {
      "cell_type": "code",
      "execution_count": null,
      "metadata": {
        "id": "ka_b4snaz1dM"
      },
      "outputs": [],
      "source": [
        "my_array_3d = np.array()\n",
        "\n",
        "print()\n",
        "print( 'my_array_3d =\\n', my_array_3d )\n",
        "\n",
        "print()\n",
        "print( 'The shape of my_array_3d is', my_array_3d.shape )"
      ]
    },
    {
      "cell_type": "markdown",
      "metadata": {
        "id": "-FysqGYYz1dM"
      },
      "source": [
        "---\n",
        "\n",
        "## <mark>Activity 2: Creating arrays of different shapes</mark> <a name='activity-array-shapes'></a>\n",
        "\n",
        "- Fill in the code cells below to create a 2D array of shape (2, 3) and a 3D array of shape (1,2,3).\n",
        "\n",
        "- Create new code cells to make a 3D array of shape (3,2,1) and a 2D array of shape (3,2)."
      ]
    },
    {
      "cell_type": "code",
      "execution_count": null,
      "metadata": {
        "id": "4L-Cf07wz1dN"
      },
      "outputs": [],
      "source": [
        "my_array_2d = np.array( [ [], [] ] )\n",
        "\n",
        "print()\n",
        "print( 'my_array_2d =\\n', my_array_2d )\n",
        "\n",
        "print()\n",
        "print( 'The shape of my_array_2d is', my_array_2d.shape )"
      ]
    },
    {
      "cell_type": "code",
      "execution_count": null,
      "metadata": {
        "id": "nKCE9fDhz1dN"
      },
      "outputs": [],
      "source": [
        "my_array_3d = np.array( [ [ [], [] ] ] )\n",
        "\n",
        "print()\n",
        "print( 'my_array_3d =\\n', my_array_3d )\n",
        "\n",
        "print()\n",
        "print( 'The shape of my_array_3d is', my_array_3d.shape )"
      ]
    },
    {
      "cell_type": "markdown",
      "metadata": {
        "id": "CpAvdRisz1dN"
      },
      "source": [
        "End of Activity 2.\n",
        "\n",
        "---"
      ]
    },
    {
      "cell_type": "markdown",
      "metadata": {
        "id": "U_5fm3YKz1dN"
      },
      "source": [
        "### Casting the type of a `numpy` array.\n",
        "\n",
        "The `numpy` data type attribute `dtype` describes the type of data stored in `numpy` and it is cast as the ***minimal*** data type required to store all the data."
      ]
    },
    {
      "cell_type": "code",
      "execution_count": null,
      "metadata": {
        "id": "uyD_Hb_1z1dN"
      },
      "outputs": [],
      "source": [
        "#the numpy attribute \"dtype\" describes the data type stored in the array\n",
        "print()\n",
        "print( 'The type of a numpy array is the minimal type required to hold all the data' )\n",
        "\n",
        "print()\n",
        "print( 'The data type of the original arr_3d is', arr_3d.dtype )"
      ]
    },
    {
      "cell_type": "code",
      "execution_count": null,
      "metadata": {
        "id": "m9iOoPxYz1dN"
      },
      "outputs": [],
      "source": [
        "#What happens if we change the last entry of arr_3d to be 12.0?\n",
        "\n",
        "arr_3d = np.array( [ [ [1,2,3], [4,5,6] ],[ [7,8,9], [10,11,12.0] ] ] ) #3D array\n",
        "\n",
        "print()\n",
        "print( 'arr_3d =\\n', arr_3d )\n",
        "\n",
        "print()\n",
        "print( 'The data type of this new arr_3d is', arr_3d.dtype )"
      ]
    },
    {
      "cell_type": "markdown",
      "metadata": {
        "id": "QkWiAx23z1dO"
      },
      "source": [
        "We can easily re-cast the data in `numpy` arrays as different data types using the special `astype` function, which creates a copy of the specified array that are cast to a specified type.\n"
      ]
    },
    {
      "cell_type": "code",
      "execution_count": null,
      "metadata": {
        "id": "IkSumNyKz1dO"
      },
      "outputs": [],
      "source": [
        "print()\n",
        "print( 'A copy of arr_2d as a float \\n', arr_2d.astype(float) )\n",
        "\n",
        "print()   \n",
        "print( 'The arr_2d is still an integer array \\n', arr_2d, '\\n', arr_2d.dtype )\n",
        "\n",
        "print() \n",
        "print( 'Here is a copy of of arr_2d as a str array \\n', arr_2d.astype(str) )"
      ]
    },
    {
      "cell_type": "markdown",
      "metadata": {
        "id": "aDWCFQgez1dO"
      },
      "source": [
        "You may also specify the data type during the array creation call."
      ]
    },
    {
      "cell_type": "code",
      "execution_count": null,
      "metadata": {
        "id": "grrXkWgZz1dO"
      },
      "outputs": [],
      "source": [
        "arr_3d = np.array( [ [ [1,2,3], [4,5,6] ],[ [7,8,9], [10,11,12.0] ] ] ).astype(int)\n",
        "\n",
        "print()\n",
        "print( 'arr_3d =\\n', arr_3d )\n",
        "\n",
        "print()\n",
        "print( 'The data type of this new arr_3d is', arr_3d.dtype )"
      ]
    },
    {
      "cell_type": "markdown",
      "metadata": {
        "id": "mFIzdfs9z1dO"
      },
      "source": [
        "---\n",
        "\n",
        "## <mark>Activity: Summary</mark> <a name='activity-summary'/>\n",
        "\n",
        "Summarize some of the key takeaways/points from this notebook in a list below and prepare a few code examples related to these takeaways/points in the code cells below. You need to have at least one example for each of your summary points and you need at least three summary points.\n",
        "\n",
        "In this notebook, we have seen the following:\n",
        "\n",
        "- [Your summary point 1 goes here]"
      ]
    },
    {
      "cell_type": "code",
      "execution_count": null,
      "metadata": {
        "id": "N_oUNHc_z1dP"
      },
      "outputs": [],
      "source": [
        ""
      ]
    },
    {
      "cell_type": "markdown",
      "metadata": {
        "id": "TX5e2ud_z1dP"
      },
      "source": [
        "- [Your summary point 2 goes here]\n"
      ]
    },
    {
      "cell_type": "code",
      "execution_count": null,
      "metadata": {
        "id": "G-DQHAiUz1dP"
      },
      "outputs": [],
      "source": [
        ""
      ]
    },
    {
      "cell_type": "markdown",
      "metadata": {
        "id": "djKxaVvKz1dP"
      },
      "source": [
        "- [Your summary point 3 goes here]"
      ]
    },
    {
      "cell_type": "code",
      "execution_count": null,
      "metadata": {
        "id": "pO5CxYAtz1dP"
      },
      "outputs": [],
      "source": [
        ""
      ]
    },
    {
      "cell_type": "markdown",
      "metadata": {
        "id": "lpQ9j-Asz1dP"
      },
      "source": [
        "End of Summary Activity.\n",
        "\n",
        "---"
      ]
    },
    {
      "cell_type": "markdown",
      "metadata": {
        "id": "yPRzOACzz1dP"
      },
      "source": [
        "### <a href='#Contents'>Click here to return to Notebook Contents</a>"
      ]
    }
  ],
  "metadata": {
    "anaconda-cloud": {},
    "kernelspec": {
      "display_name": "Python 3",
      "language": "python",
      "name": "python3"
    },
    "language_info": {
      "codemirror_mode": {
        "name": "ipython",
        "version": 3
      },
      "file_extension": ".py",
      "mimetype": "text/x-python",
      "name": "python",
      "nbconvert_exporter": "python",
      "pygments_lexer": "ipython3",
      "version": "3.8.6"
    },
    "colab": {
      "name": "02_lecture_part_b.ipynb",
      "provenance": [],
      "collapsed_sections": []
    }
  },
  "nbformat": 4,
  "nbformat_minor": 0
}