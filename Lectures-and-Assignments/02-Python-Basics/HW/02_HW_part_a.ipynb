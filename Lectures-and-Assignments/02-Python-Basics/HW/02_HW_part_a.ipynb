{
  "cells": [
    {
      "cell_type": "markdown",
      "metadata": {
        "id": "HaFecaSj67OE"
      },
      "source": [
        "# Math  1376: Programming for Data Science\n",
        "---\n",
        "\n",
        "## Assignment 02 (part a): Some variables but mostly lists\n",
        "---\n",
        "\n",
        "**Expected time to completion: 4-6 hours**"
      ]
    },
    {
      "cell_type": "markdown",
      "metadata": {
        "id": "2zgGWktn67OJ"
      },
      "source": [
        "## Problem 1: Different lists of integers and the `len` function\n",
        "---\n"
      ]
    },
    {
      "cell_type": "markdown",
      "source": [
        "\n",
        "### Problem 1(a)\n",
        "---\n",
        "\n",
        "- Add useful and succinct comments to each line of the code cell below where a list is generated.\n",
        "\n",
        "- Use the Markdown cell following the code cell to fully explain/summarize the outputs from the code (you may want to include a link to documentation on the `range` function)."
      ],
      "metadata": {
        "id": "gPg0oIpi7MVG"
      }
    },
    {
      "cell_type": "code",
      "execution_count": null,
      "metadata": {
        "id": "QsXPDH9Y67OJ"
      },
      "outputs": [],
      "source": [
        "list_1 = list(range(1,20,1)) \n",
        "print(list_1, '\\n')\n",
        "\n",
        "list_2 = list(range(1,20,2))\n",
        "print(list_2, '\\n')\n",
        "\n",
        "list_3 = list(range(0,20,1))\n",
        "print(list_3, '\\n')\n",
        "\n",
        "list_4 = list(range(0,20,22))\n",
        "print(list_4, '\\n')\n",
        "\n",
        "list_5 = list(range(20,0,-1))\n",
        "print(list_5, '\\n')\n",
        "\n",
        "list_6 = list(range(20,-1,-1))\n",
        "print(list_6, '\\n')\n",
        "\n",
        "list_7 = list(range(20,-1,-2))\n",
        "print(list_7, '\\n')\n",
        "\n",
        "list_8 = list(range(0,20,-1))\n",
        "print(list_8, '\\n')"
      ]
    },
    {
      "cell_type": "markdown",
      "metadata": {
        "id": "vks-g7F167OK"
      },
      "source": [
        "<mark> YOUR EXPLANATION GOES IN THIS CELL.</mark>"
      ]
    },
    {
      "cell_type": "markdown",
      "metadata": {
        "id": "YYMcWAOH67OK"
      },
      "source": [
        "### Problem 1(b)\n",
        "---\n",
        "\n",
        "- Explore how the `len` function works by running the code cell below.\n",
        "\n",
        "- Use a bullet-list to interpret the printed results in the Markdown cell that follows. You may also want to link to documentation on the `len` function."
      ]
    },
    {
      "cell_type": "code",
      "execution_count": null,
      "metadata": {
        "id": "UzB5caCc67OL"
      },
      "outputs": [],
      "source": [
        "print(len(list_1))\n",
        "\n",
        "print()\n",
        "\n",
        "print(len(list_2))\n",
        "\n",
        "print()\n",
        "\n",
        "print(len(list_3))\n",
        "\n",
        "print()\n",
        "\n",
        "print(len(list_4))\n",
        "\n",
        "print()\n",
        "\n",
        "print(len(list_8))"
      ]
    },
    {
      "cell_type": "markdown",
      "metadata": {
        "id": "ZLQxBH5m67OM"
      },
      "source": [
        "<mark> YOUR EXPLANATION GOES IN THIS CELL.</mark>"
      ]
    },
    {
      "cell_type": "markdown",
      "metadata": {
        "id": "DEn9sArO67OM"
      },
      "source": [
        "## Problem 2: A list of lists\n",
        "\n",
        "Run the code cell below to make a `my_lists` that has some of the above lists as its *individual* components.\n",
        "\n",
        "- Use print commands to print `my_lists` and also the *components* of it such as `my_lists[0]`, `my_lists[2]`, etc.  \n",
        "\n",
        "- Compute the length of `my_lists` using the `len` function and print the result.\n",
        "\n",
        "- Use code comments to explain what each line of your code is doing in the two code cells where you are prompted to use print commands and the `len` function.\n",
        "\n",
        "- Explain the printed outputs of your code cells in the Markdown cell that follows the code cells."
      ]
    },
    {
      "cell_type": "code",
      "execution_count": null,
      "metadata": {
        "id": "4Du_9hva67ON"
      },
      "outputs": [],
      "source": [
        "my_lists = [list_1, list_2, list_3, list_4, list_8]"
      ]
    },
    {
      "cell_type": "code",
      "execution_count": null,
      "metadata": {
        "id": "akEMsX9K67ON"
      },
      "outputs": [],
      "source": [
        "# Put your print commands here to view my_lists and also some\n",
        "# of its components"
      ]
    },
    {
      "cell_type": "code",
      "execution_count": null,
      "metadata": {
        "id": "17xFKkjr67OO"
      },
      "outputs": [],
      "source": [
        "# Compute the length of my_lists here"
      ]
    },
    {
      "cell_type": "markdown",
      "metadata": {
        "id": "5GJ7grhI67OO"
      },
      "source": [
        "<mark> YOUR EXPLANATION GOES IN THIS CELL.</mark>"
      ]
    },
    {
      "cell_type": "markdown",
      "metadata": {
        "id": "hDuagMGV67OO"
      },
      "source": [
        "## Problem 3: Manipulating lists and a brief note on the \"dot\" convention for functions\n",
        "---\n",
        "\n",
        "**You may want to refer to [more on lists](https://docs.python.org/3/tutorial/datastructures.html#more-on-lists) for this problem.**\n",
        "\n",
        "Lists are actually *objects* that have certain functions attached to them that allow you to easily manipulate the list object. In Python, a function (also called a method) that is attached to an object as an attribute is accessible through the \"dot\" convention. We are not going to dwell on this now since our more immediate goal is to understand simply how to use such functions. We explore object oriented programming (OOP) in module 04 where we dive deeper into the concept of method and data attributes associated with objects.\n"
      ]
    },
    {
      "cell_type": "markdown",
      "source": [
        "\n",
        "### Problem 3(a)\n",
        "---\n",
        "\n",
        "- Run the code below that uses the `append` function on `my_lists[3]` to add the number $100$ to the end of this list. \n",
        "\n",
        "- Use the `print` command to print out both `my_lists[3]` and `list_4`. \n",
        "\n",
        "- Interpret all of these results in the Markdown cell following the code."
      ],
      "metadata": {
        "id": "Akwhom8N95Vp"
      }
    },
    {
      "cell_type": "code",
      "execution_count": null,
      "metadata": {
        "id": "EeePNQdC67OP"
      },
      "outputs": [],
      "source": [
        "my_lists[3].append(100)"
      ]
    },
    {
      "cell_type": "code",
      "execution_count": null,
      "metadata": {
        "id": "H5kWL6DH67OP"
      },
      "outputs": [],
      "source": [
        "# print results using this code cell"
      ]
    },
    {
      "cell_type": "markdown",
      "metadata": {
        "id": "sCr5LMHw67OP"
      },
      "source": [
        "<mark> YOUR EXPLANATION GOES IN THIS CELL.</mark>"
      ]
    },
    {
      "cell_type": "markdown",
      "metadata": {
        "id": "PwnGNj0P67OQ"
      },
      "source": [
        "### Problem 3(b)\n",
        "---\n",
        "\n",
        "- Run the code below. \n",
        "\n",
        "- Interpret what is happening in the Markdown cell following the code."
      ]
    },
    {
      "cell_type": "code",
      "execution_count": null,
      "metadata": {
        "id": "asiCQ4Dr67OQ"
      },
      "outputs": [],
      "source": [
        "my_lists[3].reverse()\n",
        "my_lists[3].append(7)\n",
        "my_lists[3].reverse()\n",
        "\n",
        "print(my_lists[3])\n",
        "\n",
        "print(list_4)"
      ]
    },
    {
      "cell_type": "markdown",
      "metadata": {
        "id": "GN9YPhBv67OQ"
      },
      "source": [
        "<mark> YOUR EXPLANATION GOES IN THIS CELL.</mark>"
      ]
    },
    {
      "cell_type": "markdown",
      "metadata": {
        "id": "UHC3IYJK67OQ"
      },
      "source": [
        "### Problem 3(c)\n",
        "---\n",
        "\n",
        "- Run the code below. \n",
        "\n",
        "- Interpret what is happening in the Markdown cell following the code.\n",
        "\n",
        "- Create a new code cell to show how to simplify the code in part (b) using the `insert` function."
      ]
    },
    {
      "cell_type": "code",
      "execution_count": null,
      "metadata": {
        "id": "rnvkJRte67OR"
      },
      "outputs": [],
      "source": [
        "my_lists[3].insert(0,'hi')\n",
        "\n",
        "print(list_4)"
      ]
    },
    {
      "cell_type": "markdown",
      "metadata": {
        "id": "wwf1encQ67OR"
      },
      "source": [
        "<mark> YOUR EXPLANATION GOES IN THIS CELL.</mark>"
      ]
    },
    {
      "cell_type": "markdown",
      "metadata": {
        "id": "Mbie9TpB67OR"
      },
      "source": [
        "### Problem 3(d)\n",
        "---\n",
        "\n",
        "- Try to run the code below, and **interpret** the *error message* in the Markdown cell following the code.\n",
        "\n",
        "***NOTE:*** If you run the code cell in Problem 3(e) and then re-run this code cell, then the error message will no longer appear. This is because you are now running the code cells out of order and the code cell in Problem 3(e) is designed to *fix* this error. If you do this and need the error to appear, then restart the runtime, clear all outputs, and run the code cells in order again."
      ]
    },
    {
      "cell_type": "code",
      "execution_count": null,
      "metadata": {
        "id": "U_NFLRoF67OR"
      },
      "outputs": [],
      "source": [
        "my_lists[3].sort()\n",
        "\n",
        "print(list_4)"
      ]
    },
    {
      "cell_type": "markdown",
      "metadata": {
        "id": "5K8g7FwL67OS"
      },
      "source": [
        "<mark> YOUR EXPLANATION GOES IN THIS CELL.</mark>"
      ]
    },
    {
      "cell_type": "markdown",
      "metadata": {
        "id": "EigrIcGm67OS"
      },
      "source": [
        "### Problem 3(e)\n",
        "---\n",
        "\n",
        "- Run the code below, and **explain** how this resolves the *error message* from 3(d) in the Markdown cell following the code.\n",
        "\n",
        "***NOTE:*** If you run the code cell below and then re-run the code cell in 3(d), the error message will no longer appear. This is because you are now running the code cells out of order. If you do this and need the error to appear, then restart the runtime, clear all outputs, and run the code cells in order again."
      ]
    },
    {
      "cell_type": "code",
      "execution_count": null,
      "metadata": {
        "id": "wLx7ASSZ67OS"
      },
      "outputs": [],
      "source": [
        "my_lists[3].remove('hi')\n",
        "\n",
        "my_lists[3].sort()\n",
        "\n",
        "print(list_4)\n",
        "\n",
        "my_lists[3].sort(reverse=True)\n",
        "\n",
        "print(list_4)"
      ]
    },
    {
      "cell_type": "markdown",
      "metadata": {
        "id": "mzloiCSp67OS"
      },
      "source": [
        "<mark> YOUR EXPLANATION GOES IN THIS CELL.</mark>"
      ]
    },
    {
      "cell_type": "markdown",
      "metadata": {
        "id": "tjoVjc1s67OT"
      },
      "source": [
        "### Problem 3(f)\n",
        "---\n",
        "\n",
        "Here, we seek to address the difference between append and extend.\n",
        "\n",
        "- Run the two code cells below and interpret the results in the following Markdown cell. \n",
        "\n",
        "- Explain scenarios where we may want to use `extend` instead of `append` and vice versa. You may want to relate `extend` to a list arithmetic operation from the lecture *(hint: think concatenation)*. "
      ]
    },
    {
      "cell_type": "code",
      "execution_count": null,
      "metadata": {
        "id": "ZA1CBp-467OT"
      },
      "outputs": [],
      "source": [
        "my_lists[3].append([500,1000])\n",
        "\n",
        "print(list_4)\n",
        "\n",
        "my_lists[3].extend([500,1000])\n",
        "\n",
        "print(list_4)"
      ]
    },
    {
      "cell_type": "markdown",
      "metadata": {
        "id": "mIksY_Ta67OT"
      },
      "source": [
        "<mark> YOUR EXPLANATION GOES IN THIS CELL.</mark>"
      ]
    },
    {
      "cell_type": "markdown",
      "metadata": {
        "id": "J4oC_SwZ67OT"
      },
      "source": [
        "## Problem 4: What does `enumerate` do to a list?\n",
        "--- \n",
        "\n",
        "We have seen `range`. It is useful for creating lists. It is also useful when we start working with loops.\n",
        "\n",
        "The [`enumerate`](https://docs.python.org/3/library/functions.html#enumerate) function is also useful for creating lists of tuples from other lists.\n",
        "\n",
        "- Your job is to run the code cells below and explain the results in each of the Markdown cells that follow."
      ]
    },
    {
      "cell_type": "code",
      "execution_count": null,
      "metadata": {
        "id": "U0Affda167OT"
      },
      "outputs": [],
      "source": [
        "my_enumeration = list(enumerate(list_4))\n",
        "\n",
        "print(my_enumeration)\n",
        "print()\n",
        "print(my_enumeration[0])\n",
        "print()\n",
        "print(my_enumeration[0][0])\n",
        "print()\n",
        "print(my_enumeration[0][1])\n",
        "print()\n",
        "print(my_enumeration[3][1])"
      ]
    },
    {
      "cell_type": "markdown",
      "metadata": {
        "id": "NsQ0f36w67OU"
      },
      "source": [
        "<mark> YOUR EXPLANATION GOES IN THIS CELL.</mark>"
      ]
    },
    {
      "cell_type": "code",
      "execution_count": null,
      "metadata": {
        "id": "JwMiUzJz67OU"
      },
      "outputs": [],
      "source": [
        "moods = ['Happy', 'Angry', 'Joyful', 'Fearful']\n",
        "\n",
        "moods_enumerated = list(enumerate(moods))\n",
        "\n",
        "print(moods_enumerated)"
      ]
    },
    {
      "cell_type": "markdown",
      "metadata": {
        "id": "3fdSLbY567OU"
      },
      "source": [
        "<mark> YOUR EXPLANATION GOES IN THIS CELL.</mark>"
      ]
    },
    {
      "cell_type": "code",
      "execution_count": null,
      "metadata": {
        "id": "scoKmoNt67OU"
      },
      "outputs": [],
      "source": [
        "my_new_enumeration = list(enumerate(list_4, start=7))\n",
        "\n",
        "print(my_new_enumeration)"
      ]
    },
    {
      "cell_type": "markdown",
      "metadata": {
        "id": "HNQ-EfML67OU"
      },
      "source": [
        "<mark> YOUR EXPLANATION GOES IN THIS CELL.</mark>"
      ]
    },
    {
      "cell_type": "code",
      "execution_count": null,
      "metadata": {
        "id": "QzUhgx-C67OV"
      },
      "outputs": [],
      "source": [
        "seasons = ['Spring', 'Summer', 'Fall', 'Winter']\n",
        "\n",
        "seasons_enumerated = list(enumerate(seasons, start=1))\n",
        "\n",
        "print(seasons_enumerated)\n",
        "print()\n",
        "print(seasons_enumerated[0])"
      ]
    },
    {
      "cell_type": "markdown",
      "metadata": {
        "id": "mkMuA7ln67OV"
      },
      "source": [
        "<mark> YOUR EXPLANATION GOES IN THIS CELL.</mark>"
      ]
    },
    {
      "cell_type": "markdown",
      "metadata": {
        "id": "-ZaPn8WZ67OV"
      },
      "source": [
        "## Problem 5: Our first `zip`\n",
        "---\n",
        "\n",
        "- Run the code cells below and explain what the `zip` function is doing in the Markdown cell that follows. *Hint: Pay attention to the parentheses. You can also print out more information and try to create your own simpler example to figure out what `zip` is doing. Look up the documentation for `zip` as well.*"
      ]
    },
    {
      "cell_type": "code",
      "execution_count": null,
      "metadata": {
        "id": "PINFdPRL67OV"
      },
      "outputs": [],
      "source": [
        "my_zip = list(zip(my_enumeration, my_new_enumeration))\n",
        "\n",
        "print(my_zip)\n",
        "print()\n",
        "print(len(my_zip))\n",
        "print()\n",
        "print(my_zip[0])\n",
        "print()\n",
        "print(my_zip[0][0])\n",
        "print()\n",
        "print(my_zip[0][0][0])\n",
        "print()\n",
        "print(my_zip[0][0][1])\n",
        "print()\n",
        "print(my_zip[3][0][1][0])"
      ]
    },
    {
      "cell_type": "code",
      "execution_count": null,
      "metadata": {
        "id": "EfRun3KN67OV"
      },
      "outputs": [],
      "source": [
        "my_other_zip = [zip(my_enumeration, my_new_enumeration)]\n",
        "\n",
        "print(my_other_zip)  # Hmmm...."
      ]
    },
    {
      "cell_type": "code",
      "execution_count": null,
      "metadata": {
        "id": "EaTEH_A967OW"
      },
      "outputs": [],
      "source": [
        "# You may need to Google this to understand what is happening here as opposed to \n",
        "# the previous cell\n",
        "my_other_zip = [*zip(my_enumeration, my_new_enumeration)] \n",
        "\n",
        "print(my_other_zip)"
      ]
    },
    {
      "cell_type": "markdown",
      "metadata": {
        "id": "g7a38EbQ67OW"
      },
      "source": [
        "<mark> YOUR EXPLANATION GOES IN THIS CELL.</mark>"
      ]
    },
    {
      "cell_type": "markdown",
      "metadata": {
        "id": "mz0E3x2p67OW"
      },
      "source": [
        "## Problem 6: [What's happening?!](https://www.youtube.com/watch?v=X0dcZ66783k)\n",
        "---\n",
        "\n",
        "It is not *that* scary (really).\n",
        "\n",
        "- Run the code below and explain what is happening in the Markdown cell below."
      ]
    },
    {
      "cell_type": "code",
      "execution_count": null,
      "metadata": {
        "id": "SQsdaxmD67OW"
      },
      "outputs": [],
      "source": [
        "what_is_happening = list_1 + my_lists\n",
        "\n",
        "print(what_is_happening, '\\n')\n",
        "\n",
        "print(what_is_happening[0], '\\n')\n",
        "\n",
        "print(what_is_happening[18], '\\n')\n",
        "\n",
        "print(what_is_happening[19])"
      ]
    },
    {
      "cell_type": "markdown",
      "metadata": {
        "id": "yJu21B2Q67OW"
      },
      "source": [
        "<mark> YOUR EXPLANATION GOES IN THIS CELL.</mark>"
      ]
    },
    {
      "cell_type": "markdown",
      "metadata": {
        "id": "0_u9e0ai67OW"
      },
      "source": [
        "## Problem 7: Our first `dict`\n",
        "---\n",
        "\n",
        "- Run the code cells below. You may even want to create some other code cells to experiment.\n",
        "\n",
        "- Add code comments to explain what various lines of code (that do not produce errors) are doing.\n",
        "\n",
        "- Use the Markdown cell that follows all the code cells to explain at least two of the different ways we can construct a `dict` and how components of a `dict` are accessed."
      ]
    },
    {
      "cell_type": "code",
      "execution_count": null,
      "metadata": {
        "id": "t8OhLHTv67OX"
      },
      "outputs": [],
      "source": [
        "my_dict = {'a':1, 'b':2, 'c': 3}\n",
        "print(type(my_dict))\n",
        "print()\n",
        "print(len(my_dict))\n",
        "print()\n",
        "print(my_dict['a'])\n",
        "print()\n",
        "print(my_dict['b'])\n",
        "print()\n",
        "print(my_dict['c'])"
      ]
    },
    {
      "cell_type": "code",
      "source": [
        "print(my_dict.keys())\n",
        "\n",
        "print(my_dict.items())"
      ],
      "metadata": {
        "id": "NUOn1Em4__su"
      },
      "execution_count": null,
      "outputs": []
    },
    {
      "cell_type": "code",
      "execution_count": null,
      "metadata": {
        "id": "Bq4l29sW67OX"
      },
      "outputs": [],
      "source": [
        "# This will produce a KeyError. Why?\n",
        "my_dict[0]"
      ]
    },
    {
      "cell_type": "code",
      "execution_count": null,
      "metadata": {
        "id": "C1ZDJzb667OX"
      },
      "outputs": [],
      "source": [
        "list_of_tuples = [('a', 1), ('b', 2)]\n",
        "my_dict = dict(list_of_tuples)\n",
        "print(type(my_dict))\n",
        "print()\n",
        "print(my_dict['a'])\n",
        "print()\n",
        "print(my_dict['b'])"
      ]
    },
    {
      "cell_type": "code",
      "execution_count": null,
      "metadata": {
        "id": "8dhjFxr_67OX"
      },
      "outputs": [],
      "source": [
        "my_dict = dict(a=1, b=2)\n",
        "print(type(my_dict))\n",
        "print()\n",
        "print(my_dict['a'])\n",
        "print()\n",
        "print(my_dict['b'])"
      ]
    },
    {
      "cell_type": "code",
      "execution_count": null,
      "metadata": {
        "id": "xelQ5_2967OX"
      },
      "outputs": [],
      "source": [
        "# What if you switch the order of the tuples?\n",
        "my_dict = dict([(1, 'a'), (2, 'b')])\n",
        "print(my_dict[1])\n",
        "print()\n",
        "print(my_dict[2])"
      ]
    },
    {
      "cell_type": "code",
      "execution_count": null,
      "metadata": {
        "id": "E6qTugWw67OY"
      },
      "outputs": [],
      "source": [
        "seasons = ['Spring', 'Summer', 'Fall', 'Winter']\n",
        "seasons_dict = dict(enumerate(seasons, start=1))\n",
        "print(seasons_dict)\n",
        "print()\n",
        "print(seasons_dict[1])"
      ]
    },
    {
      "cell_type": "markdown",
      "metadata": {
        "id": "iwwgxfka67OY"
      },
      "source": [
        "<mark> YOUR EXPLANATION GOES IN THIS CELL.</mark>"
      ]
    }
  ],
  "metadata": {
    "kernelspec": {
      "display_name": "Python 3",
      "language": "python",
      "name": "python3"
    },
    "language_info": {
      "codemirror_mode": {
        "name": "ipython",
        "version": 3
      },
      "file_extension": ".py",
      "mimetype": "text/x-python",
      "name": "python",
      "nbconvert_exporter": "python",
      "pygments_lexer": "ipython3",
      "version": "3.8.6"
    },
    "colab": {
      "name": "02_HW_part_a.ipynb",
      "provenance": [],
      "collapsed_sections": []
    }
  },
  "nbformat": 4,
  "nbformat_minor": 0
}