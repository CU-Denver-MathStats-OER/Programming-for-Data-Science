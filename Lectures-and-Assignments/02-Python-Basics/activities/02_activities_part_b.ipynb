{
 "cells": [
  {
   "cell_type": "markdown",
   "metadata": {},
   "source": [
    "# Math  1376: Programming for Data Science\n",
    "---\n",
    "\n",
    "## External activities for 02-Python-basics-lecture-part-b\n",
    "---\n",
    "\n",
    "**Expected time to completion: 45 minutes**"
   ]
  },
  {
   "cell_type": "code",
   "execution_count": null,
   "metadata": {},
   "outputs": [],
   "source": [
    "import numpy as np"
   ]
  },
  {
   "cell_type": "markdown",
   "metadata": {},
   "source": [
    "<hr style=\"border:5px solid cyan\"> </hr>\n",
    "\n",
    "##  <span style='background:rgba(0,255,255, 0.5); color:black'>Activity: Practice controlling the randomness</span> \n",
    "\n",
    "We use the `random.seed` function within `numpy` below to control the reproducibility of the random numbers below. \n",
    "This should only ever be done for creating tests or debugging, but it is a good function to be aware of nonetheless. \n",
    "\n",
    "- Run the code cell below multiple times and comment on/interpret the results in the Markdown cell that follows."
   ]
  },
  {
   "cell_type": "code",
   "execution_count": null,
   "metadata": {},
   "outputs": [],
   "source": [
    "# Try re-running this code cell multiple times\n",
    "\n",
    "np.random.seed(123456)\n",
    "\n",
    "#generate one normally distributed sample with mean 0.0 and st.dev. of 1.0\n",
    "sample = np.random.normal(loc=0.0, scale=1.0) \n",
    "\n",
    "print()\n",
    "print( sample )"
   ]
  },
  {
   "cell_type": "markdown",
   "metadata": {},
   "source": []
  },
  {
   "cell_type": "markdown",
   "metadata": {},
   "source": [
    "- Run the first code cell below *once* and the code cell below it *multiple times* and then comment on/interpret the results in the Markdown cell that follows. "
   ]
  },
  {
   "cell_type": "code",
   "execution_count": null,
   "metadata": {},
   "outputs": [],
   "source": [
    "# Run this code cell only once\n",
    "np.random.seed(123456)"
   ]
  },
  {
   "cell_type": "code",
   "execution_count": null,
   "metadata": {},
   "outputs": [],
   "source": [
    "# Run this code cell multiple times\n",
    "\n",
    "#generate one normally distributed sample with mean 0.0 and st.dev. of 1.0\n",
    "sample = np.random.normal(loc=0.0, scale=1.0) \n",
    "\n",
    "print()\n",
    "print( sample )"
   ]
  },
  {
   "cell_type": "markdown",
   "metadata": {},
   "source": []
  },
  {
   "cell_type": "markdown",
   "metadata": {},
   "source": [
    "<hr style=\"border:5px solid cyan\"> </hr>"
   ]
  },
  {
   "cell_type": "markdown",
   "metadata": {},
   "source": [
    "<hr style=\"border:5px solid cyan\"> </hr>\n",
    "\n",
    "##  <span style='background:rgba(0,255,255, 0.5); color:black'>Activity: Practice with using `numpy` mathematical functions</span>"
   ]
  },
  {
   "cell_type": "markdown",
   "metadata": {},
   "source": [
    "<span style='background:rgba(255,255,0, 0.25); color:black'> Run the code cell below  to create the array used in this activity.</span> "
   ]
  },
  {
   "cell_type": "code",
   "execution_count": null,
   "metadata": {},
   "outputs": [],
   "source": [
    "# This code cell is completed and no interpretation is necessary in a Markdown cell\n",
    "my_array = np.array([np.e, np.pi, 3*np.pi/2, np.inf, np.NINF, np.nan, 0, 1])\n",
    "my_array = my_array[:, np.newaxis]  # This is one way to reshape a 1D array into a 2D array that looks like a column vector\n",
    "print(my_array)"
   ]
  },
  {
   "cell_type": "markdown",
   "metadata": {},
   "source": [
    "You may find it useful to first look at the documentation on the [mathematical functions](https://numpy.org/doc/stable/reference/routines.math.html) available within `numpy`. \n",
    "\n",
    "The documentation on [constants](https://numpy.org/doc/stable/reference/constants.html) available within `numpy` may also be useful to review to understand some of the constants used in `my_array` in the code cell above and also the outputs of some of the operations in the code cells below.\n",
    "\n",
    "- Use the code comments and print statements to guide you in filling in the missing pieces of the code cells below.\n",
    "\n",
    "- Summarize/interpret the outputs of each of these cells in a Markdown cell following each of the code cells. \n",
    "   - Make sure in your interpretation of results to explain why the evaluation of `np.inf` or `np.NINF` (whch are `numpy` constants representing the symbols $\\infty$ and $-\\infty$, respectively) sometimes gives `inf`,`-inf`, or a number, and other times gives `nan` (which is a `numpy` constant representing \"Not a Number\")."
   ]
  },
  {
   "cell_type": "code",
   "execution_count": null,
   "metadata": {},
   "outputs": [],
   "source": [
    "my_output =   # Evaluate the exponential of my_array\n",
    "\n",
    "print('The exponential of my_array is \\n\\n', my_output)\n",
    "\n",
    "print()\n",
    "\n",
    "print('Rounding to 2 decimal places gives \\n\\n', np.around(my_output, 2))"
   ]
  },
  {
   "cell_type": "markdown",
   "metadata": {},
   "source": []
  },
  {
   "cell_type": "code",
   "execution_count": null,
   "metadata": {},
   "outputs": [],
   "source": [
    "my_output =   # Evaulate the trigonemtric sine of my_array\n",
    "\n",
    "print('The sine of my_array is \\n\\n', my_output)\n",
    "\n",
    "print()\n",
    "\n",
    "print('Rounding to 4 decimal places gives \\n\\n', np.around( ))"
   ]
  },
  {
   "cell_type": "markdown",
   "metadata": {},
   "source": []
  },
  {
   "cell_type": "code",
   "execution_count": null,
   "metadata": {},
   "outputs": [],
   "source": [
    "my_output =   # Evaulate the natural logarithm of my_array\n",
    "\n",
    "print('The (natural) logarithm of my_array is \\n\\n', my_output)\n",
    "\n",
    "print()\n",
    "\n",
    "print('Rounding to 3 decimal places gives \\n\\n', np.around( ))"
   ]
  },
  {
   "cell_type": "markdown",
   "metadata": {},
   "source": []
  },
  {
   "cell_type": "markdown",
   "metadata": {},
   "source": [
    "<hr style=\"border:5px solid cyan\"> </hr>"
   ]
  },
  {
   "cell_type": "markdown",
   "metadata": {},
   "source": [
    "<hr style=\"border:5px solid cyan\"> </hr>\n",
    "\n",
    "## <span style='background:rgba(0,255,255, 0.5); color:black'>Activity: Creating arrays of different shapes</span>\n",
    "\n",
    "- Fill in the code cells below to create a 2D array of shape (4, 5) and a 3D array of shape (2, 4, 5)."
   ]
  },
  {
   "cell_type": "code",
   "execution_count": null,
   "metadata": {},
   "outputs": [],
   "source": [
    "my_array_2d = np.array( [ [], [] ] )\n",
    "\n",
    "print()\n",
    "print( 'my_array_2d =\\n', my_array_2d )\n",
    "\n",
    "print()\n",
    "print( 'The shape of my_array_2d is', my_array_2d.shape )"
   ]
  },
  {
   "cell_type": "code",
   "execution_count": null,
   "metadata": {},
   "outputs": [],
   "source": [
    "my_array_3d = np.array( [ [ [], [] ] ] )\n",
    "\n",
    "print()\n",
    "print( 'my_array_3d =\\n', my_array_3d )\n",
    "\n",
    "print()\n",
    "print( 'The shape of my_array_3d is', my_array_3d.shape )"
   ]
  },
  {
   "cell_type": "markdown",
   "metadata": {},
   "source": [
    "<hr style=\"border:5px solid cyan\"> </hr>"
   ]
  }
 ],
 "metadata": {
  "kernelspec": {
   "display_name": "Python 3",
   "language": "python",
   "name": "python3"
  },
  "language_info": {
   "codemirror_mode": {
    "name": "ipython",
    "version": 3
   },
   "file_extension": ".py",
   "mimetype": "text/x-python",
   "name": "python",
   "nbconvert_exporter": "python",
   "pygments_lexer": "ipython3",
   "version": "3.8.6"
  }
 },
 "nbformat": 4,
 "nbformat_minor": 4
}
