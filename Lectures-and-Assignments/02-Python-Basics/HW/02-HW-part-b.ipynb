{
 "cells": [
  {
   "cell_type": "markdown",
   "metadata": {},
   "source": [
    "# Math  1376: Programming for Data Science\n",
    "---\n",
    "\n",
    "## Assignment 02 (part b): `numpy` and array manipulation\n",
    "---\n",
    "\n",
    "**Expected time to completion: 6 hours**"
   ]
  },
  {
   "cell_type": "code",
   "execution_count": null,
   "metadata": {},
   "outputs": [],
   "source": [
    "# 1. Running this cell with embed the short recorded lecture associated with this part of the notebook\n",
    "# 2. Press on the \"play\" button to start the video.\n",
    "\n",
    "from IPython.display import YouTubeVideo\n",
    "\n",
    "YouTubeVideo('u_0Rp2PZFpY', width=800, height=450)"
   ]
  },
  {
   "cell_type": "markdown",
   "metadata": {},
   "source": [
    "**Much of this assignment makes use of the following arrays. Some problems will involve creating new arrays as well.**"
   ]
  },
  {
   "cell_type": "code",
   "execution_count": null,
   "metadata": {},
   "outputs": [],
   "source": [
    "import numpy as np"
   ]
  },
  {
   "cell_type": "code",
   "execution_count": null,
   "metadata": {},
   "outputs": [],
   "source": [
    "constant_1 = 1\n",
    "\n",
    "constant_2 = 2.0\n",
    "\n",
    "array_1 = np.array([1, 2, 3])\n",
    "\n",
    "array_2 = np.array([[1], [2], [3]])\n",
    "\n",
    "array_3 = np.array([[1, 2, 3], [4, 5, 6]])\n",
    "\n",
    "array_4 = np.array([[[1, 2], [3, 4], [5, 6]]])\n",
    "\n",
    "array_5 = np.array([[ [1], [2] ], [ [3], [4] ], [ [5], [6] ]])"
   ]
  },
  {
   "cell_type": "markdown",
   "metadata": {},
   "source": [
    "You may also find the following documentation quite useful: https://numpy.org/doc/1.18/reference/routines.array-manipulation.html"
   ]
  },
  {
   "cell_type": "markdown",
   "metadata": {},
   "source": [
    "## You should always INSPECT THE DATA\n",
    "---\n",
    "\n",
    "Print the arrays and their shapes to get a better sense of them. This information proves useful in answering the next problems."
   ]
  },
  {
   "cell_type": "code",
   "execution_count": null,
   "metadata": {},
   "outputs": [],
   "source": [
    "print(np.shape(array_1))\n",
    "print(np.shape(array_2))\n",
    "print(np.shape(array_3))\n",
    "print(np.shape(array_4))\n",
    "print(np.shape(array_5))"
   ]
  },
  {
   "cell_type": "markdown",
   "metadata": {},
   "source": [
    "## Problem 1: Array shapes, trying addition, and broadcasting\n",
    "---"
   ]
  },
  {
   "cell_type": "markdown",
   "metadata": {},
   "source": [
    "### Problem 1(a):\n",
    "---\n",
    "\n",
    "- Try running each of the following individual code cells and **answer the following two questions in a Markdown cell below**: \n",
    "\n",
    "  1. Under what conditions can we add two arrays?\n",
    "  2. What is the result of array addition under these conditions?\n",
    "\n",
    "We first show some results that work followed by some that do not because they create a `ValueError`. There are some comments in these initial results to either explain what is going on or ask questions about what is going on.\n",
    "Feel free to edit these comments. **Be sure to remark on these explanations or comments in the Markdown cell following these code cells where you address the two questions above.**"
   ]
  },
  {
   "cell_type": "code",
   "execution_count": null,
   "metadata": {},
   "outputs": [],
   "source": [
    "# You can add any constant to an array of any shape! Look what it does here and in the next code cell.\n",
    "array_sum = array_1 + constant_1\n",
    "print(array_sum)"
   ]
  },
  {
   "cell_type": "code",
   "execution_count": null,
   "metadata": {},
   "outputs": [],
   "source": [
    "array_sum = array_4 + constant_2\n",
    "print(array_sum)"
   ]
  },
  {
   "cell_type": "code",
   "execution_count": null,
   "metadata": {},
   "outputs": [],
   "source": [
    "# You can add arrays of the same shape, which means you can always add an array to itself\n",
    "array_sum = array_3 + array_3\n",
    "print(array_sum)"
   ]
  },
  {
   "cell_type": "code",
   "execution_count": null,
   "metadata": {},
   "outputs": [],
   "source": [
    "# You can add arrays of different shapes together if very specific shape characteristics \"align\" properly,\n",
    "# but what is it doing?\n",
    "array_sum = array_1 + array_2\n",
    "print(array_sum)"
   ]
  },
  {
   "cell_type": "code",
   "execution_count": null,
   "metadata": {},
   "outputs": [],
   "source": [
    "# You can add arrays of different shapes together if very specific shape characteristics \"align\" properly,\n",
    "# but what is it doing?\n",
    "array_sum = array_1 + array_5\n",
    "print(array_sum)"
   ]
  },
  {
   "cell_type": "code",
   "execution_count": null,
   "metadata": {},
   "outputs": [],
   "source": [
    "# You can add arrays of different shapes together if very specific shape characteristics \"align\" properly,\n",
    "# but what is it doing?\n",
    "array_sum = array_3 + array_5\n",
    "print(array_sum)"
   ]
  },
  {
   "cell_type": "code",
   "execution_count": null,
   "metadata": {
    "scrolled": true
   },
   "outputs": [],
   "source": [
    "# If the shape characteristics are not in good alignment, then we get errors\n",
    "array_sum = array_2 + array_5\n",
    "print(array_sum)"
   ]
  },
  {
   "cell_type": "code",
   "execution_count": null,
   "metadata": {},
   "outputs": [],
   "source": [
    "# If the shape characteristics are not in good alignment, then we get errors\n",
    "array_sum = array_4 + array_5\n",
    "print(array_sum)"
   ]
  },
  {
   "cell_type": "markdown",
   "metadata": {},
   "source": [
    "<span style='background:rgba(255,255,0, 0.25); color:black'> YOUR ANSWERS FOR THE CONDITIONS AND RESULTS UNDER WHICH WE CAN PERFORM ARRAY ADDITION GO HERE.</span>"
   ]
  },
  {
   "cell_type": "markdown",
   "metadata": {},
   "source": [
    "### Problem 1(b)\n",
    "---\n",
    "Below,  we show how you can make use of the `try` and `except` commands to handle errors. Read more about these here: https://docs.python.org/3/tutorial/errors.html. We do this to demonstrate how it is possible for you to handle potential errors and give useful feedback to users that is perhaps more informative/relevant than a standard error message. This is particularly useful to incorporate inside of functions that allow for \"flexible\" types of inputs. \n",
    "\n",
    "- **Change the feedback given to the user if there is an error in the code cells below.** What feedback should you give? Try seeing what the actual `ValueError` is that is returned and make sense of it (e.g., see the errors from the previous part of this problem). Think of how could this be made more informative for the user by making use of the `np.shape` commands to make a verbose print out of what went wrong."
   ]
  },
  {
   "cell_type": "code",
   "execution_count": null,
   "metadata": {},
   "outputs": [],
   "source": [
    "try:\n",
    "    array_sum = array_1 + array_2\n",
    "    print(array_sum)\n",
    "except ValueError:\n",
    "    print('Can\\'t sum those!')"
   ]
  },
  {
   "cell_type": "code",
   "execution_count": null,
   "metadata": {},
   "outputs": [],
   "source": [
    "try:\n",
    "    array_sum = array_1 + array_3\n",
    "    print(array_sum)\n",
    "except ValueError:\n",
    "    print('Can\\'t sum those!')"
   ]
  },
  {
   "cell_type": "code",
   "execution_count": null,
   "metadata": {},
   "outputs": [],
   "source": [
    "try:\n",
    "    array_sum = array_2 + array_3\n",
    "    print(array_sum)\n",
    "except ValueError:\n",
    "    print('Can\\'t sum those!')"
   ]
  },
  {
   "cell_type": "code",
   "execution_count": null,
   "metadata": {
    "scrolled": true
   },
   "outputs": [],
   "source": [
    "try:\n",
    "    array_sum = array_2 + array_4\n",
    "    print(array_sum)\n",
    "except ValueError:\n",
    "    print('Can\\'t sum those!')"
   ]
  },
  {
   "cell_type": "code",
   "execution_count": null,
   "metadata": {},
   "outputs": [],
   "source": [
    "try:\n",
    "    array_sum = array_4 + array_5\n",
    "    print(array_sum)\n",
    "except ValueError:\n",
    "    print('Can\\'t sum those!')"
   ]
  },
  {
   "cell_type": "code",
   "execution_count": null,
   "metadata": {},
   "outputs": [],
   "source": [
    "try:\n",
    "    array_sum = array_1 + array_5\n",
    "    print(array_sum)\n",
    "except ValueError:\n",
    "    print('Can\\'t sum those!')"
   ]
  },
  {
   "cell_type": "code",
   "execution_count": null,
   "metadata": {},
   "outputs": [],
   "source": [
    "try:\n",
    "    array_sum = array_2 + array_5\n",
    "    print(array_sum)\n",
    "except ValueError:\n",
    "    print('Can\\'t sum those!')"
   ]
  },
  {
   "cell_type": "code",
   "execution_count": null,
   "metadata": {},
   "outputs": [],
   "source": [
    "try:\n",
    "    array_sum = array_2.T + array_5\n",
    "    print(array_sum)\n",
    "except ValueError:\n",
    "    print('Can\\'t sum those!')"
   ]
  },
  {
   "cell_type": "code",
   "execution_count": null,
   "metadata": {},
   "outputs": [],
   "source": [
    "try:\n",
    "    array_sum = array_3 + array_5\n",
    "    print(array_sum)\n",
    "except ValueError:\n",
    "    print('Can\\'t sum those!')"
   ]
  },
  {
   "cell_type": "markdown",
   "metadata": {},
   "source": [
    "## Problem 2: Array shapes and multiplication\n",
    "---\n",
    "\n",
    "- Try running each of the following individual code cells and explain in the Markdown cell that follows (1) the conditions under which two arrays may be multiplied using either `*` or `np.multiply` and (2) what the output of the array multiplication is under these conditions.\n",
    "\n",
    "- You should then re-write each of these code cells to make use of the `try` and `except` functions like above where some relevant feedback about array multiplication is given to the user about what went wrong if there is a `ValueError`. "
   ]
  },
  {
   "cell_type": "code",
   "execution_count": null,
   "metadata": {},
   "outputs": [],
   "source": [
    "array_1 * array_1"
   ]
  },
  {
   "cell_type": "code",
   "execution_count": null,
   "metadata": {},
   "outputs": [],
   "source": [
    "array_1 * array_2"
   ]
  },
  {
   "cell_type": "code",
   "execution_count": null,
   "metadata": {},
   "outputs": [],
   "source": [
    "array_1 * array_3"
   ]
  },
  {
   "cell_type": "code",
   "execution_count": null,
   "metadata": {},
   "outputs": [],
   "source": [
    "array_1 * array_4"
   ]
  },
  {
   "cell_type": "code",
   "execution_count": null,
   "metadata": {},
   "outputs": [],
   "source": [
    "array_1 * array_4.T"
   ]
  },
  {
   "cell_type": "code",
   "execution_count": null,
   "metadata": {},
   "outputs": [],
   "source": [
    "array_1.T * array_4"
   ]
  },
  {
   "cell_type": "code",
   "execution_count": null,
   "metadata": {},
   "outputs": [],
   "source": [
    "array_2 * array_3"
   ]
  },
  {
   "cell_type": "code",
   "execution_count": null,
   "metadata": {},
   "outputs": [],
   "source": [
    "array_2.T * array_3"
   ]
  },
  {
   "cell_type": "code",
   "execution_count": null,
   "metadata": {},
   "outputs": [],
   "source": [
    "array_2 * array_3.T"
   ]
  },
  {
   "cell_type": "code",
   "execution_count": null,
   "metadata": {},
   "outputs": [],
   "source": [
    "array_3.T * array_5"
   ]
  },
  {
   "cell_type": "markdown",
   "metadata": {},
   "source": [
    "<span style='background:rgba(255,255,0, 0.25); color:black'> YOUR EXPLANATIONS FOR THE CONDITIONS UNDER WHICH WE CAN PERFORM ARRAY MULTIPLICATION AND WHAT THE OUTPUTS ARE GO HERE.</span>"
   ]
  },
  {
   "cell_type": "markdown",
   "metadata": {},
   "source": [
    "## Problem 3: Manipulating array shapes\n",
    "---\n",
    "\n",
    "### Problem 3(a): [reshape](https://numpy.org/doc/1.18/reference/generated/numpy.reshape.html#numpy.reshape)\n",
    "\n",
    "- Use the markdown cell below to explain what is going on in the next code cell. Look at some of the comments in the code below for inspiration about what to discuss."
   ]
  },
  {
   "cell_type": "code",
   "execution_count": null,
   "metadata": {},
   "outputs": [],
   "source": [
    "print(array_1)\n",
    "print()\n",
    "\n",
    "print(array_1.reshape((3,1))) #compare to array_2\n",
    "print()\n",
    "\n",
    "print(array_1.reshape((1,3)))\n",
    "print()\n",
    "\n",
    "print(array_1) #did reshape change the array like certain list operations (e.g., reverse) changed the list in the last assignment?\n",
    "print()\n",
    "\n",
    "print(array_2)\n",
    "print()\n",
    "\n",
    "print(array_2.reshape((3,))) #compare to array_1"
   ]
  },
  {
   "cell_type": "markdown",
   "metadata": {},
   "source": [
    "### Problem 3(a): Answers\n",
    "---\n",
    "\n",
    "<span style='background:rgba(255,255,0, 0.25); color:black'> YOUR ANSWERS GO HERE.</span>"
   ]
  },
  {
   "cell_type": "markdown",
   "metadata": {},
   "source": [
    "### Problem 3(b): [ravel](https://numpy.org/doc/1.18/reference/generated/numpy.ravel.html#numpy.ravel) vs [flatten](https://numpy.org/doc/1.18/reference/generated/numpy.ndarray.flatten.html#numpy.ndarray.flatten)\n",
    "\n",
    "- Run the code cells below. \n",
    "\n",
    "- Do a bit of digging/reading about `ravel` vs `flatten` in `numpy`. What is happening? Explain in the markdown cell following these code cells, and include a description of some scenarios where you may want to use `ravel` over `flatten` and vice versa."
   ]
  },
  {
   "cell_type": "code",
   "execution_count": null,
   "metadata": {},
   "outputs": [],
   "source": [
    "print(array_4.ravel())\n",
    "print()\n",
    "\n",
    "print(array_4.flatten())\n",
    "print()\n",
    "\n",
    "print(array_4)"
   ]
  },
  {
   "cell_type": "code",
   "execution_count": null,
   "metadata": {},
   "outputs": [],
   "source": [
    "array_4.ravel()[1] = 7\n",
    "print(array_4.ravel())\n",
    "print()\n",
    "print(array_4)\n",
    "print()\n",
    "\n",
    "array_4.ravel()[1] = 2\n",
    "print(array_4.ravel())\n",
    "print()\n",
    "print(array_4)\n",
    "print()"
   ]
  },
  {
   "cell_type": "code",
   "execution_count": null,
   "metadata": {},
   "outputs": [],
   "source": [
    "array_4.flatten()[1] = 7\n",
    "print(array_4.flatten())\n",
    "print()\n",
    "print(array_4)"
   ]
  },
  {
   "cell_type": "markdown",
   "metadata": {},
   "source": [
    "### Problem 3(b): Answers\n",
    "---\n",
    "\n",
    "<span style='background:rgba(255,255,0, 0.25); color:black'> YOUR ANSWERS GO HERE.</span>"
   ]
  },
  {
   "cell_type": "markdown",
   "metadata": {},
   "source": [
    "## Problem 4: Combining arrays\n",
    "\n",
    "### Problem 4(a) [hstack](https://numpy.org/doc/1.18/reference/generated/numpy.hstack.html#numpy.hstack)\n",
    "\n",
    "- Run the code cells below. \n",
    "\n",
    "- Provide some better feedback than just `Can't do that!` if there is an error. For instance, maybe let the user know more about what went wrong. To figure that out, you may first need to decipher the `ValueError` by running the commands without the `try`.\n",
    "\n",
    "- Interpret what is happening in the Markdown cell following these code cells. "
   ]
  },
  {
   "cell_type": "code",
   "execution_count": null,
   "metadata": {},
   "outputs": [],
   "source": [
    "try:\n",
    "    my_arrays = np.hstack((array_1, array_2))\n",
    "    print(my_arrays)\n",
    "except ValueError:\n",
    "    print('Can\\'t do that!')"
   ]
  },
  {
   "cell_type": "code",
   "execution_count": null,
   "metadata": {},
   "outputs": [],
   "source": [
    "try:\n",
    "    my_arrays = np.hstack((array_1, array_2.T))\n",
    "    print(my_arrays)\n",
    "except ValueError:\n",
    "    print('Can\\'t do that!')"
   ]
  },
  {
   "cell_type": "code",
   "execution_count": null,
   "metadata": {},
   "outputs": [],
   "source": [
    "try:\n",
    "    my_arrays = np.hstack((array_1, array_2.ravel()))\n",
    "    print(my_arrays)\n",
    "except ValueError:\n",
    "    print('Can\\'t do that!')"
   ]
  },
  {
   "cell_type": "code",
   "execution_count": null,
   "metadata": {},
   "outputs": [],
   "source": [
    "try:\n",
    "    my_arrays = np.hstack((array_1.reshape((3,1)), array_2))\n",
    "    print(my_arrays)\n",
    "except ValueError:\n",
    "    print('Can\\'t do that!')"
   ]
  },
  {
   "cell_type": "code",
   "execution_count": null,
   "metadata": {},
   "outputs": [],
   "source": [
    "try:\n",
    "    my_arrays = np.hstack((array_1.reshape((3,1)), array_3))\n",
    "    print(my_arrays)\n",
    "except ValueError:\n",
    "    print('Can\\'t do that!')"
   ]
  },
  {
   "cell_type": "code",
   "execution_count": null,
   "metadata": {},
   "outputs": [],
   "source": [
    "try:\n",
    "    my_arrays = np.hstack((array_1.reshape((3,1)), array_3.T))\n",
    "    print(my_arrays)\n",
    "except ValueError:\n",
    "    print('Can\\'t do that!')"
   ]
  },
  {
   "cell_type": "markdown",
   "metadata": {},
   "source": [
    "### Problem 4(a): Answers\n",
    "---\n",
    "\n",
    "\n",
    "<span style='background:rgba(255,255,0, 0.25); color:black'> YOUR ANSWERS GO HERE.</span>"
   ]
  },
  {
   "cell_type": "markdown",
   "metadata": {},
   "source": [
    "### Problem 4(b): [vstack](https://numpy.org/doc/1.18/reference/generated/numpy.vstack.html)\n",
    "\n",
    "- Run the code cells below.\n",
    "\n",
    "- Provide some better feedback if there is an error.\n",
    "\n",
    "- Interpret what is happening in the Markdown cell following these code cells. "
   ]
  },
  {
   "cell_type": "code",
   "execution_count": null,
   "metadata": {},
   "outputs": [],
   "source": [
    "try:\n",
    "    my_arrays = np.vstack((array_1, array_2))\n",
    "    print(my_arrays)\n",
    "except ValueError:\n",
    "    print('Can\\'t do that!')"
   ]
  },
  {
   "cell_type": "code",
   "execution_count": null,
   "metadata": {},
   "outputs": [],
   "source": [
    "try:\n",
    "    my_arrays = np.vstack((array_1, array_2.T))\n",
    "    print(my_arrays)\n",
    "except ValueError:\n",
    "    print('Can\\'t do that!')"
   ]
  },
  {
   "cell_type": "code",
   "execution_count": null,
   "metadata": {},
   "outputs": [],
   "source": [
    "try:\n",
    "    my_arrays = np.vstack((array_1, array_2.ravel()))\n",
    "    print(my_arrays)\n",
    "except ValueError:\n",
    "    print('Can\\'t do that!')"
   ]
  },
  {
   "cell_type": "code",
   "execution_count": null,
   "metadata": {},
   "outputs": [],
   "source": [
    "try:\n",
    "    my_arrays = np.vstack((array_1.reshape((3,1)), array_2))\n",
    "    print(my_arrays)\n",
    "except ValueError:\n",
    "    print('Can\\'t do that!')"
   ]
  },
  {
   "cell_type": "code",
   "execution_count": null,
   "metadata": {},
   "outputs": [],
   "source": [
    "try:\n",
    "    my_arrays = np.vstack((array_1.reshape((1,3)), array_3))\n",
    "    print(my_arrays)\n",
    "except ValueError:\n",
    "    print('Can\\'t do that!')"
   ]
  },
  {
   "cell_type": "code",
   "execution_count": null,
   "metadata": {},
   "outputs": [],
   "source": [
    "try:\n",
    "    my_arrays = np.vstack((array_1.reshape((1,3)), array_3.T))\n",
    "    print(my_arrays)\n",
    "except ValueError:\n",
    "    print('Can\\'t do that!')"
   ]
  },
  {
   "cell_type": "markdown",
   "metadata": {},
   "source": [
    "### Problem 4(b): Answers\n",
    "---\n",
    "\n",
    "\n",
    "<span style='background:rgba(255,255,0, 0.25); color:black'> YOUR ANSWERS GO HERE.</span>"
   ]
  },
  {
   "cell_type": "markdown",
   "metadata": {},
   "source": [
    "## Problem 5:  [What's happening?!](https://www.youtube.com/watch?v=X0dcZ66783k)\n",
    "\n",
    "- Run the code cells below. \n",
    "\n",
    "- Edit/add more useful comments.\n",
    "\n",
    "- Interpret what is happening in the Markdown cell that follows."
   ]
  },
  {
   "cell_type": "code",
   "execution_count": null,
   "metadata": {},
   "outputs": [],
   "source": [
    "list_1 = ['hi', 1, 2]\n",
    "\n",
    "list_1_as_array = np.asarray(list_1)\n",
    "\n",
    "print(list_1_as_array)\n",
    "print()\n",
    "\n",
    "print(list_1_as_array[1:]) #some slicing\n",
    "print()\n",
    "print(list_1_as_array[1] + list_1_as_array[2]) #adding two elements together of numpy array\n",
    "print()\n",
    "print(list_1[1] + list_1[2])"
   ]
  },
  {
   "cell_type": "code",
   "execution_count": null,
   "metadata": {},
   "outputs": [],
   "source": [
    "np.sum(list_1[1:])"
   ]
  },
  {
   "cell_type": "code",
   "execution_count": null,
   "metadata": {},
   "outputs": [],
   "source": [
    "np.sum(list_1_as_array[1:]) #Use a try and except command instead (except what though? Look at the TYPE of ERROR <--- hint)"
   ]
  },
  {
   "cell_type": "markdown",
   "metadata": {},
   "source": [
    "### Problem 5: Answers\n",
    "---\n",
    "\n",
    "\n",
    "<span style='background:rgba(255,255,0, 0.25); color:black'> YOUR ANSWERS GO HERE.</span>"
   ]
  },
  {
   "cell_type": "markdown",
   "metadata": {},
   "source": [
    "## Problem 6: What is good in life?\n",
    "\n",
    "Asking your own questions. Investigating things that are interesting to you. Being your own boss...\n",
    "\n",
    "There are so many other things we are not going to cover. You should play around with some other methods available to you in `numpy` for manipulating arrays. Check out the [documentation](https://numpy.org/doc/1.18/reference/routines.array-manipulation.html). \n",
    "\n",
    "Think about what you want to do. Maybe you want to `append` an array like we did to lists? \n",
    "\n",
    "***Pick at least three manipulations we have not yet investigated above***  and write some code showing how to utilize them along with a brief interpretation of results in a Markdown cell. How deeply you investigate is completely up to you. If you want some suggestions: compare `tile` and `repeat`, compare `flip` to the list method `reverse`, the split methods are also interesting. "
   ]
  },
  {
   "cell_type": "code",
   "execution_count": null,
   "metadata": {},
   "outputs": [],
   "source": []
  },
  {
   "cell_type": "code",
   "execution_count": null,
   "metadata": {},
   "outputs": [],
   "source": []
  },
  {
   "cell_type": "code",
   "execution_count": null,
   "metadata": {},
   "outputs": [],
   "source": []
  }
 ],
 "metadata": {
  "kernelspec": {
   "display_name": "Python 3",
   "language": "python",
   "name": "python3"
  },
  "language_info": {
   "codemirror_mode": {
    "name": "ipython",
    "version": 3
   },
   "file_extension": ".py",
   "mimetype": "text/x-python",
   "name": "python",
   "nbconvert_exporter": "python",
   "pygments_lexer": "ipython3",
   "version": "3.8.6"
  }
 },
 "nbformat": 4,
 "nbformat_minor": 4
}
