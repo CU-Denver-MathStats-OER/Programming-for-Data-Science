{
  "cells": [
    {
      "cell_type": "markdown",
      "metadata": {
        "id": "S5S3YaCH16Hg"
      },
      "source": [
        "# Math  1376: Programming for Data Science\n",
        "---\n",
        "\n",
        "## External activities for 02-Python-basics-lecture-part-b\n",
        "---\n",
        "\n",
        "**Expected time to completion: 1 hour**"
      ]
    },
    {
      "cell_type": "code",
      "execution_count": null,
      "metadata": {
        "id": "sTDfHOOU16Hi"
      },
      "outputs": [],
      "source": [
        "import numpy as np"
      ]
    },
    {
      "cell_type": "markdown",
      "metadata": {
        "id": "jAB2nZcb16Hj"
      },
      "source": [
        "---\n",
        "\n",
        "##  Activity 1: Practice controlling the randomness \n",
        "\n",
        "We use the `random.seed` function within `numpy` below to control the reproducibility of the random numbers below. \n",
        "This should only ever be done for creating tests or debugging, but it is a good function to be aware of nonetheless. \n",
        "\n",
        "You should probably use Google (or whatever your favorite search engine is) to read more about the `random.seed` function within `numpy` to help you interpret results.\n",
        "\n",
        "- Run the code cell below multiple times and comment on/interpret the results in the Markdown cell that follows."
      ]
    },
    {
      "cell_type": "code",
      "execution_count": null,
      "metadata": {
        "id": "75bhuqlI16Hj"
      },
      "outputs": [],
      "source": [
        "# Try re-running this code cell multiple times\n",
        "\n",
        "np.random.seed(123456)\n",
        "\n",
        "#generate one normally distributed sample with mean 0.0 and st.dev. of 1.0\n",
        "sample = np.random.normal(loc=0.0, scale=1.0) \n",
        "\n",
        "print()\n",
        "print( sample )"
      ]
    },
    {
      "cell_type": "markdown",
      "metadata": {
        "id": "sYlR0rVL16Hj"
      },
      "source": []
    },
    {
      "cell_type": "markdown",
      "metadata": {
        "id": "WWiRqUjF16Hj"
      },
      "source": [
        "- Run the first code cell below *once* and the code cell below it *multiple times* and then comment on/interpret the results in the Markdown cell that follows. "
      ]
    },
    {
      "cell_type": "code",
      "execution_count": null,
      "metadata": {
        "id": "NbwsqeI916Hk"
      },
      "outputs": [],
      "source": [
        "# Run this code cell only once\n",
        "np.random.seed(123456)"
      ]
    },
    {
      "cell_type": "code",
      "execution_count": null,
      "metadata": {
        "id": "VL1nafw116Hk"
      },
      "outputs": [],
      "source": [
        "# Run this code cell multiple times\n",
        "\n",
        "#generate one normally distributed sample with mean 0.0 and st.dev. of 1.0\n",
        "sample = np.random.normal(loc=0.0, scale=1.0) \n",
        "\n",
        "print()\n",
        "print( sample )"
      ]
    },
    {
      "cell_type": "markdown",
      "metadata": {
        "id": "YXdJQvRC16Hk"
      },
      "source": []
    },
    {
      "cell_type": "markdown",
      "metadata": {
        "id": "QKaXe-tq16Hk"
      },
      "source": [
        "End of Activity 1.\n",
        "\n",
        "---"
      ]
    },
    {
      "cell_type": "markdown",
      "metadata": {
        "id": "QaQ219es16Hl"
      },
      "source": [
        "---\n",
        "\n",
        "##  Activity 2: Practice with using `numpy` mathematical functions"
      ]
    },
    {
      "cell_type": "markdown",
      "metadata": {
        "id": "t9BBUg0S16Hl"
      },
      "source": [
        "<mark> Run the code cell below  to create the array used in this activity.</mark>"
      ]
    },
    {
      "cell_type": "code",
      "execution_count": null,
      "metadata": {
        "id": "dM5rfh3G16Hl"
      },
      "outputs": [],
      "source": [
        "# This code cell is completed and no interpretation is necessary \n",
        "# in a Markdown cell\n",
        "\n",
        "# We first create my_array as a 1d array\n",
        "my_array = np.array([np.e, np.pi, 3*np.pi/2, np.inf, np.NINF, np.nan, 0, 1])\n",
        "\n",
        "# We now reshape a 1D array into a 2D array that looks like a column vector.\n",
        "# This is just intended to show you one way how we can do this because it is\n",
        "# sometimes convenient to represent a 1D array as a column vector instead of a \n",
        "# row vector.\n",
        "my_array = my_array[:, np.newaxis]  \n",
        "print(my_array)"
      ]
    },
    {
      "cell_type": "markdown",
      "metadata": {
        "id": "lV1qGvL216Hl"
      },
      "source": [
        "You may find it useful to first look at the documentation on the [mathematical functions](https://numpy.org/doc/stable/reference/routines.math.html) available within `numpy` as well as examining some graphs of the functions used below (these can be found with a quick Google search or on Wikipedia or other search engine).\n",
        "\n",
        "The documentation on [constants](https://numpy.org/doc/stable/reference/constants.html) available within `numpy` may also be useful to review to understand some of the constants used in `my_array` in the code cell above and also the outputs of some of the operations in the code cells below.\n",
        "\n",
        "- Use the code comments and print statements to guide you in filling in the missing pieces of the code cells below.\n",
        "\n",
        "- Summarize/interpret the outputs of each of these cells in a Markdown cell following each of the code cells.\n",
        "\n",
        "   - Make sure in your interpretation of results to explain why the evaluation of `np.inf` or `np.NINF` (whch are `numpy` constants representing the symbols $\\infty$ and $-\\infty$, respectively) sometimes gives `inf`,`-inf`, or a number, and other times gives `nan` (which is a `numpy` constant representing \"Not a Number\"). This is where an understanding of the asymptotic behavior of the functions is very useful, which can usually be inferred by examining graphs of these functions."
      ]
    },
    {
      "cell_type": "code",
      "execution_count": null,
      "metadata": {
        "id": "Qzy0tAca16Hm"
      },
      "outputs": [],
      "source": [
        "my_output =   # Evaluate the exponential of my_array\n",
        "\n",
        "print('The exponential of my_array is \\n\\n', my_output)\n",
        "\n",
        "print()\n",
        "\n",
        "print('Rounding to 2 decimal places gives \\n\\n', np.around(my_output, 2))"
      ]
    },
    {
      "cell_type": "markdown",
      "metadata": {
        "id": "0xC5ugKl16Hm"
      },
      "source": []
    },
    {
      "cell_type": "code",
      "execution_count": null,
      "metadata": {
        "id": "9aXzsDub16Hm"
      },
      "outputs": [],
      "source": [
        "my_output =   # Evaulate the trigonometric sine of my_array\n",
        "\n",
        "print('The sine of my_array is \\n\\n', my_output)\n",
        "\n",
        "print()\n",
        "\n",
        "print('Rounding to 4 decimal places gives \\n\\n', np.around( ))"
      ]
    },
    {
      "cell_type": "markdown",
      "metadata": {
        "id": "8Xbds_w716Hm"
      },
      "source": []
    },
    {
      "cell_type": "code",
      "execution_count": null,
      "metadata": {
        "id": "nPhIzD-_16Hn"
      },
      "outputs": [],
      "source": [
        "my_output =   # Evaulate the natural logarithm of my_array\n",
        "\n",
        "print('The (natural) logarithm of my_array is \\n\\n', my_output)\n",
        "\n",
        "print()\n",
        "\n",
        "print('Rounding to 3 decimal places gives \\n\\n', np.around( ))"
      ]
    },
    {
      "cell_type": "markdown",
      "metadata": {
        "id": "O0tGQKAm16Hn"
      },
      "source": []
    },
    {
      "cell_type": "markdown",
      "metadata": {
        "id": "NzgW_k5i16Hn"
      },
      "source": [
        "End of Activity 2.\n",
        "\n",
        "---"
      ]
    },
    {
      "cell_type": "markdown",
      "metadata": {
        "id": "aYadi3SM16Hn"
      },
      "source": [
        "---\n",
        "\n",
        "## Activity 3: Creating arrays of different shapes\n",
        "\n",
        "- Fill in the code cells below to create a 2D array of shape (3, 1) and a 3D array of shape (4, 3, 1)."
      ]
    },
    {
      "cell_type": "code",
      "execution_count": null,
      "metadata": {
        "id": "ZJQ_EvwC16Hn"
      },
      "outputs": [],
      "source": [
        "my_array_2d = np.array( )\n",
        "\n",
        "print()\n",
        "print( 'my_array_2d =\\n', my_array_2d )\n",
        "\n",
        "print()\n",
        "print( 'The shape of my_array_2d is', my_array_2d.shape )"
      ]
    },
    {
      "cell_type": "code",
      "execution_count": null,
      "metadata": {
        "id": "bZvr4_Ie16Ho"
      },
      "outputs": [],
      "source": [
        "my_array_3d = np.array( )\n",
        "\n",
        "print()\n",
        "print( 'my_array_3d =\\n', my_array_3d )\n",
        "\n",
        "print()\n",
        "print( 'The shape of my_array_3d is', my_array_3d.shape )"
      ]
    },
    {
      "cell_type": "markdown",
      "metadata": {
        "id": "eleskWQ616Ho"
      },
      "source": [
        "End of Activity 3.\n",
        "\n",
        "---"
      ]
    }
  ],
  "metadata": {
    "kernelspec": {
      "display_name": "Python 3",
      "language": "python",
      "name": "python3"
    },
    "language_info": {
      "codemirror_mode": {
        "name": "ipython",
        "version": 3
      },
      "file_extension": ".py",
      "mimetype": "text/x-python",
      "name": "python",
      "nbconvert_exporter": "python",
      "pygments_lexer": "ipython3",
      "version": "3.8.6"
    },
    "colab": {
      "provenance": [],
      "collapsed_sections": []
    }
  },
  "nbformat": 4,
  "nbformat_minor": 0
}