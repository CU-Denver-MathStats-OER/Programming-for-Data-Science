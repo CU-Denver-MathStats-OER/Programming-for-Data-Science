{
  "cells": [
    {
      "cell_type": "markdown",
      "metadata": {
        "id": "ka5_3VzYJs0Y"
      },
      "source": [
        "# Math  1376: Programming for Data Science\n",
        "---"
      ]
    },
    {
      "cell_type": "markdown",
      "metadata": {
        "id": "i1bpnZ8KJs0a"
      },
      "source": [
        "## Module 02: Python basics "
      ]
    },
    {
      "cell_type": "markdown",
      "metadata": {
        "id": "emeYfTJyJs0a"
      },
      "source": [
        "## Learning Objectives\n",
        "\n",
        "\n",
        "- Understand how to visualize data in 2- and 3-dimensions using `matplotlib`\n",
        "\n",
        "\n",
        "- Understand plotting options that allow you to resize figures, create arrays of figures, and change how data are visualized.\n",
        "\n",
        "\n",
        "- Know how to use some built-in `numpy` functions for creating regularly spaced input data that are useful for plotting purposes."
      ]
    },
    {
      "cell_type": "markdown",
      "metadata": {
        "id": "Af9KUsh-Js0b"
      },
      "source": [
        "## Notebook contents <a name='Contents'>\n",
        "\n",
        "* [Part (d): Plotting and `matplotlib`](#Plotting)\n",
        "\n",
        "    * [Activity 1: Some basic plotting practice](#activity-plotting-basics)\n",
        "    \n",
        "    * [Activity 2: Using curve-fitting and plotting tools](#activity-plotting-fitted-curve)\n",
        "    \n",
        "    * [Activity: Summary](#activity-summary)\n"
      ]
    },
    {
      "cell_type": "markdown",
      "metadata": {
        "id": "BO2y_5GqJs0b"
      },
      "source": [
        "## Part (d): Plotting and `matplotlib` <a name='Plotting'>\n",
        "---\n",
        "    \n",
        "**Expected time to completion: 2 hours**\n",
        "    \n",
        "<mark> Run the code cell below and click the \"play\" button to see the recorded lecture associated with this notebook.</mark> "
      ]
    },
    {
      "cell_type": "code",
      "execution_count": null,
      "metadata": {
        "id": "7L720nykJs0b"
      },
      "outputs": [],
      "source": [
        "from IPython.display import YouTubeVideo\n",
        "\n",
        "YouTubeVideo('XQAl2LomcLo', width=800, height=450)"
      ]
    },
    {
      "cell_type": "markdown",
      "metadata": {
        "id": "STVXE-_eJs0c"
      },
      "source": [
        "The mathematician Richard Hamming once said, \n",
        "> The purpose of computing is insight, not numbers. \n",
        "\n",
        "and the best way to develop insight is often to visualize data. \n",
        "\n",
        "Visualization could be an entire suite of lectures (or even its own course), but we can explore a few features of Python’s `matplotlib` library here. While there is no “official” plotting library, this package is the de facto standard. First, we will import the `pyplot` module from `matplotlib`. \n",
        "\n",
        "A good tutorial to bookmark and peruse is this: https://matplotlib.org/stable/tutorials/introductory/pyplot.html\n",
        "\n",
        "In fact, you are highly encouraged to follow that tutorial and turn its contents into your own notebook.\n",
        "\n",
        "We will see other types of data visualization and tools throughout this course in the context of other types of problems (which is the best way to learn how to use these tools). "
      ]
    },
    {
      "cell_type": "markdown",
      "metadata": {
        "id": "YHcjxnrTJs0d"
      },
      "source": [
        "### Understanding the components of a figure/plot\n",
        "---\n",
        "\n",
        "Python's `matplotlib` library emulates many features of Matlab plotting and uses the same layout for how it creates plots as illustrated below.\n",
        "\n",
        "![Illustration of plotting with matplotlib goes here](https://github.com/CU-Denver-MathStats-OER/Programming-for-Data-Science/blob/main/Lectures-and-Assignments/02-Python-Basics/lectures/matplotlib_layout.png?raw=true \"A figure contains axes (potentially multiple axes for multiple plots) and each axis (there can be up to 3 for a 3-d plot) can be labeled and the plot shown in the axes can be titled.\")"
      ]
    },
    {
      "cell_type": "code",
      "execution_count": null,
      "metadata": {
        "id": "TRXSU9z-Js0d"
      },
      "outputs": [],
      "source": [
        "import numpy as np"
      ]
    },
    {
      "cell_type": "markdown",
      "metadata": {
        "id": "oxiO9Ei7Js0e"
      },
      "source": [
        "### A magic command for plotting in a notebook\n",
        "---\n",
        "\n",
        "The code cell below presents some options for how to plot inside of a notebook."
      ]
    },
    {
      "cell_type": "code",
      "execution_count": null,
      "metadata": {
        "id": "yMV8A5vZJs0e"
      },
      "outputs": [],
      "source": [
        "# The below is commented out and not necessary in Colab or in a Jupyter lab \n",
        "# environment; however, it is useful to see this in case you use other \n",
        "# environments to run notebooks so that you understand why the code is there.\n",
        "\n",
        "# The next line enables the display of graphical output within Jupyter notebooks \n",
        "# in certain environments and is NOT needed outside of notebooks (e.g., when \n",
        "# creating plots via python scripts).\n",
        "# %matplotlib inline \n",
        "# Can also use %matplotlib notebook for additional interactivity (may have some browser/OS dependencies)\n",
        "\n",
        "#This next line IS needed even outside of Jupyter Notebook\n",
        "import matplotlib.pyplot as plt "
      ]
    },
    {
      "cell_type": "code",
      "execution_count": null,
      "metadata": {
        "id": "ATmfj7K0Js0f"
      },
      "outputs": [],
      "source": [
        "plt.figure()  # This creates an empty figure\n",
        "plt.show()  # There is nothing to show!"
      ]
    },
    {
      "cell_type": "markdown",
      "metadata": {
        "id": "DFkFjwTWJs0f"
      },
      "source": [
        "<mark> ***Key Points:*** <mark>\n",
        " \n",
        "- The basic plot command plots xdata versus ydata.  The default behavior is to connect data pairs via a straight solid line.\n",
        "\n",
        "- The `np.linspace(a,b,n)` generates $n$ points in the closed interval $[a,b]$, including the endpoints (so $n-2$ points are *interior* to the interval $[a,b]$). This is a commonly used command when wanting to generate regularly spaced data to plot."
      ]
    },
    {
      "cell_type": "code",
      "execution_count": null,
      "metadata": {
        "id": "EWnz7_ekJs0f"
      },
      "outputs": [],
      "source": [
        "plt.figure()\n",
        "\n",
        "x = np.linspace(-np.pi,np.pi,1000)  # Creates 1000 points from -np.pi to np.pi\n",
        "\n",
        "y = x*np.sin(1.0/x)  # Evalutes the function x*sin(1/x) at these x points from above\n",
        "\n",
        "# You can add a title to the plot before or after you actually plot the data\n",
        "plt.title('$f(x)=x\\sin(x^{-1})$', fontsize=18)  # Try (1) changing fontsize; (2) changing the color of the font\n",
        "\n",
        "plt.plot(x,y)  # This plots y vs x. Think of how points are usually written as (x,y) which is why we use plot(x,y)"
      ]
    },
    {
      "cell_type": "markdown",
      "metadata": {
        "id": "imwsBPM6Js0f"
      },
      "source": [
        "---\n",
        "\n",
        "## <mark>Activity 1: Some basic plotting practice</mark> <a id='activity-plotting-basics'></a>\n",
        "\n",
        "You may find it useful to refer to the pyplot tutorial: https://matplotlib.org/stable/tutorials/introductory/pyplot.html\n",
        "\n",
        "1. Copy/paste the code cell plotting $f(x)=x\\sin(x^{-1})$ below.\n",
        "\n",
        "2. Plot the function using a thicker red dashed-dotted curve. \n",
        "\n",
        "3. Add x- and y-axis labels.\n",
        "\n",
        "4. Add/edit comments to at least three different lines of code to explain what they are doing."
      ]
    },
    {
      "cell_type": "code",
      "execution_count": null,
      "metadata": {
        "id": "btUV_c7UJs0g"
      },
      "outputs": [],
      "source": []
    },
    {
      "cell_type": "markdown",
      "metadata": {
        "id": "O2EIU6V_Js0g"
      },
      "source": [
        "End of Activity 1.\n",
        "\n",
        "---\n"
      ]
    },
    {
      "cell_type": "markdown",
      "metadata": {
        "id": "J94O2US4Js0g"
      },
      "source": [
        "Another handy way of generating a vector/array of numbers for either computations or plotting is using `numpy.arange(start,stop,increment)`\n",
        "This will fill up the half-open interval $[start,stop)$."
      ]
    },
    {
      "cell_type": "code",
      "execution_count": null,
      "metadata": {
        "id": "ootFQKcZJs0g"
      },
      "outputs": [],
      "source": [
        "plt.figure()\n",
        "\n",
        "x_1 = np.arange(-np.pi, np.pi, 1E-2)\n",
        "\n",
        "y_1 = x_1*np.sin(x_1)\n",
        "\n",
        "plt.plot(x_1, y_1, linestyle='--', c='k')  # dashed lines, k means black color"
      ]
    },
    {
      "cell_type": "markdown",
      "metadata": {
        "id": "F3yvnUsMJs0g"
      },
      "source": [
        "Let's do a *scatter* plot of a noisy linear function"
      ]
    },
    {
      "cell_type": "code",
      "execution_count": null,
      "metadata": {
        "id": "6KMwApR4Js0h"
      },
      "outputs": [],
      "source": [
        "xcor = np.random.rand(100)\n",
        "\n",
        "ycor = 5*xcor + np.random.rand(100)\n",
        "\n",
        "plt.scatter(xcor, ycor)"
      ]
    },
    {
      "cell_type": "markdown",
      "metadata": {
        "id": "xlTs31KoJs0h"
      },
      "source": [
        "### Subplots and 3d plots using `mpl_toolkits`\n",
        "Subplots are one way to arrange multiple plots into one figure. The subplot function takes the following arguments: **`add_subplot(nrows, ncols, plot_number)`**\n",
        "\n",
        "You may find https://numpy.org/doc/stable/reference/generated/numpy.meshgrid.html to be a useful reference when determining how you want to index an array in 2- or 3-D. "
      ]
    },
    {
      "cell_type": "code",
      "execution_count": null,
      "metadata": {
        "id": "s5A6HewKJs0h"
      },
      "outputs": [],
      "source": [
        "A = np.reshape(range(1,13),(3,4))"
      ]
    },
    {
      "cell_type": "code",
      "execution_count": null,
      "metadata": {
        "id": "Kx63MP5EJs0h"
      },
      "outputs": [],
      "source": [
        "fig = plt.figure(num=1, figsize=(10, 6))\n",
        "\n",
        "# Try commenting/uncommenting out parts of the code below and see what happens.\n",
        "\n",
        "axes1 = fig.add_subplot(1, 3, 1)  # the first plot in a 1x3 array\n",
        "# axes2 = fig.add_subplot(1, 3, 2)  # the second plot in a 1x3 array\n",
        "axes3 = fig.add_subplot(1, 3, 3)  # the third plot in a 1x3 array\n",
        "\n",
        "axes1.set_ylabel('average')\n",
        "axes1.scatter(np.arange(A.shape[1]), np.mean(A, axis=0))\n",
        "axes1.set_xticks(np.arange(A.shape[1]))\n",
        "axes1.set_aspect(1)\n",
        "\n",
        "\n",
        "# Using a triple set of tick marks creates what is called a \"docstring\" \n",
        "# and can be used to comment out a big chunk of code, but while convenient at\n",
        "# times, this is not really good coding practices. We will discuss\n",
        "# docstrings further in the next module.\n",
        "''' \n",
        "axes2.set_ylabel('max')\n",
        "axes2.plot(np.max(A, axis=0))\n",
        "axes2.set_xticks(np.arange(A.shape[1]))\n",
        "axes2.set_aspect(2)\n",
        "'''\n",
        "\n",
        "axes3.set_ylabel('min')\n",
        "axes3.plot(np.min(A, axis=0))\n",
        "axes3.set_aspect(3)\n",
        "\n",
        "fig.tight_layout()"
      ]
    },
    {
      "cell_type": "code",
      "execution_count": null,
      "metadata": {
        "id": "t8sPUObzJs0i"
      },
      "outputs": [],
      "source": [
        "# We will pretend that A is a function over the unit square \n",
        "# in the xy-plane that we want to plot\n",
        "x = np.linspace(0,1,4)  # we create a regular uniform grid in the x-direction\n",
        "y = np.linspace(0,1,3)  # we create a regular uniform grid in the y-direction\n",
        "x, y = np.meshgrid(x,y,indexing='xy')  # we then create a meshgrid in the xy-plane\n",
        "#print(x)\n",
        "#print(y)\n",
        "#print(A)\n",
        "\n",
        "from mpl_toolkits.mplot3d import axes3d  # This enables 3d plotting\n",
        "\n",
        "fig = plt.figure(2, figsize=(10, 6))\n",
        "\n",
        "ax1 = fig.add_subplot(1, 3, 1, projection='3d')\n",
        "ax1.scatter(x, y, A)  # we then plot A over this grid as a scatter plot\n",
        "ax1.set_xlabel('x')\n",
        "ax1.set_ylabel('y')\n",
        "ax1.set_zlabel('A')\n",
        "\n",
        "ax2 = fig.add_subplot(1, 3, 2, projection='3d')\n",
        "ax2.plot_wireframe(x, y, A)  # we then plot A over this grid as a wireframe\n",
        "ax2.set_xlabel('x')\n",
        "ax2.set_ylabel('y')\n",
        "ax2.set_zlabel('A')\n",
        "\n",
        "from matplotlib import cm  # Allow for more colormaps\n",
        "ax3 = fig.add_subplot(1, 3, 3, projection='3d')\n",
        "ax3.plot_surface(x, y, A, rstride=1, cstride=1, cmap=cm.coolwarm)  # we then plot A over this grid as a surface\n",
        "ax3.set_xlabel('x')\n",
        "ax3.set_ylabel('y')\n",
        "ax3.set_zlabel('A')\n",
        "\n",
        "plt.tight_layout()"
      ]
    },
    {
      "cell_type": "markdown",
      "metadata": {
        "id": "Ps-yTKzaJs0i"
      },
      "source": [
        "---\n",
        "\n",
        "##  <mark>Activity 2: Using curve-fitting and plotting tools</mark> <a name='activity-plotting-fitted-curve'></a>\n",
        "\n",
        "`numpy` has a `polyfit` function (https://numpy.org/doc/stable/reference/generated/numpy.polyfit.html) to perform least-squares fits of polynomials to data.\n",
        "\n",
        "Least-squares is a type of regression that is ***very common*** in the computational and data sciences and is heavily used in machine learning, artificial intelligence, statistics, etc.\n",
        "\n",
        "In the code cells below, `num_data` denotes the number of data points used to fit a polynomial curve to the noisy data defined by (`xdata`,`ydata`) where the `xdata` belongs to the interval [-4,4].\n",
        "Finish the code cells below so that\n",
        "\n",
        "   * A scatter plot of (`xdata`,`ydata`) is generated;\n",
        "   \n",
        "   * A third-order polynomial is fitted to the noisy data (read the `polyfit` documentation and look over the examples to see how to use `poly1d` to generate a polynomial function `p` from the output of the `polyfit` function);\n",
        "   \n",
        "   * Use `linspace` within `numpy` to create a regular uniform grid of 100 points in [-4,4] called `xgrid` and plot (`xgrid`,`p(xgrid)`) on the same plot as the scatter of the noisy data."
      ]
    },
    {
      "cell_type": "code",
      "execution_count": null,
      "metadata": {
        "id": "bSBsEEfGJs0i"
      },
      "outputs": [],
      "source": [
        "# Simulate data\n",
        "# Question: What is the difference between np.random.rand and np.random.randn? \n",
        "\n",
        "num_data = 100\n",
        "\n",
        "xdata = np.random.rand(num_data)*8-4  # Transform random numbers in [0,1] to random numbers in [-4,4]\n",
        "\n",
        "ydata = -xdata**3 + 2*xdata**2 + xdata + 2 + np.random.randn(num_data)*10  # Generate noisy data\n",
        "\n",
        "# Now try to fit a model to the data (your work goes below)"
      ]
    },
    {
      "cell_type": "code",
      "execution_count": null,
      "metadata": {
        "id": "34Lfk5FPJs0j"
      },
      "outputs": [],
      "source": [
        "plt.figure()\n",
        "\n",
        "plt.scatter( , )  # Complete this to plot the ydata vs the xdata\n",
        "\n",
        "z = np.polyfit( , , )  # Complete this (refer to the polyfit documentation)\n",
        "\n",
        "p = np.poly1d( )  # Complete this (refer to the polyfit documentation)\n",
        "\n",
        "xgrid = np.linspace( , , )  # Complete this to make 100 points between -4 and 4\n",
        "\n",
        "plt.plot( ,  ,c='r', linestyle='-.', linewidth=4, label='Best fit')  # Complete this to plot p(xgrid) vs xgrid\n",
        "\n",
        "# Below we also plot the \"true signal\" that generated the noisy data\n",
        "y_noise_free = -xgrid**3 + 2*xgrid**2 + xgrid + 2\n",
        "\n",
        "plt.plot(xgrid, y_noise_free, c='k', linestyle='--', linewidth=2, label='Truth')\n",
        "\n",
        "plt.legend(fontsize=12)"
      ]
    },
    {
      "cell_type": "markdown",
      "metadata": {
        "id": "ozw1xN_CJs0j"
      },
      "source": [
        "End of Activity 2.\n",
        "\n",
        "---\n"
      ]
    },
    {
      "cell_type": "markdown",
      "metadata": {
        "id": "QsNU1UvFJs0j"
      },
      "source": [
        "## <mark>Activity: Summary</mark> <a name='activity-summary'/>\n",
        "\n",
        "Summarize some of the key takeaways/points from this notebook in a list below and prepare a few code examples related to these takeaways/points in the code cells below. You need to have at least one example for each of your summary points and you need at least three summary points.\n",
        "\n",
        "In this notebook, we have seen the following:\n",
        "\n",
        "- [Your summary point 1 goes here]\n",
        "\n"
      ]
    },
    {
      "cell_type": "code",
      "execution_count": null,
      "metadata": {
        "id": "vljqyrZCJs0j"
      },
      "outputs": [],
      "source": []
    },
    {
      "cell_type": "markdown",
      "metadata": {
        "id": "Q9EJx3MSJs0j"
      },
      "source": [
        "\n",
        "- [Your summary point 2 goes here]\n",
        "\n"
      ]
    },
    {
      "cell_type": "code",
      "execution_count": null,
      "metadata": {
        "id": "xNzdhnIqJs0k"
      },
      "outputs": [],
      "source": []
    },
    {
      "cell_type": "markdown",
      "metadata": {
        "id": "iC4aRBbSJs0k"
      },
      "source": [
        "\n",
        "- [Your summary point 3 goes here]"
      ]
    },
    {
      "cell_type": "code",
      "execution_count": null,
      "metadata": {
        "id": "lOGpPgXKJs0k"
      },
      "outputs": [],
      "source": []
    },
    {
      "cell_type": "markdown",
      "metadata": {
        "id": "X2y2ciE8Js0k"
      },
      "source": [
        "<hr style=\"border:5px solid cyan\"> </hr>\n"
      ]
    },
    {
      "cell_type": "markdown",
      "metadata": {
        "id": "89Kus1l9Js0k"
      },
      "source": [
        "# So what is next in Module 03?\n",
        "\n",
        "Much of scientific programming and data science involves applications of basic logic (e.g., using conditional statements to determine an action), repeating operations across arrays (e.g., using for-loops), and making user-defined functions to handle problem-specific issues. We will study these ideas in more depth in the next module."
      ]
    },
    {
      "cell_type": "markdown",
      "metadata": {
        "id": "9DWWinjnJs0l"
      },
      "source": [
        "### [Click here to return to Notebook Contents](#Contents)"
      ]
    }
  ],
  "metadata": {
    "anaconda-cloud": {},
    "kernelspec": {
      "display_name": "Python 3",
      "language": "python",
      "name": "python3"
    },
    "language_info": {
      "codemirror_mode": {
        "name": "ipython",
        "version": 3
      },
      "file_extension": ".py",
      "mimetype": "text/x-python",
      "name": "python",
      "nbconvert_exporter": "python",
      "pygments_lexer": "ipython3",
      "version": "3.8.6"
    },
    "colab": {
      "provenance": [],
      "collapsed_sections": []
    }
  },
  "nbformat": 4,
  "nbformat_minor": 0
}