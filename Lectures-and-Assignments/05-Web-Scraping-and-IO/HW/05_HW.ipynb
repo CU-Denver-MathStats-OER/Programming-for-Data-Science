{
  "cells": [
    {
      "cell_type": "markdown",
      "metadata": {
        "id": "Afj9xszlBhOk"
      },
      "source": [
        "# Math  1376: Programming for Data Science\n",
        "---\n",
        "\n",
        "## Assignment 05: Web scraping and IO\n",
        "---\n",
        "\n",
        "**Expected time to completion: 6 hours**"
      ]
    },
    {
      "cell_type": "markdown",
      "metadata": {
        "id": "Z-1hL4hEBhOn"
      },
      "source": [
        "<mark> Run the code cell below and click the \"play\" button to see the first recorded lecture associated with this notebook.</mark>"
      ]
    },
    {
      "cell_type": "code",
      "execution_count": null,
      "metadata": {
        "id": "4JnEQ6j3BhOn"
      },
      "outputs": [],
      "source": [
        "from IPython.display import YouTubeVideo\n",
        "\n",
        "YouTubeVideo('g2TQ0uT8yc4', width=800, height=450)"
      ]
    },
    {
      "cell_type": "markdown",
      "metadata": {
        "id": "TryobsOABhOn"
      },
      "source": [
        "## Making your own assignment with pandas and `read_html()`\n",
        "---\n",
        "\n",
        "This is a fairly open-ended assignment. \n",
        "\n",
        "- <mark>[Approx. 45 minutes] First, go check out the GitHub repo https://github.com/LBBL96/Pandas-Web-Scraping-Tutorial and in particular read through the [Jupyter notebook](https://github.com/LBBL96/Pandas-Web-Scraping-Tutorial/blob/master/Web%20Scraping%20with%20Pandas.ipynb) (it is quite short).</mark> You may even want to download the notebook from the repo and experiment with it. \n",
        "While not as thorough as our lecture, it does introduce a few tricks for working with a pandas DataFrame that were not covered in our lecture.\n",
        "<br><br>\n",
        "\n",
        "- <mark>[Approx. 5 hours] Your problem is to do the following:</mark>\n",
        "\n",
        "  - Fill in the rest of this assignment notebook with a mixture of Markdown and code cells that walk through an analysis of data you scrape from the web.\n",
        "\n",
        "  - Make sure to describe what the data represents. \n",
        "\n",
        "  - Make sure to present/discuss questions (at least 3) you want to answer about the data (and then answer them of course). **Your questions have to center on issues around interpreting/analyzing the data in meaningful ways.** \n",
        "\n",
        "Basically, make this into a type of report/tutorial that you could hand to a classmate, present to a friend or family member, etc. Show off problems/limitations with the data, how to address these issues (or explain why these issues cannot be fixed), etc. In other words, show off your skills and have fun! \n",
        "\n",
        "<span style='background:rgba(255,255,0, 0.25); color:black'>An additional requirement:</span>\n",
        "\n",
        "- ***At the bottom of this notebook you should also demonstrate that you can save your dataset as a csv file as well as show how it can be loaded and the data analyzed from this file as well.***\n",
        "\n",
        "The Github tutorial linked to above has some recommended web sites to try scraping at the bottom of the tutorial, so you can choose one (or more) of those to explore below. Here are some more to check out:\n",
        "\n",
        "- https://coronavirus.jhu.edu/data/mortality\n",
        "\n",
        "- https://www.worldometers.info/geography/how-many-countries-are-there-in-the-world/\n",
        "\n",
        "- https://www.electproject.org/election-data/voter-turnout-data\n",
        "\n",
        "- https://www.macrotrends.net/1319/dow-jones-100-year-historical-chart\n",
        "\n",
        "You are also free to choose your own. Choose a few. It is up to you. If you find some that are cool, then please post on the discussion boards of Canvas to share with your classmates. I look forward to seeing what you do."
      ]
    },
    {
      "cell_type": "code",
      "execution_count": null,
      "metadata": {
        "id": "O3XC0cVrBhOo"
      },
      "outputs": [],
      "source": [
        "import pandas as pd"
      ]
    },
    {
      "cell_type": "code",
      "execution_count": null,
      "metadata": {
        "id": "ecRo9T7cBhOm"
      },
      "outputs": [],
      "source": [
        "import numpy as np\n",
        "import matplotlib.pyplot as plt"
      ]
    },
    {
      "cell_type": "code",
      "source": [],
      "metadata": {
        "id": "nnYd0b195BUa"
      },
      "execution_count": null,
      "outputs": []
    },
    {
      "cell_type": "code",
      "source": [],
      "metadata": {
        "id": "xw7qj8ae5BOU"
      },
      "execution_count": null,
      "outputs": []
    },
    {
      "cell_type": "code",
      "source": [],
      "metadata": {
        "id": "a10848tp5BKa"
      },
      "execution_count": null,
      "outputs": []
    },
    {
      "cell_type": "code",
      "source": [],
      "metadata": {
        "id": "67lwIrs05AZb"
      },
      "execution_count": null,
      "outputs": []
    },
    {
      "cell_type": "code",
      "source": [],
      "metadata": {
        "id": "4RiHteq_I4K0"
      },
      "execution_count": null,
      "outputs": []
    }
  ],
  "metadata": {
    "kernelspec": {
      "display_name": "Python 3",
      "language": "python",
      "name": "python3"
    },
    "language_info": {
      "codemirror_mode": {
        "name": "ipython",
        "version": 3
      },
      "file_extension": ".py",
      "mimetype": "text/x-python",
      "name": "python",
      "nbconvert_exporter": "python",
      "pygments_lexer": "ipython3",
      "version": "3.8.6"
    },
    "colab": {
      "provenance": []
    }
  },
  "nbformat": 4,
  "nbformat_minor": 0
}