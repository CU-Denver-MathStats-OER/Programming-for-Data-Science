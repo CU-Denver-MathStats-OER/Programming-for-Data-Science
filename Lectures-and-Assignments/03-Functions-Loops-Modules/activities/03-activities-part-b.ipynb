{
 "cells": [
  {
   "cell_type": "markdown",
   "metadata": {},
   "source": [
    "# Math  1376: Programming for Data Science\n",
    "---\n",
    "\n",
    "## External activities for 03-Functions-loops-modules-part-b\n",
    "---\n",
    "\n",
    "**Expected time to completion: 30-45 minutes**"
   ]
  },
  {
   "cell_type": "code",
   "execution_count": null,
   "metadata": {},
   "outputs": [],
   "source": [
    "import numpy as np"
   ]
  },
  {
   "cell_type": "markdown",
   "metadata": {},
   "source": [
    "<hr style=\"border:5px solid cyan\"> </hr>\n",
    "\n",
    "## <span style='background:rgba(0,255,255, 0.5); color:black'>Activity: An advanced weight converter function </span>\n",
    "\n",
    "The code cell below shows how to create a variable `wghts` of type `dict` containing keywords 'kg' and 'lbs' that point to arrays `kg` and `lbs`.\n"
   ]
  },
  {
   "cell_type": "code",
   "execution_count": null,
   "metadata": {},
   "outputs": [],
   "source": [
    "kg = np.array([100, 200, 300])\n",
    "lbs = np.array([300, 250, 225, 275])\n",
    "\n",
    "wghts = {'kg' : kg, 'lbs' : lbs}"
   ]
  },
  {
   "cell_type": "markdown",
   "metadata": {},
   "source": [
    "We can iterate over the keywords in a `dict` as shown below and use these iterated keywords to access the variable types the keywords point to in the `dict`."
   ]
  },
  {
   "cell_type": "code",
   "execution_count": null,
   "metadata": {},
   "outputs": [],
   "source": [
    "for i in wghts:\n",
    "    print(type(i), '\\n', i)\n",
    "    print()\n",
    "    print(type(wghts[i]), '\\n',  wghts[i])\n",
    "    print()"
   ]
  },
  {
   "cell_type": "markdown",
   "metadata": {},
   "source": [
    "- Write a function, `weightFunc_adv`, that has a single parameter `wghts`, which is assumed to be of type `dict` containing keywords 'kg' and 'lbs' that point to arrays `kg` and `lbs`, respectively. The function should loop through the keywords in `wghts`. If the keyword is 'kg', then every value in the `kg` array should be converted to lbs. Else, every value in the `lbs` array should be converted to kg. These conversions should be printed to screen. \n",
    "\n",
    "    - The function should use the `isinstance` command to check to make sure that the `wghts` parameter is of type `dict` and that the `kg` and `lbs` variables pointed to by the keywords 'kg' and 'lbs' are of type `np.ndarray`.\n",
    "\n",
    "    - Make sure to add a useful docstring to the function.\n",
    "\n",
    "\n",
    "- Execute the code cells that follow. All of them should run without error! Feel free to add more, but the three included should remain."
   ]
  },
  {
   "cell_type": "code",
   "execution_count": null,
   "metadata": {},
   "outputs": [],
   "source": [
    "# Your function should go here\n"
   ]
  },
  {
   "cell_type": "code",
   "execution_count": null,
   "metadata": {},
   "outputs": [],
   "source": [
    "weightFunc_adv(wghts)"
   ]
  },
  {
   "cell_type": "code",
   "execution_count": null,
   "metadata": {},
   "outputs": [],
   "source": [
    "new_wghts = {'kg' : np.array([140, 150]), \n",
    "             'lbs': np.array([175])}"
   ]
  },
  {
   "cell_type": "code",
   "execution_count": null,
   "metadata": {},
   "outputs": [],
   "source": [
    "weightFunc_adv(new_wghts)"
   ]
  },
  {
   "cell_type": "markdown",
   "metadata": {},
   "source": [
    "<hr style=\"border:5px solid cyan\"> </hr>"
   ]
  },
  {
   "cell_type": "markdown",
   "metadata": {},
   "source": [
    "<hr style=\"border:5px solid cyan\"> </hr>\n",
    "\n",
    "## <span style='background:rgba(0,255,255, 0.5); color:black'>Activity: An Advanced Discounted Cash Flow Model</span>\n",
    "\n",
    "Building upon the previous set of activities for the part-a lecture, we now use the following notation:\n",
    "- $n$ denotes the number of years we are considering into the future.\n",
    "- $CF_n$ denotes the projected cash flow at year $n$.\n",
    "- $r$ denotes the discount, or interest, rate which reflects the cost of tying up capital and may also allow for the risk that the payment may not be received in full (often chosen in $(0,1)$).\n",
    "- $DCF$ denotes the discount applied to all $CF_n$ up to and including $n$. This differs from the previous activity because we now assume that we are generating a cash flow in all years from year 1 up to year $n$.\n",
    "\n",
    "The formula for $DCF$ is then given as\n",
    "$$\n",
    "    \\large DCF = \\sum_{i=1}^n \\frac{CF_i}{(1+r)^i},\n",
    "$$\n",
    "which is just a fancy way of writing\n",
    "$$\n",
    "    \\large DCF = \\frac{CF_1}{(1+r)^1} + \\frac{CF_2}{(1+r)^2} + \\cdots + \\frac{CF_n}{(1+r)^n}.\n",
    "$$"
   ]
  },
  {
   "cell_type": "markdown",
   "metadata": {},
   "source": [
    "### A scenario demonstrating the time-value of money\n",
    "\n",
    "Suppose we project that in three years (so $n=3$), the projected cash flow from an investment in each year is $CF_1=\\$1,000$, $CF_2=\\$1,500$, and $CF_3=\\$1,750$, and we use a 5% discount rate (so $r=0.05$), then $DCF \\approx \\$3,824.64$, which means the \"fair value\" of the investment in today's dollars, from our perspective, is $\\$3,824.64$. Note that such an investment of this amount would generate, if the projections come true, a total amount of $\\$4,250$ over the three years. \n",
    "\n",
    "Suppose instead that $CF_1=\\$0$, but there is an explosion of earnings in the last two years so that $CF_2=\\$1,700$, and $CF_3=\\$2,600$ resulting in a total cash flow in three years of $\\$4,300$. In this case, with the same discount rate as before, $DCF \\approx \\$3,787.93$, which means the \"fair value\" of the investment in today's dollars, from our perspective, is $\\$3,787.93$. \n",
    "\n",
    "Even though the total payout from the second investment option is potentially more than the first, we value the initial money earned from the first investment *more* than the total amount of money we project to earn in the second investment. This demonstrates the \"time value\" of money. "
   ]
  },
  {
   "cell_type": "markdown",
   "metadata": {},
   "source": [
    "### Your to-do's\n",
    "\n",
    "- Make a function `DCF_adv` below that has `CF`, `r`, and `n` as parameters that computes the $DCF$ by using a for-loop and the formula above, prints the final value to screen, and also returns the value to the user. Default the `n` value to 5 and the `r` value to 0.05. \n",
    "\n",
    "    - The values of `r` and `n` should be scalars in this activity (`n` should be of type `int` and `r` should be of type `float`). \n",
    "    - The `CF` should be of type `np.ndarray`. \n",
    "    - Use the `isinstance` command to check the types. \n",
    "    - Make sure to add a useful docstring to the function. \n",
    "\n",
    "\n",
    "- Execute your functions with some different choices of scalar variables and print/interpret results (create new code cells to do this and a Markdown cell to more clearly explain results). "
   ]
  },
  {
   "cell_type": "code",
   "execution_count": null,
   "metadata": {},
   "outputs": [],
   "source": []
  },
  {
   "cell_type": "code",
   "execution_count": null,
   "metadata": {},
   "outputs": [],
   "source": []
  },
  {
   "cell_type": "code",
   "execution_count": null,
   "metadata": {},
   "outputs": [],
   "source": []
  },
  {
   "cell_type": "code",
   "execution_count": null,
   "metadata": {},
   "outputs": [],
   "source": []
  },
  {
   "cell_type": "markdown",
   "metadata": {},
   "source": []
  },
  {
   "cell_type": "markdown",
   "metadata": {},
   "source": [
    "<hr style=\"border:5px solid cyan\"> </hr>\n"
   ]
  }
 ],
 "metadata": {
  "kernelspec": {
   "display_name": "Python 3",
   "language": "python",
   "name": "python3"
  },
  "language_info": {
   "codemirror_mode": {
    "name": "ipython",
    "version": 3
   },
   "file_extension": ".py",
   "mimetype": "text/x-python",
   "name": "python",
   "nbconvert_exporter": "python",
   "pygments_lexer": "ipython3",
   "version": "3.8.6"
  }
 },
 "nbformat": 4,
 "nbformat_minor": 4
}
