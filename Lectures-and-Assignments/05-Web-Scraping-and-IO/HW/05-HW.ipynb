{
 "cells": [
  {
   "cell_type": "markdown",
   "metadata": {},
   "source": [
    "# Math  1376: Programming for Data Science\n",
    "---\n",
    "\n",
    "## Assignment 05: Web scraping and IO\n",
    "---\n",
    "\n",
    "**Expected time to completion: 6-9 hours**"
   ]
  },
  {
   "cell_type": "code",
   "execution_count": null,
   "metadata": {},
   "outputs": [],
   "source": [
    "import numpy as np\n",
    "import matplotlib.pyplot as plt\n",
    "%matplotlib inline"
   ]
  },
  {
   "cell_type": "markdown",
   "metadata": {},
   "source": [
    "<span style='background:rgba(255,255,0, 0.25); color:black'> Run the code cell below and click the \"play\" button to see the first recorded lecture associated with this notebook.</span>"
   ]
  },
  {
   "cell_type": "code",
   "execution_count": null,
   "metadata": {},
   "outputs": [],
   "source": [
    "# 1. Running this cell with embed the short recorded lecture associated with this part of the notebook\n",
    "# 2. Press on the \"play\" button to start the video.\n",
    "\n",
    "from IPython.display import YouTubeVideo\n",
    "\n",
    "YouTubeVideo('Jb1_rmrwvJs', width=800, height=450)"
   ]
  },
  {
   "cell_type": "markdown",
   "metadata": {},
   "source": [
    "## Making your own assignment with pandas and `read_html()`\n",
    "---\n",
    "\n",
    "This is a fairly open-ended assignment. \n",
    "\n",
    "- <span style='background:rgba(255,255,0, 0.25); color:black'>[Approx. 45 minutes] First, go check out the GitHub repo https://github.com/LBBL96/Pandas-Web-Scraping-Tutorial and in particular read through the [Jupyter notebook](https://github.com/LBBL96/Pandas-Web-Scraping-Tutorial/blob/master/Web%20Scraping%20with%20Pandas.ipynb) (it is quite short).</span> You may even want to download the notebook from the repo and experiment with it. \n",
    "While not as thorough as our lecture, it does introduce a few tricks for working with a pandas DataFrame that were not covered in our lecture.\n",
    "<br><br>\n",
    "\n",
    "- <span style='background:rgba(255,255,0, 0.25); color:black'>[Approx. 5-8 hours] Your problem is to do the following:</span>\n",
    "  - Fill in the rest of this assignment notebook with a mixture of Markdown and code cells that walk through an analysis of data you scrape from the web.\n",
    "  - Make sure to describe what the data represents. \n",
    "  - Make sure to discuss questions (at least 3) you want to answer about the data (and then answer them of course). **Your questions have to center on issues around interpreting/analyzing the data in meaningful ways.** \n",
    "\n",
    "Basically, make this into a type of report/tutorial that you could hand to a classmate, present to a friend or family member, etc. Show off problems/limitations with the data, how to address these issues (or explain why these issues cannot be fixed), etc. In other words, show off your skills and have fun! \n",
    "\n",
    "<span style='background:rgba(255,255,0, 0.25); color:black'>An additional requirement:</span>\n",
    "\n",
    "- ***At the bottom of this notebook you should also save your dataset as a csv file and show that it can be loaded and analyzed from this file as well.***\n",
    "\n",
    "The Github tutorial linked to above has some recommended web sites to try scraping at the bottom of the tutorial, so you can choose one (or more) of those to explore below. Here are some more to check out:\n",
    "\n",
    "- https://coronavirus.jhu.edu/data/mortality\n",
    "\n",
    "- https://www.worldometers.info/geography/how-many-countries-are-there-in-the-world/\n",
    "\n",
    "You are also free to choose your own. Choose a few. It is up to you. If you find some that are cool, then please post on the discussion boards of Canvas to share with your classmates. I look forward to seeing what you do."
   ]
  },
  {
   "cell_type": "code",
   "execution_count": null,
   "metadata": {},
   "outputs": [],
   "source": []
  },
  {
   "cell_type": "code",
   "execution_count": null,
   "metadata": {},
   "outputs": [],
   "source": []
  },
  {
   "cell_type": "code",
   "execution_count": null,
   "metadata": {},
   "outputs": [],
   "source": []
  }
 ],
 "metadata": {
  "kernelspec": {
   "display_name": "Python 3",
   "language": "python",
   "name": "python3"
  },
  "language_info": {
   "codemirror_mode": {
    "name": "ipython",
    "version": 3
   },
   "file_extension": ".py",
   "mimetype": "text/x-python",
   "name": "python",
   "nbconvert_exporter": "python",
   "pygments_lexer": "ipython3",
   "version": "3.8.6"
  }
 },
 "nbformat": 4,
 "nbformat_minor": 4
}
