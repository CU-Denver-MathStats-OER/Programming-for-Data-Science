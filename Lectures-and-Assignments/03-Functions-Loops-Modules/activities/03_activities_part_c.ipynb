{
  "cells": [
    {
      "cell_type": "markdown",
      "metadata": {
        "id": "UyHgkH_aH1Re"
      },
      "source": [
        "# Math  1376: Programming for Data Science\n",
        "---\n",
        "\n",
        "## External activities for 03-Functions-loops-modules-part-c\n",
        "---\n",
        "\n",
        "**Expected time to completion: 45-60 minutes**"
      ]
    },
    {
      "cell_type": "code",
      "execution_count": null,
      "metadata": {
        "id": "R-kwLNkEH1Ri"
      },
      "outputs": [],
      "source": [
        "import numpy as np\n",
        " \n",
        "import matplotlib.pyplot as plt\n",
        "\n",
        "from ipywidgets import interact, interactive, fixed, interact_manual\n",
        "import ipywidgets as widgets"
      ]
    },
    {
      "cell_type": "code",
      "source": [
        "# Mount your Google Drive within colab, which is necessary to import a module\n",
        "# stored in your Drive. \n",
        "from google.colab import drive\n",
        "drive.mount('/content/drive')"
      ],
      "metadata": {
        "id": "AfdmdDi24gVf"
      },
      "execution_count": null,
      "outputs": []
    },
    {
      "cell_type": "code",
      "source": [
        "# Insert the directory\n",
        "import sys\n",
        "\n",
        "# This next line may be unique to you (watch the first part-c lecture video)\n",
        "differences_path = '/content/drive/MyDrive/Colab Notebooks/Programming-for-Data-Science/03-Functions-Loops-Modules/lectures'\n",
        "\n",
        "sys.path.insert(0,differences_path)"
      ],
      "metadata": {
        "id": "KVtHARjq9dM0"
      },
      "execution_count": null,
      "outputs": []
    },
    {
      "cell_type": "code",
      "source": [
        "import differences as diff"
      ],
      "metadata": {
        "id": "JbNsuULfITf3"
      },
      "execution_count": null,
      "outputs": []
    },
    {
      "cell_type": "markdown",
      "metadata": {
        "id": "N5ZJGTuAH1Rj"
      },
      "source": [
        "---\n",
        "\n",
        "## <mark>Activity 1: Plotting derivatives with and without some widgets and making your own module</mark>\n",
        "\n",
        "- Create a new function `my_plot_derivs` based on the `plot_derivs` function from the part-c lecture that has the same parameters as `plot_derivs` along with THREE additional parameters: `x_min`, `x_max`, and `which_approx`. \n",
        "\n",
        "    - The `x_min` and `x_max` parameters should be used to set the left and right endpoints, respectively, of the x-values for which the function and its derivative approximation are computed and plotted. \n",
        "    \n",
        "    - The `which_approx` parameter determines which type of derivative approximation is plotted and should either be 'FD' (for forward-difference), 'BD' (for backward-difference) or 'CD' (for centered-difference). \n",
        "\n",
        "    - This function should not use multiple plots but rather use a single plot with two sets of axes so that the derivative approximation is plotted on the same graph as the original function but with its own independent y-axis. *Hint: This is done by using the `subplots` command but only in order to instantiate a second axes that shares the same x-axis as is shown elsewhere in the lecture notebook.*\n",
        "    \n",
        "    - Default `x_min` and `x_max` to 0 and 1, respectively, and `which_approx` to 'CD' (for centered-difference). \n",
        "    \n",
        "    - Make sure to add a docstring to the function."
      ]
    },
    {
      "cell_type": "code",
      "execution_count": null,
      "metadata": {
        "id": "mcrDOtgDH1Rk"
      },
      "outputs": [],
      "source": [
        "# Your my_plot_derivs goes here\n"
      ]
    },
    {
      "cell_type": "markdown",
      "metadata": {
        "id": "uQD7HqRcH1Rl"
      },
      "source": [
        "- Run the code cells below to check the functionality of your code. They should all run without error and produce results that resemble those for the `my_sine` function shown in the lecture notebook."
      ]
    },
    {
      "cell_type": "code",
      "execution_count": null,
      "metadata": {
        "id": "xQfbR0tbH1Rl"
      },
      "outputs": [],
      "source": [
        "def my_sine(x):\n",
        "    return np.sin(2*np.pi*x)"
      ]
    },
    {
      "cell_type": "code",
      "execution_count": null,
      "metadata": {
        "id": "m7P_L2-UH1Rm"
      },
      "outputs": [],
      "source": [
        "my_plot_derivs(f = my_sine, \n",
        "               h = 0.01, \n",
        "               n = 200, \n",
        "               x_min = 0,\n",
        "               x_max = 3,\n",
        "               which_approx = 'FD')"
      ]
    },
    {
      "cell_type": "code",
      "execution_count": null,
      "metadata": {
        "id": "svhUInHGH1Rm"
      },
      "outputs": [],
      "source": [
        "%reset -f out \n",
        "\n",
        "interactive(my_plot_derivs, \n",
        "            f=fixed(my_sine),\n",
        "            h=widgets.FloatLogSlider(value=0.01, min=-6, max=-2, base=10, step=1),\n",
        "            n=widgets.IntSlider(value=100, min=50, max=1000, step=50),\n",
        "            x_min=fixed(0),\n",
        "            x_max=fixed(3),\n",
        "            which_approx = widgets.Dropdown(options=['CD', 'FD', 'BD'], \n",
        "                                            value='CD', \n",
        "                                            description='deriv. approx type:'))"
      ]
    },
    {
      "cell_type": "markdown",
      "metadata": {
        "id": "pTx0io-7H1Rn"
      },
      "source": [
        "- Make a module `myFunctions.py` that contains the functions `f1`, `f2`, and `f3`. Each function should take the single parameter `x`.\n",
        "\n",
        "    - The `f1` function should return `x`, the `f2` function should return `x**2`, and the `f3` function should return `x**3`. \n",
        "    \n",
        "    - Import this module below as `myF` and use `my_plot_derivs` (both with and without widgets) to plot these functions along with their derivative approximations for x-values in the range of [-2,2]."
      ]
    },
    {
      "cell_type": "code",
      "execution_count": null,
      "metadata": {
        "id": "EYZ5_JrxH1Rn"
      },
      "outputs": [],
      "source": []
    },
    {
      "cell_type": "code",
      "execution_count": null,
      "metadata": {
        "id": "nbHWUaBcH1Ro"
      },
      "outputs": [],
      "source": []
    },
    {
      "cell_type": "code",
      "execution_count": null,
      "metadata": {
        "id": "5l4aj5OWH1Ro"
      },
      "outputs": [],
      "source": []
    },
    {
      "cell_type": "code",
      "execution_count": null,
      "metadata": {
        "id": "mMXV36_mH1Ro"
      },
      "outputs": [],
      "source": []
    },
    {
      "cell_type": "markdown",
      "metadata": {
        "id": "8JcBc22YH1Ro"
      },
      "source": [
        "End of Activity 1.\n",
        "\n",
        "---"
      ]
    }
  ],
  "metadata": {
    "kernelspec": {
      "display_name": "Python 3",
      "language": "python",
      "name": "python3"
    },
    "language_info": {
      "codemirror_mode": {
        "name": "ipython",
        "version": 3
      },
      "file_extension": ".py",
      "mimetype": "text/x-python",
      "name": "python",
      "nbconvert_exporter": "python",
      "pygments_lexer": "ipython3",
      "version": "3.9.2"
    },
    "colab": {
      "provenance": [],
      "collapsed_sections": []
    }
  },
  "nbformat": 4,
  "nbformat_minor": 0
}