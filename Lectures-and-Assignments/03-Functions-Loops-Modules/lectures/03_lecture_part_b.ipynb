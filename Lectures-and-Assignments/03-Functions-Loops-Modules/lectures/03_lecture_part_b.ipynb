{
  "cells": [
    {
      "cell_type": "markdown",
      "metadata": {
        "id": "a9OayyZheOJ5"
      },
      "source": [
        "# Math  1376: Programming for Data Science\n",
        "---"
      ]
    },
    {
      "cell_type": "markdown",
      "metadata": {
        "id": "dX1oeW9feOJ-"
      },
      "source": [
        "## Module 03: Logic, functions, loops, and modules\n",
        "---"
      ]
    },
    {
      "cell_type": "markdown",
      "metadata": {
        "id": "tJZlmcm4eOJ_"
      },
      "source": [
        "## Learning Objectives for Part (b)\n",
        "\n",
        "- Understand and implement for and while loops in Python.\n",
        "\n",
        "\n",
        "- Understand `lambda` functions in Python.\n",
        "\n",
        "\n",
        "- Understand list comprehensions in Python.\n",
        "\n",
        "\n",
        "- Create lists from a combination of `lambda` functions and for loops."
      ]
    },
    {
      "cell_type": "markdown",
      "metadata": {
        "id": "UkepbOMpeOKA"
      },
      "source": [
        "## Notebook contents <a name='Contents'></a>\n",
        "\n",
        "- [Part (b): Looping in Python](#Looping)\n",
        "\n",
        "    - [Activity 1: A very prime activity](#activity-prime)\n",
        "    \n",
        "    - [Activity: Summary](#activity-summary)"
      ]
    },
    {
      "cell_type": "markdown",
      "metadata": {
        "id": "eH54jjyneOKA"
      },
      "source": [
        "## Part (b): Looping in Python <a name='Looping'>\n",
        "---\n",
        "\n",
        "**Expected time to completion: 2.5-3 hours**    \n",
        "    \n",
        "<mark> Run the code cell below and click the \"play\" button to see the recorded lecture associated with this notebook.</mark>"
      ]
    },
    {
      "cell_type": "code",
      "execution_count": null,
      "metadata": {
        "id": "yHy3-8a1eOKB"
      },
      "outputs": [],
      "source": [
        "from IPython.display import YouTubeVideo\n",
        "\n",
        "YouTubeVideo('GkXLkE4Eqsc', width=800, height=450)"
      ]
    },
    {
      "cell_type": "markdown",
      "metadata": {
        "id": "cvsMTIB4eOKE"
      },
      "source": [
        "### While loops \n",
        "\n",
        "**Syntax**\n",
        "```\n",
        "while condition:  # enters the indented code below while this condition is true\n",
        "    # do something cool\n",
        "    # update condition, or use break or continue for loop control\n",
        "# no indent for code that continues after the loop\n",
        "```\n"
      ]
    },
    {
      "cell_type": "code",
      "source": [
        "a = 2\n",
        "while a < 5:\n",
        "    print(a)  # This is definitely not very cool\n",
        "    a += 1  # We are updating the condition"
      ],
      "metadata": {
        "id": "EZeKiRKBwE6e"
      },
      "execution_count": null,
      "outputs": []
    },
    {
      "cell_type": "markdown",
      "source": [
        "\n",
        "<mark> ***Key Points:*** </mark>\n",
        "\n",
        "- We often use ***while*** loops for iterative methods where we are unsure exactly how many iterations a process should take (e.g., fixed-point or root-finding methods).\n",
        "\n",
        "- If the the ``condition`` never becomes false, then this will result in an ***infinite loop***, so be careful. \n",
        "\n",
        "    - To avoid infinite loops, it is fairly common practice to include some type of counter which tracks the number of iterations, and negating the condition if the counter reaches a specified value indicating a maximum number of iterations is reached. In other words, we may not know how many iterations a process should take, but we know that we do not want the number to exceed some value because we have to move on with life!\n",
        "\n",
        "\n",
        "- You can exit from any for or while loop \"early\" by using ``break`` to exit the innermost loop (we say \"innermost\" because you can nest loops inside of each other).\n",
        "\n",
        "\n",
        "- If you want to stop a current iteration, but continue looping (e.g., due to some particular event occurring within a loop that you are checking for with logic), then simply use ``continue`` immediately where you want to stop a current iteration to then continue to the next iteration of this loop."
      ],
      "metadata": {
        "id": "socYvpL8wEUM"
      }
    },
    {
      "cell_type": "code",
      "source": [
        "# Example of a counter used to avoid an infinite loop\n",
        "count = 0\n",
        "while True:  # Uh-oh, this is *always* true\n",
        "    count += 1\n",
        "    print('Around and around we go...will this ever stop!')\n",
        "    if count > 10:\n",
        "        break"
      ],
      "metadata": {
        "id": "uevbAg0uwbMh"
      },
      "execution_count": null,
      "outputs": []
    },
    {
      "cell_type": "code",
      "source": [
        "# Another way to use a counter (probably more common)\n",
        "count = 0\n",
        "while True and (count <= 10):\n",
        "    count += 1\n",
        "    print('Around and around we go, but at least we know it must stop!')"
      ],
      "metadata": {
        "id": "UeUddfXywzlG"
      },
      "execution_count": null,
      "outputs": []
    },
    {
      "cell_type": "code",
      "source": [
        "# An example using \"continue\"\n",
        "count = 0\n",
        "while True and (count <= 10):\n",
        "    count += 1\n",
        "    if count > 5:\n",
        "        print('We are at least half done!')\n",
        "        continue\n",
        "    print('We are not yet halfway done.')"
      ],
      "metadata": {
        "id": "aTYbEE_rxGUw"
      },
      "execution_count": null,
      "outputs": []
    },
    {
      "cell_type": "markdown",
      "metadata": {
        "id": "PAM0y3YDeOKF"
      },
      "source": [
        "Let's look at a mathematical example where we are trying to iterate the following equation\n",
        "$$\n",
        "    x_{n+1}=a\\cdot x_n (1-x_n)\n",
        "$$\n",
        "until we arrive at an approximate fixed point (i.e., until the left and right-hand sides of the equation are approximately equal). To determine when to stop iterating, we set a tolerance parameter, `tol`, as a small positive number and check when $\\vert x_{n+1}-x_n \\vert$ is less than this tolerance."
      ]
    },
    {
      "cell_type": "code",
      "execution_count": null,
      "metadata": {
        "id": "xyFlMp8-eOJ9"
      },
      "outputs": [],
      "source": [
        "import numpy as np  # We will use numpy in the remaining parts of this lecture"
      ]
    },
    {
      "cell_type": "code",
      "execution_count": null,
      "metadata": {
        "id": "YLVvpaXmeOKF"
      },
      "outputs": [],
      "source": [
        "a = 2.0  # value in the logistic equation\n",
        "xnew = .49  # initial guess of fixed point\n",
        "tol = 1E-8  # tolerance used for approximation \n",
        "iter_num = 1  # iteration number\n",
        "max_iter = 8  # I am not patient enough to let this run more than 8 iterations!\n",
        "\n",
        "while iter_num <= max_iter:\n",
        "    iter_num += 1\n",
        "    xold = xnew  # what was new is now the old guess \n",
        "    xnew *= a * (1-xnew)  # create a new guess\n",
        "    if np.fabs(xnew-xold) > tol:  # What do you think this does?\n",
        "        continue  # Comment this line out to see what happens!\n",
        "        print()\n",
        "        print('xold = ', xold)\n",
        "        print('xnew = ', xnew)\n",
        "        print('|xnew-xold| = ', np.fabs(xnew-xold))\n",
        "        print('Not small enough yet, keep going.')\n",
        "    else:\n",
        "        break\n",
        "\n",
        "print()\n",
        "print('After iter_num = ', iter_num-1)\n",
        "print(\"Fixed Point estimate is = \", xnew)"
      ]
    },
    {
      "cell_type": "markdown",
      "metadata": {
        "id": "D_NVY6EpeOKB"
      },
      "source": [
        "### For loops\n",
        "---\n",
        "\n",
        "First, we need to define a few terms.\n",
        "\n",
        "- An iterable is an object that can be looped over.\n",
        "\n",
        "    - A list, string, dictionary, tuple, range, and numpy array are all examples of iterable objects.\n",
        "\n",
        "- How can we tell if an object is iterable? The object will possess a special method called `__iter__`. \n",
        "\n",
        "    - To check if an object has this special method, we can simply scan over all the methods attached to the object by viewing a list of all the methods. How do we get the list? Well we use the `dir` function that returns a list of all attributes associated with an object. We show this in the code below, but this is a bad idea because there are often many methods attached to each object so it is easy to miss one you are specifically checking for. A better approach is to use the `in` command that will check if an item belongs to the list and returns a boolean `True` or `False`. We show this approach below as well.\n"
      ]
    },
    {
      "cell_type": "code",
      "source": [
        "my_list = [1, 'one', 1.0]  # a list"
      ],
      "metadata": {
        "id": "8TrFgWRGhW3t"
      },
      "execution_count": null,
      "outputs": []
    },
    {
      "cell_type": "code",
      "source": [
        "dir(my_list)  # prints out a list of all methods attached to the object (too much info)"
      ],
      "metadata": {
        "id": "t1Q1eoWAiH0_"
      },
      "execution_count": null,
      "outputs": []
    },
    {
      "cell_type": "code",
      "source": [
        "'__iter__' in dir(my_list)  # returns a boolean "
      ],
      "metadata": {
        "id": "ELGR2rTZhcwQ"
      },
      "execution_count": null,
      "outputs": []
    },
    {
      "cell_type": "code",
      "source": [
        "my_int = 1  # an integer"
      ],
      "metadata": {
        "id": "Jfg09Ctmi5Ca"
      },
      "execution_count": null,
      "outputs": []
    },
    {
      "cell_type": "code",
      "source": [
        "my_int.__dir__()  # yuck"
      ],
      "metadata": {
        "id": "9VJ8nlkti9TJ"
      },
      "execution_count": null,
      "outputs": []
    },
    {
      "cell_type": "code",
      "source": [
        "'__iter__' in dir(my_int)"
      ],
      "metadata": {
        "id": "y_sylgW9jAw_"
      },
      "execution_count": null,
      "outputs": []
    },
    {
      "cell_type": "code",
      "source": [
        "my_range = range(1, 10, 2)\n",
        "'__iter__' in dir(my_range)"
      ],
      "metadata": {
        "id": "X-AFzhVJlKQy"
      },
      "execution_count": null,
      "outputs": []
    },
    {
      "cell_type": "code",
      "source": [
        "# What happens when we do the following?\n",
        "my_list_iter = my_list.__iter__()\n",
        "print(my_list_iter)"
      ],
      "metadata": {
        "id": "RAY7Az_uljMl"
      },
      "execution_count": null,
      "outputs": []
    },
    {
      "cell_type": "code",
      "source": [
        "# A better way to do the above is like this\n",
        "my_list_iter = iter(my_list)\n",
        "print(my_list_iter)"
      ],
      "metadata": {
        "id": "DTJnHcopvmF7"
      },
      "execution_count": null,
      "outputs": []
    },
    {
      "cell_type": "code",
      "source": [
        "# It is possible to now access the elements in the iterable by using\n",
        "# the next function applied to the iterator.\n",
        "temp = next(my_list_iter)\n",
        "print(temp, type(temp))\n",
        "\n",
        "temp = next(my_list_iter)\n",
        "print(temp, type(temp))\n",
        "\n",
        "temp = next(my_list_iter)\n",
        "print(temp, type(temp))"
      ],
      "metadata": {
        "id": "HkC7zTkal3bV"
      },
      "execution_count": null,
      "outputs": []
    },
    {
      "cell_type": "code",
      "source": [
        "my_str = 'what the'\n",
        "'__iter__' in dir(my_str)"
      ],
      "metadata": {
        "id": "9fPwQsmzmzDT"
      },
      "execution_count": null,
      "outputs": []
    },
    {
      "cell_type": "code",
      "source": [
        "my_str_iter = my_str.__iter__()\n",
        "print(next(my_str_iter))\n",
        "print(next(my_str_iter))\n",
        "print(next(my_str_iter))\n",
        "print(next(my_str_iter))\n",
        "print(next(my_str_iter))\n",
        "print(next(my_str_iter))\n",
        "print(next(my_str_iter))\n",
        "print(next(my_str_iter))"
      ],
      "metadata": {
        "id": "iHmz0WzpnLpt"
      },
      "execution_count": null,
      "outputs": []
    },
    {
      "cell_type": "code",
      "source": [
        "# What happens if we try just one more \"next\"?\n",
        "print(next(my_str_iter))"
      ],
      "metadata": {
        "id": "SMIRA27Gyprp"
      },
      "execution_count": null,
      "outputs": []
    },
    {
      "cell_type": "code",
      "source": [
        "# Spoiler alert: a for-loop is basically a while loop that uses a try and except\n",
        "# on an iterator along with a break. However, it looks a lot nicer than writing\n",
        "# the following code to iterate over the iterator my_str_iter\n",
        "my_str_iter = my_str.__iter__()\n",
        "while True:\n",
        "    try:\n",
        "        print(next(my_str_iter))\n",
        "    except StopIteration:\n",
        "        break"
      ],
      "metadata": {
        "id": "81UsUsxuyzgX"
      },
      "execution_count": null,
      "outputs": []
    },
    {
      "cell_type": "markdown",
      "source": [
        "**For-loop Syntax** \n",
        "```\n",
        "for iterator in iterable:\n",
        "    # indent for the loop\n",
        "    # do cool stuff in the loop\n",
        "# noindent to close the loop\n",
        "```\n",
        "\n",
        "The iterable can contain other iterable objects (e.g. strings, lists or arrays). However, unless we are *nesting* our for-loops to further iterate on the iterable contents of the outer for-loop, we will simply be making use of the contents of our original iterable object. For example, the following will simply print each of the strings in the iteratable tuple in their entirety:\n",
        "\n",
        "```\n",
        "for string in ('Alpha','Romeo','Sailor','Foxtrot'):\n",
        "    # string takes on values 'Alpha', 'Romeo', etc. in order.\n",
        "    print(string)\n",
        "```\n",
        "\n"
      ],
      "metadata": {
        "id": "235Z13VlhSWB"
      }
    },
    {
      "cell_type": "code",
      "source": [
        "for string in ('Alpha','Romeo','Sailor','Foxtrot'):\n",
        "    # string takes on values 'Alpha', 'Romeo', etc. in order.\n",
        "    print(string)"
      ],
      "metadata": {
        "id": "J3sW4NJmsfmP"
      },
      "execution_count": null,
      "outputs": []
    },
    {
      "cell_type": "code",
      "source": [
        "# Compare this to the while loop above\n",
        "for string in my_str:\n",
        "    print(string)"
      ],
      "metadata": {
        "id": "bz3GhyVPzxJl"
      },
      "execution_count": null,
      "outputs": []
    },
    {
      "cell_type": "markdown",
      "source": [
        "\n",
        "<mark> ***Key Points:*** </mark>\n",
        "\n",
        "- You can iterate over lots of different objects (lists, tuples, dicts, and sets), but we have not covered all of these yet.\n",
        "\n",
        "- In many computational and data science problems, you will commonly use the ``range`` command to build lists of numbers for iterating (see https://docs.python.org/3/library/functions.html#func-range).\n",
        "\n",
        "    **`range` syntax options:** \n",
        "    ```\n",
        "    range(stop)  #assumes start=0\n",
        "    range(start, stop[, step])\n",
        "    ```\n",
        "\n",
        "    Note that it **DOES NOT** execute the stop value."
      ],
      "metadata": {
        "id": "cg7xtfWXer0o"
      }
    },
    {
      "cell_type": "markdown",
      "metadata": {
        "id": "ZRrwLXoXeOKC"
      },
      "source": [
        "In the code cell below, we check out the partial sums associated with the first 20 terms of the geometric series corresponding to $2^{-n}$, i.e., we compute\n",
        "\n",
        "$$\n",
        "\\large    s_N = \\sum_{n=0}^{N} 2^{-n} = 2^0 + 2^{-1} + \\cdots + 2^{-N}\n",
        "$$\n",
        "\n",
        "for $N=0,1,\\ldots, 20$, where $s_N$ denotes a partial sum."
      ]
    },
    {
      "cell_type": "code",
      "execution_count": null,
      "metadata": {
        "id": "lA4xVbapeOKD"
      },
      "outputs": [],
      "source": [
        "# You may want to create a new code block above this one to print out what the\n",
        "# range function is doing or refer back to the 02_lecture_part_a notebook.\n",
        "\n",
        "partial_sum = 0\n",
        "for n in range(21):  # range(21) is equivalent to range(0,21) and range(0,21,1)\n",
        "    partial_sum += 2**(-n)\n",
        "    print( 'Sum from n=0 to ' + str(n) + ' of 2^{-n} = ', partial_sum )\n",
        "    \n",
        "print('Partial sum was changed outside of the for-loop as well: partial_sum = ', \n",
        "      partial_sum)"
      ]
    },
    {
      "cell_type": "code",
      "execution_count": null,
      "metadata": {
        "id": "fXIloX4veOKE"
      },
      "outputs": [],
      "source": [
        "# We can also use range to go \"backwards\" with negative steps. This is somewhat\n",
        "# analogous to slicing from an end of array using negative indices.\n",
        "\n",
        "print( 'Now start subtracting from the sum' )\n",
        "    \n",
        "for n in range(20,-1,-1):  # Why do you think we have to set the stop as -1?\n",
        "    partial_sum -= 2**(-n)  \n",
        "    print( 'Sum from n=0 to ' + str(n-1) + ' of 2^{-n} = ', partial_sum )"
      ]
    },
    {
      "cell_type": "markdown",
      "metadata": {
        "id": "X9mV_20YeOKG"
      },
      "source": [
        "## <mark>Instructor-Led Activity: Integers and their divisors</mark> \n",
        "\n",
        "A good starting point for this activity is to review the code here: https://www.geeksforgeeks.org/python-program-to-check-whether-a-number-is-prime-or-not/\n",
        "\n",
        "A positive integer (e.g., 1, 2, 3, $\\ldots$) is ***prime*** if the only divisors of it are 1 and itself. \n",
        "\n",
        "- In the first code cell below, **create a function** that checks if an input is a prime integer. This code should do the following:\n",
        "\n",
        "    - Check that the `x` is a positive `int` and let's the user know whether or not the correct type of variable was received. \n",
        "\n",
        "    - If `x` is a positive `int`, then determine if `x` is a prime number or not and output the following:\n",
        "\n",
        "       - If `x` is prime, then let the user know.\n",
        "   \n",
        "       - If `x` is not prime, then let the user know and return a list of all positive divisors of `x` that are not 1 or `x`. \n",
        "        \n",
        "\n",
        "- In the code cells that follow (feel free to make multiple new code cells for this activity as well), test your code on some different positive integers. Try prime ones (check out the first 1000 prime numbers here for some inspiration: https://en.wikipedia.org/wiki/List_of_prime_numbers) and also non-prime numbers like 4, 20, and 1024."
      ]
    },
    {
      "cell_type": "code",
      "execution_count": null,
      "metadata": {
        "id": "nXVgQuNFeOKG"
      },
      "outputs": [],
      "source": [
        "   "
      ]
    },
    {
      "cell_type": "code",
      "execution_count": null,
      "metadata": {
        "id": "2SenB_VFeOKG"
      },
      "outputs": [],
      "source": []
    },
    {
      "cell_type": "code",
      "execution_count": null,
      "metadata": {
        "id": "gUZtj7-EeOKG"
      },
      "outputs": [],
      "source": []
    },
    {
      "cell_type": "code",
      "execution_count": null,
      "metadata": {
        "id": "1VWnglI-eOKH"
      },
      "outputs": [],
      "source": []
    },
    {
      "cell_type": "code",
      "execution_count": null,
      "metadata": {
        "id": "rAY7EI9oeOKH"
      },
      "outputs": [],
      "source": []
    },
    {
      "cell_type": "code",
      "execution_count": null,
      "metadata": {
        "id": "ycCA55X5eOKH"
      },
      "outputs": [],
      "source": []
    },
    {
      "cell_type": "markdown",
      "metadata": {
        "id": "6Ry49pvBeOKH"
      },
      "source": [
        "---\n",
        "\n",
        "## <mark>Activity 1: A very prime activity </mark><a name='activity-prime'></a>\n",
        "\n",
        "- Create a function `common_divisors` that has two parameters, `x` and `y`, which should both be of type `int` (the function should check their types are correct).\n",
        "\n",
        "- The function should determine all the common positive divisors of these two integers, store the results in a list, and return the result to the user.\n",
        "\n",
        "- Test your function on some `x` and `y` parameters for which you know the answers to make sure it is running correctly."
      ]
    },
    {
      "cell_type": "code",
      "execution_count": null,
      "metadata": {
        "id": "DWnQ-AuAeOKH"
      },
      "outputs": [],
      "source": []
    },
    {
      "cell_type": "code",
      "execution_count": null,
      "metadata": {
        "id": "sjC9Fyq5eOKH"
      },
      "outputs": [],
      "source": []
    },
    {
      "cell_type": "markdown",
      "metadata": {
        "id": "5DA5ZP6heOKI"
      },
      "source": [
        "End of Activity 1.\n",
        "\n",
        "---"
      ]
    },
    {
      "cell_type": "markdown",
      "metadata": {
        "id": "RD4Ub0zHeOKI"
      },
      "source": [
        "## A brief note on [list comprehensions](https://docs.python.org/3/tutorial/datastructures.html#list-comprehensions) and [lambda functions](https://docs.python.org/3/tutorial/controlflow.html#lambda-expressions)\n",
        "\n",
        "We mentioned list comprehensions briefly in the first lecture notebook of module 02. \n",
        "The basic idea is to use a function/rule *written within the list declaration* to quickly construct a list by looping over some particular inputs.\n",
        "The code cells below highlight the basic ideas using an example from the official documentation."
      ]
    },
    {
      "cell_type": "code",
      "execution_count": null,
      "metadata": {
        "id": "mHyZGNS5eOKI"
      },
      "outputs": [],
      "source": [
        "# A \"clunky\" way of constructing a list\n",
        "\n",
        "squares = []  # Create an empty list\n",
        "for x in range(10):\n",
        "    squares.append(x**2)  # Add the square of x to the end of the list\n",
        "\n",
        "print(squares)"
      ]
    },
    {
      "cell_type": "code",
      "execution_count": null,
      "metadata": {
        "id": "5QxmfmfbeOKI"
      },
      "outputs": [],
      "source": [
        "# The \"slick\" way of constructing a list with a list comprehension\n",
        "\n",
        "squares = [x**2 for x in range(10)]\n",
        "\n",
        "print(squares)"
      ]
    },
    {
      "cell_type": "markdown",
      "metadata": {
        "id": "PNe1k4hFeOKI"
      },
      "source": [
        "Imagine we have an explicit function defined that carries out a complicated operation on transforming some input data `x` into a useful output data `y`, then we can also use this in a list comprehension as shown below."
      ]
    },
    {
      "cell_type": "code",
      "execution_count": null,
      "metadata": {
        "id": "M3HRh3B_eOKI"
      },
      "outputs": [],
      "source": [
        "# This is admittedly kind of silly\n",
        "def my_complicated_function(x):\n",
        "    y = x**5 - 2*x**2 + x-3\n",
        "    return y"
      ]
    },
    {
      "cell_type": "code",
      "execution_count": null,
      "metadata": {
        "id": "-1WECH1aeOKJ"
      },
      "outputs": [],
      "source": [
        "# Suppose the inputs we care about are stored in a list\n",
        "my_x_values = [0, 5, -3, 10, 15]\n",
        "\n",
        "my_y_values = [my_complicated_function(x) for x in my_x_values]\n",
        "\n",
        "print(my_y_values)"
      ]
    },
    {
      "cell_type": "markdown",
      "metadata": {
        "id": "kt3OcD3meOKJ"
      },
      "source": [
        "Well, obviously there was nothing that complicated about the function above (it is just a polynomial). It is simple enough to be defined by a single line of code (in fact, we can just return the `x**5 - 2*x**2 + x-3` result directly without ever declaring a `y` variable). \n",
        "\n",
        "When that happens, we can use [`lambda`](https://realpython.com/python-lambda/) functions instead. My favorite quote about `lambda` functions is this:\n",
        "\n",
        "> Unlike lambda forms in other languages, where they add functionality, Python lambdas are only a shorthand notation if you’re too lazy to define a function. \n",
        "<br><br> Functions are already first class objects in Python, and can be declared in a local scope. Therefore the only advantage of using a lambda instead of a locally-defined function is that you don’t need to invent a name for the function – but that’s just a local variable to which the function object (which is exactly the same type of object that a lambda expression yields) is assigned!\n",
        "\n",
        "What does that mean? Basically, it comes down to this: if you just wanted to use the computation `x**5 - 2*x**2 + x-3` for a little bit of time in a very localized area of the code, then you might as well be \"lazy\" about it and define a `lambda` function. We show this below."
      ]
    },
    {
      "cell_type": "code",
      "execution_count": null,
      "metadata": {
        "id": "wGYl0t3yeOKQ"
      },
      "outputs": [],
      "source": [
        "f = lambda x : x**5 - 2*x**2 + x-3\n",
        "\n",
        "my_y_values = [f(x) for x in my_x_values]\n",
        "\n",
        "print(my_y_values)"
      ]
    },
    {
      "cell_type": "code",
      "execution_count": null,
      "metadata": {
        "id": "Ge4CctK1eOKQ"
      },
      "outputs": [],
      "source": [
        "# Actually, we do not even need to define f at all!!!!\n",
        "\n",
        "my_y_values = [(lambda x: x**5 - 2*x**2 + x-3)(x) for x in my_x_values]\n",
        "\n",
        "print(my_y_values)"
      ]
    },
    {
      "cell_type": "markdown",
      "metadata": {
        "id": "k-1K9sn6eOKQ"
      },
      "source": [
        "Then, later on in the code, you may re-define `f` (assuming you even gave the `lambda` function an actual name of `f`) to be a new `lambda` function (some simple and easy function) based on what you now want that function to be to make code that uses that function look a bit simpler. \n",
        "\n",
        "Is there any real reason to do this? Not really. It is just a lazy way to do things, but at times it is convenient.\n",
        "We will encounter this in the next set of lecture notes on scientific computing applications where we want to test some algorithms on different types of functions. \n",
        "\n",
        "We do not dwell on it further here except to show another nice use-case where a `lambda` function can help make code less \"clunky\" looking. \n",
        "See if you can add some comments to this code cell below to explain what is going on."
      ]
    },
    {
      "cell_type": "code",
      "execution_count": null,
      "metadata": {
        "id": "6Xv0xi0eeOKQ"
      },
      "outputs": [],
      "source": [
        "def my_other_complicated_function(x):\n",
        "    y = np.sin(x) + np.exp(-2*x)\n",
        "    return y\n",
        "\n",
        "f = lambda x: my_other_complicated_function(my_complicated_function(x))\n",
        "\n",
        "my_y_values = [f(x) for x in my_x_values]\n",
        "\n",
        "print(my_y_values)"
      ]
    },
    {
      "cell_type": "code",
      "execution_count": null,
      "metadata": {
        "id": "aC_V17jVeOKQ"
      },
      "outputs": [],
      "source": []
    },
    {
      "cell_type": "markdown",
      "metadata": {
        "id": "eq8R3hJgeOKQ"
      },
      "source": [
        "---\n",
        "\n",
        "## <mark>Activity: Summary</mark> <a name='activity-summary'/>\n",
        "\n",
        "Summarize some of the key takeaways/points from this notebook in a list below and prepare a few code examples related to these takeaways/points in the code cells below. You need to have at least one example for each of your summary points and you need at least three summary points.\n"
      ]
    },
    {
      "cell_type": "markdown",
      "source": [
        "\n",
        "\n",
        "- [Your summary point 1 goes here]\n",
        "\n"
      ],
      "metadata": {
        "id": "r1dQNk-Ko50l"
      }
    },
    {
      "cell_type": "code",
      "execution_count": null,
      "metadata": {
        "id": "eqEN50hBeOKR"
      },
      "outputs": [],
      "source": []
    },
    {
      "cell_type": "markdown",
      "metadata": {
        "id": "EaxbXpjleOKR"
      },
      "source": [
        "\n",
        "- [Your summary point 2 goes here]\n"
      ]
    },
    {
      "cell_type": "code",
      "execution_count": null,
      "metadata": {
        "id": "qntlmj9KeOKR"
      },
      "outputs": [],
      "source": []
    },
    {
      "cell_type": "markdown",
      "metadata": {
        "id": "EcyNLvw3eOKR"
      },
      "source": [
        "\n",
        "\n",
        "- [Your summary point 3 goes here]"
      ]
    },
    {
      "cell_type": "code",
      "execution_count": null,
      "metadata": {
        "id": "rM80j_RmeOKR"
      },
      "outputs": [],
      "source": []
    },
    {
      "cell_type": "markdown",
      "metadata": {
        "id": "sQ3XddOTeOKR"
      },
      "source": [
        "End of Summary Activity.\n",
        "\n",
        "---"
      ]
    },
    {
      "cell_type": "markdown",
      "metadata": {
        "id": "OCBc8AoxeOKR"
      },
      "source": [
        "### [Click here to return to Notebook Contents](#Contents)"
      ]
    }
  ],
  "metadata": {
    "anaconda-cloud": {},
    "kernelspec": {
      "display_name": "Python 3",
      "language": "python",
      "name": "python3"
    },
    "language_info": {
      "codemirror_mode": {
        "name": "ipython",
        "version": 3
      },
      "file_extension": ".py",
      "mimetype": "text/x-python",
      "name": "python",
      "nbconvert_exporter": "python",
      "pygments_lexer": "ipython3",
      "version": "3.8.6"
    },
    "colab": {
      "provenance": [],
      "collapsed_sections": []
    }
  },
  "nbformat": 4,
  "nbformat_minor": 0
}