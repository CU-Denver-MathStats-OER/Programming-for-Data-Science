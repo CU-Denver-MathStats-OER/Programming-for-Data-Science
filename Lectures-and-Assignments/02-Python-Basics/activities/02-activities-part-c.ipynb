{
 "cells": [
  {
   "cell_type": "markdown",
   "metadata": {},
   "source": [
    "# Math  1376: Programming for Data Science\n",
    "---\n",
    "\n",
    "## External activities for 02-Python-basics-lecture-part-c\n",
    "---\n",
    "\n",
    "**Expected time to completion: 30-45 minutes**"
   ]
  },
  {
   "cell_type": "code",
   "execution_count": null,
   "metadata": {},
   "outputs": [],
   "source": [
    "import numpy as np"
   ]
  },
  {
   "cell_type": "markdown",
   "metadata": {},
   "source": [
    "Below we make three arrays, `A`, `B`, and `C`, of different shapes."
   ]
  },
  {
   "cell_type": "code",
   "execution_count": null,
   "metadata": {},
   "outputs": [],
   "source": [
    "# Creating the arrays used in this activity\n",
    "A = np.reshape(range(1,13),(3,4))  # create a 3x4 array (i.e., a matrix) with the 1st 12 integers in it.\n",
    "B = np.reshape(range(1,13),(4,3))  # create a 4x3 array (i.e., a matrix) with the 1st 12 integers in it.\n",
    "C = np.reshape(range(1,17),(4,4))\n",
    "print(A, '\\n\\n', B, '\\n\\n', C)"
   ]
  },
  {
   "cell_type": "markdown",
   "metadata": {},
   "source": [
    "<hr style=\"border:5px solid cyan\"> </hr>\n",
    "\n",
    "##  <span style='background:rgba(0,255,255, 0.5); color:black'>Activity: Some practice with array addition and transposes</span> "
   ]
  },
  {
   "cell_type": "markdown",
   "metadata": {},
   "source": [
    "The following operations are undefined because the shapes cannot be [broadcast](https://numpy.org/doc/stable/user/basics.broadcasting.html) together because they do not have compatible shapes: `A+B`, `A+C`, and `B+C`. \n",
    "\n",
    "- In the code cell below, use the `transpose` method in `numpy` to do the following:\n",
    "\n",
    "    - Add the transpose of `A` to `B` and print the result.\n",
    "    \n",
    "    - Add `A` to the transpose of `B` and print the result.\n",
    "    \n",
    "- In the Markdown cell that follows the code cell, explain the differences in results. Also, explain why it is impossible to add any transpose of `A` or `B` to `C`."
   ]
  },
  {
   "cell_type": "code",
   "execution_count": null,
   "metadata": {},
   "outputs": [],
   "source": []
  },
  {
   "cell_type": "markdown",
   "metadata": {},
   "source": [
    "<span style='background:rgba(255,255,0, 0.25); color:black'> Use this Markdown cell to explain the differences in the results above, and explain why it is impossible to add any transpose of `A` or `B` to `C`. </span>"
   ]
  },
  {
   "cell_type": "markdown",
   "metadata": {},
   "source": [
    "<hr style=\"border:5px solid cyan\"> </hr>"
   ]
  },
  {
   "cell_type": "markdown",
   "metadata": {},
   "source": [
    "<hr style=\"border:5px solid cyan\"> </hr>\n",
    "\n",
    "##  <span style='background:rgba(0,255,255, 0.5); color:black'>Activity: Some practice with operations and the axis parameter</span> \n",
    "\n",
    "- In the code cell below, use the `mean` method in `numpy` along with `axis` parameters to do the following:\n",
    "\n",
    "    - Add the mean of each row of `A` to the mean of each column of `B` and print the result. (The answer should be `[8. 13. 18.]`)\n",
    "    \n",
    "    - Add the mean of each column of `A` to the mean of each row of `B` and print the result.\n",
    "    \n",
    "    - Add the mean of each column of `A` to the mean of each row of `C` and print the result.\n",
    "    \n",
    "    - Add the mean of each row of `B` to the mean of each row of `C` which is then added to the mean of each column of `C` and print the result.\n",
    "    \n",
    "- In the Markdown cell that follows the code cell, explain why we cannot add the mean of each row of `A` to the mean of each row of `C`."
   ]
  },
  {
   "cell_type": "code",
   "execution_count": null,
   "metadata": {},
   "outputs": [],
   "source": []
  },
  {
   "cell_type": "markdown",
   "metadata": {},
   "source": [
    "<span style='background:rgba(255,255,0, 0.25); color:black'> Use this Markdown cell to explain why we cannot add the mean of each row of `A` to the mean of each row of `C`. </span>"
   ]
  },
  {
   "cell_type": "markdown",
   "metadata": {},
   "source": [
    "<hr style=\"border:5px solid cyan\"> </hr>"
   ]
  },
  {
   "cell_type": "markdown",
   "metadata": {},
   "source": [
    "<hr style=\"border:5px solid cyan\"> </hr>\n",
    "\n",
    "##  <span style='background:rgba(0,255,255, 0.5); color:black'>Activity: Some practice with transposes and array slicing</span> \n",
    "\n",
    "\n",
    "- In the code cell below, use array slicing to do the following:\n",
    "\n",
    "    - Add `A` to the first three rows of `C` and print the result.\n",
    "    \n",
    "    - Add the transpose of `A` to the first three columns of `C` and print the result. \n",
    "    \n",
    "    - Add `B` to the last three columns of `C` and print the result.\n",
    "    \n",
    "    - Add the first two columns of the transpose of `A` to the middle two columns of `C` and print the result."
   ]
  },
  {
   "cell_type": "code",
   "execution_count": null,
   "metadata": {},
   "outputs": [],
   "source": []
  },
  {
   "cell_type": "markdown",
   "metadata": {},
   "source": [
    "<hr style=\"border:5px solid cyan\"> </hr>"
   ]
  }
 ],
 "metadata": {
  "kernelspec": {
   "display_name": "Python 3",
   "language": "python",
   "name": "python3"
  },
  "language_info": {
   "codemirror_mode": {
    "name": "ipython",
    "version": 3
   },
   "file_extension": ".py",
   "mimetype": "text/x-python",
   "name": "python",
   "nbconvert_exporter": "python",
   "pygments_lexer": "ipython3",
   "version": "3.8.6"
  }
 },
 "nbformat": 4,
 "nbformat_minor": 4
}
