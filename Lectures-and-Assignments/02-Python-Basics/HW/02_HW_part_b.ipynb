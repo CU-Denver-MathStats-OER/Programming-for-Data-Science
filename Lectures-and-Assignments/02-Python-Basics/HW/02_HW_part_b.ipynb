{
  "cells": [
    {
      "cell_type": "markdown",
      "metadata": {
        "id": "UrN7-XjUAhje"
      },
      "source": [
        "# Math  1376: Programming for Data Science\n",
        "---\n",
        "\n",
        "## Assignment 02 (part b): Diving a bit deeper into `numpy` and array manipulation\n",
        "---\n",
        "\n",
        "**Expected time to completion: 6 hours**"
      ]
    },
    {
      "cell_type": "code",
      "execution_count": null,
      "metadata": {
        "id": "S6VlkPC8Ahjg"
      },
      "outputs": [],
      "source": [
        "from IPython.display import YouTubeVideo\n",
        "\n",
        "YouTubeVideo('s5t9ai_f9XM', width=800, height=450)"
      ]
    },
    {
      "cell_type": "markdown",
      "metadata": {
        "id": "zkkU6m5IAhjh"
      },
      "source": [
        "**Much of this assignment makes use of the following arrays. Some problems will involve creating new arrays as well.**"
      ]
    },
    {
      "cell_type": "code",
      "execution_count": null,
      "metadata": {
        "id": "MQbse3jZAhjh"
      },
      "outputs": [],
      "source": [
        "import numpy as np"
      ]
    },
    {
      "cell_type": "code",
      "execution_count": null,
      "metadata": {
        "id": "PQe26pCKAhji"
      },
      "outputs": [],
      "source": [
        "constant_1 = 1\n",
        "\n",
        "constant_2 = 2.0\n",
        "\n",
        "array_1 = np.array([1, 2, 3])\n",
        "\n",
        "array_2 = np.array([[1], [2], [3]])\n",
        "\n",
        "array_3 = np.array([[1, 2, 3], [4, 5, 6]])\n",
        "\n",
        "array_4 = np.array([[[1, 2], [3, 4], [5, 6]]])\n",
        "\n",
        "array_5 = np.array([[ [1], [2] ], [ [3], [4] ], [ [5], [6] ]])"
      ]
    },
    {
      "cell_type": "markdown",
      "metadata": {
        "id": "hq5tun1OAhji"
      },
      "source": [
        "You may also find the following documentation quite useful: \n",
        "\n",
        "https://numpy.org/doc/stable/reference/routines.array-manipulation.html"
      ]
    },
    {
      "cell_type": "markdown",
      "metadata": {
        "id": "fSvBuwK0Ahjj"
      },
      "source": [
        "## You should always INSPECT THE DATA\n",
        "---\n",
        "\n",
        "Print the arrays and their shapes to get a better sense of them. This information proves useful in answering the next problems."
      ]
    },
    {
      "cell_type": "code",
      "execution_count": null,
      "metadata": {
        "id": "WvdVjfpmAhjj"
      },
      "outputs": [],
      "source": [
        "print(np.shape(array_1))\n",
        "print(np.shape(array_2))\n",
        "print(np.shape(array_3))\n",
        "print(np.shape(array_4))\n",
        "print(np.shape(array_5))"
      ]
    },
    {
      "cell_type": "markdown",
      "metadata": {
        "id": "KWY9PxqwAhjk"
      },
      "source": [
        "## Problem 1: Array shapes, trying addition, and broadcasting\n",
        "---"
      ]
    },
    {
      "cell_type": "markdown",
      "metadata": {
        "id": "usjl2v4BAhjk"
      },
      "source": [
        "### Problem 1(a):\n",
        "---\n",
        "\n",
        "<mark>Try running each of the following individual code cells and **answer the following two questions in a Markdown cell below**: </mark>\n",
        "\n",
        "  1. Under what conditions can we add two arrays? *We can do it even when the arrays are different shapes if certain conditions are met.*\n",
        "\n",
        "  2. What is the result of array addition under these conditions?\n",
        "\n",
        "We first show some results that work followed by some that do not because they create a `ValueError`. There are some comments in these initial results to either explain what is going on or ask questions about what is going on.\n",
        "Feel free to edit these comments. **Be sure to remark on these explanations or comments in the Markdown cell following these code cells where you address the two questions above.**"
      ]
    },
    {
      "cell_type": "code",
      "execution_count": null,
      "metadata": {
        "id": "Cnv8CoHeAhjl"
      },
      "outputs": [],
      "source": [
        "# You can add any constant to an array of any shape! \n",
        "# Look what it does here and in the next code cell.\n",
        "array_sum = array_1 + constant_1\n",
        "print(array_sum)"
      ]
    },
    {
      "cell_type": "code",
      "execution_count": null,
      "metadata": {
        "id": "yhXUmf6GAhjm"
      },
      "outputs": [],
      "source": [
        "array_sum = array_4 + constant_2\n",
        "print(array_sum)"
      ]
    },
    {
      "cell_type": "code",
      "execution_count": null,
      "metadata": {
        "id": "VgPbk0zDAhjm"
      },
      "outputs": [],
      "source": [
        "# You can add arrays of the same shape, which means you can always add an array \n",
        "# to itself\n",
        "array_sum = array_3 + array_3\n",
        "print(array_sum)"
      ]
    },
    {
      "cell_type": "code",
      "execution_count": null,
      "metadata": {
        "id": "2i7qijedAhjm"
      },
      "outputs": [],
      "source": [
        "# You can add arrays of different shapes together if very specific shape \n",
        "# characteristics \"align\" properly, but what is it doing?\n",
        "array_sum = array_1 + array_2\n",
        "print(array_sum)"
      ]
    },
    {
      "cell_type": "code",
      "execution_count": null,
      "metadata": {
        "id": "CjlkpIFxAhjn"
      },
      "outputs": [],
      "source": [
        "# You can add arrays of different shapes together if very specific shape \n",
        "# characteristics \"align\" properly, but what is it doing?\n",
        "array_sum = array_1 + array_5\n",
        "print(array_sum)"
      ]
    },
    {
      "cell_type": "code",
      "execution_count": null,
      "metadata": {
        "id": "6HoAZAwrAhjn"
      },
      "outputs": [],
      "source": [
        "# You can add arrays of different shapes together if very specific shape \n",
        "# characteristics \"align\" properly, but what is it doing?\n",
        "array_sum = array_3 + array_5\n",
        "print(array_sum)"
      ]
    },
    {
      "cell_type": "code",
      "execution_count": null,
      "metadata": {
        "scrolled": true,
        "id": "862N7IIiAhjn"
      },
      "outputs": [],
      "source": [
        "# If the shape characteristics are not in good alignment, then we get a \n",
        "# ValueError describing the inability to \"broadcast\" the arrays together\n",
        "array_sum = array_2 + array_5\n",
        "print(array_sum)"
      ]
    },
    {
      "cell_type": "code",
      "execution_count": null,
      "metadata": {
        "id": "Cp8V-4a5Ahjo"
      },
      "outputs": [],
      "source": [
        "# If the shape characteristics are not in good alignment, then we get a \n",
        "# ValueError describing the inability to \"broadcast\" the arrays together\n",
        "array_sum = array_4 + array_5\n",
        "print(array_sum)"
      ]
    },
    {
      "cell_type": "markdown",
      "metadata": {
        "id": "7yQ4uoTrAhjo"
      },
      "source": [
        "<mark>YOUR ANSWERS FOR THE CONDITIONS AND RESULTS UNDER WHICH WE CAN PERFORM ARRAY ADDITION GO HERE. RE-READ THE INSTRUCTIONS TO MAKE SURE YOU ANSWER THE TWO QUESTIONS.</mark>"
      ]
    },
    {
      "cell_type": "markdown",
      "metadata": {
        "id": "q9qkYnhSAhjo"
      },
      "source": [
        "### Problem 1(b)\n",
        "---\n",
        "\n",
        "*Read the instructions carefully for this part of the problem. It is also recommended that you watch the video associated with this assignment for more information about this problem.*\n",
        "\n",
        "Below,  we show how you can make use of the `try` and `except` commands to handle errors. You can read a bit more about these here: https://docs.python.org/3/tutorial/errors.html. \n",
        "\n",
        "We do this to demonstrate how it is possible for you to handle potential errors and give useful feedback to users that is perhaps more informative/relevant than a standard error message. This is particularly useful to incorporate inside of functions that allow for \"flexible\" types of inputs. We study user-defined functions in more detail in the next module for this course.\n",
        "\n",
        "- **Change the feedback given to the user by the `my_message` string variable in the `array_sum` function if there is an error in the code cells below.** What feedback should you give? Look at the actual `ValueError` that is returned in the previous examples of part (a) of this problem that produced such errors and think of how such a message can be recreated with the use of the `np.shape` commands to make a verbose print out of what went wrong. You can choose to print the same type of error message as shown in part (a) or you can make your own that makes use of the shape information of the arrays including information related to *what conditions* need to be met for addition to be defined.\n",
        "\n",
        "- Run the remaining code cells to check the printed outputs of the `array_sum` function."
      ]
    },
    {
      "cell_type": "code",
      "source": [
        "# Our first user-defined function (we study these more in detail in module 03)\n",
        "def array_sum(A, B):\n",
        "  '''\n",
        "  This function takes in two arrays, A and B, and attempts to sum them.\n",
        "\n",
        "  If the arrays can be summed, then the sum is printed.\n",
        "\n",
        "  If the arrays cannot be summed due to a ValueError, then a description of the\n",
        "  issue is printed. Students are asked to edit what is printed to give a better\n",
        "  description of the issue. \n",
        "  '''\n",
        "  try:\n",
        "      print(A+B)\n",
        "  except ValueError:\n",
        "      # Students should edit my_message to include more useful information about \n",
        "      # what went wrong with the attempted addition. BE CAREFUL TO KEEP THE \n",
        "      # INDENTING OF YOUR CODE THE SAME IN THIS PART OF THE CODE. SEE THE VIDEO\n",
        "      # FOR MORE INFORMATION.\n",
        "      my_message = 'Can\\'t sum those!'\n",
        "      print(my_message)"
      ],
      "metadata": {
        "id": "Evk34_qTCG8h"
      },
      "execution_count": null,
      "outputs": []
    },
    {
      "cell_type": "code",
      "execution_count": null,
      "metadata": {
        "id": "YuWOVyhIAhjp"
      },
      "outputs": [],
      "source": [
        "array_sum(array_1, array_2)"
      ]
    },
    {
      "cell_type": "code",
      "execution_count": null,
      "metadata": {
        "id": "EnOW2SoMAhjp"
      },
      "outputs": [],
      "source": [
        "array_sum(array_1, array_3)"
      ]
    },
    {
      "cell_type": "code",
      "execution_count": null,
      "metadata": {
        "id": "cuF03QygAhjq"
      },
      "outputs": [],
      "source": [
        "array_sum(array_2, array_3)"
      ]
    },
    {
      "cell_type": "code",
      "execution_count": null,
      "metadata": {
        "scrolled": true,
        "id": "DD2UK0-nAhjq"
      },
      "outputs": [],
      "source": [
        "array_sum(array_2, array_4)"
      ]
    },
    {
      "cell_type": "code",
      "execution_count": null,
      "metadata": {
        "id": "h0EiCxbuAhjq"
      },
      "outputs": [],
      "source": [
        "array_sum(array_4, array_5)"
      ]
    },
    {
      "cell_type": "code",
      "execution_count": null,
      "metadata": {
        "id": "D0x-cItVAhjq"
      },
      "outputs": [],
      "source": [
        "array_sum(array_1, array_5)"
      ]
    },
    {
      "cell_type": "code",
      "execution_count": null,
      "metadata": {
        "id": "RLtPMYJjAhjr"
      },
      "outputs": [],
      "source": [
        "array_sum(array_2, array_5)"
      ]
    },
    {
      "cell_type": "code",
      "execution_count": null,
      "metadata": {
        "id": "U75SFxXmAhjr"
      },
      "outputs": [],
      "source": [
        "array_sum(array_2.T, array_5)"
      ]
    },
    {
      "cell_type": "markdown",
      "metadata": {
        "id": "wFUqpN-uAhjr"
      },
      "source": [
        "## Problem 2: Array shapes and multiplication\n",
        "---\n",
        "\n",
        "- Try running each of the following individual code cells and explain in the Markdown cell that follows (1) the conditions under which two arrays may be multiplied using either `*` or `np.multiply` and (2) what the output of the array multiplication is under these conditions.\n",
        "\n",
        "- For 10 points extra credit on this problem: Create a user-defined function `array_product` that uses the `try` and `except` functions like in 1(b) where some useful/relevant feedback about array multiplication is given to the user about what went wrong if there is a `ValueError`. *Hint: You can start by creating a new code cell below and copy/pasting and editing the `array_sum` function from 1(b). You should edit the function name, docstring, and what is printed (both if what is \"tried\" works and also the message printed if there is an exception).*"
      ]
    },
    {
      "cell_type": "code",
      "execution_count": null,
      "metadata": {
        "id": "KH9HnKkKAhjs"
      },
      "outputs": [],
      "source": [
        "array_1 * array_1"
      ]
    },
    {
      "cell_type": "code",
      "execution_count": null,
      "metadata": {
        "id": "9LdpTuJFAhjs"
      },
      "outputs": [],
      "source": [
        "array_1 * array_2"
      ]
    },
    {
      "cell_type": "code",
      "execution_count": null,
      "metadata": {
        "id": "RkjXv29bAhjs"
      },
      "outputs": [],
      "source": [
        "array_1 * array_3"
      ]
    },
    {
      "cell_type": "code",
      "execution_count": null,
      "metadata": {
        "id": "t6oB5V5BAhjs"
      },
      "outputs": [],
      "source": [
        "array_1 * array_4"
      ]
    },
    {
      "cell_type": "code",
      "execution_count": null,
      "metadata": {
        "id": "0JZfD3eQAhjt"
      },
      "outputs": [],
      "source": [
        "array_1 * array_4.T"
      ]
    },
    {
      "cell_type": "code",
      "execution_count": null,
      "metadata": {
        "id": "wxzeVZa8Ahjt"
      },
      "outputs": [],
      "source": [
        "array_1.T * array_4"
      ]
    },
    {
      "cell_type": "code",
      "execution_count": null,
      "metadata": {
        "id": "j8QC0km5Ahjt"
      },
      "outputs": [],
      "source": [
        "array_2 * array_3"
      ]
    },
    {
      "cell_type": "code",
      "execution_count": null,
      "metadata": {
        "id": "BKYxKkOsAhjt"
      },
      "outputs": [],
      "source": [
        "array_2.T * array_3"
      ]
    },
    {
      "cell_type": "code",
      "execution_count": null,
      "metadata": {
        "id": "RwIors_EAhju"
      },
      "outputs": [],
      "source": [
        "array_2 * array_3.T"
      ]
    },
    {
      "cell_type": "code",
      "execution_count": null,
      "metadata": {
        "id": "YaUI57giAhju"
      },
      "outputs": [],
      "source": [
        "array_3.T * array_5"
      ]
    },
    {
      "cell_type": "markdown",
      "metadata": {
        "id": "sGH3LjmWAhju"
      },
      "source": [
        "<mark> YOUR EXPLANATIONS FOR THE CONDITIONS UNDER WHICH WE CAN PERFORM ARRAY MULTIPLICATION AND WHAT THE OUTPUTS ARE GO HERE. RE-READ THE INSTRUCTIONS TO MAKE SURE YOU ANSWER THE QUESTIONS ASKED ABOUT THE CONDITIONS AND OUTPUTS OF ARRAY MULTIPLICATION.</mark>"
      ]
    },
    {
      "cell_type": "markdown",
      "metadata": {
        "id": "u7b0A6rUAhju"
      },
      "source": [
        "## Problem 3: Manipulating array shapes\n",
        "---\n",
        "\n",
        "### Problem 3(a): [reshape](https://numpy.org/doc/1.18/reference/generated/numpy.reshape.html#numpy.reshape)\n",
        "\n",
        "We have previously seen in the lecture notebooks how to use the `range` function within `np.reshape` to create arrays of integers of some desired/specified shape. The `reshape` function is also a method attribute associated with any array object that allows us to change the shape of any existing array.\n",
        "\n",
        "- Use the markdown cell below to explain what is going on in the next code cell. Look at some of the comments in the code below for inspiration about what specifically you should discuss."
      ]
    },
    {
      "cell_type": "code",
      "execution_count": null,
      "metadata": {
        "id": "BbrnGff4Ahju"
      },
      "outputs": [],
      "source": [
        "print(array_1)\n",
        "print()\n",
        "\n",
        "print(array_1.reshape((3,1)))  # compare to array_2\n",
        "print()\n",
        "\n",
        "print(array_1.reshape((1,3)))\n",
        "print()\n",
        "\n",
        "print(array_1)  # did reshape change the array like certain list operations (e.g., reverse) changed the list in the last assignment?\n",
        "print()\n",
        "\n",
        "print(array_2)\n",
        "print()\n",
        "\n",
        "print(array_2.reshape((3,)))  # compare to array_1"
      ]
    },
    {
      "cell_type": "markdown",
      "metadata": {
        "id": "OzpaGZSZAhjv"
      },
      "source": [
        "### Problem 3(a): Answers\n",
        "---\n",
        "\n",
        "<mark> YOUR ANSWERS GO HERE.</mark>"
      ]
    },
    {
      "cell_type": "markdown",
      "metadata": {
        "id": "v0DnNo65Ahjv"
      },
      "source": [
        "### Problem 3(b): [ravel](https://numpy.org/doc/stable/reference/generated/numpy.ravel.html) vs [flatten](https://numpy.org/doc/stable/reference/generated/numpy.ndarray.flatten.html)\n",
        "\n",
        "- Run the code cells below. \n",
        "\n",
        "- Do a bit of digging/reading about `ravel` vs `flatten` in `numpy`. What is happening? Explain in the markdown cell following these code cells, and include a description of some scenarios where you may want to use `ravel` over `flatten` and vice versa. By scenarios, I mean actually describe situations where one method's functionality is preferred to another (do not simply restate what these functions do differently but actually conceptualize of a situation where one functionality is preferred to another)."
      ]
    },
    {
      "cell_type": "code",
      "execution_count": null,
      "metadata": {
        "id": "R8OEHtWEAhjw"
      },
      "outputs": [],
      "source": [
        "print(array_4.ravel())\n",
        "print()\n",
        "\n",
        "print(array_4.flatten())\n",
        "print()\n",
        "\n",
        "print(array_4)"
      ]
    },
    {
      "cell_type": "code",
      "execution_count": null,
      "metadata": {
        "id": "dNlaZcCUAhjw"
      },
      "outputs": [],
      "source": [
        "array_4.ravel()[1] = 7\n",
        "print(array_4.ravel())\n",
        "print()\n",
        "print(array_4)\n",
        "print()\n",
        "\n",
        "array_4.ravel()[1] = 2\n",
        "print(array_4.ravel())\n",
        "print()\n",
        "print(array_4)\n",
        "print()"
      ]
    },
    {
      "cell_type": "code",
      "execution_count": null,
      "metadata": {
        "id": "nOCI4vyiAhjw"
      },
      "outputs": [],
      "source": [
        "array_4.flatten()[1] = 7\n",
        "print(array_4.flatten())\n",
        "print()\n",
        "print(array_4)"
      ]
    },
    {
      "cell_type": "markdown",
      "metadata": {
        "id": "UED34cFeAhjw"
      },
      "source": [
        "### Problem 3(b): Answers\n",
        "---\n",
        "\n",
        "<mark> YOUR ANSWERS GO HERE.</mark>"
      ]
    },
    {
      "cell_type": "markdown",
      "metadata": {
        "id": "CfJRo1XBAhjx"
      },
      "source": [
        "## Problem 4: Stacking arrays\n",
        "\n",
        "### Problem 4(a) [hstack](https://numpy.org/doc/stable/reference/generated/numpy.hstack.html)\n",
        "\n",
        "- Run the code cells below. \n",
        "\n",
        "- Provide some better feedback than just `Can't do that!` if there is an error by letting the user know more about what went wrong. To figure that out, you may first need to decipher the `ValueError` by running the commands without the `try`. \n",
        "  \n",
        "  - We are not putting the `try` and `except` into a function here, but if you create a user-defined function called `array_hstack` that works correctly with an improved error message and re-write the code cells to use this function, then you will get 10 extra credit points.\n",
        "\n",
        "- Interpret what is happening in the Markdown cell following these code cells. "
      ]
    },
    {
      "cell_type": "code",
      "execution_count": null,
      "metadata": {
        "id": "VCKuZQpgAhjx"
      },
      "outputs": [],
      "source": [
        "try:\n",
        "    my_arrays = np.hstack((array_1, array_2))\n",
        "    print(my_arrays)\n",
        "except ValueError:\n",
        "    my_message = 'Can\\'t do that!'\n",
        "    print(my_message)"
      ]
    },
    {
      "cell_type": "code",
      "execution_count": null,
      "metadata": {
        "id": "T49tE52cAhjx"
      },
      "outputs": [],
      "source": [
        "try:\n",
        "    my_arrays = np.hstack((array_1, array_2.T))\n",
        "    print(my_arrays)\n",
        "except ValueError:\n",
        "    my_message = 'Can\\'t do that!'\n",
        "    print(my_message)"
      ]
    },
    {
      "cell_type": "code",
      "execution_count": null,
      "metadata": {
        "id": "T-KRYnZCAhjx"
      },
      "outputs": [],
      "source": [
        "try:\n",
        "    my_arrays = np.hstack((array_1, array_2.ravel()))\n",
        "    print(my_arrays)\n",
        "except ValueError:\n",
        "    my_message = 'Can\\'t do that!'\n",
        "    print(my_message)"
      ]
    },
    {
      "cell_type": "code",
      "execution_count": null,
      "metadata": {
        "id": "mE1LIqk5Ahjy"
      },
      "outputs": [],
      "source": [
        "try:\n",
        "    my_arrays = np.hstack((array_1.reshape((3,1)), array_2))\n",
        "    print(my_arrays)\n",
        "except ValueError:\n",
        "    my_message = 'Can\\'t do that!'\n",
        "    print(my_message)"
      ]
    },
    {
      "cell_type": "code",
      "execution_count": null,
      "metadata": {
        "id": "G3RBwKqRAhjy"
      },
      "outputs": [],
      "source": [
        "try:\n",
        "    my_arrays = np.hstack((array_1.reshape((3,1)), array_3))\n",
        "    print(my_arrays)\n",
        "except ValueError:\n",
        "    my_message = 'Can\\'t do that!'\n",
        "    print(my_message)"
      ]
    },
    {
      "cell_type": "code",
      "execution_count": null,
      "metadata": {
        "id": "zhXPriwXAhjy"
      },
      "outputs": [],
      "source": [
        "try:\n",
        "    my_arrays = np.hstack((array_1.reshape((3,1)), array_3.T))\n",
        "    print(my_arrays)\n",
        "except ValueError:\n",
        "    my_message = 'Can\\'t do that!'\n",
        "    print(my_message)"
      ]
    },
    {
      "cell_type": "markdown",
      "metadata": {
        "id": "ryf0kD30Ahjy"
      },
      "source": [
        "### Problem 4(a): Answers\n",
        "---\n",
        "\n",
        "<mark> YOUR ANSWERS GO HERE.</mark>"
      ]
    },
    {
      "cell_type": "markdown",
      "metadata": {
        "id": "83sD-MePAhjy"
      },
      "source": [
        "### Problem 4(b): [vstack](https://numpy.org/doc/stable/reference/generated/numpy.vstack.html)\n",
        "\n",
        "- Run the code cells below.\n",
        "\n",
        "- Interpret what is happening in the Markdown cell following these code cells. "
      ]
    },
    {
      "cell_type": "code",
      "execution_count": null,
      "metadata": {
        "id": "pWrKMQwNAhjz"
      },
      "outputs": [],
      "source": [
        "my_arrays = np.vstack((array_1, array_2))\n",
        "print(my_arrays)"
      ]
    },
    {
      "cell_type": "code",
      "execution_count": null,
      "metadata": {
        "id": "mJXz1-QiAhjz"
      },
      "outputs": [],
      "source": [
        "my_arrays = np.vstack((array_1, array_2.T))\n",
        "print(my_arrays)"
      ]
    },
    {
      "cell_type": "code",
      "execution_count": null,
      "metadata": {
        "id": "QKaY-U85Ahjz"
      },
      "outputs": [],
      "source": [
        "my_arrays = np.vstack((array_1, array_2.ravel()))\n",
        "print(my_arrays)"
      ]
    },
    {
      "cell_type": "code",
      "execution_count": null,
      "metadata": {
        "id": "WYkIKSd9Ahjz"
      },
      "outputs": [],
      "source": [
        "my_arrays = np.vstack((array_1.reshape((3,1)), array_2))\n",
        "print(my_arrays)"
      ]
    },
    {
      "cell_type": "code",
      "execution_count": null,
      "metadata": {
        "id": "8i058H5cAhj0"
      },
      "outputs": [],
      "source": [
        "my_arrays = np.vstack((array_1.reshape((1,3)), array_3))\n",
        "print(my_arrays)"
      ]
    },
    {
      "cell_type": "code",
      "execution_count": null,
      "metadata": {
        "id": "x3VTljUqAhj0"
      },
      "outputs": [],
      "source": [
        "my_arrays = np.vstack((array_1.reshape((1,3)), array_3.T))\n",
        "print(my_arrays)"
      ]
    },
    {
      "cell_type": "markdown",
      "metadata": {
        "id": "JiTLkl6sAhj0"
      },
      "source": [
        "### Problem 4(b): Answers\n",
        "---\n",
        "\n",
        "\n",
        "<mark> YOUR ANSWERS GO HERE.</mark>"
      ]
    },
    {
      "cell_type": "markdown",
      "metadata": {
        "id": "Ld9zanjjAhj2"
      },
      "source": [
        "## Problem 5: What is good in life?\n",
        "\n",
        "Asking your own questions. Investigating things that are interesting to you. Being your own boss.\n",
        "\n",
        "There are so many other things we are not going to cover. You should play around with some other methods available to you in `numpy` for manipulating arrays. Check out the [documentation](https://numpy.org/doc/stable/reference/routines.array-manipulation.html). \n",
        "\n",
        "Think about what you want to do. Maybe you want to `append` an array like we did to lists? \n",
        "\n",
        "***Pick at least three manipulations we have not yet investigated***  and write some code showing how to utilize them along with a brief interpretation of results in a Markdown cell. How deeply you investigate is completely up to you. If you want some suggestions: compare `tile` and `repeat`, compare `flip` to the list method `reverse`, the split methods are also interesting. "
      ]
    },
    {
      "cell_type": "code",
      "execution_count": null,
      "metadata": {
        "id": "4usEISP3Ahj2"
      },
      "outputs": [],
      "source": []
    },
    {
      "cell_type": "code",
      "execution_count": null,
      "metadata": {
        "id": "2PiAaz7xAhj2"
      },
      "outputs": [],
      "source": []
    },
    {
      "cell_type": "code",
      "execution_count": null,
      "metadata": {
        "id": "80svrO1_Ahj2"
      },
      "outputs": [],
      "source": []
    }
  ],
  "metadata": {
    "kernelspec": {
      "display_name": "Python 3",
      "language": "python",
      "name": "python3"
    },
    "language_info": {
      "codemirror_mode": {
        "name": "ipython",
        "version": 3
      },
      "file_extension": ".py",
      "mimetype": "text/x-python",
      "name": "python",
      "nbconvert_exporter": "python",
      "pygments_lexer": "ipython3",
      "version": "3.8.6"
    },
    "colab": {
      "provenance": [],
      "collapsed_sections": [
        "OzpaGZSZAhjv",
        "UED34cFeAhjw",
        "ryf0kD30Ahjy"
      ]
    }
  },
  "nbformat": 4,
  "nbformat_minor": 0
}