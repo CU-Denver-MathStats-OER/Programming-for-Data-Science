{
  "cells": [
    {
      "cell_type": "markdown",
      "metadata": {
        "id": "-586g3HrFPs1"
      },
      "source": [
        "# Math  1376: Programming for Data Science\n",
        "---"
      ]
    },
    {
      "cell_type": "markdown",
      "metadata": {
        "id": "k_gDWH6HFPs5"
      },
      "source": [
        "## What is this course *exactly*? (Read this carefully)\n",
        "---\n",
        "\n",
        "This question does not have an altogether obvious answer. After all, this is a 1000-level course, which means it is an introductory course. However, it is also a course that involves learning a programming language. Learning a programming language is a lot like learning a foreign language except that the rules of diction and syntax are **incredibly strict**. It is therefore quite common to view introductory programming courses as *objectively difficult* by 1000-level course standards. \n"
      ]
    },
    {
      "cell_type": "markdown",
      "source": [
        "\n",
        "This is also not just any programming course. This is a programming course *for* **data science**. You may have a fuzzy notion of what data science actually is. Wikipedia has a reasonable description of [data science](https://en.wikipedia.org/wiki/Data_science) as an interdisciplinary field that\n",
        "\n",
        "> uses techniques and theories drawn from many fields within the context of mathematics, statistics, computer science, domain knowledge and information science.\n",
        "\n",
        "In this context, it is fair to view this as a programming class that exists at the intersection of mathematics, statistics, and computer science. Along the way, we will learn how to solve some common computational mathematics and statistics problems (in modules 04 and 06), scrape data from the web to analyze and interpret results in the context of *data storytelling* (in modules 05 and 06), and dip our toes ever so slightly into the realm of machine learning algorithms based on classifiers and artificial neurons (in module 06). \n",
        "\n",
        "**In other words, this is not your typical 1000-level course.**\n"
      ],
      "metadata": {
        "id": "A6egOzA7FpIO"
      }
    },
    {
      "cell_type": "markdown",
      "source": [
        "\n",
        "None of this is to say that this material is inaccesible at the 1000-level. It just means that we cover a lot of ground over the course of the semester. It also means you need to calibrate your expectations with respect to workload (expect 9-12 hours a week in a typical 16 week format, which is doubled during an 8 week format), how you schedule time for the course material (best to devote 2-3 hour time blocks, with no distractions, spread out over multiple days), and understand the following tenet of computational and data science:\n",
        "\n",
        "> You must become comfortable operating with an incomplete understanding of the problem. This is accomplished by identifying the portions of a problem that are necessary to understand in order to solve it correctly from the portions of a problem that simply allow you to solve it more elegantly. \n"
      ],
      "metadata": {
        "id": "7I0cvgeCF2bi"
      }
    },
    {
      "cell_type": "markdown",
      "source": [
        "\n",
        "We are *not necessarily* after elegant solutions in this course. This is not to say that you should not pursue as elegant a solution as you can. It is simply to say that we are focused on developing the following things:\n",
        "\n",
        "- Basic Jupyter and Python programming skills (modules 01-03)\n",
        "\n",
        "- Basic problem-solving skills that require modifying/applying existing code (modules 04-06)\n",
        "\n",
        "Along the way, you will likely find that you are pushed out of your comfort zone on a number of occasions. But, remember the tenet and you will start to develop comfort and confidence in being uncomfortable. At the very least, you will find such feelings of discomfort and lack of complete understanding to be more familiar and less threatening. It certainly helps to realize that ***no one knows everything and you are not expected to be perfect at anything.*** \n"
      ],
      "metadata": {
        "id": "t3NCaYL5GCGT"
      }
    },
    {
      "cell_type": "markdown",
      "source": [
        "\n",
        "To help guide you along the way, this course will use interactive content such as this Jupyter notebook to parse out ideas as carefully as we can. Additionally, you will often have large portions of code presented to you in their entirety. \n",
        "\n",
        "It is incredibly common in the field of data science to start your work where someone else's work ended. To this end, you will often be asked to add useful *code comments*, *textual interpretations/analysis of results*, and even *tests* for the code. These are incredibly valuable skills and practices to cultivate early on in your budding career. They force you to not simply accept a piece of code as written on the face value of it running free of errors. You should always examine, interpret, and think about the typical use cases for code. \n",
        "\n",
        "Without further ado, we shall get started on Module 01."
      ],
      "metadata": {
        "id": "m_lYHCh6GVph"
      }
    },
    {
      "cell_type": "markdown",
      "metadata": {
        "id": "rqx6cm54FPs7"
      },
      "source": [
        "## Module 01: Jupyter notebooks, the ins and outs, and course info\n",
        "---\n",
        "\n",
        "**Expected time to completion: 3-4 hours**\n",
        "\n",
        "- This course uses files called ***Jupyter notebooks*** (files ending with a *.ipynb*) for lectures and assignments.\n",
        "\n",
        "- In this notebook we do the following:\n",
        "\n",
        "    - Explain the basics of using, editing, and navigating Jupyter notebooks.\n",
        "    \n",
        "    - Discuss some big picture elements of this course and its syllabus.\n",
        "    \n",
        "    \n",
        "- This particular notebook edits and builds upon material used in the course Math 157 at UC San Diego."
      ]
    },
    {
      "cell_type": "markdown",
      "metadata": {
        "id": "io72K7UKFPs7"
      },
      "source": [
        "<mark> Left-click on the \"cell\" below, and then click the \"Run\" button that appears on the left-hand side of the cell or press \"CTRL + enter (or return)\" or press \"SHIFT + enter (or return)\" to execute the code cell. Then, start the YouTube video that is loaded.</mark>"
      ]
    },
    {
      "cell_type": "code",
      "execution_count": null,
      "metadata": {
        "id": "Id2H3Cl6FPs8"
      },
      "outputs": [],
      "source": [
        "# 1. Try running this cell to \"embed\" the YouTube video in the output below it.\n",
        "# 2. Press on the \"play\" button to start the video.\n",
        "\n",
        "from IPython.display import YouTubeVideo\n",
        "\n",
        "YouTubeVideo('zHtdgvupJOk', width=800, height=450)"
      ]
    },
    {
      "cell_type": "markdown",
      "metadata": {
        "id": "VM1SxQ3rFPs9"
      },
      "source": [
        "## Learning objectives for this notebook\n",
        "---\n",
        "\n",
        "- Understand the notebook environment and how notebooks are used in this course.\n",
        "\n",
        "- Understand the difference between code and Markdown cells.\n",
        "\n",
        "- Create and execute code cells and understand how the order of execution impacts results.\n",
        "\n",
        "- Create Markdown cells with some ***stylized*** ~~txt~~ text  formats."
      ]
    },
    {
      "cell_type": "markdown",
      "metadata": {
        "id": "3AYiGr-rFPs-"
      },
      "source": [
        "## Notebook contents <a name='Contents'></a>\n",
        "\n",
        "- [Jupyter notebooks and Markdown](#notebooks-and-markdown)\n",
        "\n",
        "- [How notebooks are used in this course](#course-notebooks)\n",
        "\n",
        "    - [Activity: Creating Markdown and code cells](#activity-create-cells)\n",
        "\n",
        "\n",
        "- [Kernels and cell execution](#kernels)\n",
        "\n",
        "    - [Activity: Making code *readable*](#activity-code-comments)\n",
        "\n",
        "    - [Activity: Playing with the order of code execution](#activity-code-order)\n",
        "\n",
        "\n",
        "- [A bit about you](#bio)\n",
        "\n",
        "    - [Activity: Your relevant academic/skills background](#activity-skills)\n",
        "\n",
        "    - [Activity: What do you want for yourself? You can have it! *Assuming you can define it*](#activity-goals)\n",
        "\n",
        "\n",
        "- [TeX](#TeX)\n",
        " \n",
        "    - [Activity: TeX yourself](#activity-tex)"
      ]
    },
    {
      "cell_type": "markdown",
      "metadata": {
        "id": "DK4xPEtGFPs_"
      },
      "source": [
        "## Jupyter notebooks and Markdown <a name='notebooks-and-markdown'> </a>\n",
        "\n",
        "We provide a high-level discussion of Jupyter notebooks and the Markdown language."
      ]
    },
    {
      "cell_type": "markdown",
      "metadata": {
        "id": "rK-WklobFPs_"
      },
      "source": [
        "### [Project Jupyter](https://jupyter.org/) <--- Click on this\n",
        "\n",
        "> Project Jupyter exists to develop open-source software, open-standards, and services for interactive computing across dozens of programming languages."
      ]
    },
    {
      "cell_type": "markdown",
      "metadata": {
        "id": "Ljr2YX-zFPtA"
      },
      "source": [
        "### So what is a Notebook?\n",
        "\n",
        "A Jupyter notebook effectively turns your computing device into a *computational laboratory* where experiments (scientific computations) are not only *reproducible* but understandable and explainable as well. From Project Jupyter, notebooks allow us to\n",
        "\n",
        "> ... create and share documents that contain live code, equations, visualizations and narrative text. Uses include: data cleaning and transformation, numerical simulation, statistical modeling, data visualization, machine learning, and much more."
      ]
    },
    {
      "cell_type": "markdown",
      "metadata": {
        "id": "V8uMIp30FPtA"
      },
      "source": [
        "### It...is...alive!\n",
        "\n",
        "A notebook is **not static** even if it appears that way. \n",
        "\n",
        "Think of a notebook as a *living* document made up of individual ***cells*** that respond to how you choose to interact with them. "
      ]
    },
    {
      "cell_type": "markdown",
      "metadata": {
        "id": "0KPiXanbFPtA"
      },
      "source": [
        "---\n",
        "Left-click on this piece of text (just once initially). \n",
        "\n",
        "\n",
        "You should see how the border of this cell is \"shadowed\" indicating that a ***cell is selected but not being edited***. \n",
        "\n",
        "\n",
        "We'll discuss how to edit cells in just a bit.\n",
        "\n",
        "---"
      ]
    },
    {
      "cell_type": "markdown",
      "metadata": {
        "id": "UH8I06rTFPtB"
      },
      "source": [
        "### A notebook is composed of a sequence of different kinds of cells.\n",
        "**The two most important types are**\n",
        "\n",
        " - ***Markdown*** cells, like this one, display text with some formatting. For help with the formatting, Google Colab includes a Markdown Guide notebook. To access it, go to \"File -> Open notebook -> Examples\" and look for the \"Markdown Guide\" notebook and open it in a new tab.\n",
        " \n",
        "   Or, better yet, bookmark a [cheatsheet.](https://github.com/adam-p/markdown-here/wiki/Markdown-Cheatsheet \"Markdown-Cheatsheet\")\n",
        "\n",
        " - ***Code*** cells contain code to be executed by a particular piece of software (referred to as the *kernel*). We'll start working with code cells below.\n",
        " \n",
        "In a traditional Jupyter notebook or Jupyter lab environment, there are also \"raw\" cells that are good for displaying code that does not run, but we will hardly (if ever) use these. Google colab also allows you to \"Insert\" scratch code cells where you can test out or investigate some small pieces of code before putting them in code cells. We will not typically use those either, but they are, at times, convenient. "
      ]
    },
    {
      "cell_type": "markdown",
      "metadata": {
        "id": "cqc3lHFpFPtB"
      },
      "source": [
        "### When a markdown cell is in ***edit mode***, it will appear much differently. \n",
        "\n",
        "\n",
        "- To enter this mode for a markdown cell, double-click on this cell (or any of the above cells). \n",
        "   \n",
        "    - It should be replaced by a text editing box containing the contents of the cell.\n",
        "   \n",
        "    - Moreover, in Google Colab, the default is for a dashed vertical line to appear that splits the markdown cell in half where the left-half contains the \"raw\" contents and the right-half shows how these contents will be rendered when the cell is executed (which happens in the Colab environment by pressing the \"CTRL\" and \"enter\" (or \"return\") keys together or by selecting another cell).\n",
        "    \n",
        "- You will be able to edit this text just as you would in a word processor except that you will probably have to *know* or **look-up** various formatting options if you are not familiar with Markdown.\n",
        "    \n",
        "    - Don't worry, you are *not expected* to know this now, but you *will* get used to it especially in the Colab environment where you get almost immediate feedback on how the choices you make in a markdown cell will appear by just looking at the right-hand side of the cell in edit mode. \n",
        "    \n",
        "    - It is fine to ~~mke mstaks~~ make mistakes. **You learn by fixing mistakes.**\n",
        "    \n",
        "    - Looking at other people's notebooks is a very good way to learn. \n",
        "    \n",
        "    - Learning how to enter the \"right type\" of question into your favorite search engine (e.g., Google) is another great way to learn.\n",
        "    \n",
        "    - Referencing a [cheatsheet](https://github.com/adam-p/markdown-here/wiki/Markdown-Cheatsheet \"Markdown Cheatsheet\") is always an option."
      ]
    },
    {
      "cell_type": "markdown",
      "metadata": {
        "id": "gk-Fru28FPtB"
      },
      "source": [
        "---\n",
        "\n",
        "**Go ahead and try editing some text now** (don't worry about messing up the original; you can always get it back from Canvas). \n",
        "\n",
        "To close the text editor, you can either\n",
        "   - Press Shift-Enter on your keyboard. This will \"run\" the current cell and move on to the next cell. You can also left-click to select another cell in Google Colab.\n",
        "\n",
        "   - In a more traditional Jupyter notebook or Jupyter lab environment, there is also a \"Run\" option from the toolbar near the top of your screen. This is equivalent to pressing Shift-Enter.\n",
        "\n",
        "   - In a more traditional Jupyter notebook or Jupyter lab environment, you can also press Ctrl-Enter on your keyboard. This will \"run\" the current cell, but will *not* move on to the next cell. In Google Colab, this works on code cells but not on markdown cells."
      ]
    },
    {
      "cell_type": "markdown",
      "metadata": {
        "id": "uuUAPA09FPtC"
      },
      "source": [
        "**Note:** In a traditional Jupyter notebook or Jupyter lab environment, the text editor will not automatically close if you switch to another cell. If you have multiple open Markdown cells, then you will look for a blue colored outline to indicate which one you have currently selected. \n",
        "\n",
        "You can also try editing the code cells below. They behave slightly differently; for instance, Shift-Enter in a code cell causes it to execute *code* and you will see a number appear in the square brackets at the top-left of the code cell (we will return to this)."
      ]
    },
    {
      "cell_type": "code",
      "execution_count": null,
      "metadata": {
        "id": "NCeRXrgfFPtC"
      },
      "outputs": [],
      "source": [
        "# Example of a code cell <---- this is a comment because it starts with a \"hash\"\n",
        "\n",
        "17*235  # Comments can also be to the righthand side of a piece of code\n",
        "\n",
        "# If a comment is \"in-line\" with code like in line 3 above, then the community\n",
        "# standard is for the \"#\" symbol to be separated by two spaces from where the\n",
        "# code ends."
      ]
    },
    {
      "cell_type": "code",
      "execution_count": null,
      "metadata": {
        "id": "tw1lKjXfFPtC"
      },
      "outputs": [],
      "source": [
        "# Any code to the righthand side of a \"#\" symbol will not be executed.\n",
        "\n",
        "# 17*235\n",
        "\n",
        "# This code cell produces no output if line 3 starts with a \"#\"."
      ]
    },
    {
      "cell_type": "markdown",
      "metadata": {
        "id": "QZ28-X0zFPtD"
      },
      "source": [
        "## How notebooks  are used for lecture materials <a name='course-notebooks'></a>\n",
        "---\n",
        "\n",
        "Run the code cell below and press \"play\" to watch the video for a walk-through on this part of the notebook."
      ]
    },
    {
      "cell_type": "code",
      "execution_count": null,
      "metadata": {
        "tags": [],
        "id": "kQxM6D5_FPtD"
      },
      "outputs": [],
      "source": [
        "# 1. Try running this cell to \"embed\" the YouTube video in the output below it.\n",
        "# 2. Press on the \"play\" button to start the video.\n",
        "\n",
        "from IPython.display import YouTubeVideo\n",
        "\n",
        "YouTubeVideo('HfjOt7dZ7AQ', width=800, height=450)"
      ]
    },
    {
      "cell_type": "markdown",
      "metadata": {
        "id": "FGSLAF8AFPtD"
      },
      "source": [
        "### All lecture content for each module is prepared with notebooks. \n",
        "\n",
        "All lecture notebooks for a module will be provided on GitHub and linked to through Canvas. You can also access these files directly through Google Colab as shown in the getting started video for this course that was provided on Canvas (as well as the video above). \n",
        "   \n",
        "- Once you have the notebook saved in your Google Drive, you should probably work on organizing the notebook in a folder hierarchy where the main folder is titled something like math1376 and sub-folders named for the modules in the course contain that content for each module. This will only take a minute, but it will help you keep your files nicely organized and easy to find.\n",
        "      \n",
        "    - If you download a notebook and then upload it to Google Colab, then you can save the file automatically (you just should change where the file is located within the folders you have organized in your Google Drive). \n",
        "    \n",
        "    - However, if you get the notebook directly from GitHub, then you will have to save a copy before you can save any changes at all. You should always do that before you begin work on the notebook (or else changes won't be saved). It will add the word \"Copy\" to the beginning of the file, which you may want to remove and then put the file in the proper folder in your Google Drive to keep things organized.\n",
        "   \n",
        "- Following the instructions above makes your life easier by keeping your files organized. \n",
        "\n",
        "- Lecture notebooks have videos and embedded activities associated with them like the ones you have seen so far.\n",
        "\n",
        "  - ***20% of your grade depends on your interaction with these notebooks which we detail below in terms of \"Embedded Activity\" credit.***"
      ]
    },
    {
      "cell_type": "markdown",
      "metadata": {
        "id": "cZBLRA47FPtE"
      },
      "source": [
        "### Embedded Activity credit (20% of course grade)\n",
        "---\n",
        "\n",
        "Each lecture notebook includes activities that are useful for checking your understanding and also exploring ideas you may have. These are referred to as embedded activities.\n",
        "    \n",
        "- The activity score for this lecture notebook is simply computed as the percentage of completed activities that are embedded within it. \n",
        "\n",
        "  An activity is deemed \"complete\" if each portion of the activity is completed (i.e., all instructions are followed, any code you are asked to write runs to completion, and any requested Markdown cells containing an analysis or interpretation of results is present, etc.).\n",
        "\n",
        "- Most lecture notebooks will have additional \"activity solution\" videos (links posted on Canvas in the relevant discussion boards) that demonstrate how to do the *coding* portions of embedded activities. \n",
        "\n",
        "  You should try to complete all activities on your own. These solution videos are intended to be used to check your work or help nudge you forward if you are stuck. \n",
        "  \n",
        "  Any interpretations, analysis, code comments, etc. that you are asked to complete in the activities will not be covered in these videos although I may provide some verbal commentary or hints about these parts of the activities. \n",
        "  \n",
        "- Starting in Module 02, lecture notebooks will also contain a \"Summary Activity\". The summary activities will not be covered in the solution videos as they are intended to have you complete a summary of what *you* learned. Summaries require combining Markdown and code cells where you write *unique* work that is not simply copy/pasted from material I provided.\n",
        "\n",
        "  - **From Module 02 onward, the embedded activity score for each notebook weighs the summary activity as 50% of the score with any other activities contributing equally to the other 50% of the score.**\n",
        "    \n",
        "- <mark> Your embedded activity credit for the course is computed as the unweighted average of all lecture notebook activity scores.</mark>"
      ]
    },
    {
      "cell_type": "markdown",
      "metadata": {
        "id": "PKhEtYPYFPtE"
      },
      "source": [
        "***Below is your first activity. Activities are linked to at the top of each notebook (in the \"Notebook contents\" section)  so that they are easily found in each notebook. Activities are also a type of \"section\" in a notebook which are easily found by viewing the Table of Contents (either go to \"View -> Table of contents\" or click on the symbol that looks like three vertical dots followed by three horizontal lines at the top of the vertical toolbar on the lefthand side of the Google Colab environment).***"
      ]
    },
    {
      "cell_type": "markdown",
      "metadata": {
        "id": "X1PaRbCQFPtE"
      },
      "source": [
        "---\n",
        "## Activity: Creating Markdown and code cells<a name ='activity-create-cells'/>\n",
        "---\n",
        "\n",
        "1. Create a Markdown cell *directly* below this cell (i.e., before the next Markdown cell and put in some text in a *list* format (with bullet points) with some *italicized*, **boldfaced**, and ~~struck~~strikethrough fonts.\n",
        "\n",
        "2. Create a code cell *directly* below the new Markdown cell you created (and before the next Markdown cell after that containing the cyan border line) that computes `7*5` and execute that cell."
      ]
    },
    {
      "cell_type": "markdown",
      "metadata": {
        "id": "ReRY5TjQFPtF"
      },
      "source": [
        "(Your cells should come before this cell. We will generally indicate where the contents of an activity end by using a horizontal rule created in Markdown by three dashes.)\n",
        "\n",
        "---"
      ]
    },
    {
      "cell_type": "markdown",
      "metadata": {
        "id": "CXfhfRzBFPtF"
      },
      "source": [
        "---\n",
        "### External Activity credit (30% of course grade)\n",
        "---\n",
        "\n",
        "- Each lecture notebook in Modules 01 through 04 will have an accompanying notebook containing additional activities referred to as external activities. These notebooks are usually due two days (in a 16 week format) after the lecture notebook embedded activities are due. \n",
        "\n",
        "  These should generally take *less* than 1 hour to finish. \n",
        "  \n",
        "  **No solution videos will be provided for these as they are intended to give you more practice doing very similar activities as those that are embedded within the lecture notebook.** \n",
        "\n",
        "- Your external activity credit for the course is computed as the unweighted average of all external activity notebook scores."
      ]
    },
    {
      "cell_type": "markdown",
      "metadata": {
        "id": "z7dvnSQdFPtF"
      },
      "source": [
        "---\n",
        "### Assignments (50% of your grade)\n",
        "---\n",
        "\n",
        "- Assignment notebooks (i.e., the \"homework\" of this course) are intended to *build* upon lecture content to help you *expand* your expertise/mastery of the material. Unlike activities (embedded or external to a lecture notebook) that focus more on direct implementation of the lecture content, you are asked to be a critical, creative, and independent thinker more often on the assignments. \n",
        "\n",
        "- There are a total of 5 assignment notebooks for this course.\n",
        "\n",
        "  - Module 01 has no assignment notebook.\n",
        "\n",
        "  - Module 02 has 2 assignment notebooks.\n",
        "  \n",
        "  - Modules 03, 04, and 05 have 1 assignment notebook each.\n",
        "\n",
        "- Each assignment will contribute equally to your total assignment grade for the course."
      ]
    },
    {
      "cell_type": "markdown",
      "metadata": {
        "id": "OHZdiovMFPtF"
      },
      "source": [
        "---\n",
        "## Kernels and cell execution <a name=\"kernels\"> </a>\n",
        "---\n",
        "\n",
        "<mark>Run the code cell below and press \"play\" to watch the video for a walk-through on this part of the notebook</mark>"
      ]
    },
    {
      "cell_type": "code",
      "execution_count": null,
      "metadata": {
        "id": "wTT9qUQbFPtF"
      },
      "outputs": [],
      "source": [
        "# 1. Try running this cell to \"embed\" the YouTube video in the output below it.\n",
        "# 2. Press on the \"play\" button to start the video.\n",
        "\n",
        "from IPython.display import YouTubeVideo\n",
        "\n",
        "YouTubeVideo('P9-GoLDxPkE', width=800, height=450)"
      ]
    },
    {
      "cell_type": "markdown",
      "metadata": {
        "id": "bH5_v8n_FPtG"
      },
      "source": [
        "So far we have mostly seen text in Jupyter notebooks, but of course the whole point is to integrate explanatory text with code that actually *does* something. So let's talk a bit about how that is going to work. We'll get into this in more detail later.\n",
        "\n",
        "The jupyter notebook environment supports the use of many different \"kernels.\" \n",
        "\n",
        "A kernel is basically a programming language; different kernels have different syntaxes for input (what you type into the kernel) and output (what comes back from the kernel), and often are useful for very different purposes. \n",
        "\n",
        "At any given time, a notebook is set to use a particular kernel, which is named at the top right of the window (in Google colab, you should hover your cursor over the box that shows the RAM and Disk usage to see that you are connected to a \"Python 3\" engine that serves as the kernel for this notebook.) In a more traditional Jupyter notebook or Jupyter lab environment, one can change the running kernel using the \"Kernel\" menu *if* the system you are working on has other kernels setup with the Jupyter environment. We will not worry about using other types of kernels in this class.\n",
        "\n",
        "***We focus exclusively on Python 3 in this course.***"
      ]
    },
    {
      "cell_type": "markdown",
      "metadata": {
        "id": "XNM-QBsUFPtG"
      },
      "source": [
        "Communication between the user and the kernel is broken down into *cells*. When editing a code cell, hit Shift-Enter to execute the contents of the cell and move on to the next cell (or Ctrl-Enter to execute the contents of the cell and stay in that same cell); the response from the kernel will be printed underneath *if* there is any output associated with the code."
      ]
    },
    {
      "cell_type": "code",
      "execution_count": null,
      "metadata": {
        "id": "9KDtnC4SFPtG"
      },
      "outputs": [],
      "source": [
        "2+2  # Try 2+2; instead (i.e., add a semicolon to the end of the operation)"
      ]
    },
    {
      "cell_type": "markdown",
      "metadata": {
        "id": "C8IuWAaiFPtG"
      },
      "source": [
        "Note the difference between Shift-Enter (or Ctrl-Enter) and just plain Enter.\n",
        "\n",
        "You can have multiple lines of code within a single cell.\n",
        "\n",
        "***Blank lines and comments can help enhance the readability of code.***\n",
        "\n",
        "Readability of code is ***very important.***"
      ]
    },
    {
      "cell_type": "markdown",
      "metadata": {
        "id": "d8oVddqJFPtG"
      },
      "source": [
        "---\n",
        "## Activity: Making code *readable* <a name='activity-code-comments'> </a>\n",
        "---\n",
        "\n",
        "1. Add a blank line to separate the two lines of code by positioning the cursor at the end of the first line of code and pressing the enter (or return) key.\n",
        "\n",
        "2. Add some comments to the code cell below.\n",
        "\n",
        "3. Create a Markdown cell below this code cell (and before the horizontal rule) to explain the output of the code cell."
      ]
    },
    {
      "cell_type": "code",
      "execution_count": null,
      "metadata": {
        "id": "v2U7SERvFPtH"
      },
      "outputs": [],
      "source": [
        "x = 2\n",
        "x+3"
      ]
    },
    {
      "cell_type": "markdown",
      "metadata": {
        "id": "irarSpZIFPtH"
      },
      "source": [
        "---"
      ]
    },
    {
      "cell_type": "markdown",
      "metadata": {
        "id": "k6wIxYVoFPtH"
      },
      "source": [
        "Although the interaction is broken down into cells, in a single session of running a notebook ***all of the cell executions form a single \"dialogue\", with persistence of state between cells.***\n",
        "\n",
        "For example, in the previous cell the line `x=2` was an assignment: it declared a new variable `x` and set it to have the value `2`. That value will persist if we perform another execution. \n",
        "\n",
        "In Google Colab, selecting \"Runtime -> Restart runtime\" will restart the kernel.\n",
        "\n",
        "In a more traditional Jupyter notebook or Jupyter lab environment, the \"Restart\" command under the \"Kernel\" menu can be used.\n",
        "\n",
        "This will not clear outputs though, which is also generally something you should do when you restart the kernel. In Google Colab, after restarting the runtime, you should also select \"Edit -> Clear all outputs\" which is what I want you to do before a final save, download, and submission of the notebook. This helps make the file smaller and easier for you to upload and for me to download from Canvas."
      ]
    },
    {
      "cell_type": "code",
      "execution_count": null,
      "metadata": {
        "id": "VHiwUqOKFPtH"
      },
      "outputs": [],
      "source": [
        "y = 3*x+1  # By itself, this will not produce an output although it does assign the value of 3*x+1 to the variable y\n",
        "\n",
        "print(y)  # The print function is very useful for debugging or just providing the user information about outputs of the code"
      ]
    },
    {
      "cell_type": "markdown",
      "metadata": {
        "id": "Bs4sCi-dFPtH"
      },
      "source": [
        "**One potential source of confusion:** when you look at a notebook, you see a series of code cells in some order. However, in any given session, you can choose to execute the cells in any order; this includes repeatedly executing a single cell, or skipping one entirely. (Notice the \"In\" tags in the left margin of the code cell in square brackets tells you about the execution order.) \n",
        "\n",
        "This is explored a bit more with the following activity. "
      ]
    },
    {
      "cell_type": "markdown",
      "metadata": {
        "id": "8ZLmNkQiFPtI"
      },
      "source": [
        "---\n",
        "## Activity: Playing with the order of code execution<a name='activity-code-order'> </a>\n",
        "---\n",
        "\n",
        "1. Go back to the code cell where `x` is declared. Copy/paste the contents into the code cell below.\n",
        "\n",
        "2. *Split* the code cell into two separate code cells each with a single line of code. (Go to \"Tools -> Keyboard shortcuts\" to see how to \"Split at cursor\" which is a nice shortcut to know.)\n",
        "\n",
        "3. Change `x=2` to something else, execute it, and then execute the code cell above with `y=3*x+1` again."
      ]
    },
    {
      "cell_type": "code",
      "execution_count": null,
      "metadata": {
        "id": "p8dUnixNFPtI"
      },
      "outputs": [],
      "source": [
        ""
      ]
    },
    {
      "cell_type": "markdown",
      "metadata": {
        "id": "ggYNtY8WFPtI"
      },
      "source": [
        "---"
      ]
    },
    {
      "cell_type": "code",
      "execution_count": null,
      "metadata": {
        "id": "x2phio8_FPtI"
      },
      "outputs": [],
      "source": [
        "# Try executing this repeatedly (Ctrl-Enter is better to use here), then execute \n",
        "# the code cell above with y=3*x+1 to see what happens\n",
        "x = x+1 "
      ]
    },
    {
      "cell_type": "markdown",
      "metadata": {
        "id": "m1QdOmc1FPtI"
      },
      "source": [
        "If you are preparing a notebook for someone else to read (e.g., when you are submitting homework), ***you should assume that the user plans to execute the cells in the order they are given.***\n",
        "\n",
        "In fact, there is an easy way to do exactly that: the \"Run all\" option in the \"Runtime\" menu or the \"Restart and run all\" option are two ways. (Note: \"Run all\" picks up from the current state of the kernel; if you want a fresh start, instead use the \"Restart and run all\" option. I highly recommend doing this to check all your work before submission. After making sure everything runs as you want it to, then \"Restart runtime\" and \"Clear all outputs\" before saving, downloading, and submitting.)\n",
        "\n",
        "Often, if I am working on a notebook and things are starting to get messy, I will restart, clear outputs, and run through everything again to make sure everything is working as it should, or to help me debug what I have done.\n",
        "\n",
        "When sending a notebook to someone else, I will always restart the runtime and clear all outputs before saving the file to send. This results in a smaller file size. I know I have said this several times, but it is worth repeating. Please do this before you submit your file on Canvas."
      ]
    },
    {
      "cell_type": "markdown",
      "metadata": {
        "id": "o93YOWsSFPtJ"
      },
      "source": [
        "---\n",
        "## A bit about you  <a name=\"bio\"> </a>\n",
        "---\n",
        "\n",
        "The activities below give you some more practice with editing notebooks, using text formatting options within Markdown cells, and also lets me get to know you a bit better."
      ]
    },
    {
      "cell_type": "markdown",
      "metadata": {
        "id": "HcxuXEsoFPtJ"
      },
      "source": [
        "---\n",
        "## Activity: Your relevant academic/skills background <a name=\"activity-skills\"> </a>\n",
        "---\n",
        "\n",
        "a. List (by name and course number) any programming classes you have taken along with the semesters you took them (e.g., using the format Fall 2019 or Spring 2018) along with any other programming languages with which you are familiar."
      ]
    },
    {
      "cell_type": "markdown",
      "metadata": {
        "id": "DhsQZ7W6FPtJ"
      },
      "source": [
        "YOUR ANSWER GOES HERE"
      ]
    },
    {
      "cell_type": "markdown",
      "metadata": {
        "id": "hAZ4Mvl2FPtJ"
      },
      "source": [
        "b. Have you used any mathematical or statistical software before (e.g., Mathematica, Maple, Matlab, SAS, STATA)? If so, in what way(s)?"
      ]
    },
    {
      "cell_type": "markdown",
      "metadata": {
        "id": "uesLaSJEFPtJ"
      },
      "source": [
        "YOUR ANSWER GOES HERE"
      ]
    },
    {
      "cell_type": "markdown",
      "metadata": {
        "id": "xe-xaDMNFPtJ"
      },
      "source": [
        "c. List (by name and course number) any math/stat courses you have taken at or above the college algebra level along with the semesters you took them."
      ]
    },
    {
      "cell_type": "markdown",
      "metadata": {
        "id": "XLKZwGY_FPtJ"
      },
      "source": [
        "YOUR ANSWER GOES HERE"
      ]
    },
    {
      "cell_type": "markdown",
      "metadata": {
        "id": "H5hK2wemFPtK"
      },
      "source": [
        "---"
      ]
    },
    {
      "cell_type": "markdown",
      "metadata": {
        "id": "1hYdpq9AFPtK"
      },
      "source": [
        "---\n",
        "## Activity: What do you want for yourself? You can have it! *Assuming you can define it*  <a name=\"activity-goals\"> </a>\n",
        "---\n",
        "\n",
        "Feel free to experiment with various formatting features such as *font* **choices** ***that emphasize*** what you are ~~saying~~writing, lists of numbered or bulleted responses, etc. (you can look in this notebook along with the [Markdown Cheatsheet](https://github.com/adam-p/markdown-here/wiki/Markdown-Cheatsheet))."
      ]
    },
    {
      "cell_type": "markdown",
      "metadata": {
        "id": "NUmkFb8vFPtK"
      },
      "source": [
        "- Why are you taking this class? Answer in the context of how you see it helping you achieve some goal (career or life goal, educational goal, etc.)?\n",
        "\n",
        "YOUR ANSWER GOES HERE"
      ]
    },
    {
      "cell_type": "markdown",
      "metadata": {
        "id": "TKJQXK-eFPtK"
      },
      "source": [
        "- Create a bulleted list of what you consider your top academic and/or personal strengths that can help you be successful in class (include at least two items).\n",
        "\n",
        "YOUR ANSWER GOES HERE"
      ]
    },
    {
      "cell_type": "markdown",
      "metadata": {
        "id": "MNxkJREwFPtK"
      },
      "source": [
        "- What grade are you hoping to earn in this class?\n",
        "\n",
        "YOUR ANSWER GOES HERE"
      ]
    },
    {
      "cell_type": "markdown",
      "metadata": {
        "id": "S92ROX9ZFPtK"
      },
      "source": [
        "- In general, the minimum number of hours students are expected to spend on a 3 credit class is 9 hours per week regardless of the class level. This is only the *minimum*. STEM (Science, Technology, Engineering, and Mathematics) courses often have higher expected minimum numbers of hours (many times between 12-15 hours per week). Learning programming is also like learning a foreign language with very strict rules on diction and syntax that require significant focus and study. Knowing all of that, what are the minimum number of hours per week, on average, that you think you need to devote to this class to earn the grade you are hoping to achieve? \n",
        "\n",
        "YOUR ANSWER GOES HERE"
      ]
    },
    {
      "cell_type": "markdown",
      "metadata": {
        "id": "05LldOabFPtL"
      },
      "source": [
        "  - It is a terrible idea to expect that you can sit down and work through all the material for the week in a single day. This will undoubtedly lead to failure at some point in the semester. Knowing this, how do you plan to manage your time so that you spend this minimum number of hours per week on this class spread out across multiple days in the week? Specifically, do you use a calendar/planner to make sure you are devoting at least this minimum amount of time towards achieving your goal spread out across two or more days in a week?\n",
        "\n",
        "YOUR ANSWER GOES HERE"
      ]
    },
    {
      "cell_type": "markdown",
      "metadata": {
        "id": "zaeP__00FPtL"
      },
      "source": [
        "*Congratulations! You have defined what you want and how you can get it! To make sure you can get it, you should also carefully define what may prevent your success.*\n",
        "\n",
        "**You should answer these next two questions for yourself. You do not need to share your answers with me unless you feel comfortable doing so.**\n",
        "\n",
        "- List what you consider to be a few issues that may prevent you from achieving your goals for this class? (Procrastination, binge watching Netflix shows on baking cakes, lack of organization, noisy roommates, etc. are common issues.)\n",
        "<br>\n",
        "\n",
        "- What is your plan to mitigate these issues so that they do not get in the way of your achieving your goals for this class?\n",
        "<br>\n",
        "\n",
        "---"
      ]
    },
    {
      "cell_type": "markdown",
      "metadata": {
        "id": "24zR25p3FPtL"
      },
      "source": [
        "---\n",
        "## TeX syntax  <a name=\"TeX\"> </a>\n",
        "---\n",
        "\n",
        "Run the code cell below and press \"play\" to watch the video for a walk-through on this part of the notebook."
      ]
    },
    {
      "cell_type": "code",
      "execution_count": null,
      "metadata": {
        "id": "lWCAjA4nFPtL"
      },
      "outputs": [],
      "source": [
        "# 1. Try running this cell to \"embed\" the YouTube video in the output below it.\n",
        "# 2. Press on the \"play\" button to start the video.\n",
        "\n",
        "from IPython.display import YouTubeVideo\n",
        "\n",
        "YouTubeVideo('naQa2G2JHEI', width=800, height=450)"
      ]
    },
    {
      "cell_type": "markdown",
      "metadata": {
        "id": "BNlCPHoaFPtL"
      },
      "source": [
        "Markdown cells can contain mathematical formatting using [TeX](https://en.wikipedia.org/wiki/TeX). Any text enclosed between a pair of dollar signs is parsed as TeX, for instance, $x^2$.\n",
        "\n",
        "I will get you started by showing how to do [Euler's identity](https://en.wikipedia.org/wiki/Euler%27s_identity) (according to Wikipedia) with a few formatting options you may find useful.\n",
        "\n",
        "You will probably find the 01-Markdown-TeX-Examples notebook provided to you useful to reference here.\n",
        "\n",
        "--- \n",
        "\n",
        "### Format 1: inline math with bullet list\n",
        "\n",
        "Euler's Identity is $e^{i\\pi }+1=0$, where\n",
        "- $e$ is Euler's number, the base of natural logarithms,\n",
        "- $i$ is the imaginary unit, which by definition satisfies $\\sqrt{-1}=i$, and\n",
        "- $\\pi$ is pi, the ratio of the circumference of a circle to its diameter.\n",
        "\n",
        "---\n",
        "\n",
        "### Format 2: display math with bullet list\n",
        "\n",
        "Euler's Identity is \n",
        " $$e^{i\\pi }+1=0,$$ \n",
        " where\n",
        "- $e$ is Euler's number, the base of natural logarithms,\n",
        "- $i$ is the imaginary unit, which by definition satisfies $\\sqrt{-1} = i$, and\n",
        "- $\\pi$ is pi, the ratio of the circumference of a circle to its diameter.\n",
        "\n",
        "---\n",
        "\n",
        "### Format 3: larger display math with bullet list\n",
        "\n",
        "Euler's Identity is \n",
        " $$\\large e^{i\\pi }+1=0,$$ \n",
        " where\n",
        "- $e$ is Euler's number, the base of natural logarithms,\n",
        "- $i$ is the imaginary unit, which by definition satisfies $\\sqrt{-1} = i$, and\n",
        "- $\\pi$ is pi, the ratio of the circumference of a circle to its diameter.\n",
        "\n",
        "---"
      ]
    },
    {
      "cell_type": "markdown",
      "metadata": {
        "id": "KwgnPJ7xFPtM"
      },
      "source": [
        "---\n",
        "## Activity: TeX yourself <a name='activity-tex'> </a>\n",
        "---\n",
        "\n",
        "**Part (a):** Use TeX to typeset Stirling's approximation (the \"more precise formula\" according to Wikipedia) using **at least two of the above Format options**."
      ]
    },
    {
      "cell_type": "markdown",
      "metadata": {
        "id": "i4tLDYbBFPtM"
      },
      "source": [
        "<mark> YOUR ANSWER FOR PART (A) GOES HERE.</mark>  \n"
      ]
    },
    {
      "cell_type": "markdown",
      "metadata": {
        "id": "V7GGQuZNFPtM"
      },
      "source": [
        "**Part (b):** Use TeX to typeset *both* the differential equation for population growth as well as the solution to this differential equation. Both of these can be found on the [Wikipedia page for the logistic function](https://en.wikipedia.org/wiki/Logistic_function#In_ecology:_modeling_population_growth). Remember to use a bullet list to describe what each term means that appears in the differential equation and solution."
      ]
    },
    {
      "cell_type": "markdown",
      "metadata": {
        "id": "AnYUwnnKFPtM"
      },
      "source": [
        "<mark> YOUR ANSWER FOR PART (B) GOES HERE.</mark> \n"
      ]
    },
    {
      "cell_type": "markdown",
      "metadata": {
        "id": "hYigkLE2FPtM"
      },
      "source": [
        "---"
      ]
    },
    {
      "cell_type": "markdown",
      "metadata": {
        "id": "ux3_9dCpFPtN"
      },
      "source": [
        "### [Click here to return to Notebook Contents](#Contents)"
      ]
    }
  ],
  "metadata": {
    "kernelspec": {
      "display_name": "Python 3",
      "language": "python",
      "name": "python3"
    },
    "language_info": {
      "codemirror_mode": {
        "name": "ipython",
        "version": 3
      },
      "file_extension": ".py",
      "mimetype": "text/x-python",
      "name": "python",
      "nbconvert_exporter": "python",
      "pygments_lexer": "ipython3",
      "version": "3.8.8"
    },
    "colab": {
      "name": "01-lecture.ipynb",
      "provenance": [],
      "collapsed_sections": [
        "UH8I06rTFPtB",
        "FGSLAF8AFPtD",
        "CXfhfRzBFPtF",
        "z7dvnSQdFPtF",
        "m1QdOmc1FPtI",
        "BNlCPHoaFPtL"
      ],
      "toc_visible": true
    }
  },
  "nbformat": 4,
  "nbformat_minor": 0
}