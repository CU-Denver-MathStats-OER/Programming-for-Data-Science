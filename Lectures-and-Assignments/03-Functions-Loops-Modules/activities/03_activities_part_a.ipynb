{
  "cells": [
    {
      "cell_type": "markdown",
      "metadata": {
        "id": "5x_zN3Ozb2yb"
      },
      "source": [
        "# Math  1376: Programming for Data Science\n",
        "---\n",
        "\n",
        "## External activities for 03-Functions-loops-modules-part-a\n",
        "---\n",
        "\n",
        "**Expected time to completion: 45-60 minutes**"
      ]
    },
    {
      "cell_type": "code",
      "execution_count": null,
      "metadata": {
        "id": "RP4adG1ab2ye"
      },
      "outputs": [],
      "source": [
        "import numpy as np"
      ]
    },
    {
      "cell_type": "markdown",
      "metadata": {
        "id": "45YPFcQUb2yf"
      },
      "source": [
        "---\n",
        "\n",
        "## <mark>Activity 1: Currency Conversion</mark>\n",
        "\n",
        "- Create a function `currencyConvert` with two parameters `US_dollars` and `CAN_dollars` (both defaulted to `None`) that converts the amount of money given in US dollars (`US_dollars`) to Canadian dollars (`CAN_dollars`) or vice versa depending on which parameter is given. If two amounts of money are given (one in `US_dollars` and one in `CAN_dollars`), then it will check if they are equivalent. If no parameter is given, then the function should simply print that \"No currency/currencies given to convert/compare.\" Use the temperature converter activity in the lecture as a reference. Assume for the sake of this activity that \\$1 US dollar = \\$1.3 Canadian dollars.\n",
        "\n",
        "- Make sure to add a useful docstring to the function.\n",
        "\n",
        "- Execute the code cells that follow. All of them should run without error! Feel free to add more, but the included ones should remain."
      ]
    },
    {
      "cell_type": "code",
      "execution_count": null,
      "metadata": {
        "id": "JbMw-1vib2yg"
      },
      "outputs": [],
      "source": [
        "# Your function should go here\n"
      ]
    },
    {
      "cell_type": "code",
      "execution_count": null,
      "metadata": {
        "id": "LWxrP9JRb2yg"
      },
      "outputs": [],
      "source": [
        "currencyConvert(CAN_dollar=1.3)"
      ]
    },
    {
      "cell_type": "code",
      "execution_count": null,
      "metadata": {
        "id": "4bNlxxpjb2yh"
      },
      "outputs": [],
      "source": [
        "currencyConvert(US_dollar=1.0)"
      ]
    },
    {
      "cell_type": "code",
      "source": [
        "currencyConvert(US_dollar=1.0, CAN_dollar=1.3)"
      ],
      "metadata": {
        "id": "po2ZPnA6_pDy"
      },
      "execution_count": null,
      "outputs": []
    },
    {
      "cell_type": "code",
      "execution_count": null,
      "metadata": {
        "id": "F0pqy9CYb2yh"
      },
      "outputs": [],
      "source": [
        "currencyConvert()"
      ]
    },
    {
      "cell_type": "markdown",
      "metadata": {
        "id": "_Qfv93Prb2yi"
      },
      "source": [
        "End of Activity 1.\n",
        "\n",
        "---"
      ]
    },
    {
      "cell_type": "markdown",
      "metadata": {
        "id": "WK8lk0qeb2yi"
      },
      "source": [
        "---\n",
        "\n",
        "## <mark>Activity 2: Discounted Cash Flow</mark>\n",
        "\n",
        "From the [Wiki article on Discounted Cash Flow (DCF)](https://en.wikipedia.org/wiki/Discounted_cash_flow):\n",
        "> In finance, discounted cash flow (DCF) analysis is a method of valuing a security, project, company, or asset using the concepts of the time value of money. Discounted cash flow analysis is widely used in investment finance, real estate development, corporate financial management and patent valuation. It was used in industry as early as the 1700s or 1800s, widely discussed in financial economics in the 1960s, and became widely used in U.S. courts in the 1980s and 1990s.\n",
        "\n",
        "It is recommended that you take 10 minutes to read the first three sections of the Wiki article on the Application, History, and Mathematics. \n",
        "\n",
        "We deviate just slightly from the presentation in the Wiki article and use the following notation:\n",
        "\n",
        "- $n$ denotes the number of years we are considering into the future.\n",
        "\n",
        "- $CF_n$ denotes the projected cash flow at year $n$.\n",
        "\n",
        "- $r$ denotes the discount, or interest, rate which reflects the cost of tying up capital and may also allow for the risk that the payment may not be received in full (often chosen in $(0,1)$).\n",
        "\n",
        "- $DCF_n$ denotes the discount applied to $CF_n$ assuming that we do not generate any cash from the investment in the years less than $n$. \n",
        "\n",
        "The formula for $DCF_n$ is then given as\n",
        "$$\n",
        "    \\large DCF_n = \\frac{CF_n}{(1+r)^n}.\n",
        "$$"
      ]
    },
    {
      "cell_type": "markdown",
      "metadata": {
        "id": "K0pefabOb2yj"
      },
      "source": [
        "### A scenario demonstrating the time-value of money\n",
        "\n",
        "Suppose we project that in one year (so $n=1$), the projected cash flow from an investment is $\\$1000$ (so $CF_1=\\$1000$), and we use a 5% discount rate (so $r=0.05$), then $DCF_1\\approx \\$952.38$, which means the \"fair value\" of the investment in today's dollars, from our perspective, is $\\$952.38$.\n",
        "\n",
        "On the other hand, if we project that in the first four years there is no cash flow, but in five years (so $n=5$) the projected cash flow from the investment is $\\$1000$ (so $CF_5=\\$1000$), and we still use a 5\\% discount rate, then $DCF_5 \\approx 783.53$, which means the \"fair value\" of the investment in today's dollars, from our perspective, is $\\$783.53$.\n",
        "\n",
        "Notice that the payout from both investments is projected to be the same, $\\$1000$, but we are willing to spend more ($\\$952.38$ compared to $\\$783.53$) to get that payout in \n",
        "one year instead of in five years. This demonstrates the \"time value\" of money meaning we are willing to pay more today to get the return on investment money sooner."
      ]
    },
    {
      "cell_type": "markdown",
      "metadata": {
        "id": "WhRbSw-lb2yk"
      },
      "source": [
        "### Your to-do's\n",
        "\n",
        "- Make a function `DCF` below that has `CF`, `r`, and `n` as parameters that computes the $DCF_n$ using the formula above and both prints the value to screen and also returns the value to the user. Default the `n` value to `1` and the `r` value to `0.05` but do not give `CF` any default value.\n",
        "\n",
        "- Make sure that your function is capable of working on *arrays* of values for `CF`, `r`, and `n`. For instance, your code should be able to execute for `CF=np.array([1000, 1000, 2000])`, `r=np.array([0.05, 0.05, 0.1])`, and `n=np.array([1, 5, 3])`. Make sure to check that it does execute for such inputs.\n",
        "\n",
        "    - *Interpretation of the above arrays:* The arrays are all related to each other by a common Python index. The output should be an array of shape `(3,)`. If we consider the first component of each array, then `CF[0]` is equal to `1000`, `r[0]` is equal to `0.05` and `n[0]` is equal to `1`. The `0` component (i.e., the first component) of the computed/returned array (that is also printed to screen) is the $DCF$ value associated with these parameter values. The second and third components of the array are similarly interpreted. This should allow you to check, by hand (using a calculator or an empty code/scratch code cell) that the computed values are correct in order to verify you coded the formula correctly in the function.\n",
        "\n",
        "- Execute your functions with some different choices of scalar and arrays for the variables and print/interpret results (create new code cells to do this and a Markdown cell to more clearly explain results). "
      ]
    },
    {
      "cell_type": "code",
      "execution_count": null,
      "metadata": {
        "id": "gLfOXUuvb2yl"
      },
      "outputs": [],
      "source": []
    },
    {
      "cell_type": "code",
      "execution_count": null,
      "metadata": {
        "id": "th12X5kvb2yl"
      },
      "outputs": [],
      "source": []
    },
    {
      "cell_type": "code",
      "execution_count": null,
      "metadata": {
        "id": "aRU7dEvzb2yl"
      },
      "outputs": [],
      "source": []
    },
    {
      "cell_type": "code",
      "execution_count": null,
      "metadata": {
        "id": "QiiJI0UDb2ym"
      },
      "outputs": [],
      "source": []
    },
    {
      "cell_type": "markdown",
      "metadata": {
        "id": "Wv3gdVFfb2ym"
      },
      "source": [
        "<mark>Explain/interpret results here.</mark>"
      ]
    },
    {
      "cell_type": "markdown",
      "metadata": {
        "id": "j5mVMUw7b2ym"
      },
      "source": [
        "End of Activity 2.\n",
        "\n",
        "---\n"
      ]
    }
  ],
  "metadata": {
    "kernelspec": {
      "display_name": "Python 3",
      "language": "python",
      "name": "python3"
    },
    "language_info": {
      "codemirror_mode": {
        "name": "ipython",
        "version": 3
      },
      "file_extension": ".py",
      "mimetype": "text/x-python",
      "name": "python",
      "nbconvert_exporter": "python",
      "pygments_lexer": "ipython3",
      "version": "3.8.6"
    },
    "colab": {
      "provenance": [],
      "collapsed_sections": []
    }
  },
  "nbformat": 4,
  "nbformat_minor": 0
}