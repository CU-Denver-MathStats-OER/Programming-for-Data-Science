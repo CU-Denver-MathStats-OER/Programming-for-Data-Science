{
  "cells": [
    {
      "cell_type": "markdown",
      "metadata": {
        "id": "8qrTiVkzjz21"
      },
      "source": [
        "# Math  1376: Programming for Data Science\n",
        "---\n",
        "\n",
        "## Assignment 04: Root finding and integration applications\n",
        "---\n",
        "\n",
        "**Expected time to completion: 4-6 hours**"
      ]
    },
    {
      "cell_type": "markdown",
      "metadata": {
        "id": "1ZM8YK7ojz29"
      },
      "source": [
        "## Setting the stage with a brief discussion on roots and optimization\n",
        "---"
      ]
    },
    {
      "cell_type": "markdown",
      "metadata": {
        "id": "i6xfaWfKjz29"
      },
      "source": [
        "<span style='background:rgba(255,255,0, 0.25); color:black'> Run the code cell below and click the \"play\" button to see the first recorded lecture associated with this notebook.</span>"
      ]
    },
    {
      "cell_type": "code",
      "execution_count": null,
      "metadata": {
        "id": "GEVDL6d-jz2-"
      },
      "outputs": [],
      "source": [
        "from IPython.display import YouTubeVideo\n",
        "\n",
        "YouTubeVideo('6l3x_T13a9M', width=800, height=450)"
      ]
    },
    {
      "cell_type": "code",
      "execution_count": null,
      "metadata": {
        "id": "fthX1BhYjz27"
      },
      "outputs": [],
      "source": [
        "import numpy as np\n",
        "import matplotlib.pyplot as plt"
      ]
    },
    {
      "cell_type": "code",
      "source": [
        "# Mount your Google Drive within colab, which is necessary to import a module\n",
        "# stored in your Drive. \n",
        "from google.colab import drive\n",
        "drive.mount('/content/drive')"
      ],
      "metadata": {
        "id": "6q9hqtx0k2lP"
      },
      "execution_count": null,
      "outputs": []
    },
    {
      "cell_type": "code",
      "source": [
        "# Insert the directory\n",
        "import sys\n",
        "# This next line may be unique to you (watch the video)\n",
        "module_path_1 = '/content/drive/MyDrive/Colab Notebooks/Programming-for-Data-Science/04-Computational-Applications/activities'\n",
        "sys.path.insert(0,module_path_1)\n",
        "\n",
        "module_path_2 = '/content/drive/MyDrive/Colab Notebooks/Programming-for-Data-Science/03-Functions-Loops-Modules/lectures'\n",
        "\n",
        "sys.path.insert(0,module_path_2)"
      ],
      "metadata": {
        "id": "Bn4xzrNVk05-"
      },
      "execution_count": null,
      "outputs": []
    },
    {
      "cell_type": "code",
      "source": [
        "import MyFunctionClasses as MyFC\n",
        "import differences as diff"
      ],
      "metadata": {
        "id": "9aWvLzx5lFBe"
      },
      "execution_count": null,
      "outputs": []
    },
    {
      "cell_type": "markdown",
      "metadata": {
        "id": "bQCchcN1jz2_"
      },
      "source": [
        "Root-problems naturally arise in optimization of *smooth* phenomena.\n",
        "\n",
        "Before we discuss how this happens, we address some terminology. What does *smooth* mean? For the purposes of this discussion, it means the function has as many *derivatives* as we require. What is a *derivative*? It is a concept from calculus, but here you can just think of it in very physical terms: the derivative of position as a function of time is velocity, the derivative of velocity as a function of time is acceleration, etc. (is there a physically meaningful derivative of acceleration? Yes! It is called the *jerk*, and I do not mean in the context \"This lying jerk said we didn't need to know calculus!\").\n",
        "\n",
        "<span style='background:rgba(255,0,255, 0.25); color:black'> ***Some motivating examples:*** <span>\n",
        "\n",
        "- Suppose a function $h(t)$ describes the *height* of a launched projectile (e.g., a ball, missile, satellite, etc.) and we wish to know the times $t$ over some range of times $[t_0,t_f]$ when the projectile reaches its maximum and minimum heights. Let $f(t)$ denote the first derivative of $h(t)$. Then, the solutions to $f(t)=0$ (i.e., the roots of $f(t)$) give the potential times of maximum/minimum heights. We can then evaluate $h$ at all the roots of $f$ to determine what the heights are at these *critical* values. \n",
        "\n",
        "- Suppose a function $I(t)$ describes the number of people infected with a virus at any given time $t$. Knowing when the infected number \"spikes\" (produces a value that is maximum relative to other nearby values in time) is useful for guiding public health policy and direction of resources. Like the example above, this requires knowing when the derivative of $I(t)$ is zero. \n",
        "\n",
        "<span style='background:rgba(255,0,255, 0.25); color:black'> ***Do we need derivatives?*** <span>\n",
        "    \n",
        "No! We can use estimates of derivatives instead. You may recall that we developed a Python module `differences.py` in our third content module. \n",
        "We will use that instead!"
      ]
    },
    {
      "cell_type": "markdown",
      "metadata": {
        "id": "_C-SsgtGjz3A"
      },
      "source": [
        "## Problem 1: Minimize your cost to maximize your profits\n",
        "---\n",
        "\n",
        "**<span style='background:rgba(255,0,255, 0.25); color:black'>\n",
        "All the code in this problem is done for you. You are prompted to provide some code comments, doctests, and interpretations in Markdown cells throughout.\n",
        "</span>**\n",
        "\n",
        "You just discovered that you are the world's best pasta sauce maker.\n",
        "You should profit on this discovery. \n",
        "People love your sauce so much that they want to buy it a liter at a time.\n",
        "A liter is 1000 cm$^3$. \n",
        "That is a lot of sauce!\n",
        "You can almost taste the profits.\n",
        "\n",
        "There is only one problem, you need to find liter sized glass containers for your sauce.\n",
        "You talk with your [copacker](https://en.wikipedia.org/wiki/Contract_packager#:~:text=A%20contract%20packager%2C%20or%20copacker,household%20products%2C%20and%20industrial%20products.), and they cannot find a distributor of glass containers that makes the quality and quantity of liter sized containers you need.\n",
        "But, your copacker has a suggestion: we can design and make our own containers!\n",
        "This is a great idea!\n",
        "\n",
        "Your objective is to design a liter sized glass container that minimizes the cost of production and thus maximizes your profits!\n",
        "\n",
        "However, there are some constraints. \n",
        "\n",
        "This is a glass container! It can NOT have edges or corners!\n",
        "\n",
        "The shape required is a [right-circular cylinder](https://en.wikipedia.org/wiki/Cylinder) (we will ignore the slight curvature that you always see near the bottom/top of the container for simplicity) with a solid glass bottom (otherwise the sauce will not stay in the container) and an open top (where the sauce is poured into the container during production before a lid is screwed on to secure the contents). \n",
        "\n",
        "This means that you have to determine the radius $r$ of the circular base and the height $h$ of the container. \n",
        "\n",
        "Assume that the thickness of the glass is the same for all shapes of containers so that the cost of the commercial-grade raw materials used to make any glass container can be expressed in terms of the surface area of the cylinder. \n",
        "Your objective is then clear: design a 1000 cm$^3$ container with minimal surface area.\n",
        "\n",
        "The surface area of a container you specify with base radius $r$ and height $h$ is given by\n",
        "$$\n",
        " \\large   S = \\pi r^2 + 2\\pi r h,\n",
        "$$\n",
        "while the volume is given by\n",
        "$$\n",
        "   \\large V = \\pi r^2 h.\n",
        "$$\n",
        "\n",
        "Since the volume needs to be 1000 cm$^3$, the (constrained) optimization problem is summarized as\n",
        "$$\n",
        "\\large    \\begin{array}{c} \n",
        "        \\text{minimize  } S=\\pi r^2 + 2\\pi rh \\\\\n",
        "        \\text{subject to  } 1000 = \\pi r^2h.\n",
        "    \\end{array}\n",
        "$$\n",
        "\n",
        "Using the constraint, we have that $\\large h=\\frac{1000}{\\pi r^2}$, so we can substitute this into the surface area equation to simplify this problem to the following\n",
        "$$\n",
        "\\large \\text{minimize } S=\\pi r^2 + \\frac{2000}{r}.\n",
        "$$\n",
        "\n",
        "The only \"obvious\" constraint now is that $r>0$ (the circular base has to have a positive radius). Otherwise, all positive values of $r$ are now \"fair game\" in the optimal design of the container. \n",
        "\n",
        "Once $r$ is determined, we can use $\\large h=\\frac{1000}{\\pi r^2}$ to determine $h$.\n",
        "\n",
        "**<span style='background:rgba(255,0,255, 0.25); color:black'>To two decimal places (assuming that our machines can only be set to tolerances of $.01$ cm), the value of $r$ that minimizes the surface area is $6.83$ cm.</span>**\n",
        "We use what we have learned in the 04 part a lecture notebook as well as previous notebooks to approximate this answer.\n",
        "\n",
        "---"
      ]
    },
    {
      "cell_type": "markdown",
      "metadata": {
        "id": "dZxD4yCKjz3B"
      },
      "source": [
        "### Problem 1(a): Developing intuition about this problem\n",
        "---\n",
        "\n",
        "It is always good to build some intuition about a problem. We do that here.\n",
        "\n",
        "<span style='background:rgba(255,255,0, 0.25); color:black'> Add a docstring, doctest, and comments to the function `surfArea` shown in the code cell below to explain this function. Make sure to demonstrate that your doctest passes!</span>"
      ]
    },
    {
      "cell_type": "code",
      "execution_count": null,
      "metadata": {
        "id": "vFsiqw1fjz3C"
      },
      "outputs": [],
      "source": [
        "# Add comments to this\n",
        "def surfArea(r):\n",
        "\n",
        "    if np.any(r <= 0):\n",
        "        raise ValueError('The circular base requires r>0')\n",
        "    \n",
        "    S = np.pi*r**2 + 2000/r \n",
        "    \n",
        "    return S"
      ]
    },
    {
      "cell_type": "code",
      "source": [
        "# Show your doctest passes here"
      ],
      "metadata": {
        "id": "R01Sanzo5Krp"
      },
      "execution_count": null,
      "outputs": []
    },
    {
      "cell_type": "markdown",
      "metadata": {
        "id": "olPiWDCTjz3D"
      },
      "source": [
        "<span style='background:rgba(255,255,0, 0.25); color:black'> Add code comments to **all** of the code cells below to explain what is going on and use Markdown cells to contextualize the results.</span>"
      ]
    },
    {
      "cell_type": "code",
      "execution_count": null,
      "metadata": {
        "id": "7tYbn5W3jz3E"
      },
      "outputs": [],
      "source": [
        "r = np.linspace(0, 40, 100)\n",
        "\n",
        "plt.figure(figsize=(7,7))\n",
        "plt.plot(r[1:],surfArea(r[1:]))\n",
        "plt.title('Surf. Area of 1 L container vs. base radius', fontsize=16)\n",
        "plt.ylabel('Surf. Area [cm$^2$]', fontsize=14)\n",
        "plt.xlabel('Radius [cm] of base', fontsize=14)"
      ]
    },
    {
      "cell_type": "code",
      "execution_count": null,
      "metadata": {
        "id": "d3-GcOxajz3F"
      },
      "outputs": [],
      "source": [
        "fig, ax1 = plt.subplots(figsize=(8,8))\n",
        "\n",
        "ax1.set_xlabel('Radius [cm] of base', fontsize=14)\n",
        "ax1.set_ylabel('Surf. Area [cm$^2$]', color='b', fontsize=14)\n",
        "\n",
        "ax1.plot(r[1:],surfArea(r[1:]), color='b')\n",
        "ax1.tick_params(axis='y', labelcolor='b')\n",
        "\n",
        "# instantiate a second axes that shares the same x-axis\n",
        "ax2 = ax1.twinx()  \n",
        "\n",
        "# we already handled the x-label with ax1 so we should just label the new y-axis\n",
        "ax2.set_ylabel('Finite diff. approx. of $dS/dr$', color='r', fontsize=14) \n",
        "\n",
        "ax2.plot(r[1:],diff.cent_diff(surfArea,r[1:], h=0.01), color='r')\n",
        "ax2.tick_params(axis='y', labelcolor='r')\n",
        "\n",
        "ax2.axhline(0, linewidth=1, linestyle=':', c='k') #plot typical x-axis\n",
        "ax2.axvline(6.83, linewidth=1, linestyle=':', c='k') "
      ]
    },
    {
      "cell_type": "markdown",
      "metadata": {
        "id": "i4dgrRrRjz3F"
      },
      "source": [
        "<span style='background:rgba(255,255,0, 0.25); color:black'>  Your interpretation of what is shown in the above plot goes here. </span>"
      ]
    },
    {
      "cell_type": "markdown",
      "metadata": {
        "id": "qkGwrFL6jz3G"
      },
      "source": [
        "### Problem 1(b): Approximating the optimal radius through brute force\n",
        "---\n",
        "\n",
        "Since $r>0$, we may be tempted to search for an optimal $r$ in the interval $(0,40]$ (units in cm). \n",
        "\n",
        "<span style='background:rgba(255,0,255, 0.25); color:black'>**Note that a value of $r=0$ is meaningless, which is why we consider values of $r$ in the half-open interval $(0,40]$. Pay attention in the code cells below to see how we avoid using $r=0$.**</span>\n",
        "\n",
        "We could do this in a brute-force fashion as shown below that avoids any approximation of the derivative.\n",
        "\n",
        "<span style='background:rgba(255,255,0, 0.25); color:black'> Add comments to each of the code cells below and interpret the results in the Markdown cell provided below.</span>"
      ]
    },
    {
      "cell_type": "code",
      "execution_count": null,
      "metadata": {
        "id": "J0uxZFO9jz3G"
      },
      "outputs": [],
      "source": [
        "r_search = np.linspace(0,40,100)\n",
        "\n",
        "S_search = surfArea(r_search[1:])"
      ]
    },
    {
      "cell_type": "code",
      "execution_count": null,
      "metadata": {
        "id": "Bc9ka-9Jjz3G"
      },
      "outputs": [],
      "source": [
        "idx_min = np.argmin(S_search)\n",
        "\n",
        "print(np.around(r_search[idx_min+1],2))"
      ]
    },
    {
      "cell_type": "code",
      "execution_count": null,
      "metadata": {
        "id": "w9MZH1-Ljz3H"
      },
      "outputs": [],
      "source": [
        "r_refined_search = np.linspace(0,40,1000)\n",
        "\n",
        "S_refined_search = surfArea(r_refined_search[1:])"
      ]
    },
    {
      "cell_type": "code",
      "execution_count": null,
      "metadata": {
        "id": "A7M4mSjEjz3H"
      },
      "outputs": [],
      "source": [
        "idx_refined_min = np.argmin(S_refined_search)\n",
        "\n",
        "print(np.around(r_refined_search[idx_refined_min+1],2))"
      ]
    },
    {
      "cell_type": "code",
      "execution_count": null,
      "metadata": {
        "id": "SVlNcJiljz3I"
      },
      "outputs": [],
      "source": [
        "r_super_refined_search = np.linspace(0,40,10000)\n",
        "\n",
        "S_super_refined_search = surfArea(r_super_refined_search[1:])"
      ]
    },
    {
      "cell_type": "code",
      "execution_count": null,
      "metadata": {
        "id": "P5e9CISijz3I"
      },
      "outputs": [],
      "source": [
        "idx_super_refined_min = np.argmin(S_super_refined_search)\n",
        "\n",
        "print(np.around(r_super_refined_search[idx_super_refined_min+1],2))"
      ]
    },
    {
      "cell_type": "markdown",
      "metadata": {
        "id": "MgWMJ_nOjz3I"
      },
      "source": [
        "<span style='background:rgba(255,255,0, 0.25); color:black'>Your interpretations of the above code and results goes here.</span>"
      ]
    },
    {
      "cell_type": "markdown",
      "metadata": {
        "id": "TFzlkBAyjz3J"
      },
      "source": [
        "### Problem 1(c): A bracketing approach\n",
        "---\n",
        "\n",
        "The brute-force approach is not elegant, but it does \"get the job done.\"\n",
        "\n",
        "Can it always get the job done?\n",
        "\n",
        "While this function $S$ is not \"expensive\" to compute (i.e., it does not take a lot of time for the computer to evaluate $S$), there are many functions in practice that are *very* expensive to compute in terms of the amount of time/resources required to evaluate them.\n",
        "\n",
        "For example, in reservoir engineering, simulating optimal net present value (NPV) of a new project is critical in management decisions about whether a project is worth pursuing or not. Simulations of subsurface flow often involve complex partial differential equations discretized over large physical domains that may require a supercomputer to solve.\n",
        "Subsequently, it may not be feasible to compute more than a few simulations. \n",
        "In other words, the brute-force option shown above is not only inelegant, it is also *impractical* in many settings. \n",
        "\n",
        "***Below, we implement a version of the algorithm for the bisection method from the 04 part a lecture notebook to approximate the $r$ that makes the centered-difference approximation of $dS/dr=0$ (use $h=0.001$ when calling this finite-difference function). \n",
        "We use an interval of $(1,40]$ and a tolerance (for the interval length) of $0.005$ in the algorithm to ensure that the estimated optimal radius is within the 0.01 cm achievable tolerance.***\n",
        "\n",
        "<mark>Use the Markdown cell provided below to comment on the upper bound for the number of times $S$ must be evaluated to achieve the desired tolerance in the algorithm and how this compares to the brute-force approach.</mark>"
      ]
    },
    {
      "cell_type": "code",
      "execution_count": null,
      "metadata": {
        "id": "mVbdM4hbjz3J"
      },
      "outputs": [],
      "source": [
        "# First, we approximate the derivative dS/dr using the differences module\n",
        "dS_dr_cd_approx = MyFC.MyFunctionsEnhanced(lambda r: diff.cent_diff(surfArea, r, h=0.001), \n",
        "                                           a=1, b=40, n=15, tol_interval=0.005)"
      ]
    },
    {
      "cell_type": "code",
      "execution_count": null,
      "metadata": {
        "id": "dSsGL6-Bjz3J"
      },
      "outputs": [],
      "source": [
        "dS_dr_cd_approx.compute_bisection()\n",
        "approx_optimal_radius = dS_dr_cd_approx.root"
      ]
    },
    {
      "cell_type": "code",
      "execution_count": null,
      "metadata": {
        "id": "_fB1zOecjz3K"
      },
      "outputs": [],
      "source": [
        "print(approx_optimal_radius)"
      ]
    },
    {
      "cell_type": "code",
      "execution_count": null,
      "metadata": {
        "id": "XYRExulqjz3K"
      },
      "outputs": [],
      "source": [
        "print(dS_dr_cd_approx.a_n, dS_dr_cd_approx.b_n)"
      ]
    },
    {
      "cell_type": "markdown",
      "metadata": {
        "id": "tloRWbKZjz3K"
      },
      "source": [
        "<mark> Your comments/comparisons for Problem 1(c) go here.</mark>"
      ]
    },
    {
      "cell_type": "markdown",
      "metadata": {
        "id": "zT-YMNXDjz3M"
      },
      "source": [
        "## Problem 2: We forgot the lid! How did we forget the lid?!\n",
        "---\n",
        "\n",
        "So, yeah, we kind of forget to account for the cost of the lid in the container. Oops!\n",
        "\n",
        "Suppose that the cost of the materials for making the glass part of the container is given as $\\$.001$/cm$^2$. In other words, it costs one-tenth of one penny per square centimeter of glass needed. \n",
        "\n",
        "Suppose the cost of the materials for making an aluminum lid is given in terms of $\\$.002$/cm$^2$, in other words, it costs two-tenths of one penny per square centimeter of aluminum needed.\n",
        "\n",
        "The *total cost* (in USD) to produce a single 1 L container (with lid) is given by\n",
        "$$\n",
        "   \\large C = 0.001\\left(\\pi r^2 + \\frac{2000}{r}\\right) + 0.002 \\pi r^2.\n",
        "$$\n",
        "\n",
        "This is produced in the function `totalCost` below. \n",
        "\n",
        "<mark>You need to redo the analysis, but it is a lot of copy/paste!</mark>\n",
        "- Use code and Markdown cells below to repeat parts (a)-(c) of problem 2 with `totalCost` replacing the `surfArea` function.\n",
        "\n",
        "- Compare the optimal dimensions (both $r$ and $h$) for this problem and problem 1. \n",
        "\n",
        "  A quick online search will reveal that a typical 24 oz pasta jar (equivalent to about 0.7 L) has a height of about 6.61 inches with a base diameter of about 3.37 inches. \n",
        "  Recall that a diameter is just two times the radius.\n",
        "  \n",
        "  Which of these problems is producing results that look more like a typical pasta jar in terms of the ratio of height to diameter?"
      ]
    },
    {
      "cell_type": "code",
      "execution_count": null,
      "metadata": {
        "id": "YJ4Xf5s0jz3N"
      },
      "outputs": [],
      "source": [
        "# Add comments to this, a docstring, and a doctest\n",
        "def totalCost(r):\n",
        "\n",
        "    if np.any(r <= 0):\n",
        "        raise ValueError('The circular base requires r>0')\n",
        "    \n",
        "    cost_of_glass = 0.001*surfArea(r)\n",
        "    cost_of_lid = 0.002*np.pi*r**2\n",
        "    \n",
        "    return cost_of_glass + cost_of_lid"
      ]
    },
    {
      "cell_type": "code",
      "execution_count": null,
      "metadata": {
        "id": "MdggToT4jz3N"
      },
      "outputs": [],
      "source": [
        "# make sure your doctest passes!"
      ]
    },
    {
      "cell_type": "code",
      "execution_count": null,
      "metadata": {
        "id": "epZe4TRsjz3N"
      },
      "outputs": [],
      "source": []
    },
    {
      "cell_type": "markdown",
      "metadata": {
        "id": "TmVm0gZIjz3P"
      },
      "source": [
        "## A quick, but useful, introduction to differentiating functions defined in terms of integrals\n",
        "---"
      ]
    },
    {
      "cell_type": "code",
      "execution_count": null,
      "metadata": {
        "id": "265wM-qdjz3Q"
      },
      "outputs": [],
      "source": [
        "from IPython.display import YouTubeVideo\n",
        "\n",
        "YouTubeVideo('5AFIeuu56QM', width=800, height=450)"
      ]
    },
    {
      "cell_type": "markdown",
      "metadata": {
        "id": "JItfa361jz3Q"
      },
      "source": [
        "Before we get to our last problem of this assignment, we show how to (1) integrate a parameterized function using the `quad` function (also shown in the lecture notebook), and (2) differentiate the result with respect to its parameters. This will greatly simplify the last problem of this assignment, and is also an important thing to understand in general. \n",
        "\n",
        "This content is borrowed and edited from the official documentation found here: https://docs.scipy.org/doc/scipy/tutorial/integrate.html"
      ]
    },
    {
      "cell_type": "code",
      "execution_count": null,
      "metadata": {
        "id": "FLB-mMUQjz3Q"
      },
      "outputs": [],
      "source": [
        "from scipy.integrate import quad"
      ]
    },
    {
      "cell_type": "markdown",
      "source": [
        "Below, we define a function in code to evaluate\n",
        "\n",
        "$$\n",
        "    f(x; \\ell) = e^{x\\ell}(x-2)^3.\n",
        "$$\n",
        "\n",
        "We then define various integrals of $f(x;\\ell)$ *over* $x\\in[-1,1]$, so\n",
        "\n",
        "$$\n",
        "    I(\\ell) = \\int_{[-1,1]} f(x;\\ell)\\, dx, \n",
        "$$\n",
        "\n",
        "where we use the $dx$ notation to make it clear that we are integrating with respect to the $x$ parameter and not the $\\ell$ parameter."
      ],
      "metadata": {
        "id": "PrSZabR5nzBp"
      }
    },
    {
      "cell_type": "code",
      "execution_count": null,
      "metadata": {
        "id": "w7dVlZIPjz3Q"
      },
      "outputs": [],
      "source": [
        "# Consider a family of parameterized exponentials\n",
        "def f(x, ell):\n",
        "    return np.exp(x*ell)*(x-2)**3\n",
        "\n",
        "# Suppose we want to know what the various integrals are of this function \n",
        "# on the interval [-1,1] as a function of various ell values, then\n",
        "# we use the quad function as follows\n",
        "I = lambda ell: quad(f, -1, 1, args=(ell))[0]"
      ]
    },
    {
      "cell_type": "code",
      "execution_count": null,
      "metadata": {
        "id": "Z9J-CLcTjz3Q"
      },
      "outputs": [],
      "source": [
        "# Let's plot the function I as a function of ell\n",
        "plt.figure()\n",
        "num_ells = 100\n",
        "ells = np.linspace(0.1, 2, num_ells)\n",
        "Is = np.zeros(num_ells)\n",
        "for i in range(num_ells):\n",
        "    Is[i] = I(ells[i])\n",
        "plt.plot(ells, Is)"
      ]
    },
    {
      "cell_type": "code",
      "execution_count": null,
      "metadata": {
        "id": "WtWNEycFjz3R"
      },
      "outputs": [],
      "source": [
        "# Estimate the derivative\n",
        "dI_dell = lambda ell: diff.cent_diff(I, ell, h=0.001)"
      ]
    },
    {
      "cell_type": "code",
      "execution_count": null,
      "metadata": {
        "id": "dJI7G3yGjz3R"
      },
      "outputs": [],
      "source": [
        "# Let's plot the function with its derivative\n",
        "fig, ax1 = plt.subplots(figsize=(8,8))\n",
        "\n",
        "ax1.plot(ells, Is, color='b')\n",
        "ax1.set_ylabel('$I(\\ell)$', color='b', fontsize=14)\n",
        "ax1.tick_params(axis='y', labelcolor='b')\n",
        "\n",
        "# instantiate a second axes that shares the same x-axis\n",
        "ax2 = ax1.twinx()  \n",
        "\n",
        "# we already handled the x-label with ax1 so we should just label the new y-axis\n",
        "ax2.set_ylabel(r'Finite diff. approx. of $\\frac{dI}{d\\ell}$', color='r', fontsize=14) \n",
        "\n",
        "dI_dells = np.zeros(num_ells)\n",
        "for i in range(num_ells):\n",
        "    dI_dells[i] = dI_dell(ells[i])\n",
        "\n",
        "ax2.plot(ells, dI_dells, color='r')\n",
        "ax2.tick_params(axis='y', labelcolor='r')\n",
        "ax2.axhline(0, linewidth=1, linestyle=':', c='k')  # plot typical x-axis"
      ]
    },
    {
      "cell_type": "markdown",
      "metadata": {
        "id": "qD9DbqX4jz3R"
      },
      "source": [
        "**From the above plot, we see that we can optimize $I(\\ell)$ as a function of $\\ell$ just like we have optimized other functions by simply searching for where its derivative is approximately equal to zero.**\n",
        "\n",
        "***A suggested sanity check for you before attempting problem 3:*** \n",
        "- Apply the various root-finding algorithms (e.g., brute-force, bisection, etc.) you have seen to estimate the $\\ell$ value that makes $\\frac{dI}{d\\ell}$ equal to zero and plot the results to see that this is where $I(\\ell)$ achieves its maximum."
      ]
    },
    {
      "cell_type": "markdown",
      "metadata": {
        "id": "fNehPLxAjz3R"
      },
      "source": [
        "## Problem 3: Optimize your profit!\n",
        "---\n",
        "\n",
        "***Some motivation:***\n",
        "\n",
        "Recall that you are the world's best pasta sauce maker and that you have optimized dimensions for your 1 L sized jars of sauce to minimize your cost per jar. \n",
        "You still need to create these jars, hire and train the workers that package these jars, and invest in the equipment, warehouse space, and delivery fleet for your business.\n",
        "Oh, and you need to hire salespersons, pay for marketing, etc.\n",
        "\n",
        "It is not only a lot of work building and running a business; it is also expensive!\n",
        "Unless you inherited millions of dollars, you probably need to get a loan to help finance your dream of dominating the competitive world of pasta sauce making.\n",
        "\n",
        "***What size loan should you get?***\n",
        "\n",
        "It may seem like you should just get the largest loan you possibly can.\n",
        "After all, a larger loan will allow you to rent a larger warehouse, purchase more equipment and materials to manufacture the jars and sauce, and hire and train more workers. \n",
        "\n",
        "While this sounds great, building a business takes time.\n",
        "The longer it takes to setup your business means you are spending a lot of money before you are making significant money. \n",
        "Subsequently, you may not start to turn a profit for a longer period of time.\n",
        "Moreover, larger loans will often come with bigger interest rates and significantly larger quarterly payments on the loan.\n",
        "In the end, you may run out of money if you try to make everything too big initially!\n",
        "\n",
        "What happens then?\n",
        "Well, your lenders may take over your business and sell it to someone else who becomes the owner of your intellectual property (i.e., your special pasta sauce recipe), and maybe even come after your personal assets if you put them up as collateral!\n",
        "\n",
        "In the end, getting the right loan amount and following a strategic plan based on a certain amount of the loan is perhaps not as straightforward a problem as it may seem.\n"
      ]
    },
    {
      "cell_type": "markdown",
      "source": [
        "\n",
        "<span style='background:rgba(255,0,255, 0.25); color:black'> ***Defining the problem:*** <span>\n",
        "\n",
        "- You are qualified for loan amounts between $[\\$500,000, \\$1,000,000]$ (i.e., between half a million to a million USD).\n",
        "\n",
        "    - Let $\\ell$ denote the loan amount in units of a million USD, so $\\ell\\in[0.5,1]$.\n",
        "\n",
        "    \n",
        "- Let $M(t;\\ell)$  (in units of a million USD) denote a model for your projected net cash flow at time $t$ (in units of days) if you follow a business development plan based on a loan of size $\\ell$. Assume the model is only valid for 90 days (the first fiscal quarter of your business). \n",
        "\n",
        "    - If $M(t;\\ell)>0$, then you are making money at time $t$.\n",
        "\n",
        "    - If $M(t;\\ell)<0$, then you are losing money at time $t$.\n",
        "\n",
        "\n",
        "- The total amount of money you have made or lost over the first 90 days is\n",
        "$$\n",
        " \\large    T(\\ell) = \\int_{[0,90]} M(t;\\ell),\n",
        "$$\n",
        "which is a function of the loan size. \n",
        "\n",
        "***The problem is to optimize $T(\\ell)$ over $[0.5,1]$.***\n",
        "\n",
        "<span style='background:rgba(255,255,0, 0.25); color:black'> Your job is to do the following:</span>\n",
        "- Use the function `money` that computes $M(t;\\ell)$ in the code cell below to determine what the optimal loan size should be.\n",
        "\n",
        "  *Note:* You are given $M(t;\\ell)$. You still need to compute $T(\\ell)$ and optimize it over $[0.5,1]$.\n",
        " \n",
        "- Make sure to put comments in your code, provide useful annotated graphs/illustrations of results, and interpret results in Markdown cells.</span>"
      ],
      "metadata": {
        "id": "D7qid_bGpGT4"
      }
    },
    {
      "cell_type": "code",
      "execution_count": null,
      "metadata": {
        "id": "tBiKYWbojz3R"
      },
      "outputs": [],
      "source": [
        "# This is the function $M(t;\\ell)$\n",
        "def money(t, ell):\n",
        "    \n",
        "    M = (np.exp(ell*t**2/(30*(t+1))) - 0.25*ell**3*t) * np.sin(t*np.pi/(ell*t+1))*ell\n",
        "    \n",
        "    return M"
      ]
    },
    {
      "cell_type": "code",
      "execution_count": null,
      "metadata": {
        "id": "pGmwW2Q_jz3R"
      },
      "outputs": [],
      "source": []
    },
    {
      "cell_type": "code",
      "execution_count": null,
      "metadata": {
        "id": "uMDgl9A_jz3S"
      },
      "outputs": [],
      "source": []
    },
    {
      "cell_type": "markdown",
      "source": [],
      "metadata": {
        "id": "XIDMhnJKjz3S"
      }
    }
  ],
  "metadata": {
    "kernelspec": {
      "display_name": "Python 3",
      "language": "python",
      "name": "python3"
    },
    "language_info": {
      "codemirror_mode": {
        "name": "ipython",
        "version": 3
      },
      "file_extension": ".py",
      "mimetype": "text/x-python",
      "name": "python",
      "nbconvert_exporter": "python",
      "pygments_lexer": "ipython3",
      "version": "3.9.2"
    },
    "colab": {
      "provenance": [],
      "collapsed_sections": []
    }
  },
  "nbformat": 4,
  "nbformat_minor": 0
}