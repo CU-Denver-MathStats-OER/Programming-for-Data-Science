{
 "cells": [
  {
   "cell_type": "markdown",
   "metadata": {},
   "source": [
    "# Math  1376: Programming for Data Science\n",
    "---"
   ]
  },
  {
   "cell_type": "markdown",
   "metadata": {},
   "source": [
    "## External activities for 01-Jupyter-lecture\n",
    "---\n",
    "\n",
    "**Expected time to completion: 1 hour**"
   ]
  },
  {
   "cell_type": "markdown",
   "metadata": {},
   "source": [
    "<hr style=\"border:5px solid cyan\"> </hr>\n",
    "\n",
    "## <span style='background:rgba(0,255,255, 0.5); color:black'>Activity: Editing Markdown</span> <a id='activity-create-cells'/>\n",
    "\n",
    "- Edit the Markdown cell below to put the course topics in a *list* format (with bullet points) to improve readability.\n",
    "\n",
    "- Create a new *list* (using bullet points) with at least two items from the course topics/applications that you are particularly interested in learning more about."
   ]
  },
  {
   "cell_type": "markdown",
   "metadata": {},
   "source": [
    "<span style='background:rgba(255,255,0, 0.25); color:black'>Put items listed below in a list format with bullet points.</span>\n",
    "\n",
    "This course covers the following topics: ~~Jupiter~~Jupyter, Python *basics* (variable assignment, data types, importing/using libraries, and plotting), more **advanced** programming skills (functions, loops, and modules), computational ***applications***, web-scraping and I/O, and the **basics** of ***machine learning***.\n",
    "\n",
    "<span style='background:rgba(255,255,0, 0.25); color:black'>Make your lists below.</span>\n",
    "\n"
   ]
  },
  {
   "cell_type": "markdown",
   "metadata": {},
   "source": [
    "<hr style=\"border:5px solid cyan\"> </hr>"
   ]
  },
  {
   "cell_type": "markdown",
   "metadata": {},
   "source": [
    "<hr style=\"border:5px solid cyan\"> </hr>\n",
    "\n",
    "## <span style='background:rgba(0,255,255, 0.5); color:black'> Activity: Making code *readable*</span> <a id='activity-code-comments'/> </a>\n",
    "\n",
    "- Add blank lines between each of the five lines of code below to improve readability.\n",
    "\n",
    "- Add comments to each line of code. \n",
    "\n",
    "- **Create** a Markdown cell below this code cell (and before the cyan border) to explain the output of the code cell."
   ]
  },
  {
   "cell_type": "code",
   "execution_count": null,
   "metadata": {},
   "outputs": [],
   "source": [
    "x = 3\n",
    "x+4\n",
    "x = x+4\n",
    "x+3\n",
    "x"
   ]
  },
  {
   "cell_type": "markdown",
   "metadata": {},
   "source": [
    "<hr style=\"border:5px solid cyan\"> </hr>\n"
   ]
  },
  {
   "cell_type": "markdown",
   "metadata": {},
   "source": [
    "<hr style=\"border:5px solid cyan\"> </hr>\n",
    "\n",
    "## <span style='background:rgba(0,255,255, 0.5); color:black'> Activity: TeX yourself <a id='activity-tex'/> </a>\n",
    "\n",
    "- Use TeX to typeset the **exact formula for monthly payment** for a loan/mortgage found on the [Wikipedia page](https://en.wikipedia.org/wiki/Compound_interest#Monthly_amortized_loan_or_mortgage_payments).\n",
    "\n",
    "- ***Encouraged but not required part of this activity:*** Use TeX to also typeset the *approximate formula* for the monthly payment on the [Wikipedia page](https://en.wikipedia.org/wiki/Compound_interest#Approximate_formula_for_monthly_payment)\n",
    "\n",
    "*Remember to use a bullet list to describe what each term means in this formula. The Wikipedia page has two equivalent forms for the formula. You only need to reproduce one of them below, but I highly suggest you at least try to do both.*"
   ]
  },
  {
   "cell_type": "markdown",
   "metadata": {},
   "source": [
    "<span style='background:rgba(255,255,0, 0.25); color:black'> YOUR ANSWER GOES BELOW THIS BEFORE THE CYAN BORDER.</span>  "
   ]
  },
  {
   "cell_type": "markdown",
   "metadata": {},
   "source": [
    "<hr style=\"border:5px solid cyan\"> </hr>"
   ]
  }
 ],
 "metadata": {
  "kernelspec": {
   "display_name": "Python 3",
   "language": "python",
   "name": "python3"
  },
  "language_info": {
   "codemirror_mode": {
    "name": "ipython",
    "version": 3
   },
   "file_extension": ".py",
   "mimetype": "text/x-python",
   "name": "python",
   "nbconvert_exporter": "python",
   "pygments_lexer": "ipython3",
   "version": "3.8.8"
  }
 },
 "nbformat": 4,
 "nbformat_minor": 4
}
