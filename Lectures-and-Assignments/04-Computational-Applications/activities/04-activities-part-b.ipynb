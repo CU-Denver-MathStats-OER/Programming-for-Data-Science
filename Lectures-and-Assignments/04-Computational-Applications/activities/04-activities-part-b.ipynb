{
 "cells": [
  {
   "cell_type": "markdown",
   "metadata": {},
   "source": [
    "# Math  1376: Programming for Data Science\n",
    "---\n",
    "\n",
    "## External activities for 04-Computational-Applications-part-b\n",
    "---\n",
    "\n",
    "**Expected time to completion: 30-45 minutes**"
   ]
  },
  {
   "cell_type": "code",
   "execution_count": null,
   "metadata": {},
   "outputs": [],
   "source": [
    "import numpy as np"
   ]
  },
  {
   "cell_type": "markdown",
   "metadata": {},
   "source": [
    "I extracted this activity out of a previously made homework assignment for the course where it was part (b) of a problem. The last half of the short video below (it is less than 8 minutes) discusses what I want from this activity. "
   ]
  },
  {
   "cell_type": "code",
   "execution_count": null,
   "metadata": {},
   "outputs": [],
   "source": [
    "# 1. Running this cell with embed the short recorded lecture associated with this part of the notebook\n",
    "# 2. Press on the \"play\" button to start the video.\n",
    "\n",
    "from IPython.display import YouTubeVideo\n",
    "\n",
    "YouTubeVideo('HsIaZe2qtKQ', width=800, height=450)"
   ]
  },
  {
   "cell_type": "markdown",
   "metadata": {},
   "source": [
    "<hr style=\"border:5px solid cyan\"> </hr>\n",
    "\n",
    "## <span style='background:rgba(0,255,255, 0.5); color:black'>Activity: An integration module </span>"
   ]
  },
  {
   "cell_type": "markdown",
   "metadata": {},
   "source": [
    "<span style='background:rgba(255,255,0, 0.25); color:black'>Make your own integration module for real-valued functions with a single real-valued input parameter called `myInt.py` that contains *at least* the following methods: </span>\n",
    "\n",
    "- at least one of the rectangular rules (you can do all of them if you want),\n",
    "\n",
    "- the [trapezoidal rule](https://en.wikipedia.org/wiki/Trapezoidal_rule), and\n",
    "\n",
    "- the Monte Carlo (MC) method.\n",
    "\n",
    "*Hint:* All these algorithms require a function, two points ($a$ and $b$ with $a<b$ to form an interval $[a,b]$ over which the function is integrated), and a number $n$ determining either the number of rectangles, trapezoids, or random numbers to use in estimating the integral. You should check that $a<b$. If you want, you can also create an optional parameter `num_trials` for the MC algorithm that is defaulted to 1 and have the MC algorithm output an array/list of approximations. These are design choices that you make.\n",
    "\n",
    "<span style='background:rgba(255,255,0, 0.25); color:black'> ***Some additional requirements:*** <span>\n",
    "\n",
    "- Include docstrings and doctests for each function within your module. \n",
    "    \n",
    "    *Hint: For the MC method, you should investigate how to set a random seed in `numpy` to ensure the reproducibility of the test. You may also want to round answers to a certain number of decimal places in the tests using the `np.around` function. These should **not** be set within the function. A random seed or rounding should only be used in the tests within the docstring to make the tests easier to write and reproduce.*\n",
    "    \n",
    "- Show that your doctests pass. \n",
    "    \n",
    "- Demonstrate your module below by importing it and applying it to some of the problems seen in the lecture notebook on integration. \n",
    "    \n",
    "<span style='background:rgba(255,0,255, 0.25); color:black'> ***For the ambitious (not required):*** <span>\n",
    "\n",
    "- Include some discussion of the trapezoidal rule that explains how it works, and\n",
    "\n",
    "- Create some interactive (using widgets) visualizations that help explain how the trapezoidal rule works. "
   ]
  },
  {
   "cell_type": "code",
   "execution_count": null,
   "metadata": {},
   "outputs": [],
   "source": []
  },
  {
   "cell_type": "code",
   "execution_count": null,
   "metadata": {},
   "outputs": [],
   "source": []
  },
  {
   "cell_type": "code",
   "execution_count": null,
   "metadata": {},
   "outputs": [],
   "source": []
  },
  {
   "cell_type": "code",
   "execution_count": null,
   "metadata": {},
   "outputs": [],
   "source": []
  },
  {
   "cell_type": "code",
   "execution_count": null,
   "metadata": {},
   "outputs": [],
   "source": []
  },
  {
   "cell_type": "code",
   "execution_count": null,
   "metadata": {},
   "outputs": [],
   "source": []
  },
  {
   "cell_type": "markdown",
   "metadata": {},
   "source": [
    "<hr style=\"border:5px solid cyan\"> </hr>"
   ]
  }
 ],
 "metadata": {
  "kernelspec": {
   "display_name": "Python 3",
   "language": "python",
   "name": "python3"
  },
  "language_info": {
   "codemirror_mode": {
    "name": "ipython",
    "version": 3
   },
   "file_extension": ".py",
   "mimetype": "text/x-python",
   "name": "python",
   "nbconvert_exporter": "python",
   "pygments_lexer": "ipython3",
   "version": "3.8.6"
  }
 },
 "nbformat": 4,
 "nbformat_minor": 4
}
