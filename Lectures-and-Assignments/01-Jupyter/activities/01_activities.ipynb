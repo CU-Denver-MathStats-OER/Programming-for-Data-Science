{
  "cells": [
    {
      "cell_type": "markdown",
      "metadata": {
        "id": "Q5jeDFl2-sW-"
      },
      "source": [
        "# Math  1376: Programming for Data Science\n",
        "---"
      ]
    },
    {
      "cell_type": "markdown",
      "metadata": {
        "id": "M44V9mj1-sXA"
      },
      "source": [
        "## External activities for 01-Jupyter-lecture\n",
        "---\n",
        "\n",
        "**Expected time to completion: 1 hour**"
      ]
    },
    {
      "cell_type": "markdown",
      "metadata": {
        "id": "1hUetkdd-sXA"
      },
      "source": [
        "---\n",
        "\n",
        "## Activity 1: Editing Markdown\n",
        "\n",
        "- Edit the Markdown cell below to put the course topics in a *list* format (with bullet points) to improve readability.\n",
        "\n",
        "- Create a new *list* (using bullet points) with at least two items from the course topics/applications that you are particularly interested in learning more about."
      ]
    },
    {
      "cell_type": "markdown",
      "metadata": {
        "id": "FlTZbx9k-sXB"
      },
      "source": [
        "<mark>Put items listed below in a list format with bullet points.</mark>\n",
        "\n",
        "This course covers the following topics: ~~Jupiter~~Jupyter, Python *basics* (variable assignment, data types, importing/using libraries, and plotting), more **advanced** programming skills (functions, loops, and modules), computational ***applications***, web-scraping and I/O, and the **basics** of ***machine learning***.\n",
        "\n",
        "<mark>Make your lists below.</mark>\n",
        "\n"
      ]
    },
    {
      "cell_type": "markdown",
      "metadata": {
        "id": "Sx7iVkZp-sXB"
      },
      "source": [
        "End of Activity 1.\n",
        "\n",
        "---"
      ]
    },
    {
      "cell_type": "markdown",
      "metadata": {
        "id": "M3cvdq1T-sXB"
      },
      "source": [
        "---\n",
        "\n",
        "## Activity 2: Making code *readable*\n",
        "\n",
        "- Add blank lines between each of the five lines of code below to improve readability.\n",
        "\n",
        "- Add relevant comments to each line of code. \n",
        "\n",
        "- **Create** a Markdown cell below this code cell (and before the cyan border) to explain the output of the code cell."
      ]
    },
    {
      "cell_type": "code",
      "execution_count": null,
      "metadata": {
        "id": "x5oO0Zmj-sXC"
      },
      "outputs": [],
      "source": [
        "x = 4\n",
        "x+5\n",
        "x = x+5\n",
        "x+7\n",
        "x"
      ]
    },
    {
      "cell_type": "markdown",
      "metadata": {
        "id": "4AeRsdIC-sXD"
      },
      "source": [
        "End of Activity 2.\n",
        "\n",
        "---"
      ]
    },
    {
      "cell_type": "markdown",
      "metadata": {
        "id": "s_03YOm0-sXD"
      },
      "source": [
        "## Activity 3: TeX yourself\n",
        "\n",
        "In the cell below, use TeX to typeset the **standard form** for a mass-spring-damper model found on the [Wikipedia page](https://en.wikipedia.org/wiki/Compound_interest#Monthly_amortized_loan_or_mortgage_payments) and visualized below.\n",
        "\n",
        "*Remember to use a bullet list to describe what each term means in this formula (the $m$, $k$, and $c$ may not be obvious, but from the image we see that $m$ is mass, $k$ is the spring constant, and $c$ is a coefficient of friction associated with the damping).*\n",
        "\n",
        "![A mass-spring-damper system](https://upload.wikimedia.org/wikipedia/en/7/79/Mass_spring_damper.png)\n",
        "\n",
        "*Hints: The equation on Wikipedia is written using the \"dot\" notation for derivatives presented in the supplemental lecture notebook on Markdown Tex Examples. The Greek letters involved in this equation are omega and zeta.*\n",
        "\n",
        "***Encouraged but not required part of this activity:*** Use TeX to also typeset the *sum of forces on the mass* equation.\n",
        "\n"
      ]
    },
    {
      "cell_type": "markdown",
      "metadata": {
        "id": "YTtcvL_P-sXE"
      },
      "source": [
        "<mark> PUT YOUR ANSWER IN THIS CELL.</mark> "
      ]
    },
    {
      "cell_type": "markdown",
      "metadata": {
        "id": "9h2E-WRV-sXE"
      },
      "source": [
        "End of Activity 3.\n",
        "\n",
        "---"
      ]
    }
  ],
  "metadata": {
    "kernelspec": {
      "display_name": "Python 3",
      "language": "python",
      "name": "python3"
    },
    "language_info": {
      "codemirror_mode": {
        "name": "ipython",
        "version": 3
      },
      "file_extension": ".py",
      "mimetype": "text/x-python",
      "name": "python",
      "nbconvert_exporter": "python",
      "pygments_lexer": "ipython3",
      "version": "3.8.8"
    },
    "colab": {
      "name": "01_activities.ipynb",
      "provenance": [],
      "collapsed_sections": []
    }
  },
  "nbformat": 4,
  "nbformat_minor": 0
}