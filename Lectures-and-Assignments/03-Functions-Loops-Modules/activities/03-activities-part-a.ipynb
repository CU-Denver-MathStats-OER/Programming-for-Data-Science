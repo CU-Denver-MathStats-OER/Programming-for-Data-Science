{
 "cells": [
  {
   "cell_type": "markdown",
   "metadata": {},
   "source": [
    "# Math  1376: Programming for Data Science\n",
    "---\n",
    "\n",
    "## External activities for 03-Functions-loops-modules-part-a\n",
    "---\n",
    "\n",
    "**Expected time to completion: 30-45 minutes**"
   ]
  },
  {
   "cell_type": "code",
   "execution_count": null,
   "metadata": {},
   "outputs": [],
   "source": [
    "import numpy as np"
   ]
  },
  {
   "cell_type": "markdown",
   "metadata": {},
   "source": [
    "<hr style=\"border:5px solid cyan\"> </hr>\n",
    "\n",
    "## <span style='background:rgba(0,255,255, 0.5); color:black'>Activity: A weight converter function </span>\n",
    "\n",
    "- Create a function `weightFunc` with two parameters `kg` and `lbs` (both defaulted to `None` types) that either converts a weight given in kilograms (kg) to pounds (lbs), a weight given in pounds (lbs) to kilograms (kg), or if two weights are given (one in lbs and one in kg), then it will check if they are the same. Use the temperature converter activity in the lecture as a reference. \n",
    "\n",
    "- Make sure to add a useful docstring to the function.\n",
    "\n",
    "- Execute the code cells that follow. All of them should run without error! Feel free to add more, but the three included should remain."
   ]
  },
  {
   "cell_type": "code",
   "execution_count": null,
   "metadata": {},
   "outputs": [],
   "source": [
    "# Your function should go here\n"
   ]
  },
  {
   "cell_type": "code",
   "execution_count": null,
   "metadata": {},
   "outputs": [],
   "source": [
    "weightFunc(lbs=2.2)"
   ]
  },
  {
   "cell_type": "code",
   "execution_count": null,
   "metadata": {},
   "outputs": [],
   "source": [
    "weightFunc(kg=1.0)"
   ]
  },
  {
   "cell_type": "code",
   "execution_count": null,
   "metadata": {},
   "outputs": [],
   "source": [
    "weightFunc()"
   ]
  },
  {
   "cell_type": "markdown",
   "metadata": {},
   "source": [
    "<hr style=\"border:5px solid cyan\"> </hr>"
   ]
  },
  {
   "cell_type": "markdown",
   "metadata": {},
   "source": [
    "<hr style=\"border:5px solid cyan\"> </hr>\n",
    "\n",
    "## <span style='background:rgba(0,255,255, 0.5); color:black'>Activity: Discounted Cash Flow</span>\n",
    "\n",
    "From the [Wiki article on Discounted Cash Flow (DCF)](https://en.wikipedia.org/wiki/Discounted_cash_flow):\n",
    "> In finance, discounted cash flow (DCF) analysis is a method of valuing a security, project, company, or asset using the concepts of the time value of money. Discounted cash flow analysis is widely used in investment finance, real estate development, corporate financial management and patent valuation. It was used in industry as early as the 1700s or 1800s, widely discussed in financial economics in the 1960s, and became widely used in U.S. courts in the 1980s and 1990s.\n",
    "\n",
    "It is recommended that you take 10 minutes to read the first three sections of the Wiki article on the Application, History, and Mathematics. \n",
    "\n",
    "We deviate just slightly from the presentation in the Wiki article and use the following notation:\n",
    "- $n$ denotes the number of years we are considering into the future.\n",
    "- $CF_n$ denotes the projected cash flow at year $n$.\n",
    "- $r$ denotes the discount, or interest, rate which reflects the cost of tying up capital and may also allow for the risk that the payment may not be received in full (often chosen in $(0,1)$).\n",
    "- $DCF_n$ denotes the discount applied to $CF_n$ assuming that we do not generate any cash from the investment in the years less than $n$.\n",
    "\n",
    "The formula for $DCF_n$ is then given as\n",
    "$$\n",
    "    \\large DCF_n = \\frac{CF_n}{(1+r)^n}.\n",
    "$$"
   ]
  },
  {
   "cell_type": "markdown",
   "metadata": {},
   "source": [
    "### A scenario demonstrating the time-value of money\n",
    "\n",
    "Suppose we project that in one year (so $n=1$), the projected cash flow from an investment is $\\$1000$ (so $CF_1=\\$1000$), and we use a 5% discount rate (so $r=0.05$), then $DCF_1\\approx \\$952.38$, which means the \"fair value\" of the investment in today's dollars, from our perspective, is $\\$952.38$.\n",
    "\n",
    "On the other hand, if we project that in the first four years there is no cash flow, but in five years (so $n=5$) the projected cash flow from the investment is $\\$1000$ (so $CF_5=\\$1000$), and we still use a 5\\% discount rate, then $DCF_5 \\approx 783.53$, which means the \"fair value\" of the investment in today's dollars, from our perspective, is $\\$783.53$.\n",
    "\n",
    "Notice that the payout from both investments is projected to be the same, $\\$1000$, but we are willing to spend more ($\\$952.38$ compared to $\\$783.53$) to get that payout in \n",
    "one year instead of in five years. This demonstrates the \"time value\" of money meaning we are willing to pay more today to get the return on investment money sooner."
   ]
  },
  {
   "cell_type": "markdown",
   "metadata": {},
   "source": [
    "### Your to-do's\n",
    "\n",
    "- Make a function `DCF` below that has `CF`, `r`, and `n` as parameters that computes the $DCF_n$ using the formula above, prints the value to screen, and also returns the value to the user. Default the `n` value to 1 and the `r` value to 0.05. Make sure that your function is capable of working on *arrays* of values for `CF`, `r`, and `n`.\n",
    "\n",
    "- Execute your functions with some different choices of scalar and arrays for the variables and print/interpret results (create new code cells to do this and a Markdown cell to more clearly explain results). "
   ]
  },
  {
   "cell_type": "code",
   "execution_count": null,
   "metadata": {},
   "outputs": [],
   "source": []
  },
  {
   "cell_type": "code",
   "execution_count": null,
   "metadata": {},
   "outputs": [],
   "source": []
  },
  {
   "cell_type": "code",
   "execution_count": null,
   "metadata": {},
   "outputs": [],
   "source": []
  },
  {
   "cell_type": "code",
   "execution_count": null,
   "metadata": {},
   "outputs": [],
   "source": []
  },
  {
   "cell_type": "markdown",
   "metadata": {},
   "source": []
  },
  {
   "cell_type": "markdown",
   "metadata": {},
   "source": [
    "<hr style=\"border:5px solid cyan\"> </hr>\n"
   ]
  }
 ],
 "metadata": {
  "kernelspec": {
   "display_name": "Python 3",
   "language": "python",
   "name": "python3"
  },
  "language_info": {
   "codemirror_mode": {
    "name": "ipython",
    "version": 3
   },
   "file_extension": ".py",
   "mimetype": "text/x-python",
   "name": "python",
   "nbconvert_exporter": "python",
   "pygments_lexer": "ipython3",
   "version": "3.8.6"
  }
 },
 "nbformat": 4,
 "nbformat_minor": 4
}
