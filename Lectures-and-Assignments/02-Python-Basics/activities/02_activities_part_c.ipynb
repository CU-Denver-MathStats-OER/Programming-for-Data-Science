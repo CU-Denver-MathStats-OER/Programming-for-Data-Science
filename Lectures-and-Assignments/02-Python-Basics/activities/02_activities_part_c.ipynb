{
  "cells": [
    {
      "cell_type": "markdown",
      "metadata": {
        "id": "Fp3NSs7b78ry"
      },
      "source": [
        "# Math  1376: Programming for Data Science\n",
        "---\n",
        "\n",
        "## External activities for 02-Python-basics-lecture-part-c\n",
        "---\n",
        "\n",
        "**Expected time to completion: 1 hour**"
      ]
    },
    {
      "cell_type": "code",
      "execution_count": null,
      "metadata": {
        "id": "chBCD2Sq78r0"
      },
      "outputs": [],
      "source": [
        "import numpy as np"
      ]
    },
    {
      "cell_type": "markdown",
      "metadata": {
        "id": "7Efhh3cZ78r1"
      },
      "source": [
        "Below we make three arrays, `A`, `B`, and `C`, of different shapes."
      ]
    },
    {
      "cell_type": "code",
      "execution_count": null,
      "metadata": {
        "id": "YRdR6DB078r2"
      },
      "outputs": [],
      "source": [
        "# Creating the arrays (really matrices) used in this activity\n",
        "A = np.reshape(range(1,7),(2,3))  # create a 2x3 array\n",
        "B = np.reshape(range(1,7),(3,2))  # create a 3x2 array \n",
        "C = np.reshape(range(1,10),(3,3))  # create a 3x3 array\n",
        "print(A, '\\n\\n', B, '\\n\\n', C)"
      ]
    },
    {
      "cell_type": "markdown",
      "metadata": {
        "id": "49yxSDsE78r2"
      },
      "source": [
        "---\n",
        "\n",
        "##  <mark>Activity 1: Some practice with array addition and transposes</mark> "
      ]
    },
    {
      "cell_type": "markdown",
      "metadata": {
        "id": "T9bbQRMq78r2"
      },
      "source": [
        "The following operations are undefined because the shapes cannot be [broadcast](https://numpy.org/doc/stable/user/basics.broadcasting.html) together because they do not have compatible shapes: `A+B`, `A+C`, and `B+C`. \n",
        "\n",
        "- In the code cell below, use the `transpose` method in `numpy` to do the following:\n",
        "\n",
        "    - Add the transpose of `A` to `B` and print the result.\n",
        "    \n",
        "    - Add `A` to the transpose of `B` and print the result.\n",
        "    \n",
        "- In the Markdown cell that follows the code cell, explain the differences in results. Also, explain why it is impossible to add any transpose of `A` or `B` to `C`."
      ]
    },
    {
      "cell_type": "code",
      "execution_count": null,
      "metadata": {
        "id": "1bYy_A1078r3"
      },
      "outputs": [],
      "source": []
    },
    {
      "cell_type": "markdown",
      "metadata": {
        "id": "6A0EC3AS78r3"
      },
      "source": [
        "<span style='background:rgba(255,255,0, 0.25); color:black'> Use this Markdown cell to explain the differences in the results above, and explain why it is impossible to add any transpose of `A` or `B` to `C`. </span>"
      ]
    },
    {
      "cell_type": "markdown",
      "metadata": {
        "id": "3ODmmfIW78r4"
      },
      "source": [
        "End of Activity 1.\n",
        "\n",
        "---"
      ]
    },
    {
      "cell_type": "markdown",
      "metadata": {
        "id": "bI3kreqX78r4"
      },
      "source": [
        "---\n",
        "\n",
        "##  <mark>Activity 2: Some practice with operations and the axis parameter</mark> \n",
        "\n",
        "- In the code cell below, use the `mean` method in `numpy` along with `axis` parameters to do the following:\n",
        "\n",
        "    - Add the array containing the mean of each row of `A` to the array containing the mean of each column of `B` and print the result. (The answer should be `[5., 9.]`)\n",
        "    \n",
        "    - Add the array containing the mean of each column of `A` to the array containing the mean of each row of `B` and print the result.\n",
        "    \n",
        "    - Add the array containing the mean of each column of `A` to the array containing the mean of each row of `C` and print the result.\n",
        "    \n",
        "    - Add the array containing the mean of each row of `B` to the array containing the mean of each row of `C` which is then added to the array containing the mean of each column of `C` and print the result.\n",
        "    \n",
        "- In the Markdown cell that follows the code cell, explain why we cannot add the array containing the mean of each row of `A` to the array containing the mean of each row of `C`."
      ]
    },
    {
      "cell_type": "code",
      "execution_count": null,
      "metadata": {
        "id": "qoKe0La678r5"
      },
      "outputs": [],
      "source": []
    },
    {
      "cell_type": "markdown",
      "metadata": {
        "id": "FJOd0YKj78r5"
      },
      "source": [
        "<span style='background:rgba(255,255,0, 0.25); color:black'> Use this Markdown cell to explain why we cannot add the mean of each row of `A` to the mean of each row of `C`. </span>"
      ]
    },
    {
      "cell_type": "markdown",
      "metadata": {
        "id": "NlWJ0DAg78r6"
      },
      "source": [
        "End of Activity 2.\n",
        "\n",
        "---"
      ]
    },
    {
      "cell_type": "markdown",
      "metadata": {
        "id": "27sms1ti78r6"
      },
      "source": [
        "---\n",
        "\n",
        "##  <mark>Activity 3: Some practice with transposes and array slicing</mark> \n",
        "\n",
        "\n",
        "- In the code cell below, use array slicing to do the following:\n",
        "\n",
        "    - Add `A` to the first two rows of `C` and print the result.\n",
        "    \n",
        "    - Add the transpose of `A` to the first two columns of `C` and print the result. \n",
        "    \n",
        "    - Add `B` to the last two columns of `C` and print the result.\n",
        "    \n",
        "    - Even though they are not the same shape, add the last column of the transpose of `A` (as a 2D array) to the last two columns of `C` and print the result. *Hint: `[:,-1:]` and `[:,-1]` do not produce the same array shapes. One will produce the desired 2D array shape.*"
      ]
    },
    {
      "cell_type": "code",
      "execution_count": null,
      "metadata": {
        "id": "OQSJTWFu78r6"
      },
      "outputs": [],
      "source": []
    },
    {
      "cell_type": "markdown",
      "metadata": {
        "id": "dA55SPmf78r7"
      },
      "source": [
        "End of Activity 3.\n",
        "\n",
        "---"
      ]
    }
  ],
  "metadata": {
    "kernelspec": {
      "display_name": "Python 3",
      "language": "python",
      "name": "python3"
    },
    "language_info": {
      "codemirror_mode": {
        "name": "ipython",
        "version": 3
      },
      "file_extension": ".py",
      "mimetype": "text/x-python",
      "name": "python",
      "nbconvert_exporter": "python",
      "pygments_lexer": "ipython3",
      "version": "3.8.6"
    },
    "colab": {
      "provenance": [],
      "collapsed_sections": []
    }
  },
  "nbformat": 4,
  "nbformat_minor": 0
}