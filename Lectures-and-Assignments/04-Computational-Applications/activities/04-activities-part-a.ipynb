{
 "cells": [
  {
   "cell_type": "markdown",
   "metadata": {},
   "source": [
    "# Math  1376: Programming for Data Science\n",
    "---\n",
    "\n",
    "## External activities for 04-Computational-Applications-part-a\n",
    "---\n",
    "\n",
    "**Expected time to completion: 30-45 minutes**"
   ]
  },
  {
   "cell_type": "code",
   "execution_count": null,
   "metadata": {},
   "outputs": [],
   "source": [
    "import numpy as np"
   ]
  },
  {
   "cell_type": "markdown",
   "metadata": {},
   "source": [
    "I extracted this activity out of a previously made homework assignment for the course where it was part (a) of a problem. The first part of the short video below (it is less than 8 minutes) discusses what I want from this activity. "
   ]
  },
  {
   "cell_type": "code",
   "execution_count": null,
   "metadata": {},
   "outputs": [],
   "source": [
    "# 1. Running this cell with embed the short recorded lecture associated with this part of the notebook\n",
    "# 2. Press on the \"play\" button to start the video.\n",
    "\n",
    "from IPython.display import YouTubeVideo\n",
    "\n",
    "YouTubeVideo('HsIaZe2qtKQ', width=800, height=450)"
   ]
  },
  {
   "cell_type": "markdown",
   "metadata": {},
   "source": [
    "<hr style=\"border:5px solid cyan\"> </hr>\n",
    "\n",
    "## <span style='background:rgba(0,255,255, 0.5); color:black'>Activity: A root-finding module </span>"
   ]
  },
  {
   "cell_type": "markdown",
   "metadata": {},
   "source": [
    "\n",
    "<span style='background:rgba(255,255,0, 0.25); color:black'>Make a root-finding module for real-valued functions with one real-valued input parameter called `myRoot.py` that contains *at least* the following methods: </span>\n",
    "\n",
    "- either the bisection or false position bracketing method (you can do both if you want),\n",
    "\n",
    "- the secant line algorithm, and\n",
    "\n",
    "- a wrapper function called `autoRoot` that automatically chooses which algorithm to use based on the types of inputs it receives. \n",
    "\n",
    "*Hint:* All these algorithms require a function, two points (it does not matter whether you call them `a` and `b` or `x0` and `x1` in the code), and a specification of the maximum number of iterations. Have `autoRoot` check if the conditions are satisfied to use a bracketing method. If they are, then have `autoRoot` choose to use a bracketing method (which one you have it choose is up to you). Otherwise, have `autoRoot` choose to use the secant line algorithm.\n",
    "\n",
    "<span style='background:rgba(255,255,0, 0.25); color:black'> ***Some additional requirements:*** <span>\n",
    "\n",
    "- Include docstrings and doctests for each function within your module.\n",
    "    \n",
    "- Show that your doctests pass. \n",
    "    \n",
    "- Demonstrate your module below by importing it and applying each of the methods contained in it to some of the problems seen in the lecture notebook on root finding. Do this with and without plotting. For the plotting, you can simply copy over the plotting functions used in the lecture notebook below or try to encode them within your module (but this is not required)."
   ]
  },
  {
   "cell_type": "code",
   "execution_count": null,
   "metadata": {},
   "outputs": [],
   "source": []
  },
  {
   "cell_type": "code",
   "execution_count": null,
   "metadata": {},
   "outputs": [],
   "source": []
  },
  {
   "cell_type": "code",
   "execution_count": null,
   "metadata": {},
   "outputs": [],
   "source": []
  },
  {
   "cell_type": "code",
   "execution_count": null,
   "metadata": {},
   "outputs": [],
   "source": []
  },
  {
   "cell_type": "code",
   "execution_count": null,
   "metadata": {},
   "outputs": [],
   "source": []
  },
  {
   "cell_type": "code",
   "execution_count": null,
   "metadata": {},
   "outputs": [],
   "source": []
  },
  {
   "cell_type": "markdown",
   "metadata": {},
   "source": [
    "<hr style=\"border:5px solid cyan\"> </hr>"
   ]
  }
 ],
 "metadata": {
  "kernelspec": {
   "display_name": "Python 3",
   "language": "python",
   "name": "python3"
  },
  "language_info": {
   "codemirror_mode": {
    "name": "ipython",
    "version": 3
   },
   "file_extension": ".py",
   "mimetype": "text/x-python",
   "name": "python",
   "nbconvert_exporter": "python",
   "pygments_lexer": "ipython3",
   "version": "3.8.8"
  }
 },
 "nbformat": 4,
 "nbformat_minor": 4
}
