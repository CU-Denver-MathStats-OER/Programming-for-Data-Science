{
 "cells": [
  {
   "cell_type": "markdown",
   "metadata": {},
   "source": [
    "# Math  1376: Programming for Data Science\n",
    "---\n",
    "\n",
    "## External activities for 02-Python-basics-lecture-part-a\n",
    "---\n",
    "\n",
    "**Expected time to completion: 15 minutes**"
   ]
  },
  {
   "cell_type": "markdown",
   "metadata": {},
   "source": [
    "<hr style=\"border:5px solid cyan\"> </hr>\n",
    "\n",
    "## <span style='background:rgba(0,255,255, 0.5); color:black'>Activity: Fixing errors, casting, and printing</span>\n",
    "\n",
    "- Fill in the missing pieces of the code cell below to remove all errors and define variable `y` as a string version of `float(x)` and print both `y` and `x`.\n",
    "\n",
    "- Create a markdown cell below the code cell to explain what you think the code used to define `y` is doing."
   ]
  },
  {
   "cell_type": "code",
   "execution_count": null,
   "metadata": {},
   "outputs": [],
   "source": [
    "x = 2\n",
    "\n",
    "y =   # y should cast float(x) as a str\n",
    "\n",
    "print()\n",
    "print( 'y =', y, 'is of type', type(), \n",
    "       'and x =', x , 'is of type', type() )"
   ]
  },
  {
   "cell_type": "markdown",
   "metadata": {},
   "source": [
    "<hr style=\"border:5px solid cyan\"> </hr>"
   ]
  },
  {
   "cell_type": "markdown",
   "metadata": {},
   "source": [
    "<hr style=\"border:5px solid cyan\"> </hr>\n",
    "\n",
    "## <span style='background:rgba(0,255,255, 0.5); color:black'>Activity:Fixing errors, casting, and printing</span>\n",
    "\n",
    "Use the comments in the code cell below to help fill in the missing pieces of the code that creates and prints the string variable `str_var`."
   ]
  },
  {
   "cell_type": "code",
   "execution_count": null,
   "metadata": {},
   "outputs": [],
   "source": [
    "phi = 1.618033988  # Approximation to the golden ratio\n",
    "\n",
    "phi_int_str =   # first cast phi as an int and then cast as a string\n",
    "\n",
    "str_var = str(phi) + ' is a reasonable approximation to phi, but\\n'\n",
    "\n",
    "str_var += phi_int_str + ' is a terrible approximation of phi.'\n",
    "\n",
    "print()\n",
    "print(str_var)"
   ]
  },
  {
   "cell_type": "markdown",
   "metadata": {},
   "source": [
    "<hr style=\"border:5px solid cyan\"> </hr>"
   ]
  }
 ],
 "metadata": {
  "kernelspec": {
   "display_name": "Python 3",
   "language": "python",
   "name": "python3"
  },
  "language_info": {
   "codemirror_mode": {
    "name": "ipython",
    "version": 3
   },
   "file_extension": ".py",
   "mimetype": "text/x-python",
   "name": "python",
   "nbconvert_exporter": "python",
   "pygments_lexer": "ipython3",
   "version": "3.8.8"
  }
 },
 "nbformat": 4,
 "nbformat_minor": 4
}
