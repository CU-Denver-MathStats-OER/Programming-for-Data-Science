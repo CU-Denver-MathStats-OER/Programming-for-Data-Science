{
  "cells": [
    {
      "cell_type": "markdown",
      "metadata": {
        "id": "1-OTpiZV2h_T"
      },
      "source": [
        "# Math  1376: Programming for Data Science\n",
        "---"
      ]
    },
    {
      "cell_type": "markdown",
      "metadata": {
        "id": "7mHdYsBs2h_X"
      },
      "source": [
        "## Module 03: Logic, functions, loops, and modules\n",
        "---"
      ]
    },
    {
      "cell_type": "markdown",
      "metadata": {
        "id": "esDi90gi2h_X"
      },
      "source": [
        "## Learning Objectives for Part (c)\n",
        "---\n",
        "\n",
        "- Understand what a module is in Python and when/how to import and use it.\n",
        "\n",
        "- Create your own module. \n",
        "\n",
        "- Implement the `differences` module to approximate derivatives of functions.\n",
        "\n",
        "- Understand the basic importance of derivatives in the context of computational and data science.\n",
        "\n",
        "- Implement widgets to add more interactivity to functions."
      ]
    },
    {
      "cell_type": "markdown",
      "metadata": {
        "id": "Y049p_Gb2h_X"
      },
      "source": [
        "## Notebook contents <a name='Contents'></a>\n",
        "---\n",
        "\n",
        "- [Part (c): Modules](#Modules)\n",
        "    \n",
        "    - [Activity 1: Making and using your own module](#activity-your-module)\n",
        "    \n",
        "    - [Activity 2: Plotting with widgets](#activity-widgets)\n",
        "    \n",
        "    - [Activity: Summary](#activity-summary)\n"
      ]
    },
    {
      "cell_type": "markdown",
      "metadata": {
        "id": "bjCf2nck2h_Y"
      },
      "source": [
        "## Part (c): Modules <a name='Modules'></a>\n",
        "---\n",
        "\n",
        "**Expected time to completion: 3 hours**\n",
        "\n",
        "<mark> Run the code cell below and click the \"play\" button to see the recorded lecture associated with this notebook.</mark> "
      ]
    },
    {
      "cell_type": "code",
      "execution_count": null,
      "metadata": {
        "id": "1BZiECol2h_Y"
      },
      "outputs": [],
      "source": [
        "from IPython.display import YouTubeVideo\n",
        "\n",
        "YouTubeVideo('z-28rNle2SE', width=800, height=450)"
      ]
    },
    {
      "cell_type": "markdown",
      "metadata": {
        "id": "75QTcJit2h_Y"
      },
      "source": [
        "### What is a module?\n",
        "\n",
        "- A file containing Python definitions and statements.\n",
        "\n",
        "- The file name is the module name with the suffix .py appended.\n",
        "\n",
        "- Within a module, the module's name is available as the global variable `__name__`.\n"
      ]
    },
    {
      "cell_type": "markdown",
      "source": [
        "### When to use a module:\n",
        "\n",
        "- Your script gets very long and you want to have easier maintenance. \n",
        "\n",
        "- You want to reuse a function in several programs or scripts without copy/paste.\n",
        "\n",
        "- Performance reasons."
      ],
      "metadata": {
        "id": "c0_7ZWdn3bbM"
      }
    },
    {
      "cell_type": "markdown",
      "metadata": {
        "id": "RB53JwNc2h_Z"
      },
      "source": [
        "**Let's look at an example:**\n",
        "\n",
        "- The `differences` module contains several functions for approximating the [derivative](https://en.wikipedia.org/wiki/Derivative) of a function using [finite differences](https://en.wikipedia.org/wiki/Finite_difference). \n",
        "\n",
        "- If you are unfamiliar with the concept of a derivative, then you should take about 15 minutes to read through the [Wiki article on differential calculus](https://en.wikipedia.org/wiki/Differential_calculus). The main takeaway is that it is something useful for approximating (locally) a \"smooth\" function with a linear function. \n",
        "\n",
        "- Examine the contents of the `differences.py` file and then look at the code cells below. \n",
        "\n",
        "    - It is recommended that the `differences.py` module is in the same folder on Colab as this notebook.\n",
        "\n",
        "Now, execute the code cells below."
      ]
    },
    {
      "cell_type": "code",
      "source": [
        "# Mount your Google Drive within colab, which is necessary to import a module\n",
        "# stored in your Drive. \n",
        "from google.colab import drive\n",
        "drive.mount('/content/drive')"
      ],
      "metadata": {
        "id": "AfdmdDi24gVf"
      },
      "execution_count": null,
      "outputs": []
    },
    {
      "cell_type": "code",
      "source": [
        "# Insert the directory\n",
        "import sys\n",
        "\n",
        "# This next line may be unique to you (watch the video)\n",
        "differences_path = '/content/drive/MyDrive/Colab Notebooks/Programming-for-Data-Science/03-Functions-Loops-Modules/lectures'\n",
        "\n",
        "sys.path.insert(0,differences_path)"
      ],
      "metadata": {
        "id": "KVtHARjq9dM0"
      },
      "execution_count": null,
      "outputs": []
    },
    {
      "cell_type": "code",
      "execution_count": null,
      "metadata": {
        "id": "8dRhj9Xb2h_Z"
      },
      "outputs": [],
      "source": [
        "# The differences.py file was included in Canvas and should be located within \n",
        "# the differences_path before executing this code cell.\n",
        "\n",
        "import differences as diff  # We import the module just like we import numpy\n",
        "import matplotlib.pyplot as plt"
      ]
    },
    {
      "cell_type": "code",
      "execution_count": null,
      "metadata": {
        "id": "LWIYdumN2h_a"
      },
      "outputs": [],
      "source": [
        "def myfun(x=0):  # a function with a somewhat interesting plot\n",
        "    return np.exp(-x**2)*np.sin(np.pi*x)\n",
        "\n",
        "def myder(x=0):  # the exact derivative of the function (do not worry about how I got this)\n",
        "    return np.exp(-x**2)*(np.pi*np.cos(np.pi*x)-2*x*np.sin(np.pi*x))"
      ]
    },
    {
      "cell_type": "code",
      "execution_count": null,
      "metadata": {
        "id": "2-5NUPZc2h_W"
      },
      "outputs": [],
      "source": [
        "import numpy as np  # We will use numpy in this lecture"
      ]
    },
    {
      "cell_type": "code",
      "execution_count": null,
      "metadata": {
        "id": "a_iSn7tE2h_a"
      },
      "outputs": [],
      "source": [
        "x = np.linspace(0, 3, 100)\n",
        "\n",
        "h = 0.2  # Try 0.1, 0.01, and then 1e-7, 1e-12, 1e-15, and 1e-20. What is happening?!\n",
        "\n",
        "fprime_FD = diff.for_diff(myfun, x, h)  # forward difference approximation to the derivative\n",
        "fprime_BD = diff.back_diff(myfun, x, h)  # backward difference approximation to the derivative\n",
        "fprime_CD = diff.cent_diff(myfun, x, h)  # centered difference approximation to the derivative"
      ]
    },
    {
      "cell_type": "code",
      "execution_count": null,
      "metadata": {
        "id": "Xu07M6dk2h_b"
      },
      "outputs": [],
      "source": [
        "fig = plt.figure(figsize=(15, 10))  # create a figure for the plots\n",
        "\n",
        "ax1 = fig.add_subplot(2,2,1)\n",
        "ax1.plot(x, myfun(x))\n",
        "ax1.set_title('$f(x) = e^{-x^2}\\sin(\\pi x)$')\n",
        "\n",
        "ax2 = fig.add_subplot(2, 2, 3)\n",
        "ax2.plot(x, myder(x), label='$f^\\prime$')\n",
        "ax2.plot(x, fprime_FD, label='FD approx of $f^\\prime$')\n",
        "ax2.plot(x, fprime_BD, label='BD approx of $f^\\prime$')\n",
        "ax2.plot(x, fprime_CD, label='CD approx of $f^\\prime$')\n",
        "ax2.legend(loc='upper right', fontsize=14)\n",
        "ax2.axhline(0, linewidth=1, linestyle=':', c='k')  # This plots the x-axis\n",
        "\n",
        "ax3 = fig.add_subplot(2,2,4)\n",
        "ax3.plot(x, fprime_FD-myder(x), label='Error in FD approx')\n",
        "ax3.plot(x, fprime_BD-myder(x), label='Error in BD approx')\n",
        "ax3.plot(x, fprime_CD-myder(x), label='Error in CD approx')\n",
        "ax3.legend(fontsize=14)"
      ]
    },
    {
      "cell_type": "markdown",
      "metadata": {
        "id": "01SQHUe62h_b"
      },
      "source": [
        "### Important questions/answers and takeaways about derivatives\n",
        "---\n",
        "\n",
        "- Do you need to know how to compute derivatives in this class? *No*, you can just use the `differences` module. (The conceptual and computational aspects of derivatives are briefly discussed in the video for this notebook.)\n",
        "\n",
        "- Why do we care about the derivative of a function? Because the derivative gives us very important information about the function. While you can read a lot about the [derivative on Wikipedia](https://en.wikipedia.org/wiki/Derivative) (and I recommend you do if you are unfamiliar with the concept and you should at a minimum watch the video for this notebook even if you are familiar with derivatives), for the purposes of this class, we are more interested in the [applications of derivatives](https://en.wikipedia.org/wiki/Differential_calculus#Applications_of_derivatives).\n",
        "\n",
        "- What is an important application of derivative? Briefly put: *optimization*. Where a derivative is equal to zero corresponds to what is called a *critical point* of the function. In other words, the *roots* of a derivative are *critical points* of the original function. What are critical points? For our purposes, these are the potential locations of maxima and minima of a function. These points are of great interest in many computational and data science problems.\n",
        "\n",
        "Let's re-examine the previous example with these points."
      ]
    },
    {
      "cell_type": "code",
      "execution_count": null,
      "metadata": {
        "id": "8MulraCK2h_c"
      },
      "outputs": [],
      "source": [
        "# Point 1: \n",
        "# We do NOT need to know the actual derivative of any \n",
        "# real-valued function f defined on real numbers. We can just\n",
        "# approximate it using the differences module. \n",
        "#\n",
        "# For example, below, we show how to create a user-defined function\n",
        "# that uses the differences module to construct an approximation\n",
        "# to the derivative of a function f at a value x given a \n",
        "# step-size h. The only thing you need to know about the step-size\n",
        "# h is that smaller values of h generally give more accurate \n",
        "# approximations of the derivative at x. \n",
        "\n",
        "def my_der_approx(f, x, h=0.01, which_approx='CD'):\n",
        "    if which_approx == 'CD':\n",
        "        return diff.cent_diff(f, x, h)\n",
        "    elif which_approx == 'FD':\n",
        "        return diff.for_diff(f, x, h)\n",
        "    else:\n",
        "        return diff.back_diff(f, x, h)"
      ]
    },
    {
      "cell_type": "code",
      "execution_count": null,
      "metadata": {
        "id": "_wSi8Af_2h_c"
      },
      "outputs": [],
      "source": [
        "# Points 2 and 3:\n",
        "# Where the derivative is zero is where the function potentially achieves its\n",
        "# maxima or minima. Pay attention to where the derivative curve crosses the \n",
        "# x-axis and where the maxima and minima of the function are.\n",
        "\n",
        "fig, ax1 = plt.subplots(figsize=(8,8))\n",
        "\n",
        "x = np.linspace(0, 3, 200)\n",
        "\n",
        "ax1.plot(x, myfun(x),color='b')\n",
        "ax1.set_ylabel('f(x)', color='b', fontsize=14)\n",
        "\n",
        "# instantiate a second axes that shares the same x-axis\n",
        "ax2 = ax1.twinx()  \n",
        "\n",
        "ax2.plot(x, my_der_approx(myfun, x), color='r')\n",
        "ax2.set_ylabel('Finite diff. approx. of $f^\\prime$', color='r', fontsize=14) \n",
        "\n",
        "# Let's add the x-axis to the ax2 plot so that we can see where the derivative\n",
        "# is equal to zero\n",
        "ax2.axhline(0, linewidth=1, linestyle=':', c='k')  # plot typical x-axis"
      ]
    },
    {
      "cell_type": "code",
      "execution_count": null,
      "metadata": {
        "id": "T7t47vwE2h_c"
      },
      "outputs": [],
      "source": [
        "# Points 2 and 3 again:\n",
        "# Another example with quite a few maxima and minima\n",
        "\n",
        "def my_sine(x):\n",
        "    return np.sin(2*np.pi*x)\n",
        "\n",
        "fig, ax1 = plt.subplots(figsize=(8,8))\n",
        "\n",
        "x = np.linspace(0, 3, 200)\n",
        "\n",
        "ax1.plot(x, my_sine(x),color='b')\n",
        "ax1.set_ylabel('f(x)', color='b', fontsize=14)\n",
        "\n",
        "# instantiate a second axes that shares the same x-axis\n",
        "ax2 = ax1.twinx()  \n",
        "\n",
        "ax2.plot(x, my_der_approx(my_sine, x), color='r')\n",
        "ax2.set_ylabel('Finite diff. approx. of $f^\\prime$', color='r', fontsize=14) \n",
        "\n",
        "# Let's add the x-axis to the ax2 plot so that we can see where the derivative\n",
        "# is equal to zero\n",
        "ax2.axhline(0, linewidth=1, linestyle=':', c='k')  # plot typical x-axis"
      ]
    },
    {
      "cell_type": "markdown",
      "metadata": {
        "id": "fa8hFe3o2h_d"
      },
      "source": [
        "### Back to details about modules: Where does a module file need to go?\n",
        "---\n",
        "\n",
        "Say you are trying to `import spam`.\n",
        "\n",
        "When imported, the interpreter searches for `spam` in locations in the following order:\n",
        "1. A built-in module with that name. \n",
        "2. *spam.py* in a list of directories given by the variable *sys.path*. \n",
        "    1. The directory containing the input script (or the current directory when no file is specified).\n",
        "    2. PYTHONPATH (a list of directory names, syntax as shell variable PATH).\n",
        "    3. The installation-dependent default."
      ]
    },
    {
      "cell_type": "markdown",
      "metadata": {
        "id": "x2MRZJk62h_d"
      },
      "source": [
        "### What happens when you make changes to a module?\n",
        "---\n",
        "\n",
        "If you find that you need to edit a function, add a new function, or just make any changes at all to a module that you want to have reflected in your notebook, then you **need** to do one of the following:\n",
        "\n",
        "- Restart the kernel and re-run all the code cells, or\n",
        "\n",
        "- Import the library importlib as follows `import importlib` and then run `importlib.reload(BLAH)` where `BLAH` is whatever name you imported your module as. For example, if you make changes to the `differences.py` module that we imported as diff above, then you would run `importlib.reload(diff)`. "
      ]
    },
    {
      "cell_type": "markdown",
      "metadata": {
        "id": "q2e9G5E52h_d"
      },
      "source": [
        "---\n",
        "\n",
        "## <mark>Activity 1: making and using your own module</mark><a name='activity-your-module'></a>\n",
        "\n",
        "1. Use https://texteditor.co/ to create a new text file called `myModule.py` and save it to the same directory as this lecture (watch the lecture video if you need help with this). \n",
        "\n",
        "2. Copy/paste the `myfun1` and `myfun2` from the notebook 03_lecture_part_a.ipynb into this `myModule.py` file (pro tip: save the file with this name first to get some nice formatting/text color options as the text editor will now recognize this as a Python file once it is saved as a .py file).\n",
        "\n",
        "3. Create some more code cells below if necessary to import your module as `myMod` and execute some of the function calls seen in 03-lecture_part_a.ipynb involving these functions using `myMod.myfun1` or `myMod.myfun2`."
      ]
    },
    {
      "cell_type": "code",
      "source": [],
      "metadata": {
        "id": "_X6L3qh2_Lu9"
      },
      "execution_count": null,
      "outputs": []
    },
    {
      "cell_type": "code",
      "execution_count": null,
      "metadata": {
        "id": "2mYSyUK12h_e"
      },
      "outputs": [],
      "source": []
    },
    {
      "cell_type": "code",
      "source": [],
      "metadata": {
        "id": "xYY4IkAa_O77"
      },
      "execution_count": null,
      "outputs": []
    },
    {
      "cell_type": "code",
      "execution_count": null,
      "metadata": {
        "id": "PGNrgSmw2h_e"
      },
      "outputs": [],
      "source": []
    },
    {
      "cell_type": "code",
      "execution_count": null,
      "metadata": {
        "id": "M86NFvvB2h_e"
      },
      "outputs": [],
      "source": []
    },
    {
      "cell_type": "code",
      "source": [],
      "metadata": {
        "id": "55wLkHhTAGwJ"
      },
      "execution_count": null,
      "outputs": []
    },
    {
      "cell_type": "code",
      "source": [],
      "metadata": {
        "id": "NOZHckxdAJof"
      },
      "execution_count": null,
      "outputs": []
    },
    {
      "cell_type": "markdown",
      "metadata": {
        "id": "Ab_RsfHY2h_e"
      },
      "source": [
        "End of Activity 1.\n",
        "\n",
        "---\n"
      ]
    },
    {
      "cell_type": "markdown",
      "metadata": {
        "id": "aLsIH_hx2h_f"
      },
      "source": [
        "## Generalizations of Modules: Packages\n",
        "---\n",
        "Packages (i.e., libraries) are modules with a *directory* structure.\n",
        "You can even make packages with subpackages and simply exploit the dot.dot reference to navigate through the package to get to the function you want (e.g. `matplotlib.pyplot.plot`).  \n",
        "\n",
        "If you want to develop a well-comparmentalized package you can look at online help: https://python-packaging.readthedocs.io/en/latest/.\n",
        "\n",
        "\n",
        "At the end of the semester, you may be asked to create your own package based on things you have learned."
      ]
    },
    {
      "cell_type": "markdown",
      "metadata": {
        "id": "2ITfXxhc2h_f"
      },
      "source": [
        "## A (gentle) introduction to widgets\n",
        "---\n",
        "\n",
        "<mark> Run the code cell below and click the \"play\" button to see the recorded lecture associated with this notebook.</mark> "
      ]
    },
    {
      "cell_type": "code",
      "execution_count": null,
      "metadata": {
        "id": "BAMgRz9X2h_f"
      },
      "outputs": [],
      "source": [
        "from IPython.display import YouTubeVideo\n",
        "\n",
        "YouTubeVideo('MvpVhEl1fME', width=800, height=450)"
      ]
    },
    {
      "cell_type": "markdown",
      "metadata": {
        "id": "gB9q5AWv2h_f"
      },
      "source": [
        "While widgets are used rather extensively in the module 04 notebooks for this course discussing computational applications, we introduce them here so that you become somewhat familiar with them.\n",
        "\n",
        "- ***We use widgets to create interactivity with functions. Widgets are very useful for illustrating concepts and exploring ideas. They are very useful when we are visualizing the impact of results in plots.***\n",
        "\n",
        "- To read more about how we use `interact`, check out the documentation here: https://ipywidgets.readthedocs.io/en/latest/examples/Using%20Interact.html?highlight=interactive#\n",
        "\n",
        "- To see different options for widgets, this is a good place to start: https://ipywidgets.readthedocs.io/en/latest/examples/Widget%20List.html\n",
        "\n",
        "**Read through the code comments below carefully as you run each code cell.**"
      ]
    },
    {
      "cell_type": "code",
      "execution_count": null,
      "metadata": {
        "id": "DVQiUedy2h_g"
      },
      "outputs": [],
      "source": [
        "# Usually place these at the top of a notebook if you know you are going to use widgets\n",
        "# This cell only needs to be executed once\n",
        "from ipywidgets import interact, interactive, fixed, interact_manual\n",
        "import ipywidgets as widgets"
      ]
    },
    {
      "cell_type": "code",
      "execution_count": null,
      "metadata": {
        "id": "s_RCg8_72h_g"
      },
      "outputs": [],
      "source": [
        "# Let's first interact with the myfun function from above to see ranges of \n",
        "# outputs for x-values ranging from -1 to 2 in increments of 0.1 with a default \n",
        "# starting value of 0\n",
        "interact(myfun, \n",
        "         x=widgets.FloatSlider(value=0, min=-1, max=2, step=0.1)\n",
        "        )"
      ]
    },
    {
      "cell_type": "code",
      "execution_count": null,
      "metadata": {
        "id": "U031tL642h_g"
      },
      "outputs": [],
      "source": [
        "# What do you think the difference is between interact and interact_manual?\n",
        "interact_manual(myfun, \n",
        "                x=widgets.FloatSlider(value=0, min=-1, max=2, step=0.1)\n",
        "               )"
      ]
    },
    {
      "cell_type": "code",
      "execution_count": null,
      "metadata": {
        "id": "z1w2dp-X2h_g"
      },
      "outputs": [],
      "source": [
        "# We can create the slider as a separate object\n",
        "xvals = widgets.FloatSlider(value=0, min=-1, max=2, step=0.1)\n",
        "interact(myfun, x=xvals)"
      ]
    },
    {
      "cell_type": "code",
      "execution_count": null,
      "metadata": {
        "scrolled": true,
        "id": "6ofXsDw_2h_h"
      },
      "outputs": [],
      "source": [
        "# We can restrict inputs to be integers\n",
        "x_int_vals = widgets.IntSlider(value=1, min=-5, max=10, step=2)\n",
        "interact(myfun, x=x_int_vals)"
      ]
    },
    {
      "cell_type": "code",
      "execution_count": null,
      "metadata": {
        "id": "LxdMAV_42h_h"
      },
      "outputs": [],
      "source": [
        "# We can have values range over orders of magnitude with the FloatLogSlider\n",
        "# The keyword value just gives the starting value\n",
        "x_magnitudes = widgets.FloatLogSlider(value=0.73, base=10., min=-5, max=1, step=0.5)\n",
        "interact(myfun, x=x_magnitudes)"
      ]
    },
    {
      "cell_type": "markdown",
      "metadata": {
        "id": "xNhkpnCQ2h_h"
      },
      "source": [
        "---\n",
        "\n",
        "## <mark>Activity 2: Plotting with widgets</mark> <a name='activity-widgets'></a>\n",
        "\n",
        "We now do something a bit more fancy by creating a plot function that allows us some granular control over estimating the derivatives of the function and plotting results.\n",
        "\n",
        "Your job is to ***add comments to every line of code*** below to explain what is going on, and then interpret the results in the Markdown cell that follows. "
      ]
    },
    {
      "cell_type": "code",
      "execution_count": null,
      "metadata": {
        "id": "b8U9CpSh2h_h"
      },
      "outputs": [],
      "source": [
        "def plot_derivs(f, h, n):\n",
        "    fig = plt.figure(figsize=(15, 6))  # create a figure for the plots\n",
        "     \n",
        "    x = np.linspace(0.05, 1, n)\n",
        "\n",
        "    fprime_FD = diff.for_diff(f,x,h) \n",
        "    fprime_BD = diff.back_diff(f,x,h) \n",
        "    fprime_CD = diff.cent_diff(f,x,h) \n",
        "    \n",
        "    ax1 = fig.add_subplot(1,2,1)\n",
        "    ax1.plot(x, f(x))\n",
        "    ax1.set_title('The function $f(x)$')\n",
        "\n",
        "    ax2 = fig.add_subplot(1,2,2)\n",
        "    ax2.plot(x, fprime_FD, label='FD approx of $f^\\prime$')  \n",
        "    ax2.plot(x, fprime_BD, label='BD approx of $f^\\prime$')  \n",
        "    ax2.plot(x, fprime_CD, label='CD approx of $f^\\prime$')\n",
        "    ax2.legend(loc='upper right', fontsize=14)\n",
        "    plt.show()"
      ]
    },
    {
      "cell_type": "code",
      "execution_count": null,
      "metadata": {
        "id": "zfeAv-Gu2h_i"
      },
      "outputs": [],
      "source": [
        "def my_f(x):\n",
        "    return x**2*np.sin(np.pi*1/x)"
      ]
    },
    {
      "cell_type": "code",
      "execution_count": null,
      "metadata": {
        "id": "zafPW3Bn2h_i"
      },
      "outputs": [],
      "source": [
        "%reset -f out \n",
        "\n",
        "# Click on \"Run Interact\" to create the plot for each new choice of n or h.\n",
        "\n",
        "interact_manual(plot_derivs, \n",
        "            f=fixed(my_f),\n",
        "            h=widgets.FloatLogSlider(value=0.01, min=-16, max=-2, base=10, step=1),\n",
        "            n=widgets.IntSlider(value=100, min=50, max=1000, step=50))"
      ]
    },
    {
      "cell_type": "markdown",
      "source": [],
      "metadata": {
        "id": "QG5QIMwU73eS"
      }
    },
    {
      "cell_type": "markdown",
      "metadata": {
        "id": "bxLlgnOb2h_i"
      },
      "source": [
        "End of Activity 2.\n",
        "\n",
        "---"
      ]
    },
    {
      "cell_type": "markdown",
      "metadata": {
        "id": "SVptUgLw2h_i"
      },
      "source": [
        "---\n",
        "\n",
        "## <mark>Activity: Summary</mark> <a name='activity-summary'></a>\n",
        "\n",
        "Summarize some of the key takeaways/points from this notebook in a list below and prepare a few code examples related to these takeaways/points in the code cells below. You need to have at least one example for each of your summary points and you need at least three summary points.\n",
        "\n"
      ]
    },
    {
      "cell_type": "markdown",
      "source": [
        "\n",
        "\n",
        "- [Your summary point 1 goes here]\n",
        "\n"
      ],
      "metadata": {
        "id": "XOciLrW98Az5"
      }
    },
    {
      "cell_type": "code",
      "execution_count": null,
      "metadata": {
        "id": "8c-BYptd2h_i"
      },
      "outputs": [],
      "source": []
    },
    {
      "cell_type": "markdown",
      "metadata": {
        "id": "WEVmOel32h_i"
      },
      "source": [
        "\n",
        "- [Your summary point 2 goes here]\n",
        "\n"
      ]
    },
    {
      "cell_type": "code",
      "execution_count": null,
      "metadata": {
        "id": "2M_na-I62h_j"
      },
      "outputs": [],
      "source": []
    },
    {
      "cell_type": "markdown",
      "metadata": {
        "id": "KpXHMZyV2h_j"
      },
      "source": [
        "\n",
        "- [Your summary point 3 goes here]"
      ]
    },
    {
      "cell_type": "code",
      "execution_count": null,
      "metadata": {
        "id": "uomio7W52h_j"
      },
      "outputs": [],
      "source": []
    },
    {
      "cell_type": "markdown",
      "metadata": {
        "id": "UVLgvYW82h_j"
      },
      "source": [
        "End of Summary Activity.\n",
        "\n",
        "---"
      ]
    },
    {
      "cell_type": "markdown",
      "metadata": {
        "id": "kH35rSca2h_j"
      },
      "source": [
        "### [Click here to return to Notebook Contents](#Contents)"
      ]
    }
  ],
  "metadata": {
    "anaconda-cloud": {},
    "kernelspec": {
      "display_name": "Python 3 (ipykernel)",
      "language": "python",
      "name": "python3"
    },
    "language_info": {
      "codemirror_mode": {
        "name": "ipython",
        "version": 3
      },
      "file_extension": ".py",
      "mimetype": "text/x-python",
      "name": "python",
      "nbconvert_exporter": "python",
      "pygments_lexer": "ipython3",
      "version": "3.9.12"
    },
    "colab": {
      "provenance": [],
      "collapsed_sections": []
    }
  },
  "nbformat": 4,
  "nbformat_minor": 0
}